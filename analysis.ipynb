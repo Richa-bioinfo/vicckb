{
 "cells": [
  {
   "cell_type": "markdown",
   "metadata": {},
   "source": [
    "# Data Structuring and Pruning"
   ]
  },
  {
   "cell_type": "code",
   "execution_count": 90,
   "metadata": {
    "collapsed": true
   },
   "outputs": [],
   "source": [
    "# Load datasets\n",
    "\n",
    "import json\n",
    "import pathlib\n",
    "import importlib\n",
    "from collections import defaultdict, Counter\n",
    "import pyupset as pyu\n",
    "import pandas as pd\n",
    "import matplotlib.pyplot as plt\n",
    "import numpy as np\n",
    "from scipy import stats\n",
    "import re\n",
    "from matplotlib.gridspec import GridSpec\n",
    "import csv\n",
    "import requests\n",
    "import pickle\n",
    "\n",
    "\n",
    "from vicckb import model as viccdb\n",
    "from vicckb.definitions import DATA_ROOT\n",
    "%matplotlib inline\n",
    "\n",
    "FIGPATH = pathlib.Path('/Users/awagner/Google Drive/VICC/Manuscript/Figures')\n",
    "OUTPATH = pathlib.Path('/Users/awagner/Workspace/git/vicckb/out')"
   ]
  },
  {
   "cell_type": "code",
   "execution_count": 91,
   "metadata": {},
   "outputs": [
    {
     "name": "stdout",
     "output_type": "stream",
     "text": [
      "cgi: 1073 (6.3% of total)\n",
      "civic: 3340 (19.8% of total)\n",
      "jax: 5754 (34.0% of total)\n",
      "molecularmatch: 2085 (12.3% of total)\n",
      "oncokb: 4048 (24.0% of total)\n",
      "pmkb: 600 (3.6% of total)\n",
      "16900 total associations\n"
     ]
    }
   ],
   "source": [
    "# reload module and load data\n",
    "importlib.reload(viccdb)\n",
    "vdb = viccdb.ViccDb()\n",
    "vdb.report_groups()"
   ]
  },
  {
   "cell_type": "code",
   "execution_count": 92,
   "metadata": {},
   "outputs": [
    {
     "name": "stdout",
     "output_type": "stream",
     "text": [
      "cgi: 1073 (6.3% of total)\n",
      "civic: 3340 (19.8% of total)\n",
      "jax: 5754 (34.0% of total)\n",
      "molecularmatch: 2085 (12.3% of total)\n",
      "oncokb: 4048 (24.0% of total)\n",
      "pmkb: 600 (3.6% of total)\n",
      "16900 total associations\n"
     ]
    }
   ],
   "source": [
    "# for now, omit brca from analysis\n",
    "brca = vdb.select(lambda x: x['source'] == 'brca')\n",
    "core_vdb = vdb - brca\n",
    "core_vdb.report_groups()"
   ]
  },
  {
   "cell_type": "code",
   "execution_count": 93,
   "metadata": {},
   "outputs": [
    {
     "name": "stdout",
     "output_type": "stream",
     "text": [
      "oncokb: 3801 (93.9% of superset)\n",
      "Total: 3801 (22.5% of superset)\n"
     ]
    }
   ],
   "source": [
    "# remove biological associations\n",
    "oncokb_biological = core_vdb.select(lambda x: x['source'] == 'oncokb' and 'biological' in x['raw'])\n",
    "oncokb_biological.report_groups(core_vdb)\n",
    "core_vdb = core_vdb - oncokb_biological"
   ]
  },
  {
   "cell_type": "markdown",
   "metadata": {},
   "source": [
    "## Evidence Uniqueness\n",
    "\n",
    "This section deals with non-unique entries from the database. This is a temporary measure until the importers are fixed. As such, it uses private variables and non-standard methods to hack around the built-in uniqueness assumptions that are violated by these data. Remove this entire section once the source hash checks pass."
   ]
  },
  {
   "cell_type": "code",
   "execution_count": 94,
   "metadata": {},
   "outputs": [
    {
     "name": "stdout",
     "output_type": "stream",
     "text": [
      "cgi: 1073 (8.2% of total)\n",
      "civic: 3340 (25.5% of total)\n",
      "jax: 5754 (43.9% of total)\n",
      "molecularmatch: 2085 (15.9% of total)\n",
      "oncokb: 247 (1.9% of total)\n",
      "pmkb: 600 (4.6% of total)\n",
      "13099 total associations\n"
     ]
    }
   ],
   "source": [
    "core_vdb.report_groups()"
   ]
  },
  {
   "cell_type": "code",
   "execution_count": 95,
   "metadata": {},
   "outputs": [
    {
     "name": "stdout",
     "output_type": "stream",
     "text": [
      "cgi: 2 (0.2% of superset)\n",
      "pmkb: 311 (51.8% of superset)\n",
      "Total: 313 (2.4% of superset)\n"
     ]
    }
   ],
   "source": [
    "# Non-unique raw entries\n",
    "raw_duplicates = core_vdb.select(lambda x: len(core_vdb._hashed[hash(x)]) > 1)\n",
    "raw_duplicates.report_groups(core_vdb)"
   ]
  },
  {
   "cell_type": "code",
   "execution_count": 96,
   "metadata": {},
   "outputs": [
    {
     "name": "stdout",
     "output_type": "stream",
     "text": [
      "cgi: 1072 (99.9% of superset)\n",
      "civic: 3340 (100.0% of superset)\n",
      "jax: 5754 (100.0% of superset)\n",
      "molecularmatch: 2085 (100.0% of superset)\n",
      "oncokb: 247 (100.0% of superset)\n",
      "pmkb: 600 (100.0% of superset)\n",
      "Total: 13098 (100.0% of superset)\n"
     ]
    }
   ],
   "source": [
    "cgi_dups = raw_duplicates.by_source('cgi')\n",
    "cgi_clean = [x for x in cgi_dups if x['raw']['Drug status']]\n",
    "test = viccdb.ViccDb([x for x in core_vdb if x not in cgi_dups] + list(cgi_clean))\n",
    "test.report_groups(core_vdb)"
   ]
  },
  {
   "cell_type": "code",
   "execution_count": 97,
   "metadata": {
    "collapsed": true
   },
   "outputs": [],
   "source": [
    "# Test matches expectation, moving to core\n",
    "core_vdb = test"
   ]
  },
  {
   "cell_type": "code",
   "execution_count": 98,
   "metadata": {
    "collapsed": true
   },
   "outputs": [],
   "source": [
    "pmkb_dups = raw_duplicates.by_source('pmkb')"
   ]
  },
  {
   "cell_type": "code",
   "execution_count": 99,
   "metadata": {},
   "outputs": [
    {
     "data": {
      "text/plain": [
       "82"
      ]
     },
     "execution_count": 99,
     "metadata": {},
     "output_type": "execute_result"
    }
   ],
   "source": [
    "len(pmkb_dups._hashed)"
   ]
  },
  {
   "cell_type": "code",
   "execution_count": 100,
   "metadata": {},
   "outputs": [
    {
     "data": {
      "text/plain": [
       "311"
      ]
     },
     "execution_count": 100,
     "metadata": {},
     "output_type": "execute_result"
    }
   ],
   "source": [
    "len(pmkb_dups)"
   ]
  },
  {
   "cell_type": "code",
   "execution_count": 101,
   "metadata": {
    "collapsed": true
   },
   "outputs": [],
   "source": [
    "merged_associations = list()\n",
    "for hash_key, equivalent_associations in pmkb_dups._hashed.items():\n",
    "    root_association = equivalent_associations.pop()\n",
    "    for other_association in equivalent_associations:\n",
    "        root_association['features'].append(other_association['features'][0])\n",
    "    merged_associations.append(root_association)"
   ]
  },
  {
   "cell_type": "code",
   "execution_count": 102,
   "metadata": {},
   "outputs": [
    {
     "name": "stdout",
     "output_type": "stream",
     "text": [
      "cgi: 1072 (100.0% of superset)\n",
      "civic: 3340 (100.0% of superset)\n",
      "jax: 5754 (100.0% of superset)\n",
      "molecularmatch: 2085 (100.0% of superset)\n",
      "oncokb: 247 (100.0% of superset)\n",
      "pmkb: 371 (61.8% of superset)\n",
      "Total: 12869 (98.3% of superset)\n"
     ]
    }
   ],
   "source": [
    "test = viccdb.ViccDb([x for x in core_vdb if x not in merged_associations] + list(merged_associations))\n",
    "test.report_groups(core_vdb)"
   ]
  },
  {
   "cell_type": "code",
   "execution_count": 103,
   "metadata": {},
   "outputs": [
    {
     "name": "stdout",
     "output_type": "stream",
     "text": [
      "Expecting 371 associations for PMKB\n"
     ]
    }
   ],
   "source": [
    "x = len(core_vdb.by_source('pmkb')) - len(pmkb_dups) + len(pmkb_dups._hashed)\n",
    "print(\"Expecting {} associations for PMKB\".format(x))"
   ]
  },
  {
   "cell_type": "code",
   "execution_count": 104,
   "metadata": {
    "collapsed": true
   },
   "outputs": [],
   "source": [
    "# Test matches expectation, moving to core\n",
    "core_vdb = test"
   ]
  },
  {
   "cell_type": "markdown",
   "metadata": {},
   "source": [
    "## Evidence filtering\n",
    "\n",
    "Removal of all evidence without associated publications, followed by removal of all associations without evidence."
   ]
  },
  {
   "cell_type": "code",
   "execution_count": 105,
   "metadata": {},
   "outputs": [
    {
     "name": "stdout",
     "output_type": "stream",
     "text": [
      "jax: 8 (0.1% of superset)\n",
      "molecularmatch: 5 (0.2% of superset)\n",
      "Total: 13 (0.1% of superset)\n"
     ]
    }
   ],
   "source": [
    "def clean_refs(association):\n",
    "    evidences = association['association']['evidence']\n",
    "    evidence_indices_to_delete = list()\n",
    "    for i, evidence in enumerate(evidences):\n",
    "        assert isinstance(publications, list)\n",
    "        publications = [x for x in evidence['info']['publications'] if x]\n",
    "        evidence['info']['publications'] = publications\n",
    "        if not publications:\n",
    "            evidence_indices_to_delete.append(i)\n",
    "    for index in sorted(evidence_indices_to_delete, reverse=True):\n",
    "        del association['association']['evidence'][index]\n",
    "\n",
    "map(clean_refs, core_vdb)\n",
    "core_missing_ref = core_vdb.select(lambda x: not any(x.publications))\n",
    "core_missing_ref.report_groups(core_vdb)\n",
    "core_vdb = core_vdb - core_missing_ref"
   ]
  },
  {
   "cell_type": "code",
   "execution_count": 106,
   "metadata": {},
   "outputs": [
    {
     "name": "stdout",
     "output_type": "stream",
     "text": [
      "cgi: 1072 (8.3% of total)\n",
      "civic: 3340 (26.0% of total)\n",
      "jax: 5746 (44.7% of total)\n",
      "molecularmatch: 2080 (16.2% of total)\n",
      "oncokb: 247 (1.9% of total)\n",
      "pmkb: 371 (2.9% of total)\n",
      "12856 total associations\n"
     ]
    }
   ],
   "source": [
    "core_vdb.report_groups()"
   ]
  },
  {
   "cell_type": "code",
   "execution_count": 107,
   "metadata": {},
   "outputs": [
    {
     "name": "stdout",
     "output_type": "stream",
     "text": [
      "Total: 0 (0.0% of superset)\n"
     ]
    }
   ],
   "source": [
    "# All associations should have an evidence level\n",
    "\n",
    "core_vdb.select(lambda x: not x.evidence_level).report_groups(core_vdb)"
   ]
  },
  {
   "cell_type": "markdown",
   "metadata": {},
   "source": [
    "## Feature coordinates\n",
    "\n",
    "What follows is a detailed look at associations without start and end coordinates after normalization, and a set of regular expression filters to separate out these associations into chunks that can be annotated with gene- or exon-level coordinates, as appropriate."
   ]
  },
  {
   "cell_type": "code",
   "execution_count": 108,
   "metadata": {},
   "outputs": [
    {
     "name": "stdout",
     "output_type": "stream",
     "text": [
      "cgi: 373 (34.8% of superset)\n",
      "jax: 1789 (31.1% of superset)\n",
      "molecularmatch: 17 (0.8% of superset)\n",
      "oncokb: 35 (0.9% of superset)\n",
      "Total: 2214 (13.1% of superset)\n"
     ]
    }
   ],
   "source": [
    "# Associations with more than 1 feature\n",
    "x = core_vdb.select(lambda x: len(x.features) > 1)\n",
    "x.report_groups(vdb)"
   ]
  },
  {
   "cell_type": "code",
   "execution_count": 109,
   "metadata": {},
   "outputs": [
    {
     "name": "stdout",
     "output_type": "stream",
     "text": [
      "cgi: 9 (0.8% of superset)\n",
      "civic: 17 (0.5% of superset)\n",
      "jax: 10 (0.2% of superset)\n",
      "molecularmatch: 17 (0.8% of superset)\n",
      "oncokb: 2 (0.0% of superset)\n",
      "pmkb: 2 (0.3% of superset)\n",
      "Total: 57 (0.3% of superset)\n"
     ]
    }
   ],
   "source": [
    "# Associations without at least 1 complete and valid feature\n",
    "no_features = core_vdb.select(lambda x: len(x.features) == 0)\n",
    "no_features.report_groups(vdb)"
   ]
  },
  {
   "cell_type": "code",
   "execution_count": 110,
   "metadata": {},
   "outputs": [
    {
     "data": {
      "text/plain": [
       "{'description': 'lung adenocarcinoma',\n",
       " 'family': 'lung cancer',\n",
       " 'type': {'id': 'DOID:3910',\n",
       "  'source': 'http://purl.obolibrary.org/obo/doid',\n",
       "  'term': 'lung adenocarcinoma'}}"
      ]
     },
     "execution_count": 110,
     "metadata": {},
     "output_type": "execute_result"
    }
   ],
   "source": [
    "vdb[0]['association']['phenotype']"
   ]
  },
  {
   "cell_type": "code",
   "execution_count": 111,
   "metadata": {},
   "outputs": [
    {
     "name": "stdout",
     "output_type": "stream",
     "text": [
      "cgi: 1063 (99.2% of superset)\n",
      "civic: 3323 (99.5% of superset)\n",
      "jax: 5736 (99.8% of superset)\n",
      "molecularmatch: 2063 (99.2% of superset)\n",
      "oncokb: 245 (99.2% of superset)\n",
      "pmkb: 369 (99.5% of superset)\n",
      "Total: 12799 (99.6% of superset)\n"
     ]
    }
   ],
   "source": [
    "# Associations with coordinate features\n",
    "coord_featured = core_vdb - no_features\n",
    "coord_featured.report_groups(core_vdb)"
   ]
  },
  {
   "cell_type": "markdown",
   "metadata": {},
   "source": [
    "## Fix PMKB features"
   ]
  },
  {
   "cell_type": "code",
   "execution_count": 112,
   "metadata": {
    "collapsed": true
   },
   "outputs": [],
   "source": [
    "with open('vicckb/data/gene_strand.pkl', 'rb') as f:\n",
    "    gene_strand = pickle.load(f)"
   ]
  },
  {
   "cell_type": "code",
   "execution_count": 113,
   "metadata": {
    "collapsed": true
   },
   "outputs": [],
   "source": [
    "COMPLEMENT = {\n",
    "    'A': 'T',\n",
    "    'T': 'A',\n",
    "    'G': 'C',\n",
    "    'C': 'G',\n",
    "    '-': '-'\n",
    "}\n",
    "\n",
    "complement_map = str.maketrans(COMPLEMENT)\n",
    "\n",
    "def get_gene_strand(gene, trx_id):\n",
    "    strand = gene_strand.get((gene, trx_id), None)\n",
    "    if strand is None:\n",
    "        cmd = '''wget -q -O - 'http://grch37.ensembl.org/biomart/martservice?query=<?xml version=\"1.0\" encoding=\"UTF-8\"?>\n",
    "<!DOCTYPE Query>\n",
    "<Query  virtualSchemaName = \"default\" formatter = \"CSV\" header = \"0\" uniqueRows = \"0\" count = \"\" datasetConfigVersion = \"0.6\" >\n",
    "<Dataset name = \"hsapiens_gene_ensembl\" interface = \"default\" >\n",
    "<Filter name = \"hgnc_symbol\" value = \"{}\"/>\n",
    "<Attribute name = \"ensembl_transcript_id\" />\n",
    "<Attribute name = \"strand\" />\n",
    "</Dataset>\n",
    "</Query>' | grep '{}'\n",
    "'''.format(gene, trx_id)\n",
    "        result = !{cmd}\n",
    "        strand = result[0].split(',')[-1]\n",
    "        gene_strand[(gene, trx_id)] = strand\n",
    "        return strand\n",
    "    return strand\n",
    "\n",
    "for association in core_vdb.by_source('pmkb'):\n",
    "    del(association._features)\n",
    "    for feature in association['features']:\n",
    "        gene = feature['geneSymbol']\n",
    "        trx_id = feature['attributes']['transcript']['string_value']\n",
    "        strand = get_gene_strand(gene, trx_id)\n",
    "        if strand == '-1':\n",
    "            # feature['ref'] = feature['ref'][::-1].translate(complement_map)\n",
    "            try:\n",
    "                feature['alt'] = feature['alt'][::-1].translate(complement_map)\n",
    "            except KeyError:\n",
    "                continue\n"
   ]
  },
  {
   "cell_type": "code",
   "execution_count": 114,
   "metadata": {
    "collapsed": true
   },
   "outputs": [],
   "source": [
    "with open('vicckb/data/gene_strand.pkl', 'wb') as f:\n",
    "    pickle.dump(gene_strand, f)"
   ]
  },
  {
   "cell_type": "markdown",
   "metadata": {},
   "source": [
    "### Remainder of section is inactivated code for identifying associations without coordinates\n",
    "\n",
    "import re\n",
    "\n",
    "def feature_filter(re_obj, associations):\n",
    "    # report matches and return non-matches\n",
    "    found = list(filter(lambda x: re_obj.search(x['feature_names']) is not None, associations))\n",
    "    not_found = list(filter(lambda x: re_obj.search(x['feature_names']) is None, associations))\n",
    "    report_groups(found)\n",
    "    return(not_found)\n",
    "\n",
    "amp_re = re.compile(r'(amplification)|(loss)|(amp)', re.IGNORECASE)\n",
    "remainder = feature_filter(amp_re, no_partial_coord_featured_with_feature_names)"
   ]
  },
  {
   "cell_type": "markdown",
   "metadata": {},
   "source": [
    "fusion_re = re.compile(r'(\\w{2,}-\\w{2,})|(fusion)', re.IGNORECASE)\n",
    "r2 = feature_filter(fusion_re, remainder)"
   ]
  },
  {
   "cell_type": "markdown",
   "metadata": {},
   "source": [
    "ppm_re = re.compile(r'\\w+(:| )[a-z]\\d+[a-z]?(fs\\*?)?$', re.IGNORECASE)\n",
    "r3 = feature_filter(ppm_re, r2)"
   ]
  },
  {
   "cell_type": "markdown",
   "metadata": {},
   "source": [
    "indel_re = re.compile(r'\\w+(:| )\\w+(ins\\w+)|(del($|ins\\w+))|(dup$)')\n",
    "r4 = feature_filter(indel_re, r3)"
   ]
  },
  {
   "cell_type": "markdown",
   "metadata": {},
   "source": [
    "bucket_re = re.compile(r'[A-Z0-9]+( (in)?act)?( oncogenic)? mut((ant)|(ation))?$')\n",
    "r5 = feature_filter(bucket_re, r4)"
   ]
  },
  {
   "cell_type": "markdown",
   "metadata": {},
   "source": [
    "exon_re = re.compile(r'exon', re.IGNORECASE)\n",
    "r6 = feature_filter(exon_re, r5)"
   ]
  },
  {
   "cell_type": "markdown",
   "metadata": {},
   "source": [
    "expression_re = re.compile(r'(exp)|(^\\w+ (pos(itive)?)|(neg(ative)?)|(biallelic inactivation)$)|(truncating)|(deletion)', re.IGNORECASE)\n",
    "r7 = feature_filter(expression_re, r6)"
   ]
  },
  {
   "cell_type": "markdown",
   "metadata": {},
   "source": [
    "report_groups(r7)"
   ]
  },
  {
   "cell_type": "markdown",
   "metadata": {},
   "source": [
    "get_feature_names([x for x in r7 if x['source'] == 'cgi'])"
   ]
  },
  {
   "cell_type": "markdown",
   "metadata": {},
   "source": [
    "## Diseases"
   ]
  },
  {
   "cell_type": "code",
   "execution_count": 115,
   "metadata": {},
   "outputs": [
    {
     "name": "stdout",
     "output_type": "stream",
     "text": [
      "civic: 1 (0.0% of superset)\n",
      "Total: 1 (0.0% of superset)\n"
     ]
    }
   ],
   "source": [
    "disease_missing = core_vdb.select(lambda x: x.disease is None)\n",
    "disease_missing.report_groups(core_vdb)"
   ]
  },
  {
   "cell_type": "code",
   "execution_count": 116,
   "metadata": {},
   "outputs": [
    {
     "data": {
      "text/plain": [
       "{'description': 'Pericytoma with t(7;12) is a soft tissue tumor characterized by fusion of the ACTB and GLI genes through the translocation t(7;12)(p22;q13). In this study the genomic breakpoints of 5 cases were characterized.',\n",
       " 'environmentalContexts': [],\n",
       " 'evidence': [{'description': 'Positive',\n",
       "   'evidenceType': {'id': '1844', 'sourceName': 'CIVIC'},\n",
       "   'info': {'publications': ['http://www.ncbi.nlm.nih.gov/pubmed/15555571']}}],\n",
       " 'evidence_label': 'B',\n",
       " 'evidence_level': 2,\n",
       " 'phenotype': {'description': 'Pericytoma',\n",
       "  'family': 'Uncategorized-PHN',\n",
       "  'id': 'http://www.disease-ontology.org/'},\n",
       " 'publication_url': ['http://www.ncbi.nlm.nih.gov/pubmed/15555571'],\n",
       " 'response_type': 'Positive',\n",
       " 'source_link': 'https://civic.genome.wustl.edu/events/genes/2279/summary/variants/780/summary'}"
      ]
     },
     "execution_count": 116,
     "metadata": {},
     "output_type": "execute_result"
    }
   ],
   "source": [
    "disease_missing[0]['association']"
   ]
  },
  {
   "cell_type": "code",
   "execution_count": 117,
   "metadata": {
    "collapsed": true
   },
   "outputs": [],
   "source": [
    "# Fix DOID\n",
    "\n",
    "for association in core_vdb.select(lambda x: x.disease and x.disease.name == 'CNS Cancer'):\n",
    "    association['association']['phenotype']['type']['term'] = 'central nervous system cancer'\n",
    "    association['association']['phenotype']['type']['id'] = 'DOID:3620'"
   ]
  },
  {
   "cell_type": "code",
   "execution_count": 118,
   "metadata": {},
   "outputs": [
    {
     "name": "stdout",
     "output_type": "stream",
     "text": [
      "cgi: 108 (10.1% of superset)\n",
      "Total: 108 (0.8% of superset)\n"
     ]
    }
   ],
   "source": [
    "mismatched_do_cgi = core_vdb.select(lambda x: x.disease and \\\n",
    "                                x.disease.source.lower().endswith('doid') and \\\n",
    "                                not x.disease.id.startswith('DOID') and \\\n",
    "                                x.source == 'cgi'\n",
    "                               )\n",
    "mismatched_do_cgi.report_groups(core_vdb)"
   ]
  },
  {
   "cell_type": "code",
   "execution_count": 119,
   "metadata": {},
   "outputs": [
    {
     "data": {
      "text/plain": [
       "{'description': 'stomach',\n",
       " 'family': 'food storage organ',\n",
       " 'type': {'id': 'UBERON:0000945',\n",
       "  'source': 'http://purl.obolibrary.org/obo/doid',\n",
       "  'term': 'stomach'}}"
      ]
     },
     "execution_count": 119,
     "metadata": {},
     "output_type": "execute_result"
    }
   ],
   "source": [
    "mismatched_do_cgi[0]['association']['phenotype']"
   ]
  },
  {
   "cell_type": "code",
   "execution_count": 120,
   "metadata": {},
   "outputs": [
    {
     "data": {
      "text/plain": [
       "{'Alteration': 'KRAS:.',\n",
       " 'Alteration type': 'MUT',\n",
       " 'Assay type': '',\n",
       " 'Association': 'Resistant',\n",
       " 'Biomarker': 'KRAS oncogenic mutation',\n",
       " 'Curator': 'RDientsmann',\n",
       " 'Drug': '[]',\n",
       " 'Drug family': '[EGFR mAb inhibitor]',\n",
       " 'Drug full name': 'EGFR mAb inhibitors',\n",
       " 'Drug status': '',\n",
       " 'Evidence level': 'Pre-clinical',\n",
       " 'Gene': 'KRAS',\n",
       " 'Metastatic Tumor Type': '',\n",
       " 'Primary Tumor type': 'Stomach',\n",
       " 'Source': 'PMID:22614881;PMID:22290393',\n",
       " 'Targeting': '',\n",
       " 'cDNA': [''],\n",
       " 'gDNA': [''],\n",
       " 'individual_mutation': [''],\n",
       " 'info': [''],\n",
       " 'region': [''],\n",
       " 'strand': [''],\n",
       " 'transcript': ['']}"
      ]
     },
     "execution_count": 120,
     "metadata": {},
     "output_type": "execute_result"
    }
   ],
   "source": [
    "mismatched_do_cgi[0]['raw']"
   ]
  },
  {
   "cell_type": "code",
   "execution_count": 121,
   "metadata": {
    "collapsed": true
   },
   "outputs": [],
   "source": [
    "from vicckb.definitions import DATA_ROOT\n",
    "from vicckb.harmonizers import DiseaseHarmonizer\n",
    "adh = DiseaseHarmonizer(map_file=(DATA_ROOT / 'disease_alias.tsv'),\n",
    "                             disease_ontology='DOID')"
   ]
  },
  {
   "cell_type": "code",
   "execution_count": 122,
   "metadata": {},
   "outputs": [
    {
     "data": {
      "text/plain": [
       "{'id': 'DOID:10534',\n",
       " 'ontology': 'DOID',\n",
       " 'resultEngine': 'ebi',\n",
       " 'term': 'stomach cancer'}"
      ]
     },
     "execution_count": 122,
     "metadata": {},
     "output_type": "execute_result"
    }
   ],
   "source": [
    "disease = mismatched_do_cgi[0]['raw']['Primary Tumor type']\n",
    "adh.harmonize(disease)"
   ]
  },
  {
   "cell_type": "code",
   "execution_count": 123,
   "metadata": {
    "collapsed": true
   },
   "outputs": [],
   "source": [
    "for cgi_association in mismatched_do_cgi:\n",
    "    disease = cgi_association['raw']['Primary Tumor type']\n",
    "    harmonized = adh.harmonize(disease)\n",
    "    cgi_association['association']['phenotype'] = {\n",
    "        'description': disease,\n",
    "        'type': {\n",
    "            'id': harmonized['id'],\n",
    "            'source': harmonized['ontology'],\n",
    "            'term': harmonized['term']\n",
    "        }\n",
    "    }"
   ]
  },
  {
   "cell_type": "code",
   "execution_count": 124,
   "metadata": {},
   "outputs": [
    {
     "name": "stdout",
     "output_type": "stream",
     "text": [
      "Total: 0 (0.0% of superset)\n"
     ]
    }
   ],
   "source": [
    "mismatched_do_cgi = core_vdb.select(lambda x: x.disease and \\\n",
    "                                x.disease.source.lower().endswith('doid') and \\\n",
    "                                not x.disease.id.startswith('DOID') and \\\n",
    "                                x.source == 'cgi'\n",
    "                               )\n",
    "mismatched_do_cgi.report_groups(core_vdb)"
   ]
  },
  {
   "cell_type": "code",
   "execution_count": 125,
   "metadata": {},
   "outputs": [
    {
     "name": "stdout",
     "output_type": "stream",
     "text": [
      "0 total associations\n"
     ]
    }
   ],
   "source": [
    "core_vdb.select(lambda x: not x.disease and x.source == 'cgi').report_groups()"
   ]
  },
  {
   "cell_type": "code",
   "execution_count": 126,
   "metadata": {},
   "outputs": [
    {
     "name": "stdout",
     "output_type": "stream",
     "text": [
      "cgi: 101 (100.0% of total)\n",
      "101 total associations\n"
     ]
    }
   ],
   "source": [
    "other_do_cgi = core_vdb.select(lambda x: x.disease and \\\n",
    "                x.source == 'cgi' and \\\n",
    "                not x.disease.source.lower().endswith('doid'))\n",
    "other_do_cgi.report_groups()"
   ]
  },
  {
   "cell_type": "code",
   "execution_count": 127,
   "metadata": {
    "collapsed": true
   },
   "outputs": [],
   "source": [
    "for cgi_association in other_do_cgi:\n",
    "    disease = cgi_association['raw']['Primary Tumor type']\n",
    "    harmonized = adh.harmonize(disease)\n",
    "    cgi_association['association']['phenotype'] = {\n",
    "        'description': disease,\n",
    "        'type': {\n",
    "            'id': harmonized['id'],\n",
    "            'source': harmonized['ontology'],\n",
    "            'term': harmonized['term']\n",
    "        }\n",
    "    }"
   ]
  },
  {
   "cell_type": "code",
   "execution_count": 128,
   "metadata": {},
   "outputs": [
    {
     "name": "stdout",
     "output_type": "stream",
     "text": [
      "0 total associations\n"
     ]
    }
   ],
   "source": [
    "core_vdb.select(lambda x: x.disease and \\\n",
    "                x.source == 'cgi' and \\\n",
    "                not x.disease.source.lower().endswith('doid')).report_groups()"
   ]
  },
  {
   "cell_type": "markdown",
   "metadata": {},
   "source": [
    "## Drugs"
   ]
  },
  {
   "cell_type": "code",
   "execution_count": 129,
   "metadata": {},
   "outputs": [
    {
     "name": "stdout",
     "output_type": "stream",
     "text": [
      "cgi: 112 (10.4% of superset)\n",
      "civic: 1261 (37.8% of superset)\n",
      "jax: 457 (8.0% of superset)\n",
      "molecularmatch: 120 (5.8% of superset)\n",
      "oncokb: 8 (3.2% of superset)\n",
      "pmkb: 371 (100.0% of superset)\n",
      "Total: 2329 (18.1% of superset)\n"
     ]
    }
   ],
   "source": [
    "drugs_missing = core_vdb.select(lambda x: len(x.drugs) == 0)\n",
    "drugs_missing.report_groups(core_vdb)"
   ]
  },
  {
   "cell_type": "markdown",
   "metadata": {},
   "source": [
    "## Genes"
   ]
  },
  {
   "cell_type": "code",
   "execution_count": 130,
   "metadata": {},
   "outputs": [
    {
     "name": "stderr",
     "output_type": "stream",
     "text": [
      "/Users/awagner/Workspace/git/vicckb/vicckb/model.py:257: UserWarning: Ambiguous gene symbol MLL2 in assertion 235677252030682\n",
      "  warn('Ambiguous gene symbol {} in assertion {}'.format(g, self))\n"
     ]
    }
   ],
   "source": [
    "ambiguous = list()\n",
    "for a in core_vdb:\n",
    "    a.genes\n",
    "\n",
    "# assert len(ambiguous) == 0  # Ensure there are no ambiguous genes from knowledgebases"
   ]
  },
  {
   "cell_type": "markdown",
   "metadata": {},
   "source": [
    "## Cache\n",
    "\n",
    "Saving core_vdb to cache for testing."
   ]
  },
  {
   "cell_type": "code",
   "execution_count": 131,
   "metadata": {
    "collapsed": true
   },
   "outputs": [],
   "source": [
    "core_vdb.cache_data()"
   ]
  },
  {
   "cell_type": "markdown",
   "metadata": {},
   "source": [
    "# Knowledgebase Comparison"
   ]
  },
  {
   "cell_type": "markdown",
   "metadata": {},
   "source": [
    "## Publications\n",
    "\n",
    "### All publications"
   ]
  },
  {
   "cell_type": "code",
   "execution_count": 132,
   "metadata": {},
   "outputs": [
    {
     "data": {
      "image/png": "[encoded data removed]",
      "text/plain": [
       "<matplotlib.figure.Figure at 0x132536240>"
      ]
     },
     "metadata": {},
     "output_type": "display_data"
    }
   ],
   "source": [
    "x = core_vdb.plot_element_by_source('publications', min_bound=4)\n",
    "f = x['figure']\n",
    "# f.savefig('out/publications.pdf')\n",
    "# x['input_data']"
   ]
  },
  {
   "cell_type": "code",
   "execution_count": 133,
   "metadata": {
    "collapsed": true
   },
   "outputs": [],
   "source": [
    "## For Sidi\n",
    "\n",
    "ebs = x['input_data']\n",
    "df_dict = dict()\n",
    "for source in ebs:\n",
    "    fe = list(filter(lambda x: bool(x), ebs[source]))\n",
    "    df_dict[source] = pd.DataFrame(fe, columns=['attribute'])\n"
   ]
  },
  {
   "cell_type": "code",
   "execution_count": 134,
   "metadata": {
    "collapsed": true
   },
   "outputs": [],
   "source": [
    "with open('example.pkl', 'wb') as f:\n",
    "    pickle.dump(df_dict, f)"
   ]
  },
  {
   "cell_type": "code",
   "execution_count": 135,
   "metadata": {
    "collapsed": true
   },
   "outputs": [],
   "source": [
    "with open('example.pkl', 'rb') as f:\n",
    "    df_dict = pickle.load(f)"
   ]
  },
  {
   "cell_type": "code",
   "execution_count": 136,
   "metadata": {
    "collapsed": true
   },
   "outputs": [],
   "source": [
    "!open ."
   ]
  },
  {
   "cell_type": "code",
   "execution_count": 137,
   "metadata": {},
   "outputs": [
    {
     "name": "stdout",
     "output_type": "stream",
     "text": [
      "molecularmatch: 312 resource-specific publications\n",
      "civic: 1106 resource-specific publications\n",
      "pmkb: 272 resource-specific publications\n",
      "oncokb: 211 resource-specific publications\n",
      "jax: 1311 resource-specific publications\n",
      "cgi: 484 resource-specific publications\n",
      "3696 (84.89%) total resource-specific publications\n"
     ]
    }
   ],
   "source": [
    "# Publications uniquely cited\n",
    "data = x['input_data']\n",
    "total = 0\n",
    "for source in data:\n",
    "    publications_from_elsewhere = set()\n",
    "    for source2 in data:\n",
    "        if source == source2:\n",
    "            continue\n",
    "        publications_from_elsewhere.update(data[source2])\n",
    "    unique = data[source] - publications_from_elsewhere\n",
    "    print(\"{}: {} resource-specific publications\".format(source, len(unique)))\n",
    "    total += len(unique)\n",
    "print(\"{} ({:.2%}) total resource-specific publications\".format(total, total / len(set.union(*(data.values())))))"
   ]
  },
  {
   "cell_type": "code",
   "execution_count": 166,
   "metadata": {},
   "outputs": [
    {
     "data": {
      "text/plain": [
       "109"
      ]
     },
     "execution_count": 166,
     "metadata": {},
     "output_type": "execute_result"
    }
   ],
   "source": [
    "p_sets = core_vdb.get_element_by_source('publications')\n",
    "\n",
    "len((p_sets['civic'] & p_sets['jax']) - p_sets['pmkb'] - p_sets['oncokb'] - p_sets['molecularmatch'] - p_sets['cgi'])"
   ]
  },
  {
   "cell_type": "code",
   "execution_count": 138,
   "metadata": {},
   "outputs": [
    {
     "name": "stdout",
     "output_type": "stream",
     "text": [
      "3696 / 4354 (84.89%) of publications are represented in only 1 resource.\n",
      "203 / 4354 (4.66%) of publications are represented in the majority of (3) resources.\n",
      "1 / 4354 (0.02%) of publications are represented across all resources.\n"
     ]
    },
    {
     "data": {
      "text/plain": [
       "{<class 'vicckb.model.Publication'>: 23220880}"
      ]
     },
     "execution_count": 138,
     "metadata": {},
     "output_type": "execute_result"
    }
   ],
   "source": [
    "x = core_vdb.element_by_source_stats('publications')\n",
    "x['ubiquitous'] # Bose et al. Cancer Discovery 2013"
   ]
  },
  {
   "cell_type": "markdown",
   "metadata": {},
   "source": [
    "### PMIDs"
   ]
  },
  {
   "cell_type": "code",
   "execution_count": 139,
   "metadata": {},
   "outputs": [
    {
     "data": {
      "image/png": "[encoded data removed]",
      "text/plain": [
       "<matplotlib.figure.Figure at 0x1407b1b38>"
      ]
     },
     "metadata": {},
     "output_type": "display_data"
    }
   ],
   "source": [
    "x = core_vdb.plot_element_by_source('publications', lambda x: x.pmid, min_bound=3)\n",
    "# f = x['figure']\n",
    "# f.savefig('out/pmids.pdf')"
   ]
  },
  {
   "cell_type": "code",
   "execution_count": 140,
   "metadata": {},
   "outputs": [
    {
     "name": "stdout",
     "output_type": "stream",
     "text": [
      "3146 / 3800 (82.79%) of publications are represented in only 1 resource.\n",
      "203 / 3800 (5.34%) of publications are represented in the majority of (3) resources.\n",
      "1 / 3800 (0.03%) of publications are represented across all resources.\n"
     ]
    },
    {
     "data": {
      "text/plain": [
       "{<class 'vicckb.model.Publication'>: 23220880}"
      ]
     },
     "execution_count": 140,
     "metadata": {},
     "output_type": "execute_result"
    }
   ],
   "source": [
    "x = core_vdb.element_by_source_stats('publications', lambda x: x.pmid)\n",
    "x['ubiquitous'] # Bose et al. Cancer Discovery 2013"
   ]
  },
  {
   "cell_type": "markdown",
   "metadata": {},
   "source": [
    "## Genes"
   ]
  },
  {
   "cell_type": "code",
   "execution_count": 174,
   "metadata": {},
   "outputs": [
    {
     "data": {
      "text/plain": [
       "144"
      ]
     },
     "execution_count": 174,
     "metadata": {},
     "output_type": "execute_result"
    }
   ],
   "source": [
    "g_set = core_vdb.get_element_by_source('genes')\n",
    "x = g_set['civic']\n",
    "for n, s in g_set.items():\n",
    "    if n == 'civic':\n",
    "        continue\n",
    "    x = x - s\n",
    "len(x)"
   ]
  },
  {
   "cell_type": "code",
   "execution_count": 170,
   "metadata": {},
   "outputs": [
    {
     "name": "stdout",
     "output_type": "stream",
     "text": [
      "cgi: 1 (0.1% of superset)\n",
      "molecularmatch: 5 (0.2% of superset)\n",
      "oncokb: 2 (0.8% of superset)\n",
      "Total: 8 (0.1% of superset)\n"
     ]
    },
    {
     "name": "stderr",
     "output_type": "stream",
     "text": [
      "/Users/awagner/Workspace/git/vicckb/vicckb/model.py:257: UserWarning: Ambiguous gene symbol MLL2 in assertion 235677252030682\n",
      "  warn('Ambiguous gene symbol {} in assertion {}'.format(g, self))\n"
     ]
    }
   ],
   "source": [
    "no_genes = core_vdb.select(lambda x: not x.genes)\n",
    "no_genes.report_groups(core_vdb)"
   ]
  },
  {
   "cell_type": "code",
   "execution_count": 171,
   "metadata": {},
   "outputs": [
    {
     "data": {
      "image/png": "[encoded data removed]",
      "text/plain": [
       "<matplotlib.figure.Figure at 0x13a0cbe10>"
      ]
     },
     "metadata": {},
     "output_type": "display_data"
    }
   ],
   "source": [
    "with_genes = core_vdb - no_genes\n",
    "x = with_genes.plot_element_by_source('genes')\n",
    "# f = x['figure']\n",
    "# f.savefig('out/genes.pdf')"
   ]
  },
  {
   "cell_type": "code",
   "execution_count": 143,
   "metadata": {},
   "outputs": [
    {
     "name": "stdout",
     "output_type": "stream",
     "text": [
      "253 / 415 (60.96%) of genes are represented in only 1 resource.\n",
      "97 / 415 (23.37%) of genes are represented in the majority of (3) resources.\n",
      "16 / 415 (3.86%) of genes are represented across all resources.\n"
     ]
    },
    {
     "data": {
      "text/plain": [
       "{<class 'vicckb.model.Gene'>: EGFR,\n",
       " <class 'vicckb.model.Gene'>: ERBB2,\n",
       " <class 'vicckb.model.Gene'>: FGFR3,\n",
       " <class 'vicckb.model.Gene'>: FGFR2,\n",
       " <class 'vicckb.model.Gene'>: FLT3,\n",
       " <class 'vicckb.model.Gene'>: ALK,\n",
       " <class 'vicckb.model.Gene'>: ABL1,\n",
       " <class 'vicckb.model.Gene'>: KIT,\n",
       " <class 'vicckb.model.Gene'>: KRAS,\n",
       " <class 'vicckb.model.Gene'>: MET,\n",
       " <class 'vicckb.model.Gene'>: NOTCH1,\n",
       " <class 'vicckb.model.Gene'>: NRAS,\n",
       " <class 'vicckb.model.Gene'>: PDGFRA,\n",
       " <class 'vicckb.model.Gene'>: PIK3CA,\n",
       " <class 'vicckb.model.Gene'>: PTEN,\n",
       " <class 'vicckb.model.Gene'>: BRAF}"
      ]
     },
     "execution_count": 143,
     "metadata": {},
     "output_type": "execute_result"
    }
   ],
   "source": [
    "x = with_genes.element_by_source_stats('genes')\n",
    "x['ubiquitous']"
   ]
  },
  {
   "cell_type": "code",
   "execution_count": 144,
   "metadata": {},
   "outputs": [
    {
     "data": {
      "text/plain": [
       "(0.16032405556231638, 4.731850735112705e-34)"
      ]
     },
     "execution_count": 144,
     "metadata": {},
     "output_type": "execute_result"
    }
   ],
   "source": [
    "stats.fisher_exact([\n",
    "        [203, 4151],\n",
    "        [97, 318]\n",
    "    ])"
   ]
  },
  {
   "cell_type": "markdown",
   "metadata": {
    "collapsed": true
   },
   "source": [
    "## Features"
   ]
  },
  {
   "cell_type": "code",
   "execution_count": 145,
   "metadata": {
    "collapsed": true
   },
   "outputs": [],
   "source": [
    "# suddenly stopped working? maybe a dependency error?\n",
    "\n",
    "# x = core_vdb.plot_element_by_source('features', min_bound=5)\n",
    "# f = x['figure']\n",
    "# f.savefig(str(FIGPATH / 'misc_figures' / 'feature_upset.pdf'))"
   ]
  },
  {
   "cell_type": "code",
   "execution_count": 146,
   "metadata": {},
   "outputs": [
    {
     "name": "stdout",
     "output_type": "stream",
     "text": [
      "832 / 928 (89.66%) of features are represented in only 1 resource.\n",
      "23 / 928 (2.48%) of features are represented in the majority of (3) resources.\n",
      "2 / 928 (0.22%) of features are represented across all resources.\n"
     ]
    }
   ],
   "source": [
    "x = core_vdb.select(lambda x: x.evidence_level == 'A').element_by_source_stats('features')"
   ]
  },
  {
   "cell_type": "code",
   "execution_count": 147,
   "metadata": {
    "collapsed": true
   },
   "outputs": [],
   "source": [
    "f_sets = core_vdb.get_element_by_source('features')\n",
    "# all_features = set.update()\n",
    "count = Counter()\n",
    "for s in f_sets.values():\n",
    "    count.update(s)"
   ]
  },
  {
   "cell_type": "code",
   "execution_count": 148,
   "metadata": {},
   "outputs": [
    {
     "name": "stdout",
     "output_type": "stream",
     "text": [
      "molecularmatch: 415\n",
      "civic: 597\n",
      "pmkb: 99\n",
      "oncokb: 185\n",
      "jax: 320\n",
      "cgi: 1016\n",
      "cgi and oncokb: 182\n"
     ]
    }
   ],
   "source": [
    "# non-scientific-notation calculations\n",
    "\n",
    "sources = list(f_sets)\n",
    "for source in sources:\n",
    "    s = set()\n",
    "    for other in sources:\n",
    "        if source == other:\n",
    "            continue\n",
    "        s.update(f_sets[other])\n",
    "    print(f'{source}: {len(f_sets[source] - s)}')\n",
    "    \n",
    "cgi_and_okb = f_sets['oncokb'] & f_sets['cgi']\n",
    "others = f_sets['pmkb'] | f_sets['molecularmatch'] | f_sets['civic'] | f_sets['jax']\n",
    "print(f'cgi and oncokb: {len(cgi_and_okb - others)}')"
   ]
  },
  {
   "cell_type": "code",
   "execution_count": 149,
   "metadata": {
    "collapsed": true
   },
   "outputs": [],
   "source": [
    "count_of_counts = Counter()\n",
    "count_of_counts.update(count.values())"
   ]
  },
  {
   "cell_type": "code",
   "execution_count": 150,
   "metadata": {},
   "outputs": [
    {
     "data": {
      "text/plain": [
       "array([2632,  520,  186,   66,   25,    8])"
      ]
     },
     "execution_count": 150,
     "metadata": {},
     "output_type": "execute_result"
    }
   ],
   "source": [
    "np.asarray(list(count_of_counts.values()))"
   ]
  },
  {
   "cell_type": "code",
   "execution_count": 151,
   "metadata": {},
   "outputs": [
    {
     "data": {
      "text/plain": [
       "[2632, 520, 186, 66, 25, 8]"
      ]
     },
     "execution_count": 151,
     "metadata": {},
     "output_type": "execute_result"
    }
   ],
   "source": [
    "labels = sorted(count_of_counts.keys())\n",
    "values = [count_of_counts[x] for x in labels]\n",
    "values"
   ]
  },
  {
   "cell_type": "code",
   "execution_count": 152,
   "metadata": {},
   "outputs": [
    {
     "data": {
      "image/png": "[encoded data removed]",
      "text/plain": [
       "<matplotlib.figure.Figure at 0x1315b86a0>"
      ]
     },
     "metadata": {},
     "output_type": "display_data"
    }
   ],
   "source": [
    "fig1, ax1 = plt.subplots()\n",
    "\n",
    "pie, _, _ = ax1.pie(values, radius=1,\n",
    "        labels=labels, autopct='%1.1f%%', pctdistance=2)\n",
    "ax1.axis('equal')\n",
    "plt.setp(pie, edgecolor='white')\n",
    "\n",
    "# plt.savefig(str(FIGPATH / 'misc_figures' / 'feature_overlap.pdf'))\n",
    "plt.show()"
   ]
  },
  {
   "cell_type": "code",
   "execution_count": 153,
   "metadata": {},
   "outputs": [
    {
     "data": {
      "text/plain": [
       "['L858R', 'V600E']"
      ]
     },
     "execution_count": 153,
     "metadata": {},
     "output_type": "execute_result"
    }
   ],
   "source": [
    "ubiquitous_features = list(x['ubiquitous'])\n",
    "sorted([x.name for x in ubiquitous_features])"
   ]
  },
  {
   "cell_type": "code",
   "execution_count": 154,
   "metadata": {
    "collapsed": true
   },
   "outputs": [],
   "source": [
    "def element_uniqueness_across_kbs(element, as_proportion=False):\n",
    "    e_sets = core_vdb.get_element_by_source(element)\n",
    "    count = Counter()\n",
    "    for s in e_sets.values():\n",
    "        count.update(s)\n",
    "    count_of_counts = Counter()\n",
    "    count_of_counts.update(count.values())\n",
    "    labels = sorted(count_of_counts.keys())\n",
    "    if as_proportion:\n",
    "        d = sum(count_of_counts.values())\n",
    "        values = [count_of_counts[x]/d for x in labels]\n",
    "    else:\n",
    "        values = [count_of_counts[x] for x in labels]\n",
    "    return dict(zip(labels, values))"
   ]
  },
  {
   "cell_type": "code",
   "execution_count": 155,
   "metadata": {},
   "outputs": [
    {
     "data": {
      "text/plain": [
       "{1: 0.7657841140529531,\n",
       " 2: 0.15129473377945882,\n",
       " 3: 0.054116962467267965,\n",
       " 4: 0.019202793133546697,\n",
       " 5: 0.007273785277858598,\n",
       " 6: 0.0023276112889147513}"
      ]
     },
     "execution_count": 155,
     "metadata": {},
     "output_type": "execute_result"
    }
   ],
   "source": [
    "element_uniqueness_across_kbs('features', as_proportion=True)"
   ]
  },
  {
   "cell_type": "code",
   "execution_count": 156,
   "metadata": {},
   "outputs": [
    {
     "name": "stderr",
     "output_type": "stream",
     "text": [
      "/Users/awagner/Workspace/git/vicckb/vicckb/model.py:257: UserWarning: Ambiguous gene symbol MLL2 in assertion 235677252030682\n",
      "  warn('Ambiguous gene symbol {} in assertion {}'.format(g, self))\n"
     ]
    }
   ],
   "source": [
    "g_prop = element_uniqueness_across_kbs('genes', as_proportion=True)\n",
    "f_prop = element_uniqueness_across_kbs('features', as_proportion=True)\n",
    "di_prop = element_uniqueness_across_kbs('disease', as_proportion=True)\n",
    "dr_prop = element_uniqueness_across_kbs('drugs', as_proportion=True)\n",
    "pub_prop = element_uniqueness_across_kbs('publications', as_proportion=True)"
   ]
  },
  {
   "cell_type": "code",
   "execution_count": 68,
   "metadata": {
    "collapsed": true
   },
   "outputs": [],
   "source": [
    "labels = ['Genes', 'Features', 'Diseases', 'Drugs*', 'Publications']\n",
    "N = len(labels)\n",
    "ind = np.arange(N)\n",
    "value_sets = [g_prop, f_prop, di_prop, dr_prop, pub_prop]\n",
    "width = 0.5\n",
    "plot_sets = [[x.get(i, 0) for x in value_sets] for i in range(1,7)]"
   ]
  },
  {
   "cell_type": "code",
   "execution_count": 501,
   "metadata": {},
   "outputs": [
    {
     "data": {
      "image/png": "[encoded data removed]",
      "text/plain": [
       "<matplotlib.figure.Figure at 0x1232c3898>"
      ]
     },
     "metadata": {},
     "output_type": "display_data"
    }
   ],
   "source": [
    "plots = list()\n",
    "b_sums = np.zeros(N)\n",
    "for plot_set in plot_sets:\n",
    "    p = plt.bar(ind, plot_set, width, bottom=b_sums)\n",
    "    b_sums += np.array(plot_set)\n",
    "    plots.append(p)\n",
    "\n",
    "plt.ylabel('Proportion')\n",
    "plt.xticks(ind, labels)\n",
    "plt.legend([p[0] for p in plots], range(1,7), bbox_to_anchor=(1.2, 0.5, 0, 0.5))\n",
    "\n",
    "plt.savefig(str(FIGPATH / 'misc_figures' / 'elements_overlap.pdf'))\n",
    "plt.show()"
   ]
  },
  {
   "cell_type": "markdown",
   "metadata": {},
   "source": [
    "### Tier 1 variants\n"
   ]
  },
  {
   "cell_type": "code",
   "execution_count": 65,
   "metadata": {},
   "outputs": [
    {
     "name": "stdout",
     "output_type": "stream",
     "text": [
      "236\n",
      "1512\n"
     ]
    }
   ],
   "source": [
    "tier1 = core_vdb.select(lambda x: x.evidence_level in ['A', 'B'])\n",
    "genes = set()\n",
    "features = set()\n",
    "for a in tier1:\n",
    "    genes.update(a.genes)\n",
    "    features.update(a.features)\n",
    "print(len(genes))\n",
    "print(len(features))"
   ]
  },
  {
   "cell_type": "markdown",
   "metadata": {},
   "source": [
    "### Hierarchical search\n",
    "Existing method is to find an exact match of any features for an association. Below we demonstrate gains through hierarchical search of GenomicFeatures, a core result of this effort."
   ]
  },
  {
   "cell_type": "code",
   "execution_count": 66,
   "metadata": {},
   "outputs": [
    {
     "data": {
      "text/plain": [
       "26"
      ]
     },
     "execution_count": 66,
     "metadata": {},
     "output_type": "execute_result"
    }
   ],
   "source": [
    "hits = core_vdb.search_by_feature(chromosome=7, start=140453136, end=140453136, reference_name='GRCh37')\n",
    "\n",
    "v600k = [x['best_match']['p'] for x in hits if x['best_match']['feature'].name.endswith('V600K')]\n",
    "len(v600k)"
   ]
  },
  {
   "cell_type": "code",
   "execution_count": 67,
   "metadata": {},
   "outputs": [
    {
     "data": {
      "text/plain": [
       "3437"
      ]
     },
     "execution_count": 67,
     "metadata": {},
     "output_type": "execute_result"
    }
   ],
   "source": [
    "unique_features = set()\n",
    "x = [x.features for x in core_vdb]\n",
    "for fset in x:\n",
    "    unique_features.update(fset)\n",
    "unique_features = list(unique_features)\n",
    "len(unique_features)"
   ]
  },
  {
   "cell_type": "code",
   "execution_count": 68,
   "metadata": {
    "collapsed": true
   },
   "outputs": [],
   "source": [
    "# This is a computationally expensive operation (~1 minute for the 2800 searches). Could be sped up through indexed searching.\n",
    "\n",
    "# feature_hits = dict()\n",
    "# for feature in unique_features:\n",
    "#     feature_hits[feature] = core_vdb.search_by_feature(genomic_feature=feature)\n",
    "\n",
    "# New method\n",
    "\n",
    "feature_hits = core_vdb.search_by_features(genomic_features=unique_features)\n"
   ]
  },
  {
   "cell_type": "code",
   "execution_count": 69,
   "metadata": {},
   "outputs": [
    {
     "data": {
      "text/plain": [
       "Counter({'exact': 21463,\n",
       "         'focal': 64142,\n",
       "         'positional': 33704,\n",
       "         'regional': 285246})"
      ]
     },
     "execution_count": 69,
     "metadata": {},
     "output_type": "execute_result"
    }
   ],
   "source": [
    "ranking = viccdb.ViccDb.MATCH_RANKING\n",
    "hits_by_type = Counter()\n",
    "sources_by_type = defaultdict(Counter)\n",
    "for match_type in ranking:\n",
    "    typed_hits = [x for x in feature_hits if ranking.index(x['best_match']['type']) <= ranking.index(match_type)]\n",
    "    hits_by_type[match_type] = len(typed_hits)\n",
    "    typed_associations_by_query = defaultdict(set)\n",
    "    for hit in typed_hits:\n",
    "        typed_associations_by_query[hit['query']].add(hit['association'])\n",
    "    for associations in typed_associations_by_query.values():\n",
    "        sources = {association.source for association in associations}\n",
    "        sources_by_type[len(sources)][match_type] += 1\n",
    "hits_by_type"
   ]
  },
  {
   "cell_type": "code",
   "execution_count": 70,
   "metadata": {},
   "outputs": [
    {
     "data": {
      "text/plain": [
       "defaultdict(collections.Counter,\n",
       "            {1: Counter({'exact': 2361,\n",
       "                      'focal': 2098,\n",
       "                      'positional': 2382,\n",
       "                      'regional': 492}),\n",
       "             2: Counter({'exact': 467,\n",
       "                      'focal': 687,\n",
       "                      'positional': 607,\n",
       "                      'regional': 439}),\n",
       "             3: Counter({'exact': 154,\n",
       "                      'focal': 305,\n",
       "                      'positional': 271,\n",
       "                      'regional': 762}),\n",
       "             4: Counter({'exact': 55,\n",
       "                      'focal': 159,\n",
       "                      'positional': 106,\n",
       "                      'regional': 368}),\n",
       "             5: Counter({'exact': 20,\n",
       "                      'focal': 114,\n",
       "                      'positional': 47,\n",
       "                      'regional': 930}),\n",
       "             6: Counter({'exact': 7,\n",
       "                      'focal': 72,\n",
       "                      'positional': 14,\n",
       "                      'regional': 446})})"
      ]
     },
     "execution_count": 70,
     "metadata": {},
     "output_type": "execute_result"
    }
   ],
   "source": [
    "sources_by_type"
   ]
  },
  {
   "cell_type": "code",
   "execution_count": 71,
   "metadata": {},
   "outputs": [
    {
     "data": {
      "image/png": "[encoded data removed]",
      "text/plain": [
       "<matplotlib.figure.Figure at 0x13e0d1278>"
      ]
     },
     "metadata": {},
     "output_type": "display_data"
    }
   ],
   "source": [
    "fig, ax = plt.subplots()\n",
    "\n",
    "source_counts = sorted(sources_by_type)\n",
    "groups = viccdb.ViccDb.MATCH_RANKING\n",
    "width = 0.15\n",
    "plot_elements = list()\n",
    "ind = np.arange(len(groups))\n",
    "for i, source_count in enumerate(source_counts):\n",
    "    type_counts = sources_by_type[source_count]\n",
    "    x = [type_counts[k] for k in groups]\n",
    "    p = ax.bar(ind + width*(i-2.5), x, width, label=source_count)\n",
    "    plot_elements.append(p)\n",
    "ax.set_xticks(ind)\n",
    "ax.set_xticklabels(groups)\n",
    "handles, labels = ax.get_legend_handles_labels()\n",
    "ax.legend(handles, labels, title='Sources')\n",
    "plt.ylabel('Queries')\n",
    "plt.show()\n",
    "# fig.savefig(str(FIGPATH / 'misc_figures' / 'search_performance.pdf'), format='pdf')"
   ]
  },
  {
   "cell_type": "code",
   "execution_count": 72,
   "metadata": {},
   "outputs": [
    {
     "data": {
      "text/plain": [
       "3437"
      ]
     },
     "execution_count": 72,
     "metadata": {},
     "output_type": "execute_result"
    }
   ],
   "source": [
    "# feature_hits = core_vdb.search_by_features(genomic_features=ubiquitous_features)\n",
    "q = {hit['query'] for hit in feature_hits}\n",
    "len(q)"
   ]
  },
  {
   "cell_type": "code",
   "execution_count": 73,
   "metadata": {},
   "outputs": [
    {
     "data": {
      "text/plain": [
       "Counter({2: 188,\n",
       "         1: 2510,\n",
       "         8: 5,\n",
       "         '100+': 507,\n",
       "         '10-99': 108,\n",
       "         3: 100,\n",
       "         6: 3,\n",
       "         4: 7,\n",
       "         9: 1,\n",
       "         5: 6,\n",
       "         7: 2})"
      ]
     },
     "execution_count": 73,
     "metadata": {},
     "output_type": "execute_result"
    }
   ],
   "source": [
    "c = Counter()\n",
    "for f in unique_features:\n",
    "    if len(f) > 9 and len(f) < 100:\n",
    "        l = '10-99'\n",
    "    elif len(f) >= 100:\n",
    "        l = '100+'\n",
    "    else:\n",
    "        l = len(f)\n",
    "    c[l] += 1\n",
    "c"
   ]
  },
  {
   "cell_type": "markdown",
   "metadata": {},
   "source": [
    "### Sequence Ontology"
   ]
  },
  {
   "cell_type": "code",
   "execution_count": 74,
   "metadata": {
    "collapsed": true
   },
   "outputs": [],
   "source": [
    "count = Counter()\n",
    "for association in core_vdb:\n",
    "    for feature in association.features:\n",
    "        count[feature.so.get('name', 'Uncategorized')] += 1"
   ]
  },
  {
   "cell_type": "code",
   "execution_count": 75,
   "metadata": {},
   "outputs": [
    {
     "data": {
      "text/plain": [
       "[('substitution', 10183),\n",
       " ('Uncategorized', 7086),\n",
       " ('missense_variant', 2985),\n",
       " ('fusion', 2071),\n",
       " ('stop_gained', 1214),\n",
       " ('feature_amplification', 555),\n",
       " ('wild_type', 391),\n",
       " ('deletion', 264),\n",
       " ('loss_of_function_variant', 242),\n",
       " ('copy_number_loss', 207)]"
      ]
     },
     "execution_count": 75,
     "metadata": {},
     "output_type": "execute_result"
    }
   ],
   "source": [
    "count.most_common(10)"
   ]
  },
  {
   "cell_type": "code",
   "execution_count": 76,
   "metadata": {},
   "outputs": [
    {
     "data": {
      "text/plain": [
       "0.3068718630056097"
      ]
     },
     "execution_count": 76,
     "metadata": {},
     "output_type": "execute_result"
    }
   ],
   "source": [
    "(5052 + 3263) / sum(count.values())"
   ]
  },
  {
   "cell_type": "code",
   "execution_count": 77,
   "metadata": {},
   "outputs": [
    {
     "name": "stdout",
     "output_type": "stream",
     "text": [
      "cgi: 25 (2.3% of superset)\n",
      "civic: 386 (11.6% of superset)\n",
      "jax: 2432 (42.3% of superset)\n",
      "molecularmatch: 496 (23.8% of superset)\n",
      "oncokb: 78 (31.6% of superset)\n",
      "pmkb: 110 (29.6% of superset)\n",
      "Total: 3527 (27.4% of superset)\n"
     ]
    }
   ],
   "source": [
    "# Associations lacking any sequence ontology ID\n",
    "\n",
    "def no_soid(association):\n",
    "    x = [feature.so.get('name', 'Uncategorized') == 'Uncategorized' for feature in association.features]\n",
    "    return all(x)\n",
    "\n",
    "no_soid_group = core_vdb.select(no_soid)\n",
    "no_soid_group.report_groups(core_vdb)"
   ]
  },
  {
   "cell_type": "code",
   "execution_count": 78,
   "metadata": {},
   "outputs": [
    {
     "name": "stdout",
     "output_type": "stream",
     "text": [
      "cgi: 16 (1.5% of superset)\n",
      "civic: 369 (11.0% of superset)\n",
      "jax: 3199 (55.7% of superset)\n",
      "molecularmatch: 480 (23.1% of superset)\n",
      "oncokb: 76 (30.8% of superset)\n",
      "pmkb: 108 (29.1% of superset)\n",
      "Total: 4248 (33.0% of superset)\n"
     ]
    }
   ],
   "source": [
    "# Associations lacking at least one sequence ontology ID\n",
    "\n",
    "def missing_soid(association):\n",
    "    x = [feature.so.get('name', 'Uncategorized') == 'Uncategorized' for feature in association.features]\n",
    "    return any(x)\n",
    "\n",
    "missing_soid_group = core_vdb.select(missing_soid)\n",
    "missing_soid_group.report_groups(core_vdb)"
   ]
  },
  {
   "cell_type": "code",
   "execution_count": 79,
   "metadata": {},
   "outputs": [
    {
     "name": "stdout",
     "output_type": "stream",
     "text": [
      "jax: 777 (13.5% of superset)\n",
      "molecularmatch: 1 (0.0% of superset)\n",
      "Total: 778 (6.1% of superset)\n"
     ]
    }
   ],
   "source": [
    "partial_soid_group = missing_soid_group - no_soid_group\n",
    "partial_soid_group.report_groups(core_vdb)"
   ]
  },
  {
   "cell_type": "code",
   "execution_count": 80,
   "metadata": {},
   "outputs": [
    {
     "data": {
      "text/plain": [
       "{'hierarchy': ['SO:0000400', 'SO:0001761', 'SO:0001814'],\n",
       " 'name': 'synonymous',\n",
       " 'parent_name': 'sequence_attribute',\n",
       " 'parent_soid': 'SO:0000400',\n",
       " 'soid': 'SO:0001815'}"
      ]
     },
     "execution_count": 80,
     "metadata": {},
     "output_type": "execute_result"
    }
   ],
   "source": [
    "partial_soid_group[0].features[2].so"
   ]
  },
  {
   "cell_type": "markdown",
   "metadata": {},
   "source": [
    "### Project GENIE feature match"
   ]
  },
  {
   "cell_type": "code",
   "execution_count": 81,
   "metadata": {
    "collapsed": true
   },
   "outputs": [],
   "source": [
    "# Loading Disease graph here for use in GENIE disease matching\n",
    "\n",
    "import obonet\n",
    "import networkx\n",
    "\n",
    "url = 'https://raw.githubusercontent.com/DiseaseOntology/HumanDiseaseOntology/v2018-05-11/src/ontology/HumanDO.obo'\n",
    "graph = obonet.read_obo(url)\n",
    "\n",
    "assert networkx.is_directed_acyclic_graph(graph)"
   ]
  },
  {
   "cell_type": "code",
   "execution_count": 82,
   "metadata": {
    "collapsed": true
   },
   "outputs": [],
   "source": [
    "so_by_name = {\n",
    "    \"3'Flank\": {'name': 'downstream_transcript_variant', 'soid': 'SO:0001987'},\n",
    "    \"3'UTR\": {'name': '3_prime_UTR_variant', 'soid': 'SO:0001624'},\n",
    "    \"5'Flank\": {'name': 'upstream_transcript_variant', 'soid': 'SO:0001986'},\n",
    "    \"5'UTR\": {'name': '5_prime_UTR_variant', 'soid': 'SO:0001623'},\n",
    "    \"Frame_Shift_Del\": {'name': 'frameshift_truncation', 'soid': 'SO:0001910'},\n",
    "    \"Frame_Shift_Ins\": {'name': 'frameshift_elongation', 'soid': 'SO:0001909'},\n",
    "    \"In_Frame_Del\": {'name': 'inframe_deletion', 'soid': 'SO:0001822'},\n",
    "    \"In_Frame_Ins\": {'name': 'inframe_insertion', 'soid': 'SO:0001821'},\n",
    "    \"Intron\": {'name': 'intron_variant', 'soid': 'SO:0001627'},\n",
    "    \"Missense_Mutation\": {'name': 'missense_variant', 'soid': 'SO:0001583'},\n",
    "    \"Nonsense_Mutation\": {'name': 'stop_gained', 'soid': 'SO:0001587'},\n",
    "    \"Nonstop_Mutation\": {'name': 'stop_lost', 'soid': 'SO:0001578'},\n",
    "    \"Silent\": {'name': 'synonymous_variant', 'soid': 'SO:0001819'},\n",
    "    \"Splice_Region\": {'name': 'splice_region_variant', 'soid': 'SO:0001630'},\n",
    "    \"Splice_Site\": {'name': 'splice_site_variant', 'soid': 'SO:0001629'},\n",
    "    \"Translation_Start_Site\": {'name': 'initiator_codon_variant', 'soid': 'SO:0001582'}\n",
    "}"
   ]
  },
  {
   "cell_type": "code",
   "execution_count": 83,
   "metadata": {
    "collapsed": true
   },
   "outputs": [],
   "source": [
    "alias_to_doids = defaultdict(list)\n",
    "def map_to_doid(graph, doid):\n",
    "    for _id in graph.predecessors(doid):\n",
    "        map_to_doid(graph, _id)\n",
    "    xrefs = graph.node[doid].get('xref', [])\n",
    "    for xref in xrefs:\n",
    "        source, xref_id = xref.split(':')\n",
    "        alias_to_doids[(source, xref_id)].append(doid)\n",
    "\n",
    "map_to_doid(graph, 'DOID:162') "
   ]
  },
  {
   "cell_type": "code",
   "execution_count": 84,
   "metadata": {
    "collapsed": true
   },
   "outputs": [],
   "source": [
    "oncotree_to_aliases = dict()\n",
    "oncotree_types_url = 'http://oncotree.mskcc.org/api/tumorTypes'\n",
    "resp = requests.get(oncotree_types_url, params={'version': 'oncotree_2018_05_01'})\n",
    "resp.raise_for_status()\n",
    "oncotree_types = resp.json()\n",
    "for o_type in oncotree_types:\n",
    "    oncotree_to_aliases[o_type['code']] = []\n",
    "    for source, terms in o_type['externalReferences'].items():\n",
    "        for term in terms:\n",
    "            oncotree_to_aliases[o_type['code']].append((source, term))"
   ]
  },
  {
   "cell_type": "code",
   "execution_count": 85,
   "metadata": {
    "collapsed": true
   },
   "outputs": [],
   "source": [
    "oncotree_to_doids = dict()\n",
    "for o_term, aliases in oncotree_to_aliases.items():\n",
    "    if not aliases:\n",
    "        oncotree_to_doids[o_term] = None\n",
    "        continue\n",
    "    doids = set()\n",
    "    for alias in aliases:\n",
    "        alias_doids = alias_to_doids.get(alias, False)\n",
    "        if alias_doids:\n",
    "            doids.update(alias_doids)\n",
    "    if doids:\n",
    "        oncotree_to_doids[o_term] = list(doids)\n",
    "    else:\n",
    "        oncotree_to_doids[o_term] = None"
   ]
  },
  {
   "cell_type": "code",
   "execution_count": 86,
   "metadata": {
    "collapsed": true
   },
   "outputs": [],
   "source": [
    "patched_doids = {\n",
    "#     'MAAP': 'DOID:3608',\n",
    "#     'SCCNOS': 'DOID:1749',\n",
    "#     'MACR': 'DOID:0050861',\n",
    "#     'OCSC': 'DOID:0050866',\n",
    "#     'UDMN': 'DOID:162',\n",
    "#     'CUP': 'DOID:162',\n",
    "#     'CUPNOS': 'DOID:162',\n",
    "#     'MYF': 'DOID:4971',\n",
    "#     'HGSOC': 'DOID:0050933',\n",
    "#     'LGSOC': 'DOID:0050933',\n",
    "#     'SOC': 'DOID:0050933',\n",
    "#     'PANET': 'DOID:1798',\n",
    "#     'IMT': 'DOID:0050905',\n",
    "#     'OPHSC': 'DOID:0050921',\n",
    "#     'MDS': 'DOID:0050908',\n",
    "    'ACYC': 'DOID:0080202',\n",
    "    'HL': 'DOID:8567',\n",
    "    'SEM': 'DOID:4440'\n",
    "}"
   ]
  },
  {
   "cell_type": "code",
   "execution_count": 87,
   "metadata": {
    "collapsed": true
   },
   "outputs": [],
   "source": [
    "sample_to_patient = dict()\n",
    "patient_to_samples = defaultdict(list)\n",
    "sample_to_doid = dict()\n",
    "sample_oncotree_code = dict()\n",
    "required_patches = set()\n",
    "optional_patches = set()\n",
    "no_patch = set()\n",
    "\n",
    "with open(DATA_ROOT / 'GENIE_v3' / 'data_clinical_sample_3.0.0.txt') as f:\n",
    "    for _ in range(4):\n",
    "        f.readline()    # get past info lines\n",
    "    reader = csv.DictReader(f, delimiter=\"\\t\")\n",
    "    for row in reader:\n",
    "        patient = row['PATIENT_ID']\n",
    "        sample = row['SAMPLE_ID']\n",
    "        sample_to_patient[sample] = patient\n",
    "        patient_to_samples[patient].append(sample)\n",
    "        oncotree_code = row['ONCOTREE_CODE'].upper()\n",
    "        doids = oncotree_to_doids[oncotree_code]\n",
    "        if not doids:\n",
    "            required_patches.add(oncotree_code)\n",
    "            doid = patched_doids.get(oncotree_code, None)\n",
    "        elif len(doids) > 1:\n",
    "            optional_patches.add(oncotree_code)\n",
    "            doid = patched_doids[oncotree_code]\n",
    "        else:\n",
    "            no_patch.add(oncotree_code)\n",
    "            doid = doids[0]\n",
    "        sample_to_doid[sample] = doid\n",
    "        sample_oncotree_code[sample] = oncotree_code\n",
    "        \n",
    "patient_to_samples = dict(patient_to_samples)"
   ]
  },
  {
   "cell_type": "code",
   "execution_count": 88,
   "metadata": {
    "collapsed": true
   },
   "outputs": [],
   "source": [
    "# Load genie variants\n",
    "classification_counter = Counter()\n",
    "genie_features = list()\n",
    "genie_features_by_patient = defaultdict(list)\n",
    "genie_features_by_variant = defaultdict(list)\n",
    "genie_features_by_sample = defaultdict(list)\n",
    "unfiltered_patients_with_variants = set()\n",
    "EXCLUDED_CLASSIFICATIONS = [\n",
    "    'Silent',\n",
    "    \"3'Flank\",\n",
    "    \"3'UTR\",\n",
    "    \"5'Flank\",\n",
    "    \"5'UTR\",\n",
    "    'Intron',\n",
    "    'Splice_Region'\n",
    "]\n",
    "with open(DATA_ROOT / 'GENIE_v3' / 'data_mutations_extended_3.0.0.txt', 'r') as maf:\n",
    "    sample_list = maf.readline().strip().split(' ')[1:]\n",
    "    maf_reader = csv.DictReader(maf, delimiter=\"\\t\")\n",
    "    for row in maf_reader:\n",
    "        start = row['Start_Position']\n",
    "        end = row['End_Position']\n",
    "        chromosome = row['Chromosome']\n",
    "        patient = sample_to_patient[row['Tumor_Sample_Barcode']]\n",
    "        unfiltered_patients_with_variants.add(patient)\n",
    "        if row['Variant_Classification'] in EXCLUDED_CLASSIFICATIONS:\n",
    "            continue\n",
    "        if row['Reference_Allele'] != row['Tumor_Seq_Allele1']:\n",
    "            alt = row['Tumor_Seq_Allele1']\n",
    "        else:\n",
    "            alt = row['Tumor_Seq_Allele2']\n",
    "        reference = row['NCBI_Build']\n",
    "        feature = viccdb.GenomicFeature(\n",
    "            chromosome=chromosome,\n",
    "            start=start,\n",
    "            end=end,\n",
    "            referenceName=reference,\n",
    "            name=':'.join([row['Tumor_Sample_Barcode'], row['HGVSp_Short']]),\n",
    "            geneSymbol=row['Hugo_Symbol'],\n",
    "            sequence_ontology=so_by_name[row['Variant_Classification']],\n",
    "            alt=alt\n",
    "        )\n",
    "        genie_features.append(feature)\n",
    "        genie_features_by_patient[patient].append(feature)\n",
    "        genie_features_by_variant[(reference, chromosome, start, end, alt)].append(feature)\n",
    "        genie_features_by_sample[row['Tumor_Sample_Barcode']].append(feature)"
   ]
  },
  {
   "cell_type": "code",
   "execution_count": 89,
   "metadata": {},
   "outputs": [
    {
     "data": {
      "text/plain": [
       "237175"
      ]
     },
     "execution_count": 89,
     "metadata": {},
     "output_type": "execute_result"
    }
   ],
   "source": [
    "len(genie_features)"
   ]
  },
  {
   "cell_type": "code",
   "execution_count": 90,
   "metadata": {},
   "outputs": [
    {
     "name": "stdout",
     "output_type": "stream",
     "text": [
      "277.3736534999989\n"
     ]
    }
   ],
   "source": [
    "# Do a GENIE feature search across knowledgebase. Huge search operation takes ~5.5 min to complete\n",
    "from timeit import default_timer\n",
    "tick = default_timer()\n",
    "genie_search_results = core_vdb.search_by_features(genie_features)\n",
    "tock = default_timer()\n",
    "print(tock-tick)"
   ]
  },
  {
   "cell_type": "code",
   "execution_count": 91,
   "metadata": {
    "collapsed": true
   },
   "outputs": [],
   "source": [
    "featured_patients = set(genie_features_by_patient)"
   ]
  },
  {
   "cell_type": "code",
   "execution_count": 92,
   "metadata": {},
   "outputs": [
    {
     "name": "stdout",
     "output_type": "stream",
     "text": [
      "Avg. queries / second: 855.0740021888955\n",
      "Search results: 2316305\n",
      "Avg. search results / query: 9.766227469168335\n"
     ]
    }
   ],
   "source": [
    "print(f'Avg. queries / second: {len(genie_features)/(tock-tick)}')\n",
    "print(f'Search results: {len(genie_search_results)}')\n",
    "print(f'Avg. search results / query: {len(genie_search_results)/len(genie_features)}')"
   ]
  },
  {
   "cell_type": "code",
   "execution_count": 93,
   "metadata": {
    "collapsed": true
   },
   "outputs": [],
   "source": [
    "genie_feature_lengths = Counter()\n",
    "for feature in genie_features:\n",
    "    genie_feature_lengths[len(feature)] += 1"
   ]
  },
  {
   "cell_type": "code",
   "execution_count": 94,
   "metadata": {
    "collapsed": true
   },
   "outputs": [],
   "source": [
    "result_size = defaultdict(Counter)\n",
    "for result in genie_search_results:\n",
    "    for match_type in ranking:\n",
    "        if ranking.index(result['best_match']['type']) <= ranking.index(match_type):\n",
    "            result_size[result['query']][match_type] += 1"
   ]
  },
  {
   "cell_type": "code",
   "execution_count": 95,
   "metadata": {},
   "outputs": [
    {
     "name": "stdout",
     "output_type": "stream",
     "text": [
      "Percentage of queries with results: 37.3%\n"
     ]
    }
   ],
   "source": [
    "print('Percentage of queries with results: {:.1%}'.format(len(result_size) / len(genie_features)))"
   ]
  },
  {
   "cell_type": "code",
   "execution_count": 96,
   "metadata": {},
   "outputs": [
    {
     "data": {
      "text/plain": [
       "1870"
      ]
     },
     "execution_count": 96,
     "metadata": {},
     "output_type": "execute_result"
    }
   ],
   "source": [
    "exact_match_features = [x for x in result_size \n",
    "                        if result_size[x]['exact'] + \n",
    "                        result_size[x]['positional'] > 0]\n",
    "len(exact_match_features)"
   ]
  },
  {
   "cell_type": "code",
   "execution_count": 97,
   "metadata": {},
   "outputs": [
    {
     "name": "stdout",
     "output_type": "stream",
     "text": [
      "Percentage of queries with exact results: 0.8%\n"
     ]
    }
   ],
   "source": [
    "print('Percentage of queries with exact results: {:.1%}'.format(len(exact_match_features) / len(genie_features)))"
   ]
  },
  {
   "cell_type": "code",
   "execution_count": 98,
   "metadata": {
    "collapsed": true
   },
   "outputs": [],
   "source": [
    "data = defaultdict(list)\n",
    "for feature in genie_features:\n",
    "    length = len(feature)\n",
    "    for match_type in ranking:\n",
    "        data[match_type].append([length, result_size[feature][match_type]])"
   ]
  },
  {
   "cell_type": "code",
   "execution_count": 99,
   "metadata": {},
   "outputs": [
    {
     "data": {
      "image/png": "[encoded data removed]",
      "text/plain": [
       "<matplotlib.figure.Figure at 0x1414ae390>"
      ]
     },
     "metadata": {},
     "output_type": "display_data"
    }
   ],
   "source": [
    "colors = dict(zip(ranking, ['blue', 'green', 'orange', 'red']))\n",
    "pcs = list()\n",
    "labels = list()\n",
    "plt.figure()\n",
    "plt.xscale('log')\n",
    "plt.yscale('log')\n",
    "for t in reversed(ranking):\n",
    "    coord_pairs = data[t]\n",
    "    a = np.array(coord_pairs) + 1\n",
    "    pc = plt.scatter(a[:,0], a[:,1], marker='.', color=colors[t], alpha=0.05)\n",
    "    pcs.append(pc)\n",
    "    labels.append(t)\n",
    "plt.xlabel('Feature Size')\n",
    "plt.ylabel('Interpretations')\n",
    "plt.title('Feature v Result Size of GENIE Variants')\n",
    "plt.legend(pcs, labels, bbox_to_anchor=(1.05, 1), loc=2, borderaxespad=0.)\n",
    "plt.tight_layout() # drops legend :-/\n",
    "# plt.savefig(str(FIGPATH / 'feature_v_result_size_genie.pdf'))\n",
    "# plt.savefig(str(FIGPATH / 'feature_v_result_size_genie.png'))\n",
    "plt.show()"
   ]
  },
  {
   "cell_type": "code",
   "execution_count": 100,
   "metadata": {},
   "outputs": [
    {
     "data": {
      "image/png": "[encoded data removed]",
      "text/plain": [
       "<matplotlib.figure.Figure at 0x252ac4e48>"
      ]
     },
     "metadata": {},
     "output_type": "display_data"
    }
   ],
   "source": [
    "for t in reversed(ranking):\n",
    "    data = [result_size[q][t] for q in genie_features\n",
    "            if result_size[q][t] > 0\n",
    "           ]\n",
    "    plt.hist(data, alpha=1, label=t, color=colors[t], bins=150)\n",
    "plt.xlabel('Interpretations Matched to Variant Query')\n",
    "plt.ylabel('Queries')\n",
    "plt.title('Counts of Interpretations per Variant Query by Search Strategy')\n",
    "plt.legend()\n",
    "# plt.savefig(str(FIGPATH / 'genie_interpretation_v_query_all.pdf'))\n",
    "plt.show()"
   ]
  },
  {
   "cell_type": "code",
   "execution_count": 101,
   "metadata": {},
   "outputs": [
    {
     "data": {
      "image/png": "[encoded data removed]",
      "text/plain": [
       "<matplotlib.figure.Figure at 0x255485550>"
      ]
     },
     "metadata": {},
     "output_type": "display_data"
    }
   ],
   "source": [
    "notables = Counter()\n",
    "for t in reversed(ranking[:3]):\n",
    "    data = [result_size[q][t] for q in genie_features\n",
    "            if result_size[q][t] > 0\n",
    "           ]\n",
    "    for q in genie_features:\n",
    "        if result_size[q][t] > 90:\n",
    "            notables[(q,t)] += 1\n",
    "    plt.hist(data, alpha=1, label=t, color=colors[t], bins=150)\n",
    "plt.title('Counts of Interpretations per Variant Query by Search Strategy')\n",
    "plt.xlabel('Interpretations Matched to Variant Query')\n",
    "plt.ylabel('Queries')\n",
    "plt.legend()\n",
    "# plt.savefig(str(FIGPATH / 'genie_interpretation_v_query_no_regional.pdf'))\n",
    "plt.show()"
   ]
  },
  {
   "cell_type": "code",
   "execution_count": 102,
   "metadata": {},
   "outputs": [
    {
     "name": "stdout",
     "output_type": "stream",
     "text": [
      "(92, 1425): KRAS p.G12V (exact)\n",
      "(94, 998): KRAS p.G12C (exact)\n",
      "(111, 1062): PIK3CA p.E545K (exact)\n",
      "(113, 1062): PIK3CA p.E545K (positional)\n",
      "(117, 1062): PIK3CA p.E545K (focal)\n",
      "(160, 1080): PIK3CA p.H1047R (exact)\n",
      "(161, 1720): KRAS p.G12D (exact)\n",
      "(174, 1080): PIK3CA p.H1047R (positional)\n",
      "(178, 1080): PIK3CA p.H1047R (focal)\n",
      "(205, 998): KRAS p.G12C (positional)\n",
      "(308, 1425): KRAS p.G12V (positional)\n",
      "(308, 1720): KRAS p.G12D (positional)\n",
      "(343, 998): KRAS p.G12C (focal)\n",
      "(457, 1425): KRAS p.G12V (focal)\n",
      "(457, 1720): KRAS p.G12D (focal)\n",
      "(565, 1439): BRAF p.V600E (exact)\n",
      "(584, 1439): BRAF p.V600E (positional)\n",
      "(655, 1439): BRAF p.V600E (focal)\n"
     ]
    }
   ],
   "source": [
    "coord_q = dict()\n",
    "for notable in notables.most_common(len(notables)):\n",
    "    if notable[1] > 950:\n",
    "        feature = notable[0][0]\n",
    "        t = notable[0][1]\n",
    "        queries = notable[1]\n",
    "        HGVSp = feature.name.split(':')[1]\n",
    "        coord_q[(result_size[feature][t], queries)] = (feature, t)\n",
    "    else:\n",
    "        break\n",
    "for coord in sorted(coord_q):\n",
    "    feature, t = coord_q[coord]\n",
    "    HGVSp = feature.name.split(':')[1]\n",
    "    queries = coord[1]\n",
    "    print(f'({result_size[feature][t]}, {queries}): {feature.gene_symbol} {HGVSp} ({t})')"
   ]
  },
  {
   "cell_type": "markdown",
   "metadata": {},
   "source": [
    "## Disease"
   ]
  },
  {
   "cell_type": "code",
   "execution_count": 103,
   "metadata": {},
   "outputs": [
    {
     "name": "stdout",
     "output_type": "stream",
     "text": [
      "There are 667 diseases in oncotree.\n",
      "Of these, 133 have no xrefs.\n",
      "286 of 539 oncotree diseases from GENIE do not automatically map to doid.\n",
      "Of these, 96 have no xrefs.\n"
     ]
    },
    {
     "data": {
      "text/plain": [
       "(2.0286505738029286, 1.0654351125278186e-05)"
      ]
     },
     "execution_count": 103,
     "metadata": {},
     "output_type": "execute_result"
    }
   ],
   "source": [
    "oncotree_codes = {x['code'] for x in oncotree_types}\n",
    "print(f'There are {len(oncotree_codes)} diseases in oncotree.')\n",
    "no_xrefs = {x for x, v in oncotree_to_aliases.items() if not v}\n",
    "print(f'Of these, {len(no_xrefs)} have no xrefs.')\n",
    "print(f'{len(required_patches)} of {len(required_patches | no_patch)} oncotree diseases from GENIE do not automatically map to doid.')\n",
    "print(f'Of these, {len(required_patches & no_xrefs)} have no xrefs.')\n",
    "a = np.array([\n",
    "        [len(required_patches & no_xrefs), len(required_patches - no_xrefs)],\n",
    "        [len(oncotree_codes & no_xrefs), len(oncotree_codes - no_xrefs)]\n",
    "         ])\n",
    "stats.fisher_exact(a)"
   ]
  },
  {
   "cell_type": "code",
   "execution_count": 104,
   "metadata": {},
   "outputs": [
    {
     "data": {
      "text/plain": [
       "Counter({'http://purl.obolibrary.org/obo/doid': 12573,\n",
       "         'MEDDRA': 32,\n",
       "         'SNOMEDCT': 24,\n",
       "         None: 1,\n",
       "         'OMIM': 1,\n",
       "         'DOID': 213,\n",
       "         'EVS': 8,\n",
       "         'ICD10CM': 3,\n",
       "         'RID': 1})"
      ]
     },
     "execution_count": 104,
     "metadata": {},
     "output_type": "execute_result"
    }
   ],
   "source": [
    "c = Counter()\n",
    "for x in core_vdb:\n",
    "    try:\n",
    "        c[x.disease.source] += 1\n",
    "    except AttributeError:\n",
    "        c[None] += 1\n",
    "c"
   ]
  },
  {
   "cell_type": "code",
   "execution_count": 105,
   "metadata": {
    "collapsed": true
   },
   "outputs": [],
   "source": [
    "doid = core_vdb.select(lambda x: x.disease is not None and x.disease.id.startswith('DOID:'))"
   ]
  },
  {
   "cell_type": "code",
   "execution_count": 106,
   "metadata": {},
   "outputs": [
    {
     "name": "stdout",
     "output_type": "stream",
     "text": [
      "cgi: 106 (9.9% of superset)\n",
      "civic: 81 (2.4% of superset)\n",
      "jax: 1352 (23.5% of superset)\n",
      "oncokb: 15 (6.1% of superset)\n",
      "Total: 1554 (12.1% of superset)\n"
     ]
    }
   ],
   "source": [
    "# Problem with number of entries from jax reporting \"cancer\" as doid type\n",
    "doid.select(lambda x: x.disease.id == 'DOID:162').report_groups(core_vdb)"
   ]
  },
  {
   "cell_type": "code",
   "execution_count": 107,
   "metadata": {
    "collapsed": true
   },
   "outputs": [],
   "source": [
    "id_to_name = {id_: data['name'] for id_, data in graph.nodes(data=True)}"
   ]
  },
  {
   "cell_type": "code",
   "execution_count": 108,
   "metadata": {},
   "outputs": [
    {
     "name": "stdout",
     "output_type": "stream",
     "text": [
      "cancer: 1554\n",
      "lung adenocarcinoma: 1415\n",
      "breast cancer: 1089\n",
      "non-small cell lung carcinoma: 1011\n",
      "colorectal cancer: 976\n",
      "melanoma: 659\n",
      "von Hippel-Lindau disease: 566\n",
      "acute myeloid leukemia: 419\n",
      "rectal neoplasm: 366\n",
      "chronic myeloid leukemia: 251\n",
      "lung cancer: 210\n",
      "gastrointestinal stromal tumor: 194\n",
      "skin melanoma: 162\n",
      "ovarian cancer: 156\n",
      "stomach cancer: 135\n",
      "Her2-receptor positive breast cancer: 132\n",
      "colon cancer: 120\n",
      "glioblastoma multiforme: 116\n",
      "endometrial cancer: 113\n",
      "head and neck squamous cell carcinoma: 107\n"
     ]
    }
   ],
   "source": [
    "c = Counter()\n",
    "for x in doid:\n",
    "    try:\n",
    "        c[x.disease.id] += 1\n",
    "    except AttributeError:\n",
    "        c[None] += 1\n",
    "for k, v in c.most_common(20):\n",
    "    print(f'{id_to_name[k]}: {v}')"
   ]
  },
  {
   "cell_type": "code",
   "execution_count": 109,
   "metadata": {
    "collapsed": true
   },
   "outputs": [],
   "source": [
    "organ_system_ids = graph.predecessors('DOID:0050686')\n",
    "benign_and_premalignant_ids = ['DOID:0060072', 'DOID:0060071']\n",
    "cell_type_cancer_id = 'DOID:0050687'\n",
    "cancer_id = 'DOID:162'"
   ]
  },
  {
   "cell_type": "code",
   "execution_count": 110,
   "metadata": {
    "collapsed": true
   },
   "outputs": [],
   "source": [
    "organ_system = dict()\n",
    "benign_and_premalignant = dict()\n",
    "\n",
    "def assign_to_id(ids, id_, d):\n",
    "    if len(ids) == 0:\n",
    "        return\n",
    "    for i in ids:\n",
    "        d[i] = id_\n",
    "        assign_to_id(graph.predecessors(i), id_, d)\n",
    "    return \n",
    "\n",
    "for organ_id in (organ_system_ids + [cell_type_cancer_id]):\n",
    "    assign_to_id(graph.predecessors(organ_id), organ_id, organ_system)\n",
    "    organ_system[organ_id] = organ_id\n",
    "\n",
    "for id_ in benign_and_premalignant_ids:\n",
    "    assign_to_id(graph.predecessors(id_), id_, benign_and_premalignant)\n",
    "    benign_and_premalignant[id_] = id_\n",
    "    \n"
   ]
  },
  {
   "cell_type": "code",
   "execution_count": 111,
   "metadata": {},
   "outputs": [
    {
     "data": {
      "text/plain": [
       "{'def': '\"An organ system cancer located_in the respiratory system that is characterized by uncontrolled cellular proliferation in the respiratory tract.\" [url:http\\\\://en.wikipedia.org/wiki/Respiratory_tract_neoplasm]',\n",
       " 'is_a': ['DOID:0050686'],\n",
       " 'name': 'respiratory system cancer'}"
      ]
     },
     "execution_count": 111,
     "metadata": {},
     "output_type": "execute_result"
    }
   ],
   "source": [
    "return_id = organ_system['DOID:0050615']\n",
    "graph.node[return_id]"
   ]
  },
  {
   "cell_type": "code",
   "execution_count": 112,
   "metadata": {},
   "outputs": [
    {
     "name": "stdout",
     "output_type": "stream",
     "text": [
      "cgi: 1072 (100.0% of superset)\n",
      "civic: 3339 (100.0% of superset)\n",
      "jax: 5746 (100.0% of superset)\n",
      "molecularmatch: 2080 (100.0% of superset)\n",
      "oncokb: 247 (100.0% of superset)\n",
      "pmkb: 371 (100.0% of superset)\n",
      "Total: 12855 (100.0% of superset)\n"
     ]
    }
   ],
   "source": [
    "normalized_disease = core_vdb.select(lambda x: x.disease is not None)\n",
    "normalized_disease.report_groups(core_vdb)"
   ]
  },
  {
   "cell_type": "code",
   "execution_count": 113,
   "metadata": {
    "collapsed": true
   },
   "outputs": [],
   "source": [
    "do_sourced = normalized_disease.select(lambda x: x.disease.source in ['DOID', 'http://purl.obolibrary.org/obo/doid'])"
   ]
  },
  {
   "cell_type": "code",
   "execution_count": 114,
   "metadata": {},
   "outputs": [
    {
     "name": "stdout",
     "output_type": "stream",
     "text": [
      "cgi: 1072 (100.0% of superset)\n",
      "civic: 3304 (98.9% of superset)\n",
      "jax: 5745 (100.0% of superset)\n",
      "molecularmatch: 2080 (100.0% of superset)\n",
      "oncokb: 239 (96.8% of superset)\n",
      "pmkb: 346 (93.3% of superset)\n",
      "Total: 12786 (99.5% of superset)\n"
     ]
    }
   ],
   "source": [
    "do_sourced.report_groups(core_vdb)"
   ]
  },
  {
   "cell_type": "code",
   "execution_count": 115,
   "metadata": {
    "collapsed": true
   },
   "outputs": [],
   "source": [
    "cancer_organ_interpretations = do_sourced.select(lambda x: organ_system.get(x.disease.id, False))\n",
    "benign_premalignant_interpretations = do_sourced.select(lambda x: benign_and_premalignant.get(x.disease.id, False))\n",
    "cancer_interpretations = do_sourced.select(lambda x: x.disease.id == cancer_id)\n",
    "other_interpretations = do_sourced - cancer_organ_interpretations - benign_premalignant_interpretations - cancer_interpretations"
   ]
  },
  {
   "cell_type": "code",
   "execution_count": 116,
   "metadata": {},
   "outputs": [
    {
     "name": "stdout",
     "output_type": "stream",
     "text": [
      "cgi: 896 (83.6% of superset)\n",
      "civic: 2602 (78.8% of superset)\n",
      "jax: 4388 (76.4% of superset)\n",
      "molecularmatch: 1714 (82.4% of superset)\n",
      "oncokb: 215 (90.0% of superset)\n",
      "pmkb: 334 (96.5% of superset)\n",
      "Total: 10149 (79.4% of superset)\n"
     ]
    }
   ],
   "source": [
    "cancer_organ_interpretations.report_groups(do_sourced)"
   ]
  },
  {
   "cell_type": "code",
   "execution_count": 117,
   "metadata": {},
   "outputs": [
    {
     "name": "stdout",
     "output_type": "stream",
     "text": [
      "cgi: 38 (3.5% of superset)\n",
      "civic: 570 (17.3% of superset)\n",
      "jax: 5 (0.1% of superset)\n",
      "molecularmatch: 366 (17.6% of superset)\n",
      "pmkb: 2 (0.6% of superset)\n",
      "Total: 981 (7.7% of superset)\n"
     ]
    }
   ],
   "source": [
    "benign_premalignant_interpretations.report_groups(do_sourced)"
   ]
  },
  {
   "cell_type": "code",
   "execution_count": 118,
   "metadata": {},
   "outputs": [
    {
     "name": "stdout",
     "output_type": "stream",
     "text": [
      "cgi: 106 (9.9% of superset)\n",
      "civic: 81 (2.5% of superset)\n",
      "jax: 1352 (23.5% of superset)\n",
      "oncokb: 15 (6.3% of superset)\n",
      "Total: 1554 (12.2% of superset)\n"
     ]
    }
   ],
   "source": [
    "cancer_interpretations.report_groups(do_sourced)"
   ]
  },
  {
   "cell_type": "code",
   "execution_count": 119,
   "metadata": {},
   "outputs": [
    {
     "name": "stdout",
     "output_type": "stream",
     "text": [
      "cgi: 32 (3.0% of superset)\n",
      "civic: 51 (1.5% of superset)\n",
      "oncokb: 9 (3.8% of superset)\n",
      "pmkb: 10 (2.9% of superset)\n",
      "Total: 102 (0.8% of superset)\n"
     ]
    }
   ],
   "source": [
    "other_interpretations.report_groups(do_sourced)"
   ]
  },
  {
   "cell_type": "code",
   "execution_count": 120,
   "metadata": {},
   "outputs": [
    {
     "name": "stdout",
     "output_type": "stream",
     "text": [
      "civic: 2 (0.1% of superset)\n",
      "oncokb: 2 (0.8% of superset)\n",
      "pmkb: 8 (2.3% of superset)\n",
      "Total: 12 (0.1% of superset)\n"
     ]
    }
   ],
   "source": [
    "x = other_interpretations.select(lambda x: x.disease.id.split(':')[0] != 'DOID')\n",
    "x.report_groups(do_sourced)"
   ]
  },
  {
   "cell_type": "code",
   "execution_count": 121,
   "metadata": {},
   "outputs": [
    {
     "data": {
      "text/plain": [
       "Counter({'HP': 12})"
      ]
     },
     "execution_count": 121,
     "metadata": {},
     "output_type": "execute_result"
    }
   ],
   "source": [
    "c = Counter()\n",
    "for i in x:\n",
    "    c[i.disease.id.split(':')[0]] += 1\n",
    "c"
   ]
  },
  {
   "cell_type": "code",
   "execution_count": 122,
   "metadata": {},
   "outputs": [
    {
     "name": "stdout",
     "output_type": "stream",
     "text": [
      "http://purl.obolibrary.org/obo/doid\n",
      "HP:0011779\n",
      "Anaplastic thyroid carcinoma\n",
      "EID3744\n"
     ]
    }
   ],
   "source": [
    "entry = x.by_source('civic')[0]\n",
    "print(entry.disease.source)\n",
    "print(entry.disease.id)\n",
    "print(entry.disease.term)\n",
    "print(entry['feature_names'])"
   ]
  },
  {
   "cell_type": "code",
   "execution_count": 123,
   "metadata": {
    "collapsed": true
   },
   "outputs": [],
   "source": [
    "c = Counter()\n",
    "for association in cancer_organ_interpretations:\n",
    "    disease_id = association.disease.id\n",
    "    organ_id = organ_system[disease_id]\n",
    "    c[organ_id] += 1"
   ]
  },
  {
   "cell_type": "code",
   "execution_count": 124,
   "metadata": {},
   "outputs": [
    {
     "name": "stdout",
     "output_type": "stream",
     "text": [
      "respiratory system cancer: 2749\n",
      "gastrointestinal system cancer: 1757\n",
      "thoracic cancer: 1452\n",
      "immune system cancer: 1352\n",
      "cell type cancer: 1063\n",
      "reproductive organ cancer: 519\n",
      "endocrine gland cancer: 357\n",
      "urinary system cancer: 254\n",
      "nervous system cancer: 212\n",
      "integumentary system cancer: 196\n",
      "head and neck cancer: 136\n",
      "musculoskeletal system cancer: 101\n",
      "peritoneum cancer: 1\n"
     ]
    }
   ],
   "source": [
    "for k, v in c.most_common(13):\n",
    "    print(f'{id_to_name[k]}: {v}')"
   ]
  },
  {
   "cell_type": "code",
   "execution_count": 125,
   "metadata": {},
   "outputs": [
    {
     "name": "stdout",
     "output_type": "stream",
     "text": [
      "http://purl.obolibrary.org/obo/doid: DOID:1725\n",
      "jax\n",
      "In a preclinical study, the combination of APR-246 and Platinol (cisplatin) resulted in strong synergism, thereby reducing cell viability in patient derived peritoneum cancer cells harboring TP53 C135Y in culture (PMID: 27179933). \n"
     ]
    }
   ],
   "source": [
    "p_cancer = cancer_organ_interpretations.select(lambda x: id_to_name[organ_system[x.disease.id]] == 'peritoneum cancer')[0]\n",
    "print(p_cancer.disease)\n",
    "print(p_cancer.source)\n",
    "print(p_cancer.description)"
   ]
  },
  {
   "cell_type": "code",
   "execution_count": 126,
   "metadata": {},
   "outputs": [
    {
     "data": {
      "text/plain": [
       "15"
      ]
     },
     "execution_count": 126,
     "metadata": {},
     "output_type": "execute_result"
    }
   ],
   "source": [
    "len(set(organ_system.values()))"
   ]
  },
  {
   "cell_type": "code",
   "execution_count": 127,
   "metadata": {
    "collapsed": true
   },
   "outputs": [],
   "source": [
    "with open(DATA_ROOT / 'TopNodes_DOcancerslim_3_18.json', 'r') as f:\n",
    "    result = json.load(f)\n",
    "    nodes = result['graphs'][0]['nodes']"
   ]
  },
  {
   "cell_type": "code",
   "execution_count": 128,
   "metadata": {},
   "outputs": [
    {
     "data": {
      "text/plain": [
       "'DOID:1324'"
      ]
     },
     "execution_count": 128,
     "metadata": {},
     "output_type": "execute_result"
    }
   ],
   "source": [
    "nodes[0]['id'].split('/')[-1].replace('_', ':')"
   ]
  },
  {
   "cell_type": "code",
   "execution_count": 129,
   "metadata": {
    "collapsed": true
   },
   "outputs": [],
   "source": [
    "topnodes_docancerslim = list()\n",
    "doid_re = re.compile(r'DOID:\\d+')\n",
    "\n",
    "for node in nodes:\n",
    "    doid = node['id'].split('/')[-1].replace('_', ':')\n",
    "    if doid_re.match(doid):\n",
    "        topnodes_docancerslim.append(doid)"
   ]
  },
  {
   "cell_type": "code",
   "execution_count": 130,
   "metadata": {},
   "outputs": [
    {
     "data": {
      "text/plain": [
       "58"
      ]
     },
     "execution_count": 130,
     "metadata": {},
     "output_type": "execute_result"
    }
   ],
   "source": [
    "len(topnodes_docancerslim)"
   ]
  },
  {
   "cell_type": "code",
   "execution_count": 131,
   "metadata": {
    "collapsed": true
   },
   "outputs": [],
   "source": [
    "def assign_to_nearest_id(ids, id_, d, terminals):\n",
    "    if len(ids) == 0:\n",
    "        return\n",
    "    for i in ids:\n",
    "        if i in terminals:\n",
    "            assignment = i\n",
    "        else:\n",
    "            assignment = id_\n",
    "        d[i] = assignment\n",
    "        assign_to_nearest_id(graph.predecessors(i), assignment, d, terminals)\n",
    "    return\n",
    "\n",
    "topnode_map = dict()\n",
    "assign_to_nearest_id(['DOID:162'], 'DOID:162', topnode_map, topnodes_docancerslim)"
   ]
  },
  {
   "cell_type": "code",
   "execution_count": 132,
   "metadata": {},
   "outputs": [
    {
     "name": "stdout",
     "output_type": "stream",
     "text": [
      "cgi: 1002 (93.5% of superset)\n",
      "civic: 2683 (81.2% of superset)\n",
      "jax: 5740 (99.9% of superset)\n",
      "molecularmatch: 1714 (82.4% of superset)\n",
      "oncokb: 230 (96.2% of superset)\n",
      "pmkb: 334 (96.5% of superset)\n",
      "Total: 11703 (91.5% of superset)\n"
     ]
    }
   ],
   "source": [
    "cancer_counts = Counter()\n",
    "\n",
    "cancer_associations = do_sourced.select(\n",
    "    lambda x: topnode_map.get(x.disease.id, False))\n",
    "\n",
    "for association in cancer_associations:\n",
    "    disease_id = association.disease.id\n",
    "    topnode_id = topnode_map[disease_id]\n",
    "    cancer_counts[topnode_id] += 1\n",
    "\n",
    "cancer_associations.report_groups(do_sourced)"
   ]
  },
  {
   "cell_type": "code",
   "execution_count": 133,
   "metadata": {},
   "outputs": [
    {
     "name": "stdout",
     "output_type": "stream",
     "text": [
      "cgi: 70 (6.5% of superset)\n",
      "civic: 621 (18.8% of superset)\n",
      "jax: 5 (0.1% of superset)\n",
      "molecularmatch: 366 (17.6% of superset)\n",
      "oncokb: 9 (3.8% of superset)\n",
      "pmkb: 12 (3.5% of superset)\n",
      "Total: 1083 (8.5% of superset)\n"
     ]
    }
   ],
   "source": [
    "other_associations = do_sourced - cancer_associations\n",
    "other_associations.report_groups(do_sourced)"
   ]
  },
  {
   "cell_type": "code",
   "execution_count": 134,
   "metadata": {},
   "outputs": [
    {
     "data": {
      "text/plain": [
       "48"
      ]
     },
     "execution_count": 134,
     "metadata": {},
     "output_type": "execute_result"
    }
   ],
   "source": [
    "len(cancer_counts)"
   ]
  },
  {
   "cell_type": "code",
   "execution_count": 135,
   "metadata": {},
   "outputs": [
    {
     "name": "stdout",
     "output_type": "stream",
     "text": [
      "lung cancer: 2748\n",
      "cancer: 1726\n",
      "breast cancer: 1452\n",
      "hematologic cancer: 1330\n",
      "large intestine cancer: 1073\n",
      "melanoma: 661\n",
      "gastrointestinal system cancer: 216\n",
      "malignant glioma: 213\n",
      "ovarian cancer: 207\n",
      "stomach cancer: 205\n",
      "skin cancer: 196\n",
      "thyroid cancer: 174\n",
      "pancreatic cancer: 166\n",
      "uterine cancer: 156\n",
      "urinary bladder cancer: 145\n",
      "colon cancer: 136\n",
      "head and neck cancer: 136\n",
      "prostate cancer: 129\n",
      "kidney cancer: 101\n",
      "peripheral nervous system neoplasm: 90\n",
      "ocular cancer: 56\n",
      "connective tissue cancer: 53\n",
      "brain cancer: 50\n",
      "bone cancer: 44\n",
      "bile duct cancer: 38\n",
      "sarcoma: 36\n",
      "esophageal cancer: 36\n",
      "liver cancer: 29\n",
      "thymus cancer: 20\n",
      "cervical cancer: 17\n",
      "meningioma: 11\n",
      "adrenal gland cancer: 10\n",
      "pharynx cancer: 8\n",
      "endocrine gland cancer: 7\n",
      "salivary gland cancer: 6\n",
      "oral cavity cancer: 4\n",
      "muscle cancer: 4\n",
      "appendix cancer: 2\n",
      "rectum cancer: 2\n",
      "vulva cancer: 2\n",
      "larynx cancer: 1\n",
      "ureter cancer: 1\n",
      "duodenum cancer: 1\n",
      "penile cancer: 1\n",
      "intestinal cancer: 1\n",
      "peritoneum cancer: 1\n",
      "vaginal cancer: 1\n",
      "fallopian tube cancer: 1\n"
     ]
    }
   ],
   "source": [
    "for k, v in cancer_counts.most_common(48):\n",
    "    print(f'{id_to_name[k]}: {v}')\n",
    "    "
   ]
  },
  {
   "cell_type": "code",
   "execution_count": 136,
   "metadata": {
    "collapsed": true
   },
   "outputs": [],
   "source": [
    "def write_disease_counts(file_handle, disease_counter):\n",
    "    writer = csv.writer(file_handle)\n",
    "    s = sum(disease_counter.values())\n",
    "    writer.writerow(['DOID', 'Disease Name', 'Interpretations', 'Percentage'])\n",
    "    for k, v in disease_counter.most_common(len(disease_counter)):\n",
    "        writer.writerow([k, id_to_name[k], v, '{:.2%}'.format(v/s)])"
   ]
  },
  {
   "cell_type": "code",
   "execution_count": 137,
   "metadata": {
    "collapsed": true
   },
   "outputs": [],
   "source": [
    "with open('out/interpretation_disease_topnode_counts.csv', 'w') as f:\n",
    "    write_disease_counts(f, cancer_counts)"
   ]
  },
  {
   "cell_type": "code",
   "execution_count": 138,
   "metadata": {},
   "outputs": [
    {
     "name": "stdout",
     "output_type": "stream",
     "text": [
      "cgi: 38 (3.5% of superset)\n",
      "civic: 570 (17.3% of superset)\n",
      "jax: 4 (0.1% of superset)\n",
      "molecularmatch: 366 (17.6% of superset)\n",
      "pmkb: 2 (0.6% of superset)\n",
      "Total: 980 (7.7% of superset)\n"
     ]
    }
   ],
   "source": [
    "# Benign\n",
    "\n",
    "benign_id = 'DOID:0060072'\n",
    "benign = dict()\n",
    "\n",
    "assign_to_id(graph.predecessors(benign_id), benign_id, benign)\n",
    "benign[benign_id] = benign_id\n",
    "\n",
    "benign_associations = other_associations.select(\n",
    "    lambda x: benign.get(x.disease.id, False))\n",
    "\n",
    "other_associations = other_associations - benign_associations\n",
    "benign_associations.report_groups(do_sourced)"
   ]
  },
  {
   "cell_type": "code",
   "execution_count": 139,
   "metadata": {},
   "outputs": [
    {
     "name": "stdout",
     "output_type": "stream",
     "text": [
      "jax: 1 (0.0% of superset)\n",
      "Total: 1 (0.0% of superset)\n"
     ]
    }
   ],
   "source": [
    "# pre-malignant\n",
    "\n",
    "premalignant_id = 'DOID:0060071'\n",
    "premalignant = dict()\n",
    "\n",
    "assign_to_id(graph.predecessors(premalignant_id), premalignant_id, premalignant)\n",
    "premalignant[premalignant_id] = premalignant_id\n",
    "\n",
    "premalignant_associations = other_associations.select(\n",
    "    lambda x: premalignant.get(x.disease.id, False))\n",
    "\n",
    "premalignant_associations.report_groups(do_sourced)"
   ]
  },
  {
   "cell_type": "code",
   "execution_count": 140,
   "metadata": {
    "collapsed": true
   },
   "outputs": [],
   "source": [
    "# Make data\n",
    "\n",
    "common_cancers = list(filter(lambda x: x[0] != \"DOID:162\", cancer_counts.most_common(6)))\n",
    "\n",
    "interpretation_group_names=[id_to_name[x[0]] for x in common_cancers] + ['other cancers'] + ['benign', 'other disease']\n",
    "common_cancer_values = [x[1] for x in common_cancers]\n",
    "interpretation_group_sizes=common_cancer_values + [sum(cancer_counts.values()) - sum(common_cancer_values),\n",
    "                                      len(benign_associations),\n",
    "                                      len(other_associations)]\n"
   ]
  },
  {
   "cell_type": "code",
   "execution_count": 141,
   "metadata": {
    "collapsed": true
   },
   "outputs": [],
   "source": [
    "incidence_by_topnode = Counter()\n",
    "mortality_by_topnode = Counter()\n",
    "p = (len(benign_associations) + len(other_associations)) / len(do_sourced)\n",
    "with open(DATA_ROOT / 'Cancer Incidence and Mortality 2018.csv', 'r') as f:\n",
    "    reader = csv.DictReader(f)\n",
    "    for row in reader:\n",
    "        incidence_by_topnode[topnode_map[row['DOID']]] += int(row['New Cases'])\n",
    "        mortality_by_topnode[topnode_map[row['DOID']]] += int(row['Estimated Deaths'])"
   ]
  },
  {
   "cell_type": "code",
   "execution_count": 142,
   "metadata": {
    "collapsed": true
   },
   "outputs": [],
   "source": [
    "def select_by_percent(counter, percent=5):\n",
    "    assert percent <= 100\n",
    "    s = sum(counter.values())\n",
    "    out = Counter()\n",
    "    for k, v in counter.most_common(len(counter)):\n",
    "        if k == \"DOID:162\":\n",
    "            continue\n",
    "        p = v/s\n",
    "        if p*100 < percent:\n",
    "            break\n",
    "        out[k] = v\n",
    "        print(f'{id_to_name[k]}: {p}')\n",
    "    return out"
   ]
  },
  {
   "cell_type": "code",
   "execution_count": 143,
   "metadata": {
    "collapsed": true
   },
   "outputs": [],
   "source": [
    "with open('out/NCI_disease_topnode_counts.csv', 'w') as f:\n",
    "    writer = csv.writer(f)\n",
    "    s1 = sum(incidence_by_topnode.values())\n",
    "    s2 = sum(mortality_by_topnode.values())\n",
    "    writer.writerow(\n",
    "        ['DOID', 'Disease Name', \n",
    "         'Estimated New Cases, 2018, US', 'Percentage',\n",
    "         'Estimated Deaths, 2018, US', 'Percentage'\n",
    "        ])\n",
    "    for k, v in incidence_by_topnode.most_common(len(incidence_by_topnode)):\n",
    "        v2 = mortality_by_topnode[k]\n",
    "        writer.writerow(\n",
    "            [k, id_to_name[k], \n",
    "             v, '{:.2%}'.format(v/s1),\n",
    "             v2, '{:.2%}'.format(v2/s2)\n",
    "            ])"
   ]
  },
  {
   "cell_type": "code",
   "execution_count": 144,
   "metadata": {},
   "outputs": [
    {
     "name": "stdout",
     "output_type": "stream",
     "text": [
      "breast cancer: 0.15482179387443457\n",
      "lung cancer: 0.13486040280058778\n",
      "hematologic cancer: 0.10041202062984413\n",
      "prostate cancer: 0.09490304549514507\n",
      "skin cancer: 0.05736594923214337\n",
      "colon cancer: 0.056023280606217765\n"
     ]
    }
   ],
   "source": [
    "prevalent_incidence = select_by_percent(incidence_by_topnode)"
   ]
  },
  {
   "cell_type": "code",
   "execution_count": 145,
   "metadata": {},
   "outputs": [
    {
     "name": "stdout",
     "output_type": "stream",
     "text": [
      "lung cancer: 0.25269011219736237\n",
      "hematologic cancer: 0.09530214552850863\n",
      "colon cancer: 0.08304901253198609\n",
      "pancreatic cancer: 0.07271504494455744\n",
      "breast cancer: 0.0679089298602454\n"
     ]
    }
   ],
   "source": [
    "prevalent_mortality = select_by_percent(mortality_by_topnode)"
   ]
  },
  {
   "cell_type": "code",
   "execution_count": 146,
   "metadata": {},
   "outputs": [
    {
     "data": {
      "text/plain": [
       "30"
      ]
     },
     "execution_count": 146,
     "metadata": {},
     "output_type": "execute_result"
    }
   ],
   "source": [
    "len(incidence_by_topnode)"
   ]
  },
  {
   "cell_type": "code",
   "execution_count": 147,
   "metadata": {
    "collapsed": true
   },
   "outputs": [],
   "source": [
    "incidence_group_names = [id_to_name[x] for x in prevalent_incidence] + ['other cancers']\n",
    "incidence_group_sizes = list(prevalent_incidence.values()) + [\n",
    "                            sum(incidence_by_topnode.values()) - sum(prevalent_incidence.values())\n",
    "                        ]"
   ]
  },
  {
   "cell_type": "code",
   "execution_count": 148,
   "metadata": {
    "collapsed": true
   },
   "outputs": [],
   "source": [
    "mortality_group_names = [id_to_name[x] for x in prevalent_mortality] + ['other cancers']\n",
    "mortality_group_sizes = list(prevalent_mortality.values()) + [\n",
    "                            sum(mortality_by_topnode.values()) - sum(prevalent_mortality.values())\n",
    "                        ]"
   ]
  },
  {
   "cell_type": "code",
   "execution_count": 149,
   "metadata": {},
   "outputs": [
    {
     "data": {
      "image/png": "[encoded data removed]",
      "text/plain": [
       "<matplotlib.figure.Figure at 0x1529bc940>"
      ]
     },
     "metadata": {},
     "output_type": "display_data"
    }
   ],
   "source": [
    "RADIUS=1\n",
    "\n",
    "greens = plt.cm.Greens\n",
    "grays = plt.cm.Greys\n",
    "blues = plt.cm.Blues\n",
    "reds = plt.cm.Reds\n",
    "\n",
    "colors = [\n",
    "    greens(.85),\n",
    "    greens(.7),\n",
    "    greens(.55),\n",
    "    greens(.4),\n",
    "    greens(.25),\n",
    "    greens(.1),\n",
    "    grays(.5),\n",
    "    grays(.25)\n",
    "]\n",
    "fig1, ax1 = plt.subplots()\n",
    "pie, _ = ax1.pie(interpretation_group_sizes, colors=colors, radius=RADIUS,\n",
    "        labels=interpretation_group_names)\n",
    "ax1.axis('equal')\n",
    "plt.setp(pie, edgecolor='white')\n",
    "\n",
    "# plt.savefig(str(FIGPATH / 'disease_interpretations.pdf'))\n",
    "plt.show()"
   ]
  },
  {
   "cell_type": "code",
   "execution_count": 150,
   "metadata": {},
   "outputs": [
    {
     "data": {
      "image/png": "[encoded data removed]",
      "text/plain": [
       "<matplotlib.figure.Figure at 0x13e069b70>"
      ]
     },
     "metadata": {},
     "output_type": "display_data"
    }
   ],
   "source": [
    "colors = [\n",
    "    blues(.85),\n",
    "    blues(.75 * 5/6 + .1),\n",
    "    blues(.75 * 4/6 + .1),\n",
    "    blues(.75 * 3/6 + .1),\n",
    "    blues(.75 * 2/6 + .1),\n",
    "    blues(.75 * 1/6 + .1),\n",
    "    blues(.1)\n",
    "]\n",
    "\n",
    "fig1, ax1 = plt.subplots()\n",
    "pie, _ = ax1.pie(incidence_group_sizes, colors=colors, radius=RADIUS,\n",
    "        labels=incidence_group_names)\n",
    "\n",
    "ax1.axis('equal')\n",
    "plt.setp(pie, edgecolor='white')\n",
    "\n",
    "# plt.savefig(str(FIGPATH / 'disease_incidence.pdf'))\n",
    "plt.show()"
   ]
  },
  {
   "cell_type": "code",
   "execution_count": 151,
   "metadata": {},
   "outputs": [
    {
     "data": {
      "image/png": "[encoded data removed]",
      "text/plain": [
       "<matplotlib.figure.Figure at 0x189d4fc88>"
      ]
     },
     "metadata": {},
     "output_type": "display_data"
    }
   ],
   "source": [
    "colors = [\n",
    "    reds(.85),\n",
    "    reds(.7),\n",
    "    reds(.55),\n",
    "    reds(.4),\n",
    "    reds(.25),\n",
    "    reds(.1)\n",
    "]\n",
    "\n",
    "fig1, ax1 = plt.subplots()\n",
    "pie, _ = ax1.pie(mortality_group_sizes, colors=colors, radius=RADIUS,\n",
    "        labels=mortality_group_names)\n",
    "\n",
    "ax1.axis('equal')\n",
    "plt.setp(pie, edgecolor='white')\n",
    "\n",
    "# plt.savefig(str(FIGPATH / 'disease_mortality.pdf'))\n",
    "plt.show()"
   ]
  },
  {
   "cell_type": "code",
   "execution_count": 152,
   "metadata": {},
   "outputs": [
    {
     "name": "stdout",
     "output_type": "stream",
     "text": [
      "KRAS Q61L confers resistance to Cetuximab in patients with Neoplasm of colorectum\n",
      "http://purl.obolibrary.org/obo/doid: DOID:1984\n",
      "DOID:1984\n",
      "molecularmatch\n"
     ]
    }
   ],
   "source": [
    "b = benign_associations[0]\n",
    "print(b.description)\n",
    "print(b.disease)\n",
    "print(b.disease.id)\n",
    "print(b.source)"
   ]
  },
  {
   "cell_type": "code",
   "execution_count": 153,
   "metadata": {
    "collapsed": true
   },
   "outputs": [],
   "source": [
    "# MAKE A DISEASE/GENE PLOT: heatmap of ubiquitous gene x disease, heat = tier 1 evidence"
   ]
  },
  {
   "cell_type": "markdown",
   "metadata": {},
   "source": [
    "### Export disease counts for supplementary table"
   ]
  },
  {
   "cell_type": "code",
   "execution_count": 154,
   "metadata": {},
   "outputs": [
    {
     "data": {
      "text/plain": [
       "['cgi', 'civic', 'jax', 'molecularmatch', 'oncokb', 'pmkb']"
      ]
     },
     "execution_count": 154,
     "metadata": {},
     "output_type": "execute_result"
    }
   ],
   "source": [
    "# d = cancer_associations.get_element_by_source('disease')\n",
    "# d2 = benign_associations.get_element_by_source('disease')\n",
    "d = defaultdict(Counter)\n",
    "d2 = defaultdict(Counter)\n",
    "d3 = defaultdict(Counter)\n",
    "for association in cancer_associations:\n",
    "    disease = association.disease\n",
    "    source = association.source\n",
    "    d[source][disease] += 1\n",
    "for association in benign_associations:\n",
    "    disease = association.disease\n",
    "    source = association.source\n",
    "    d2[source][disease] += 1\n",
    "for association in other_associations:\n",
    "    disease = association.disease\n",
    "    source = association.source\n",
    "    d3[source][disease] += 1\n",
    "sorted(d.keys())"
   ]
  },
  {
   "cell_type": "code",
   "execution_count": 155,
   "metadata": {
    "collapsed": true
   },
   "outputs": [],
   "source": [
    "diseases = set()\n",
    "cancer_diseases = set()\n",
    "benign_diseases = set()\n",
    "other_diseases = set()\n",
    "for x in d.values():\n",
    "    cancer_diseases.update(x)\n",
    "    diseases.update(x)\n",
    "for x in d2.values():\n",
    "    benign_diseases.update(x)\n",
    "    diseases.update(x)\n",
    "for x in d3.values():\n",
    "    other_diseases.update(x)\n",
    "    diseases.update(x)"
   ]
  },
  {
   "cell_type": "markdown",
   "metadata": {},
   "source": [
    "with open(FIGPATH / 'Data' / 'disease_counts.csv', 'w') as f:\n",
    "    header = ['disease', 'doid', 'TopNode_disease', 'TopNode_doid'] + sorted(d.keys())\n",
    "    writer = csv.DictWriter(f, fieldnames=header)\n",
    "    writer.writeheader()\n",
    "    counts = dict()\n",
    "    for s, v in d.items():\n",
    "        counts[s] = Counter(v)\n",
    "    for s, v in d2.items():\n",
    "        counts[s].update(Counter(v))\n",
    "    for s, v in d3.items():\n",
    "        counts[s].update(Counter(v))\n",
    "    for disease in diseases:\n",
    "        if disease in cancer_diseases:\n",
    "            tn_id = topnode_map[disease.id]\n",
    "            tn_name = id_to_name[tn_id]\n",
    "        elif disease in benign_diseases:\n",
    "            tn_id = benign[disease.id]\n",
    "            tn_name = id_to_name[tn_id]\n",
    "        elif disease in other_diseases:\n",
    "            tn_id = None\n",
    "            tn_name = 'other'\n",
    "        else:\n",
    "            raise ValueError\n",
    "        if not disease.id.startswith('DOID'):\n",
    "            continue\n",
    "        try:\n",
    "            row = {\n",
    "                'disease': id_to_name[disease.id],\n",
    "                'doid': disease.id,\n",
    "                'TopNode_disease': tn_name,\n",
    "                'TopNode_doid': tn_id\n",
    "            }\n",
    "        except KeyError:\n",
    "            print(f'Failed to find name for {disease.id}: {disease.name}')\n",
    "            continue\n",
    "        for s in d:\n",
    "            row[s] = counts[s][disease]\n",
    "        writer.writerow(row)"
   ]
  },
  {
   "cell_type": "markdown",
   "metadata": {},
   "source": [
    "## Clinical actionability improvement"
   ]
  },
  {
   "cell_type": "code",
   "execution_count": 156,
   "metadata": {
    "collapsed": true
   },
   "outputs": [],
   "source": [
    "# Stacked bar (Actionability type):\n",
    "#  Group 1: Average actionability, variant only (SD whiskers?)\n",
    "#  Group 2: Aggregate actionability, variant only (p-value bar?; with narrow search)\n",
    "#  Group 3: Aggregate actionability, variant only (p-value bar?; with broad search)\n",
    "#  Group 4: Average actionability, variant + disease\n",
    "#  Group 5: Aggregate actionability, variant + disease (p-value bar?; with narrow search)\n",
    "#  Group 6: Aggregate actionability, variant + disease (p-value bar?; with broad search)"
   ]
  },
  {
   "cell_type": "code",
   "execution_count": 157,
   "metadata": {
    "collapsed": true
   },
   "outputs": [],
   "source": [
    "# Actionability by disease type\n",
    "from collections import defaultdict"
   ]
  },
  {
   "cell_type": "code",
   "execution_count": 158,
   "metadata": {},
   "outputs": [
    {
     "data": {
      "text/plain": [
       "<class 'vicckb.model.GenomicFeature'>: GRCh37:1:11168239:11168239:GENIE-GRCC-xz6vj39l-sample-a:p.W2545R"
      ]
     },
     "execution_count": 158,
     "metadata": {},
     "output_type": "execute_result"
    }
   ],
   "source": [
    "genie_search_results[0]['query']"
   ]
  },
  {
   "cell_type": "code",
   "execution_count": 159,
   "metadata": {},
   "outputs": [
    {
     "data": {
      "text/plain": [
       "[<class 'vicckb.model.GenomicFeature'>: GRCh37:5:149433746:149433766:GENIE-NKI-01CH-ELEJ:p.S929_S935del,\n",
       " <class 'vicckb.model.GenomicFeature'>: GRCh37:13:49039246:49039246:GENIE-NKI-01CH-ELEJ:,\n",
       " <class 'vicckb.model.GenomicFeature'>: GRCh37:17:7577573:7577573:GENIE-NKI-01CH-ELEJ:p.Y236*]"
      ]
     },
     "execution_count": 159,
     "metadata": {},
     "output_type": "execute_result"
    }
   ],
   "source": [
    "genie_features_by_patient['GENIE-NKI-01CH']"
   ]
  },
  {
   "cell_type": "code",
   "execution_count": 160,
   "metadata": {
    "collapsed": true
   },
   "outputs": [],
   "source": [
    "genie_search_results_by_query = defaultdict(list)\n",
    "for result in genie_search_results:\n",
    "    genie_search_results_by_query[result['query']].append(result)"
   ]
  },
  {
   "cell_type": "markdown",
   "metadata": {},
   "source": [
    "## Interpretations and Actionability"
   ]
  },
  {
   "cell_type": "code",
   "execution_count": 161,
   "metadata": {},
   "outputs": [
    {
     "name": "stderr",
     "output_type": "stream",
     "text": [
      "/Users/awagner/Workspace/git/vicckb/vicckb/model.py:257: UserWarning: Ambiguous gene symbol MLL2 in assertion 235677252030682\n",
      "  warn('Ambiguous gene symbol {} in assertion {}'.format(g, self))\n"
     ]
    }
   ],
   "source": [
    "tier1_disease_gene = Counter()\n",
    "all_disease_gene = Counter()\n",
    "for association in core_vdb:\n",
    "    try:\n",
    "        disease = id_to_name[topnode_map[association.disease.id]]\n",
    "    except (KeyError, AttributeError):\n",
    "        continue\n",
    "    level = association.evidence_level\n",
    "    for gene in association.genes:\n",
    "        k = (gene.gene_symbol, disease)\n",
    "        if level in ['A', 'B']:\n",
    "            tier1_disease_gene[k] += 1\n",
    "        all_disease_gene[k] += 1"
   ]
  },
  {
   "cell_type": "code",
   "execution_count": 162,
   "metadata": {
    "collapsed": true
   },
   "outputs": [],
   "source": [
    "(gene, disease), count = tier1_disease_gene.most_common(30)[0]"
   ]
  },
  {
   "cell_type": "code",
   "execution_count": 163,
   "metadata": {
    "collapsed": true
   },
   "outputs": [],
   "source": [
    "import seaborn as sns"
   ]
  },
  {
   "cell_type": "code",
   "execution_count": 164,
   "metadata": {},
   "outputs": [
    {
     "data": {
      "text/plain": [
       "<matplotlib.axes._subplots.AxesSubplot at 0x1c299d080>"
      ]
     },
     "execution_count": 164,
     "metadata": {},
     "output_type": "execute_result"
    },
    {
     "data": {
      "image/png": "[encoded data removed]",
      "text/plain": [
       "<matplotlib.figure.Figure at 0x1c29a1748>"
      ]
     },
     "metadata": {},
     "output_type": "display_data"
    }
   ],
   "source": [
    "f, ax = plt.subplots(figsize=(3.75, 1.5))\n",
    "genes = Counter()\n",
    "diseases = interpretation_group_names[:5]\n",
    "i = 0\n",
    "for (gene, disease), count in all_disease_gene.most_common(len(all_disease_gene)):\n",
    "    i += 1\n",
    "    if disease not in diseases:\n",
    "        continue\n",
    "    genes[gene] += count\n",
    "    \n",
    "genes = [x[0] for x in genes.most_common(15)]\n",
    "        \n",
    "heat_array_all = np.zeros((len(diseases),len(genes)))\n",
    "for i in range(len(genes)):\n",
    "    for j in range(len(diseases)):\n",
    "        heat_array_all[j][i] = all_disease_gene.get((genes[i], diseases[j]), 0)\n",
    "\n",
    "sns.heatmap(heat_array_all, xticklabels=genes, yticklabels=diseases, robust=True, cmap='Greens')\n",
    "\n",
    "# f.savefig(str(FIGPATH / 'misc_figures' / 'all_disease_gene_heatmap.pdf'), format='pdf')"
   ]
  },
  {
   "cell_type": "code",
   "execution_count": 165,
   "metadata": {},
   "outputs": [
    {
     "data": {
      "text/plain": [
       "<matplotlib.axes._subplots.AxesSubplot at 0x1c2a90e80>"
      ]
     },
     "execution_count": 165,
     "metadata": {},
     "output_type": "execute_result"
    },
    {
     "data": {
      "image/png": "[encoded data removed]",
      "text/plain": [
       "<matplotlib.figure.Figure at 0x1c2aa4e48>"
      ]
     },
     "metadata": {},
     "output_type": "display_data"
    }
   ],
   "source": [
    "# genes = [x.gene_symbol for x in with_genes.element_by_source_stats('genes')['ubiquitous']]\n",
    "f, ax = plt.subplots(figsize=(3.75, 1.5))\n",
    "genes = Counter()\n",
    "diseases = interpretation_group_names[:5]\n",
    "i = 0\n",
    "for (gene, disease), count in tier1_disease_gene.most_common(len(tier1_disease_gene)):\n",
    "    i += 1\n",
    "    if disease not in diseases:\n",
    "        continue\n",
    "    genes[gene] += count\n",
    "    \n",
    "genes = [x[0] for x in genes.most_common(15)]\n",
    "        \n",
    "heat_array_tier1 = np.zeros((len(diseases),len(genes)))\n",
    "for i in range(len(genes)):\n",
    "    for j in range(len(diseases)):\n",
    "        heat_array_tier1[j][i] = tier1_disease_gene.get((genes[i], diseases[j]), 0)\n",
    "\n",
    "\n",
    "sns.heatmap(heat_array_tier1, xticklabels=genes, yticklabels=diseases, robust=True, cmap='Greens')\n",
    "\n",
    "# f.savefig(str(FIGPATH / 'misc_figures' / 'tier1_disease_gene_heatmap.pdf'), format='pdf')"
   ]
  },
  {
   "cell_type": "code",
   "execution_count": 166,
   "metadata": {
    "collapsed": true
   },
   "outputs": [],
   "source": [
    "all_df = pd.DataFrame.from_dict(all_disease_gene, orient='index')\n",
    "tier1_df = pd.DataFrame.from_dict(tier1_disease_gene, orient='index')"
   ]
  },
  {
   "cell_type": "code",
   "execution_count": 167,
   "metadata": {
    "collapsed": true
   },
   "outputs": [],
   "source": [
    "merged_df = all_df.merge(tier1_df, left_index=True, right_index=True, how='outer').fillna(0)"
   ]
  },
  {
   "cell_type": "code",
   "execution_count": 168,
   "metadata": {
    "collapsed": true
   },
   "outputs": [],
   "source": [
    "merged_df.columns = ['all_interpretations', 'tier1_interpretations']"
   ]
  },
  {
   "cell_type": "code",
   "execution_count": 169,
   "metadata": {
    "collapsed": true
   },
   "outputs": [],
   "source": [
    "sns.set_style(\"ticks\")"
   ]
  },
  {
   "cell_type": "code",
   "execution_count": 170,
   "metadata": {},
   "outputs": [
    {
     "data": {
      "image/png": "[encoded data removed]",
      "text/plain": [
       "<matplotlib.figure.Figure at 0x1c2ac1748>"
      ]
     },
     "metadata": {},
     "output_type": "display_data"
    }
   ],
   "source": [
    "f, ax = plt.subplots(figsize=(5, 4))\n",
    "\n",
    "ax = sns.regplot(x='all_interpretations', y='tier1_interpretations', fit_reg=False, data=np.log2(merged_df + 1),\n",
    "                 marker='.'\n",
    "                )"
   ]
  },
  {
   "cell_type": "code",
   "execution_count": 171,
   "metadata": {
    "collapsed": true
   },
   "outputs": [],
   "source": [
    "tdf = np.log2(merged_df + 1)"
   ]
  },
  {
   "cell_type": "code",
   "execution_count": 172,
   "metadata": {},
   "outputs": [
    {
     "data": {
      "text/html": [
       "<div>\n",
       "<style>\n",
       "    .dataframe thead tr:only-child th {\n",
       "        text-align: right;\n",
       "    }\n",
       "\n",
       "    .dataframe thead th {\n",
       "        text-align: left;\n",
       "    }\n",
       "\n",
       "    .dataframe tbody tr th {\n",
       "        vertical-align: top;\n",
       "    }\n",
       "</style>\n",
       "<table border=\"1\" class=\"dataframe\">\n",
       "  <thead>\n",
       "    <tr style=\"text-align: right;\">\n",
       "      <th></th>\n",
       "      <th>all_interpretations</th>\n",
       "      <th>tier1_interpretations</th>\n",
       "    </tr>\n",
       "  </thead>\n",
       "  <tbody>\n",
       "    <tr>\n",
       "      <th>(ALK, cancer)</th>\n",
       "      <td>9.359750</td>\n",
       "      <td>1.000000</td>\n",
       "    </tr>\n",
       "    <tr>\n",
       "      <th>(PIK3CA, breast cancer)</th>\n",
       "      <td>8.611025</td>\n",
       "      <td>3.169925</td>\n",
       "    </tr>\n",
       "  </tbody>\n",
       "</table>\n",
       "</div>"
      ],
      "text/plain": [
       "                         all_interpretations  tier1_interpretations\n",
       "(ALK, cancer)                       9.359750               1.000000\n",
       "(PIK3CA, breast cancer)             8.611025               3.169925"
      ]
     },
     "execution_count": 172,
     "metadata": {},
     "output_type": "execute_result"
    }
   ],
   "source": [
    "tdf.loc[(tdf['all_interpretations'] > 8) & (tdf['tier1_interpretations'] < 4)]"
   ]
  },
  {
   "cell_type": "code",
   "execution_count": 173,
   "metadata": {
    "collapsed": true
   },
   "outputs": [],
   "source": [
    "with open(DATA_ROOT / 'GENIE_v3' / 'data_clinical_sample_3.0.0.txt') as f, open(OUTPATH / 'genie_mapping.csv', 'w') as out_f:\n",
    "    for _ in range(4):\n",
    "        f.readline()    # get past info lines\n",
    "    reader = csv.DictReader(f, delimiter=\"\\t\")\n",
    "    writer = csv.writer(out_f)\n",
    "    header = ['PATIENT_ID',\n",
    "              'SAMPLE_ID',\n",
    "              'ONCOTREE_CODE',\n",
    "              'SPECIFIC_CANCER_TYPE',\n",
    "              'CANCER_TYPE',\n",
    "              'DOID',\n",
    "              'DO_NAME',\n",
    "              'TOPNODE_DOID',\n",
    "              'TOPNODE_NAME'\n",
    "             ]\n",
    "    writer.writerow(header)\n",
    "    for row in reader:\n",
    "        patient = row['PATIENT_ID']\n",
    "        sample = row['SAMPLE_ID']\n",
    "        oncotree_code = row['ONCOTREE_CODE'].upper()\n",
    "        cancer_type_detailed = row['CANCER_TYPE_DETAILED']\n",
    "        cancer_type = row['CANCER_TYPE']\n",
    "        doid = sample_to_doid[sample]\n",
    "        do_name = id_to_name.get(doid, None)\n",
    "        topnode_id = topnode_map.get(doid, None)\n",
    "        topnode_name = id_to_name.get(topnode_id, None)\n",
    "        writer.writerow([\n",
    "                patient,\n",
    "                sample,\n",
    "                oncotree_code,\n",
    "                cancer_type_detailed,\n",
    "                cancer_type,\n",
    "                doid,\n",
    "                do_name,\n",
    "                topnode_id,\n",
    "                topnode_name\n",
    "            ])"
   ]
  },
  {
   "cell_type": "code",
   "execution_count": 174,
   "metadata": {
    "collapsed": true
   },
   "outputs": [],
   "source": [
    "dd_score = dict()\n",
    "\n",
    "def disease_dist(doid_1, doid_2):\n",
    "    try:\n",
    "        key = tuple(sorted([doid_1, doid_2]))\n",
    "    except TypeError:\n",
    "        return -1\n",
    "    if key in dd_score:\n",
    "        return dd_score[key]\n",
    "    best_score = None\n",
    "    queue = [(doid_1, doid_2, 0, False), (doid_2, doid_1, 0, False)]\n",
    "    while queue:\n",
    "        current, target, distance, topnode_hit = queue.pop()\n",
    "        if current == target:\n",
    "            if best_score is None or distance < best_score:\n",
    "                best_score = distance\n",
    "        else:\n",
    "            if topnode_hit:\n",
    "                distance += 1\n",
    "                topnode_hit = False\n",
    "            if current in topnode_map and current == topnode_map[current]:\n",
    "                topnode_hit = True\n",
    "            try:\n",
    "                for successor in graph.successors(current):\n",
    "                    queue.append((successor, target, distance, topnode_hit))\n",
    "            except networkx.NetworkXError:\n",
    "                pass\n",
    "    if best_score is None:\n",
    "        best_score = -1\n",
    "    dd_score[key] = best_score\n",
    "    return best_score"
   ]
  },
  {
   "cell_type": "code",
   "execution_count": 175,
   "metadata": {
    "collapsed": true
   },
   "outputs": [],
   "source": [
    "SOURCES = tuple(sorted(core_vdb.sources))\n",
    "patient_actionability = dict()\n",
    "disease_actionability_count = Counter()\n",
    "sample_disease_count = Counter()\n",
    "disease_feature_count = Counter()\n",
    "patients_with_topnode = set()\n",
    "cgi_diseases_with_patient_match = defaultdict(set)\n",
    "ALL_PATIENT_COUNT = len(patient_to_samples)\n",
    "for patient in featured_patients:\n",
    "    samples = patient_to_samples[patient]\n",
    "    actionable = np.zeros(40) # [0..5]: sources (exact), 6: combined, 7: deprecated. \n",
    "                              # +8 for +disease +16 for +dis/tier1\n",
    "                              # +24 for broad variant, +32 for broad disease\n",
    "    for sample in samples:\n",
    "        sample_disease = sample_to_doid[sample]\n",
    "        features = genie_features_by_sample[sample]\n",
    "        evidence_level = None\n",
    "        for feature in features:\n",
    "            results = genie_search_results_by_query.get(feature, [])\n",
    "            for result in results:\n",
    "                best = result['best_match']\n",
    "                dd = disease_dist(result['association'].disease.id, sample_disease)\n",
    "                level = result['association']['association']['evidence_label']\n",
    "                tier1 = level in ['A', 'B']\n",
    "                idx = SOURCES.index(result['association']['source'])\n",
    "                if best['type'] in ['exact', 'positional']:\n",
    "                    actionable[idx] = 1\n",
    "                    actionable[6] = 1\n",
    "                    if result['association'].source == 'cgi' and sample_disease:\n",
    "                            cgi_diseases_with_patient_match[patient].add((result['association'].disease.id, sample_disease))\n",
    "                    if dd == 0:\n",
    "                        actionable[14] = 1\n",
    "                        actionable[idx + 8] = 1\n",
    "                        if tier1:\n",
    "                            actionable[22] = 1\n",
    "                            actionable[idx + 16] = 1\n",
    "                        if evidence_level is None or level < evidence_level:\n",
    "                            evidence_level = level\n",
    "                actionable[idx + 24] = 1\n",
    "                actionable[30] = 1\n",
    "                if dd >= 0:\n",
    "                    actionable[idx + 32] = 1\n",
    "                    actionable[38] = 1\n",
    "        try:\n",
    "            top_disease = id_to_name[topnode_map[sample_disease]]\n",
    "            sample_disease_count[top_disease] += 1\n",
    "            disease_feature_count[top_disease] += len(features)\n",
    "        except KeyError:\n",
    "            top_disease = None\n",
    "        if evidence_level is not None and top_disease is not None:\n",
    "            disease_actionability_count[(top_disease, evidence_level)] += 1\n",
    "        if top_disease is not None:\n",
    "            patients_with_topnode.add(sample_to_patient[sample])\n",
    "    patient_actionability[patient] = actionable\n",
    "    \n",
    "actionability_grid = np.array(list(patient_actionability.values()))\n",
    "actionability_sum = actionability_grid.sum(axis=0)"
   ]
  },
  {
   "cell_type": "markdown",
   "metadata": {},
   "source": [
    "### investigating CGI discrepancy"
   ]
  },
  {
   "cell_type": "code",
   "execution_count": 176,
   "metadata": {
    "collapsed": true
   },
   "outputs": [],
   "source": [
    "# len(cgi_diseases_with_patient_match)\n",
    "patient_disease_match = dict()\n",
    "for patient, matches in cgi_diseases_with_patient_match.items():\n",
    "    best_score = -1\n",
    "    for cgi_diseases in matches:\n",
    "        score = disease_dist(*cgi_diseases)\n",
    "        if score >= 0:\n",
    "            if best_score == -1:\n",
    "                best_score = score\n",
    "            elif score < best_score:\n",
    "                best_score = score\n",
    "    if best_score < 0:\n",
    "        patient_disease_match[patient] = {'total': 0}\n",
    "        patient_diseases = set([x[1] for x in matches])\n",
    "        for disease in patient_diseases:\n",
    "            patient_disease_match[patient][disease] = Counter()\n",
    "        for cgi_diseases in matches:\n",
    "            patient_disease_match[patient][cgi_diseases[1]][cgi_diseases[0]] += 1\n",
    "            patient_disease_match[patient]['total'] += 1"
   ]
  },
  {
   "cell_type": "code",
   "execution_count": 177,
   "metadata": {},
   "outputs": [
    {
     "data": {
      "text/plain": [
       "[('total', 5814),\n",
       " ('DOID:234', 902),\n",
       " ('DOID:3910', 889),\n",
       " ('DOID:3008', 642),\n",
       " ('DOID:5672', 295),\n",
       " ('DOID:4074', 268),\n",
       " ('DOID:1996', 209),\n",
       " ('DOID:1909', 185),\n",
       " ('DOID:3907', 171),\n",
       " ('DOID:4006', 171),\n",
       " ('DOID:2526', 150),\n",
       " ('DOID:4914', 121),\n",
       " ('DOID:2870', 106),\n",
       " ('DOID:4467', 88),\n",
       " ('DOID:3717', 84),\n",
       " ('DOID:3068', 80),\n",
       " ('DOID:3078', 79),\n",
       " ('DOID:5750', 78),\n",
       " ('DOID:3069', 71),\n",
       " ('DOID:5409', 69),\n",
       " ('DOID:3908', 69),\n",
       " ('DOID:8923', 64),\n",
       " ('DOID:4944', 61),\n",
       " ('DOID:6171', 48),\n",
       " ('DOID:1967', 48),\n",
       " ('DOID:3151', 43),\n",
       " ('DOID:4947', 35),\n",
       " ('DOID:6039', 35),\n",
       " ('DOID:2871', 31),\n",
       " ('DOID:4907', 31)]"
      ]
     },
     "execution_count": 177,
     "metadata": {},
     "output_type": "execute_result"
    }
   ],
   "source": [
    "# for patient in sorted(patient_disease_match, key=lambda x: patient_disease_match[x]['total'], reverse=True):\n",
    "#     print(patient, patient_disease_match[patient]['total'])\n",
    "disease_counter = Counter()\n",
    "for patient in patient_disease_match:\n",
    "    for disease in patient_disease_match[patient]:\n",
    "        disease_counter[disease] += 1\n",
    "disease_counter.most_common(30)"
   ]
  },
  {
   "cell_type": "code",
   "execution_count": 178,
   "metadata": {},
   "outputs": [
    {
     "data": {
      "text/plain": [
       "[('DOID:3458', 526),\n",
       " ('DOID:11054', 422),\n",
       " ('DOID:2394', 417),\n",
       " ('DOID:11934', 415),\n",
       " ('DOID:3284', 414),\n",
       " ('DOID:707', 414),\n",
       " ('DOID:6084', 414),\n",
       " ('DOID:3382', 414),\n",
       " ('DOID:9119', 414),\n",
       " ('DOID:8923', 109),\n",
       " ('DOID:1324', 58),\n",
       " ('DOID:5520', 56),\n",
       " ('DOID:10534', 56),\n",
       " ('DOID:0050861', 56),\n",
       " ('DOID:11809', 55),\n",
       " ('DOID:3963', 55),\n",
       " ('DOID:3910', 15),\n",
       " ('DOID:3908', 15),\n",
       " ('DOID:1380', 11),\n",
       " ('DOID:3070', 7),\n",
       " ('DOID:2526', 3),\n",
       " ('DOID:0050746', 2),\n",
       " ('DOID:3907', 2),\n",
       " ('DOID:1793', 2),\n",
       " ('DOID:1115', 1),\n",
       " ('DOID:1781', 1),\n",
       " ('DOID:8552', 1),\n",
       " ('DOID:0060058', 1),\n",
       " ('DOID:0070004', 1),\n",
       " ('DOID:5026', 1)]"
      ]
     },
     "execution_count": 178,
     "metadata": {},
     "output_type": "execute_result"
    }
   ],
   "source": [
    "cgi_disease_counter = Counter()\n",
    "for patient in patient_disease_match:\n",
    "    if 'DOID:3008' in patient_disease_match[patient]:\n",
    "        for cgi_disease in patient_disease_match[patient]['DOID:3008']:\n",
    "            cgi_disease_counter[cgi_disease] += 1\n",
    "cgi_disease_counter.most_common(30)"
   ]
  },
  {
   "cell_type": "markdown",
   "metadata": {},
   "source": [
    "### disease match analysis"
   ]
  },
  {
   "cell_type": "code",
   "execution_count": 179,
   "metadata": {},
   "outputs": [
    {
     "data": {
      "text/plain": [
       "<matplotlib.collections.PathCollection at 0x1c4cf1438>"
      ]
     },
     "execution_count": 179,
     "metadata": {},
     "output_type": "execute_result"
    },
    {
     "data": {
      "image/png": "[encoded data removed]",
      "text/plain": [
       "<matplotlib.figure.Figure at 0x1c2c92dd8>"
      ]
     },
     "metadata": {},
     "output_type": "display_data"
    }
   ],
   "source": [
    "x = (0, 2, 4, 6, 8, 10) * 4\n",
    "y = list()\n",
    "for i in (6, 4, 2, 0):\n",
    "    y.extend((i,) * 6)\n",
    "    \n",
    "levels = ['A','B','C','D']\n",
    "\n",
    "proportion = np.zeros((4,6))\n",
    "for i, level in enumerate(levels):\n",
    "    for j, disease in enumerate(diseases):\n",
    "        proportion[i][j] = disease_actionability_count[(disease, level)] / sample_disease_count[disease]\n",
    "proportion[:,5] = (.5,.25,.1,.01)\n",
    "\n",
    "f, ax = plt.subplots(figsize=(5, 4))\n",
    "ax.set_xlim(-1,11)\n",
    "ax.set_ylim(-1,7)\n",
    "plt.scatter(x, y, s=proportion*4000)\n",
    "# f.savefig(str(FIGPATH / 'misc_figures' / 'disease_actionability.pdf'), format='pdf')"
   ]
  },
  {
   "cell_type": "code",
   "execution_count": 180,
   "metadata": {},
   "outputs": [
    {
     "data": {
      "text/plain": [
       "['lung cancer',\n",
       " 'breast cancer',\n",
       " 'hematologic cancer',\n",
       " 'large intestine cancer',\n",
       " 'melanoma']"
      ]
     },
     "execution_count": 180,
     "metadata": {},
     "output_type": "execute_result"
    }
   ],
   "source": [
    "diseases"
   ]
  },
  {
   "cell_type": "code",
   "execution_count": 181,
   "metadata": {
    "collapsed": true
   },
   "outputs": [],
   "source": [
    "interpretable_disease_counts = np.zeros((4,2))\n",
    "total_counts = np.zeros(2)\n",
    "genie_topnode_diseases = set([\n",
    "        x[0] for x in disease_actionability_count\n",
    "    ])\n",
    "for disease in genie_topnode_diseases:\n",
    "    for i, level in enumerate(levels):\n",
    "        if disease in diseases:\n",
    "            j = 0\n",
    "        else:\n",
    "            j = 1\n",
    "        interpretable_disease_counts[i][j]   += disease_actionability_count[(disease, level)]\n",
    "    total_counts[j] += sample_disease_count[disease]\n"
   ]
  },
  {
   "cell_type": "code",
   "execution_count": 182,
   "metadata": {},
   "outputs": [
    {
     "name": "stdout",
     "output_type": "stream",
     "text": [
      "[ 0.55520674  0.39711588]\n"
     ]
    },
    {
     "data": {
      "text/plain": [
       "(1.8950171126741586, 2.4427342945310883e-136)"
      ]
     },
     "execution_count": 182,
     "metadata": {},
     "output_type": "execute_result"
    }
   ],
   "source": [
    "test_matrix = np.zeros((2,2))\n",
    "test_matrix[0,:] = interpretable_disease_counts.sum(axis=0)\n",
    "test_matrix[1,:] = total_counts - test_matrix[0,:]\n",
    "print(test_matrix[0,:] / total_counts)\n",
    "\n",
    "stats.fisher_exact(test_matrix)"
   ]
  },
  {
   "cell_type": "code",
   "execution_count": 183,
   "metadata": {},
   "outputs": [
    {
     "data": {
      "text/plain": [
       "array([ 6190.,  5425.])"
      ]
     },
     "execution_count": 183,
     "metadata": {},
     "output_type": "execute_result"
    }
   ],
   "source": [
    "interpretable_disease_counts.sum(axis=0)"
   ]
  },
  {
   "cell_type": "code",
   "execution_count": 184,
   "metadata": {},
   "outputs": [
    {
     "name": "stdout",
     "output_type": "stream",
     "text": [
      "[ 0.43779711  0.17846424]\n",
      "(3.5847187008715964, 0.0)\n"
     ]
    }
   ],
   "source": [
    "test_matrix = np.zeros((2,2))\n",
    "test_matrix[0,:] = interpretable_disease_counts[:2,:].sum(axis=0)\n",
    "test_matrix[1,:] = total_counts - test_matrix[0,:]\n",
    "print(test_matrix[0,:] / total_counts)\n",
    "\n",
    "result = stats.fisher_exact(test_matrix)\n",
    "print(result)"
   ]
  },
  {
   "cell_type": "code",
   "execution_count": 185,
   "metadata": {},
   "outputs": [
    {
     "data": {
      "image/png": "[encoded data removed]",
      "text/plain": [
       "<matplotlib.figure.Figure at 0x1c4d1afd0>"
      ]
     },
     "metadata": {},
     "output_type": "display_data"
    }
   ],
   "source": [
    "fig, ax = plt.subplots(figsize=(7.5,3))\n",
    "\n",
    "counts = actionability_sum\n",
    "groups = ['Variant', 'Variant + Disease', 'Variant + Disease + Tier I']\n",
    "subs = SOURCES + ('aggregate',)\n",
    "width = 0.15\n",
    "plot_elements = list()\n",
    "resource_ind = np.arange(3)\n",
    "\n",
    "for i, source in enumerate(subs):\n",
    "    x = np.array([actionability_sum[i + 24], actionability_sum[i + 32], 0]) / ALL_PATIENT_COUNT\n",
    "    ind = np.array((i, i+12, i+24)) * width\n",
    "    p = ax.bar(ind, x, width, label=source, color='black')\n",
    "    plot_elements.append(p)\n",
    "\n",
    "for i, source in enumerate(subs):\n",
    "    x = np.array([actionability_sum[i], actionability_sum[i + 8], actionability_sum[i + 16]]) / ALL_PATIENT_COUNT\n",
    "    ind = np.array((i, i+12, i+24)) * width\n",
    "    p = ax.bar(ind, x, width, label=source)\n",
    "    plot_elements.append(p)\n",
    "\n",
    "ax.set_xticks(ind - 3*width)\n",
    "# ax.set_xticklabels(groups, rotation='vertical')\n",
    "handles, labels = ax.get_legend_handles_labels()\n",
    "half_idx = len(labels) // 2\n",
    "ax.legend(handles[half_idx:], labels[half_idx:], title='Search Type')\n",
    "plt.ylabel('% Cohort with Interpretations')\n",
    "\n",
    "plt.show()\n",
    "fig.savefig(str(FIGPATH / 'misc_figures' / 'genie_actionability.pdf'), format='pdf')"
   ]
  },
  {
   "cell_type": "code",
   "execution_count": 186,
   "metadata": {},
   "outputs": [
    {
     "data": {
      "text/plain": [
       "array([[ 0.35852069,  0.40539692,  0.46658989,  0.32433847,  0.37202607,\n",
       "         0.0813987 ,  0.56646688,  0.        ],\n",
       "       [ 0.07014421,  0.21255267,  0.23807156,  0.10411705,  0.14154474,\n",
       "         0.00806135,  0.29442249,  0.        ],\n",
       "       [ 0.02936635,  0.15363677,  0.04815871,  0.07940953,  0.04831575,\n",
       "         0.00701442,  0.18483524,  0.        ],\n",
       "       [ 0.82610516,  0.83267464,  0.77493653,  0.66223467,  0.57599393,\n",
       "         0.40780485,  0.85654461,  0.        ],\n",
       "       [ 0.44690763,  0.55806528,  0.55937394,  0.15248515,  0.3360379 ,\n",
       "         0.04868218,  0.59758683,  0.        ]])"
      ]
     },
     "execution_count": 186,
     "metadata": {},
     "output_type": "execute_result"
    }
   ],
   "source": [
    "(actionability_sum / ALL_PATIENT_COUNT).reshape((5,8))"
   ]
  },
  {
   "cell_type": "code",
   "execution_count": 187,
   "metadata": {},
   "outputs": [
    {
     "data": {
      "text/plain": [
       "0.33471178928817585"
      ]
     },
     "execution_count": 187,
     "metadata": {},
     "output_type": "execute_result"
    }
   ],
   "source": [
    "# Average individual KB variant matching, exact searching\n",
    "(actionability_sum[:6] / ALL_PATIENT_COUNT).mean()"
   ]
  },
  {
   "cell_type": "code",
   "execution_count": 188,
   "metadata": {},
   "outputs": [
    {
     "data": {
      "text/plain": [
       "0.12908193088526534"
      ]
     },
     "execution_count": 188,
     "metadata": {},
     "output_type": "execute_result"
    }
   ],
   "source": [
    "# Average individual KB variant+disease matching, exact searching\n",
    "(actionability_sum[8:14] / ALL_PATIENT_COUNT).mean()"
   ]
  },
  {
   "cell_type": "code",
   "execution_count": 189,
   "metadata": {},
   "outputs": [
    {
     "data": {
      "text/plain": [
       "0.060983589394613548"
      ]
     },
     "execution_count": 189,
     "metadata": {},
     "output_type": "execute_result"
    }
   ],
   "source": [
    "# Average individual KB variant+disease+tier I matching, exact searching\n",
    "(actionability_sum[16:22] / ALL_PATIENT_COUNT).mean()"
   ]
  },
  {
   "cell_type": "code",
   "execution_count": 190,
   "metadata": {},
   "outputs": [
    {
     "data": {
      "text/plain": [
       "0.67995829734516355"
      ]
     },
     "execution_count": 190,
     "metadata": {},
     "output_type": "execute_result"
    }
   ],
   "source": [
    "# Average individual KB variant matching, broad searching\n",
    "(actionability_sum[24:30] / ALL_PATIENT_COUNT).mean()"
   ]
  },
  {
   "cell_type": "code",
   "execution_count": 191,
   "metadata": {},
   "outputs": [
    {
     "data": {
      "text/plain": [
       "0.35025867860165238"
      ]
     },
     "execution_count": 191,
     "metadata": {},
     "output_type": "execute_result"
    }
   ],
   "source": [
    "# Average individual KB variant+disease matching, broad searching\n",
    "(actionability_sum[32:38] / ALL_PATIENT_COUNT).mean()"
   ]
  },
  {
   "cell_type": "code",
   "execution_count": 192,
   "metadata": {},
   "outputs": [
    {
     "data": {
      "text/plain": [
       "array([ 0.8738997 ,  0.45421142,  0.28514899])"
      ]
     },
     "execution_count": 192,
     "metadata": {},
     "output_type": "execute_result"
    }
   ],
   "source": [
    "# TODO: Calculate revised x with mapped disease patients instead of all patients\n",
    "s = len(patients_with_topnode)\n",
    "x * ALL_PATIENT_COUNT / s"
   ]
  },
  {
   "cell_type": "code",
   "execution_count": 193,
   "metadata": {
    "collapsed": true
   },
   "outputs": [],
   "source": [
    "c = defaultdict(Counter)\n",
    "for a in core_vdb:\n",
    "    c[a.source][a.evidence_level] += 1"
   ]
  },
  {
   "cell_type": "code",
   "execution_count": 194,
   "metadata": {},
   "outputs": [
    {
     "data": {
      "text/plain": [
       "defaultdict(collections.Counter,\n",
       "            {'cgi': Counter({'A': 120, 'B': 40, 'C': 497, 'D': 415}),\n",
       "             'civic': Counter({'A': 58, 'B': 1130, 'C': 1234, 'D': 918}),\n",
       "             'jax': Counter({'A': 98, 'B': 89, 'C': 1041, 'D': 4518}),\n",
       "             'molecularmatch': Counter({'A': 782,\n",
       "                      'B': 133,\n",
       "                      'C': 196,\n",
       "                      'D': 969}),\n",
       "             'oncokb': Counter({'A': 61, 'B': 46, 'C': 65, 'D': 75}),\n",
       "             'pmkb': Counter({'A': 261, 'C': 93, 'D': 17})})"
      ]
     },
     "execution_count": 194,
     "metadata": {},
     "output_type": "execute_result"
    }
   ],
   "source": [
    "c"
   ]
  },
  {
   "cell_type": "code",
   "execution_count": 195,
   "metadata": {},
   "outputs": [
    {
     "name": "stdout",
     "output_type": "stream",
     "text": [
      "molecularmatch: Tier 1 is 44.0% of total.\n",
      "civic: Tier 1 is 35.6% of total.\n",
      "pmkb: Tier 1 is 70.4% of total.\n",
      "oncokb: Tier 1 is 43.3% of total.\n",
      "jax: Tier 1 is 3.3% of total.\n",
      "cgi: Tier 1 is 14.9% of total.\n"
     ]
    }
   ],
   "source": [
    "for source, counts in c.items():\n",
    "    tier1 = (counts['A'] + counts['B']) / sum(counts.values())\n",
    "    print(\"{}: Tier 1 is {:.1%} of total.\".format(source, tier1))"
   ]
  },
  {
   "cell_type": "code",
   "execution_count": 196,
   "metadata": {},
   "outputs": [
    {
     "data": {
      "text/plain": [
       "0.6482058261575104"
      ]
     },
     "execution_count": 196,
     "metadata": {},
     "output_type": "execute_result"
    }
   ],
   "source": [
    "s / ALL_PATIENT_COUNT"
   ]
  },
  {
   "cell_type": "code",
   "execution_count": 197,
   "metadata": {},
   "outputs": [
    {
     "data": {
      "text/plain": [
       "39600"
      ]
     },
     "execution_count": 197,
     "metadata": {},
     "output_type": "execute_result"
    }
   ],
   "source": [
    "len(sample_oncotree_code)"
   ]
  },
  {
   "cell_type": "code",
   "execution_count": 198,
   "metadata": {
    "collapsed": true
   },
   "outputs": [],
   "source": [
    "code_patient_count = Counter()\n",
    "for patient, samples in patient_to_samples.items():\n",
    "    patient_codes = set()\n",
    "    for sample in samples:\n",
    "        patient_codes.add(sample_oncotree_code[sample])\n",
    "    for code in patient_codes:\n",
    "        code_patient_count[code] += 1"
   ]
  },
  {
   "cell_type": "code",
   "execution_count": 199,
   "metadata": {},
   "outputs": [
    {
     "name": "stdout",
     "output_type": "stream",
     "text": [
      "LUAD: 12.4%, 4738\n",
      "IDC: 7.7%, 2947\n",
      "COAD: 5.8%, 2218\n",
      "PRAD: 3.5%, 1323\n",
      "COADREAD: 3.2%, 1207\n",
      "PAAD: 2.6%, 1005\n",
      "SKCM: 2.2%, 845\n",
      "BLCA: 2.0%, 773\n",
      "GBM: 2.0%, 772\n",
      "AML: 1.8%, 687\n",
      "HGSOC: 1.8%, 681\n",
      "READ: 1.7%, 650\n",
      "MEL: 1.5%, 578\n",
      "LUSC: 1.4%, 549\n",
      "UEC: 1.3%, 509\n",
      "CCRCC: 1.2%, 443\n",
      "ILC: 1.2%, 441\n",
      "CUP: 1.1%, 412\n",
      "BRCA: 1.1%, 406\n",
      "GIST: 1.0%, 386\n",
      "GB: 1.0%, 378\n",
      "THPA: 1.0%, 371\n",
      "ESCA: 1.0%, 369\n",
      "STAD: 0.8%, 314\n",
      "MDS: 0.7%, 265\n",
      "SOC: 0.7%, 262\n",
      "OCSC: 0.7%, 254\n",
      "NSCLC: 0.7%, 253\n",
      "ADNOS: 0.6%, 239\n",
      "MDLC: 0.6%, 232\n",
      "LMS: 0.6%, 231\n",
      "SCLC: 0.6%, 225\n",
      "AASTR: 0.6%, 213\n",
      "ASTR: 0.6%, 211\n",
      "HCC: 0.5%, 205\n",
      "CHOL: 0.5%, 203\n",
      "USC: 0.5%, 201\n",
      "ACYC: 0.5%, 192\n",
      "HNSC: 0.5%, 191\n",
      "IHCH: 0.5%, 185\n",
      "PANET: 0.4%, 169\n",
      "OPHSC: 0.4%, 163\n",
      "MNG: 0.4%, 155\n",
      "PLEMESO: 0.4%, 154\n",
      "UTUC: 0.4%, 152\n",
      "DLBCL: 0.4%, 152\n",
      "GEJ: 0.4%, 150\n",
      "ODG: 0.4%, 147\n",
      "MACR: 0.4%, 146\n",
      "RCC: 0.4%, 145\n",
      "MCC: 0.4%, 143\n",
      "UCS: 0.4%, 137\n",
      "OTHER: 0.4%, 136\n",
      "CLL: 0.3%, 133\n",
      "NSCLCPD: 0.3%, 131\n",
      "PTAD: 0.3%, 124\n",
      "BRCANOS: 0.3%, 121\n",
      "NBL: 0.3%, 121\n",
      "CSCC: 0.3%, 120\n",
      "ULMS: 0.3%, 113\n",
      "SEM: 0.3%, 113\n",
      "ES: 0.3%, 113\n",
      "BMGCT: 0.3%, 110\n",
      "BALL: 0.3%, 108\n",
      "SARCNOS: 0.3%, 108\n",
      "MFH: 0.3%, 107\n",
      "BRCNOS: 0.3%, 105\n",
      "MUP: 0.3%, 103\n",
      "OS: 0.3%, 102\n",
      "NECNOS: 0.3%, 101\n",
      "CCOV: 0.3%, 101\n",
      "GBC: 0.3%, 101\n",
      "UCEC: 0.3%, 101\n",
      "APAD: 0.3%, 98\n",
      "MYF: 0.3%, 96\n",
      "PRCC: 0.2%, 95\n",
      "CESC: 0.2%, 95\n",
      "ANSC: 0.2%, 92\n",
      "DDLS: 0.2%, 92\n",
      "THPD: 0.2%, 89\n",
      "AODG: 0.2%, 89\n",
      "MAAP: 0.2%, 88\n",
      "LGSOC: 0.2%, 86\n",
      "LUNE: 0.2%, 84\n",
      "GINET: 0.2%, 84\n",
      "MGCT: 0.2%, 83\n",
      "FL: 0.2%, 81\n",
      "DIFG: 0.2%, 81\n",
      "ACC: 0.2%, 80\n",
      "SBC: 0.2%, 79\n",
      "THME: 0.2%, 77\n",
      "UM: 0.2%, 77\n",
      "PLMESO: 0.2%, 72\n",
      "URCC: 0.2%, 71\n",
      "ANGS: 0.2%, 69\n",
      "ESCC: 0.2%, 67\n",
      "OVT: 0.2%, 66\n",
      "OCS: 0.2%, 65\n",
      "ECAD: 0.2%, 65\n",
      "THAP: 0.2%, 64\n",
      "CHS: 0.2%, 61\n",
      "SYNS: 0.2%, 60\n",
      "LIPO: 0.2%, 59\n",
      "ACRM: 0.1%, 57\n",
      "PDC: 0.1%, 57\n",
      "SDCA: 0.1%, 57\n",
      "EOV: 0.1%, 57\n",
      "SFT: 0.1%, 57\n",
      "SCCNOS: 0.1%, 55\n",
      "GRCT: 0.1%, 55\n",
      "AMPCA: 0.1%, 53\n",
      "BCL: 0.1%, 53\n",
      "THYC: 0.1%, 52\n",
      "VSC: 0.1%, 51\n",
      "HGNEC: 0.1%, 50\n",
      "BLAD: 0.1%, 50\n",
      "LUCA: 0.1%, 50\n",
      "HGGNOS: 0.1%, 49\n",
      "NPC: 0.1%, 47\n",
      "EHCH: 0.1%, 46\n",
      "UMEC: 0.1%, 46\n",
      "EGC: 0.1%, 46\n",
      "ARMM: 0.1%, 45\n",
      "PLBMESO: 0.1%, 45\n",
      "MBL: 0.1%, 44\n",
      "LXSC: 0.1%, 43\n",
      "CHRCC: 0.1%, 43\n",
      "CUPNOS: 0.1%, 43\n",
      "AOAST: 0.1%, 43\n",
      "LUAS: 0.1%, 43\n",
      "MRC: 0.1%, 41\n",
      "CML: 0.1%, 41\n",
      "SARCL: 0.1%, 41\n",
      "SBWDNET: 0.1%, 41\n",
      "PEMESO: 0.1%, 41\n",
      "WT: 0.1%, 40\n",
      "HNMUCM: 0.1%, 39\n",
      "WDLS: 0.1%, 39\n",
      "MM: 0.1%, 39\n",
      "THFO: 0.1%, 38\n",
      "UCCC: 0.1%, 38\n",
      "CMML: 0.1%, 36\n",
      "MOV: 0.1%, 35\n",
      "DCIS: 0.1%, 35\n",
      "MUCC: 0.1%, 34\n",
      "MBC: 0.1%, 34\n",
      "THHC: 0.1%, 34\n",
      "LEUK: 0.1%, 34\n",
      "VMM: 0.1%, 33\n",
      "PCV: 0.1%, 33\n",
      "ATM: 0.1%, 33\n",
      "ALUCA: 0.1%, 33\n",
      "LGGNOS: 0.1%, 33\n",
      "DSRCT: 0.1%, 32\n",
      "SSRCC: 0.1%, 31\n",
      "DA: 0.1%, 31\n",
      "SCHW: 0.1%, 31\n",
      "MPNST: 0.1%, 30\n",
      "EPM: 0.1%, 30\n",
      "THYM: 0.1%, 30\n",
      "MPN: 0.1%, 29\n",
      "CEMU: 0.1%, 29\n",
      "CTCL: 0.1%, 29\n",
      "RMS: 0.1%, 29\n",
      "MRLS: 0.1%, 29\n",
      "PAAC: 0.1%, 28\n",
      "GSARC: 0.1%, 28\n",
      "CHDM: 0.1%, 28\n",
      "VMGCT: 0.1%, 28\n",
      "PAST: 0.1%, 27\n",
      "PTCL: 0.1%, 27\n",
      "ALL: 0.1%, 27\n",
      "OOVC: 0.1%, 26\n",
      "NSGCT: 0.1%, 26\n",
      "SBOV: 0.1%, 26\n",
      "MT: 0.1%, 26\n",
      "SRCCR: 0.1%, 25\n",
      "NETNOS: 0.1%, 25\n",
      "ERMS: 0.1%, 25\n",
      "SIC: 0.1%, 24\n",
      "MFS: 0.1%, 24\n",
      "MXOV: 0.1%, 24\n",
      "UDMN: 0.1%, 23\n",
      "DES: 0.1%, 23\n",
      "BCC: 0.1%, 23\n",
      "ROCY: 0.1%, 23\n",
      "SPDAC: 0.1%, 22\n",
      "ETC: 0.1%, 22\n",
      "FLC: 0.1%, 22\n",
      "PGNG: 0.1%, 22\n",
      "AITL: 0.1%, 22\n",
      "PAASC: 0.1%, 22\n",
      "PRNE: 0.1%, 21\n",
      "OAST: 0.1%, 21\n",
      "MCL: 0.1%, 21\n",
      "SNSC: 0.1%, 20\n",
      "HNSCUP: 0.1%, 20\n",
      "GCCAP: 0.1%, 20\n",
      "LCH: 0.1%, 20\n",
      "ECD: 0.0%, 19\n",
      "TRCC: 0.0%, 19\n",
      "SACA: 0.0%, 18\n",
      "APE: 0.0%, 18\n",
      "ACCC: 0.0%, 18\n",
      "EPIS: 0.0%, 18\n",
      "ACA: 0.0%, 18\n",
      "PBT: 0.0%, 18\n",
      "IPMN: 0.0%, 18\n",
      "CEAD: 0.0%, 17\n",
      "BLOOD: 0.0%, 17\n",
      "LCLC: 0.0%, 17\n",
      "PHC: 0.0%, 17\n",
      "TALL: 0.0%, 17\n",
      "SLL: 0.0%, 17\n",
      "PSCC: 0.0%, 16\n",
      "CEAS: 0.0%, 16\n",
      "MPT: 0.0%, 16\n",
      "HNNE: 0.0%, 15\n",
      "ARMS: 0.0%, 15\n",
      "PLSMESO: 0.0%, 15\n",
      "BA: 0.0%, 15\n",
      "FIBS: 0.0%, 15\n",
      "GNG: 0.0%, 15\n",
      "NHL: 0.0%, 15\n",
      "MZL: 0.0%, 15\n",
      "PLLS: 0.0%, 14\n",
      "HPHSC: 0.0%, 14\n",
      "HMBL: 0.0%, 14\n",
      "MLYM: 0.0%, 14\n",
      "PNET: 0.0%, 14\n",
      "NFIB: 0.0%, 14\n",
      "DESM: 0.0%, 13\n",
      "SRAP: 0.0%, 13\n",
      "MYEC: 0.0%, 13\n",
      "ISTAD: 0.0%, 13\n",
      "PECOMA: 0.0%, 13\n",
      "LIHB: 0.0%, 13\n",
      "UAS: 0.0%, 13\n",
      "LNET: 0.0%, 13\n",
      "EHAE: 0.0%, 13\n",
      "OSACA: 0.0%, 13\n",
      "SAAD: 0.0%, 12\n",
      "RWDNET: 0.0%, 12\n",
      "ASPS: 0.0%, 12\n",
      "IMMC: 0.0%, 12\n",
      "PAMPCA: 0.0%, 12\n",
      "BYST: 0.0%, 12\n",
      "SLCT: 0.0%, 12\n",
      "TYST: 0.0%, 12\n",
      "EMBCA: 0.0%, 12\n",
      "BLSC: 0.0%, 12\n",
      "TNKL: 0.0%, 12\n",
      "UCU: 0.0%, 12\n",
      "CCS: 0.0%, 11\n",
      "CDRCC: 0.0%, 11\n",
      "SKAC: 0.0%, 11\n",
      "TT: 0.0%, 11\n",
      "INTS: 0.0%, 11\n",
      "STMYEC: 0.0%, 11\n",
      "UCP: 0.0%, 11\n",
      "SPN: 0.0%, 11\n",
      "HL: 0.0%, 11\n",
      "IBC: 0.0%, 10\n",
      "SNUC: 0.0%, 10\n",
      "UPECOMA: 0.0%, 10\n",
      "HCCIHCH: 0.0%, 10\n",
      "BEC: 0.0%, 10\n",
      "RAML: 0.0%, 10\n",
      "MBT: 0.0%, 10\n",
      "DFSP: 0.0%, 10\n",
      "OUSARC: 0.0%, 10\n",
      "LUPC: 0.0%, 10\n",
      "VYST: 0.0%, 10\n",
      "CHL: 0.0%, 10\n",
      "CSCLC: 0.0%, 10\n",
      "LAIS: 0.0%, 10\n",
      "NCCRCC: 0.0%, 9\n",
      "PRSCC: 0.0%, 9\n",
      "SBMOV: 0.0%, 9\n",
      "HDCS: 0.0%, 9\n",
      "RBL: 0.0%, 9\n",
      "ACPG: 0.0%, 9\n",
      "CEEN: 0.0%, 9\n",
      "SCBC: 0.0%, 9\n",
      "HCL: 0.0%, 9\n",
      "NMCHN: 0.0%, 9\n",
      "IMT: 0.0%, 8\n",
      "LGESS: 0.0%, 8\n",
      "SNA: 0.0%, 8\n",
      "EPDCA: 0.0%, 8\n",
      "UUC: 0.0%, 8\n",
      "GCEMU: 0.0%, 8\n",
      "SCST: 0.0%, 8\n",
      "ANM: 0.0%, 8\n",
      "UUS: 0.0%, 8\n",
      "ESS: 0.0%, 8\n",
      "EMPD: 0.0%, 8\n",
      "OHNCA: 0.0%, 8\n",
      "ACBC: 0.0%, 8\n",
      "DSTAD: 0.0%, 8\n",
      "SCUP: 0.0%, 8\n",
      "FDCS: 0.0%, 7\n",
      "AMOL: 0.0%, 7\n",
      "HNMASC: 0.0%, 7\n",
      "UAD: 0.0%, 7\n",
      "SRCBC: 0.0%, 7\n",
      "SCRMS: 0.0%, 7\n",
      "UELMS: 0.0%, 7\n",
      "SM: 0.0%, 7\n",
      "TMT: 0.0%, 7\n",
      "DDCHS: 0.0%, 7\n",
      "LUNG: 0.0%, 7\n",
      "SCCRCC: 0.0%, 7\n",
      "OM: 0.0%, 7\n",
      "POCA: 0.0%, 7\n",
      "SKLMM: 0.0%, 7\n",
      "TSTAD: 0.0%, 7\n",
      "EMBT: 0.0%, 7\n",
      "VOEC: 0.0%, 7\n",
      "MCHS: 0.0%, 6\n",
      "MYCHS: 0.0%, 6\n",
      "AECA: 0.0%, 6\n",
      "HGSOS: 0.0%, 6\n",
      "UNEC: 0.0%, 6\n",
      "EMCHS: 0.0%, 6\n",
      "UMLMS: 0.0%, 6\n",
      "SEF: 0.0%, 6\n",
      "PLRMS: 0.0%, 6\n",
      "SCCE: 0.0%, 6\n",
      "MBOV: 0.0%, 6\n",
      "SRCC: 0.0%, 6\n",
      "MYCF: 0.0%, 6\n",
      "RAS: 0.0%, 6\n",
      "BPDCN: 0.0%, 6\n",
      "SELT: 0.0%, 6\n",
      "ACPP: 0.0%, 6\n",
      "SEBA: 0.0%, 5\n",
      "SCT: 0.0%, 5\n",
      "PHCH: 0.0%, 5\n",
      "USCC: 0.0%, 5\n",
      "BCCA: 0.0%, 5\n",
      "PPTID: 0.0%, 5\n",
      "EMYOCA: 0.0%, 5\n",
      "MPE: 0.0%, 5\n",
      "ONBL: 0.0%, 5\n",
      "UCCA: 0.0%, 5\n",
      "SPCC: 0.0%, 5\n",
      "HIST: 0.0%, 5\n",
      "SCCO: 0.0%, 5\n",
      "PXA: 0.0%, 5\n",
      "CECC: 0.0%, 5\n",
      "TNET: 0.0%, 5\n",
      "CMC: 0.0%, 5\n",
      "HEAD_NECK: 0.0%, 5\n",
      "DMBL: 0.0%, 5\n",
      "HEMA: 0.0%, 5\n",
      "LUACC: 0.0%, 5\n",
      "RCSNOS: 0.0%, 5\n",
      "MNET: 0.0%, 5\n",
      "OYST: 0.0%, 5\n",
      "MIXED: 0.0%, 4\n",
      "SCGBM: 0.0%, 4\n",
      "CNC: 0.0%, 4\n",
      "CTAAP: 0.0%, 4\n",
      "SWDNET: 0.0%, 4\n",
      "HPCCNS: 0.0%, 4\n",
      "HGESS: 0.0%, 4\n",
      "LGFMS: 0.0%, 4\n",
      "UDDC: 0.0%, 4\n",
      "URMM: 0.0%, 4\n",
      "WM: 0.0%, 4\n",
      "GCT: 0.0%, 4\n",
      "AWDNET: 0.0%, 4\n",
      "TCCA: 0.0%, 4\n",
      "UA: 0.0%, 4\n",
      "HGNET: 0.0%, 4\n",
      "SCB: 0.0%, 4\n",
      "MCN: 0.0%, 4\n",
      "ALCL: 0.0%, 4\n",
      "PD: 0.0%, 4\n",
      "PANCREAS: 0.0%, 4\n",
      "TSCST: 0.0%, 4\n",
      "BTOV: 0.0%, 4\n",
      "PTES: 0.0%, 4\n",
      "PBL: 0.0%, 4\n",
      "GCLC: 0.0%, 4\n",
      "AMBL: 0.0%, 4\n",
      "MYXO: 0.0%, 4\n",
      "OUTT: 0.0%, 4\n",
      "RD: 0.0%, 4\n",
      "OMT: 0.0%, 4\n",
      "OMGCT: 0.0%, 4\n",
      "MNGT: 0.0%, 4\n",
      "UCA: 0.0%, 4\n",
      "PB: 0.0%, 3\n",
      "SPC: 0.0%, 3\n",
      "VA: 0.0%, 3\n",
      "MSTAD: 0.0%, 3\n",
      "USTUMP: 0.0%, 3\n",
      "OSMCA: 0.0%, 3\n",
      "MTSCC: 0.0%, 3\n",
      "MCCE: 0.0%, 3\n",
      "CENE: 0.0%, 3\n",
      "SGAD: 0.0%, 3\n",
      "BMT: 0.0%, 3\n",
      "PTCY: 0.0%, 3\n",
      "AGNG: 0.0%, 3\n",
      "SFTCNS: 0.0%, 3\n",
      "BIMT: 0.0%, 3\n",
      "CEMN: 0.0%, 3\n",
      "ESMM: 0.0%, 3\n",
      "BOWEL: 0.0%, 3\n",
      "THYROID: 0.0%, 3\n",
      "MRT: 0.0%, 3\n",
      "UPDC: 0.0%, 3\n",
      "WDTC: 0.0%, 3\n",
      "RHM: 0.0%, 3\n",
      "SUBE: 0.0%, 3\n",
      "LGLL: 0.0%, 3\n",
      "VMT: 0.0%, 3\n",
      "VDYS: 0.0%, 3\n",
      "BNNOS: 0.0%, 3\n",
      "CCPRC: 0.0%, 3\n",
      "MALTL: 0.0%, 3\n",
      "GTD: 0.0%, 3\n",
      "APTAD: 0.0%, 3\n",
      "ULM: 0.0%, 3\n",
      "PMA: 0.0%, 2\n",
      "LUMEC: 0.0%, 2\n",
      "IAMPCA: 0.0%, 2\n",
      "STSC: 0.0%, 2\n",
      "TMESO: 0.0%, 2\n",
      "OFMT: 0.0%, 2\n",
      "SCOS: 0.0%, 2\n",
      "OSOS: 0.0%, 2\n",
      "MSCHW: 0.0%, 2\n",
      "CHOS: 0.0%, 2\n",
      "DF: 0.0%, 2\n",
      "PCNSM: 0.0%, 2\n",
      "RGNT: 0.0%, 2\n",
      "ODGC: 0.0%, 2\n",
      "ASTB: 0.0%, 2\n",
      "OIMT: 0.0%, 2\n",
      "BPSCC: 0.0%, 2\n",
      "MBCL: 0.0%, 2\n",
      "APXA: 0.0%, 2\n",
      "DIPG: 0.0%, 2\n",
      "SKIN: 0.0%, 2\n",
      "UMC: 0.0%, 2\n",
      "OSMBT: 0.0%, 2\n",
      "CEAIS: 0.0%, 2\n",
      "UASC: 0.0%, 2\n",
      "USMT: 0.0%, 2\n",
      "PBS: 0.0%, 2\n",
      "TET: 0.0%, 2\n",
      "PSTAD: 0.0%, 2\n",
      "GMN: 0.0%, 2\n",
      "BRSRCC: 0.0%, 2\n",
      "BL: 0.0%, 2\n",
      "SCOAH: 0.0%, 2\n",
      "ATRT: 0.0%, 2\n",
      "ANGL: 0.0%, 2\n",
      "BGCT: 0.0%, 2\n",
      "CAIS: 0.0%, 2\n",
      "EPMT: 0.0%, 2\n",
      "UMNC: 0.0%, 2\n",
      "AGA: 0.0%, 2\n",
      "CMPT: 0.0%, 2\n",
      "ACN: 0.0%, 2\n",
      "TESTIS: 0.0%, 2\n",
      "OVARY: 0.0%, 2\n",
      "CM: 0.0%, 2\n",
      "USARC: 0.0%, 2\n",
      "ETT: 0.0%, 2\n",
      "CCE: 0.0%, 1\n",
      "EMBC: 0.0%, 1\n",
      "CCOC: 0.0%, 1\n",
      "CHBL: 0.0%, 1\n",
      "LECLC: 0.0%, 1\n",
      "EVN: 0.0%, 1\n",
      "SECOS: 0.0%, 1\n",
      "CSCHW: 0.0%, 1\n",
      "HGONEC: 0.0%, 1\n",
      "ICEMU: 0.0%, 1\n",
      "MF: 0.0%, 1\n",
      "BLCLC: 0.0%, 1\n",
      "BONE: 0.0%, 1\n",
      "CACC: 0.0%, 1\n",
      "UTERUS: 0.0%, 1\n",
      "CESE: 0.0%, 1\n",
      "VULVA: 0.0%, 1\n",
      "VGCE: 0.0%, 1\n",
      "SCEMU: 0.0%, 1\n",
      "URCA: 0.0%, 1\n",
      "GNBL: 0.0%, 1\n",
      "RSCC: 0.0%, 1\n",
      "TLYM: 0.0%, 1\n",
      "PEL: 0.0%, 1\n",
      "EMPSGC: 0.0%, 1\n",
      "CPP: 0.0%, 1\n",
      "IMTL: 0.0%, 1\n",
      "TGCT: 0.0%, 1\n",
      "HTAT: 0.0%, 1\n",
      "PRSC: 0.0%, 1\n",
      "STAS: 0.0%, 1\n",
      "CCHM: 0.0%, 1\n",
      "CSNOS: 0.0%, 1\n",
      "BRAME: 0.0%, 1\n",
      "LGCOS: 0.0%, 1\n",
      "FT: 0.0%, 1\n",
      "FIOS: 0.0%, 1\n",
      "PT: 0.0%, 1\n",
      "GS: 0.0%, 1\n",
      "LIAS: 0.0%, 1\n",
      "PSC: 0.0%, 1\n",
      "SPIR: 0.0%, 1\n",
      "MMBC: 0.0%, 1\n",
      "STOMACH: 0.0%, 1\n",
      "BRAIN: 0.0%, 1\n",
      "BLADDER: 0.0%, 1\n",
      "PTCA: 0.0%, 1\n",
      "VPDC: 0.0%, 1\n",
      "USTAD: 0.0%, 1\n",
      "CCHDM: 0.0%, 1\n",
      "LGNET: 0.0%, 1\n",
      "GCTB: 0.0%, 1\n",
      "SEZS: 0.0%, 1\n",
      "PCGP: 0.0%, 1\n",
      "GNC: 0.0%, 1\n",
      "SKCN: 0.0%, 1\n",
      "PINT: 0.0%, 1\n",
      "LAM: 0.0%, 1\n",
      "DNT: 0.0%, 1\n",
      "NST: 0.0%, 1\n",
      "CHM: 0.0%, 1\n",
      "IDCS: 0.0%, 1\n",
      "CPT: 0.0%, 1\n",
      "PPB: 0.0%, 1\n",
      "CCLC: 0.0%, 1\n",
      "EBOV: 0.0%, 1\n",
      "AIS: 0.0%, 1\n",
      "LCIS: 0.0%, 1\n"
     ]
    }
   ],
   "source": [
    "patient_count = len(patient_to_samples)\n",
    "for code, count in code_patient_count.most_common():\n",
    "    f = count / patient_count\n",
    "    print('{}: {:.1%}, {}'.format(code, f, count))"
   ]
  },
  {
   "cell_type": "code",
   "execution_count": 200,
   "metadata": {
    "collapsed": true
   },
   "outputs": [],
   "source": [
    "cancer_rank = {pair[0]: rank for rank, pair in enumerate(\n",
    "        code_patient_count.most_common()\n",
    "    ) if pair[0] not in patched_doids} # Exclude manual patching for analysis"
   ]
  },
  {
   "cell_type": "code",
   "execution_count": 201,
   "metadata": {
    "collapsed": true
   },
   "outputs": [],
   "source": [
    "mapped = list()\n",
    "unmapped = list()\n",
    "for code, rank in cancer_rank.items():\n",
    "    doids = oncotree_to_doids.get(code, False)\n",
    "    if doids:\n",
    "        mapped.append(rank)\n",
    "    else:\n",
    "        unmapped.append(rank)"
   ]
  },
  {
   "cell_type": "code",
   "execution_count": 202,
   "metadata": {},
   "outputs": [
    {
     "data": {
      "text/plain": [
       "MannwhitneyuResult(statistic=31094.0, pvalue=0.0024182552268482383)"
      ]
     },
     "execution_count": 202,
     "metadata": {},
     "output_type": "execute_result"
    }
   ],
   "source": [
    "stats.mannwhitneyu(mapped, unmapped)"
   ]
  },
  {
   "cell_type": "code",
   "execution_count": 203,
   "metadata": {},
   "outputs": [
    {
     "data": {
      "text/plain": [
       "{'AASTR': 32,\n",
       " 'ACA': 205,\n",
       " 'ACBC': 298,\n",
       " 'ACC': 88,\n",
       " 'ACCC': 203,\n",
       " 'ACN': 468,\n",
       " 'ACPG': 281,\n",
       " 'ACPP': 335,\n",
       " 'ACRM': 103,\n",
       " 'ADNOS': 28,\n",
       " 'AECA': 321,\n",
       " 'AGA': 466,\n",
       " 'AGNG': 406,\n",
       " 'AIS': 540,\n",
       " 'AITL': 190,\n",
       " 'ALCL': 378,\n",
       " 'ALL': 171,\n",
       " 'ALUCA': 151,\n",
       " 'AMBL': 386,\n",
       " 'AML': 9,\n",
       " 'AMOL': 302,\n",
       " 'AMPCA': 110,\n",
       " 'ANGL': 461,\n",
       " 'ANGS': 94,\n",
       " 'ANM': 293,\n",
       " 'ANSC': 77,\n",
       " 'AOAST': 128,\n",
       " 'AODG': 80,\n",
       " 'APAD': 73,\n",
       " 'APE': 202,\n",
       " 'APTAD': 425,\n",
       " 'APXA': 445,\n",
       " 'ARMM': 122,\n",
       " 'ARMS': 218,\n",
       " 'ASPS': 243,\n",
       " 'ASTB': 441,\n",
       " 'ASTR': 33,\n",
       " 'ATM': 150,\n",
       " 'ATRT': 460,\n",
       " 'AWDNET': 372,\n",
       " 'BA': 220,\n",
       " 'BALL': 63,\n",
       " 'BCC': 184,\n",
       " 'BCCA': 340,\n",
       " 'BCL': 111,\n",
       " 'BEC': 266,\n",
       " 'BGCT': 462,\n",
       " 'BIMT': 408,\n",
       " 'BL': 458,\n",
       " 'BLAD': 115,\n",
       " 'BLADDER': 519,\n",
       " 'BLCA': 7,\n",
       " 'BLCLC': 485,\n",
       " 'BLOOD': 209,\n",
       " 'BLSC': 250,\n",
       " 'BMGCT': 62,\n",
       " 'BMT': 404,\n",
       " 'BNNOS': 421,\n",
       " 'BONE': 486,\n",
       " 'BOWEL': 411,\n",
       " 'BPDCN': 333,\n",
       " 'BPSCC': 443,\n",
       " 'BRAIN': 518,\n",
       " 'BRAME': 507,\n",
       " 'BRCA': 18,\n",
       " 'BRCANOS': 56,\n",
       " 'BRCNOS': 66,\n",
       " 'BRSRCC': 457,\n",
       " 'BTOV': 382,\n",
       " 'BYST': 246,\n",
       " 'CACC': 487,\n",
       " 'CAIS': 463,\n",
       " 'CCE': 474,\n",
       " 'CCHDM': 523,\n",
       " 'CCHM': 505,\n",
       " 'CCLC': 538,\n",
       " 'CCOC': 476,\n",
       " 'CCOV': 70,\n",
       " 'CCPRC': 422,\n",
       " 'CCRCC': 15,\n",
       " 'CCS': 253,\n",
       " 'CDRCC': 254,\n",
       " 'CEAD': 208,\n",
       " 'CEAIS': 450,\n",
       " 'CEAS': 215,\n",
       " 'CECC': 350,\n",
       " 'CEEN': 282,\n",
       " 'CEMN': 409,\n",
       " 'CEMU': 161,\n",
       " 'CENE': 402,\n",
       " 'CESC': 76,\n",
       " 'CESE': 489,\n",
       " 'CHBL': 477,\n",
       " 'CHDM': 167,\n",
       " 'CHL': 273,\n",
       " 'CHM': 534,\n",
       " 'CHOL': 35,\n",
       " 'CHOS': 436,\n",
       " 'CHRCC': 126,\n",
       " 'CHS': 100,\n",
       " 'CLL': 53,\n",
       " 'CM': 471,\n",
       " 'CMC': 352,\n",
       " 'CML': 131,\n",
       " 'CMML': 141,\n",
       " 'CMPT': 467,\n",
       " 'CNC': 362,\n",
       " 'COAD': 2,\n",
       " 'COADREAD': 4,\n",
       " 'CPP': 499,\n",
       " 'CPT': 536,\n",
       " 'CSCC': 58,\n",
       " 'CSCHW': 481,\n",
       " 'CSCLC': 274,\n",
       " 'CSNOS': 506,\n",
       " 'CTAAP': 363,\n",
       " 'CTCL': 162,\n",
       " 'CUP': 17,\n",
       " 'CUPNOS': 127,\n",
       " 'DA': 155,\n",
       " 'DCIS': 143,\n",
       " 'DDCHS': 310,\n",
       " 'DDLS': 78,\n",
       " 'DES': 183,\n",
       " 'DESM': 231,\n",
       " 'DF': 437,\n",
       " 'DFSP': 269,\n",
       " 'DIFG': 87,\n",
       " 'DIPG': 446,\n",
       " 'DLBCL': 45,\n",
       " 'DMBL': 354,\n",
       " 'DNT': 532,\n",
       " 'DSRCT': 153,\n",
       " 'DSTAD': 299,\n",
       " 'EBOV': 539,\n",
       " 'ECAD': 98,\n",
       " 'ECD': 199,\n",
       " 'EGC': 121,\n",
       " 'EHAE': 239,\n",
       " 'EHCH': 119,\n",
       " 'EMBC': 475,\n",
       " 'EMBCA': 249,\n",
       " 'EMBT': 317,\n",
       " 'EMCHS': 324,\n",
       " 'EMPD': 296,\n",
       " 'EMPSGC': 498,\n",
       " 'EMYOCA': 342,\n",
       " 'EOV': 106,\n",
       " 'EPDCA': 289,\n",
       " 'EPIS': 204,\n",
       " 'EPM': 158,\n",
       " 'EPMT': 464,\n",
       " 'ERMS': 178,\n",
       " 'ES': 61,\n",
       " 'ESCA': 22,\n",
       " 'ESCC': 95,\n",
       " 'ESMM': 410,\n",
       " 'ESS': 295,\n",
       " 'ETC': 187,\n",
       " 'ETT': 473,\n",
       " 'EVN': 479,\n",
       " 'FDCS': 301,\n",
       " 'FIBS': 221,\n",
       " 'FIOS': 510,\n",
       " 'FL': 86,\n",
       " 'FLC': 188,\n",
       " 'FT': 509,\n",
       " 'GB': 20,\n",
       " 'GBC': 71,\n",
       " 'GBM': 8,\n",
       " 'GCCAP': 197,\n",
       " 'GCEMU': 291,\n",
       " 'GCLC': 385,\n",
       " 'GCT': 371,\n",
       " 'GCTB': 525,\n",
       " 'GEJ': 46,\n",
       " 'GINET': 84,\n",
       " 'GIST': 19,\n",
       " 'GMN': 456,\n",
       " 'GNBL': 494,\n",
       " 'GNC': 528,\n",
       " 'GNG': 222,\n",
       " 'GRCT': 109,\n",
       " 'GS': 512,\n",
       " 'GSARC': 166,\n",
       " 'GTD': 424,\n",
       " 'HCC': 34,\n",
       " 'HCCIHCH': 265,\n",
       " 'HCL': 284,\n",
       " 'HDCS': 279,\n",
       " 'HEAD_NECK': 353,\n",
       " 'HEMA': 355,\n",
       " 'HGESS': 366,\n",
       " 'HGGNOS': 117,\n",
       " 'HGNEC': 114,\n",
       " 'HGNET': 375,\n",
       " 'HGONEC': 482,\n",
       " 'HGSOC': 10,\n",
       " 'HGSOS': 322,\n",
       " 'HIST': 347,\n",
       " 'HMBL': 227,\n",
       " 'HNMASC': 303,\n",
       " 'HNMUCM': 136,\n",
       " 'HNNE': 217,\n",
       " 'HNSC': 38,\n",
       " 'HNSCUP': 196,\n",
       " 'HPCCNS': 365,\n",
       " 'HPHSC': 226,\n",
       " 'HTAT': 502,\n",
       " 'IAMPCA': 429,\n",
       " 'IBC': 262,\n",
       " 'ICEMU': 483,\n",
       " 'IDC': 1,\n",
       " 'IDCS': 535,\n",
       " 'IHCH': 39,\n",
       " 'ILC': 16,\n",
       " 'IMMC': 244,\n",
       " 'IMT': 286,\n",
       " 'IMTL': 500,\n",
       " 'INTS': 257,\n",
       " 'IPMN': 207,\n",
       " 'ISTAD': 234,\n",
       " 'LAIS': 275,\n",
       " 'LAM': 531,\n",
       " 'LCH': 198,\n",
       " 'LCIS': 541,\n",
       " 'LCLC': 210,\n",
       " 'LECLC': 478,\n",
       " 'LEUK': 147,\n",
       " 'LGCOS': 508,\n",
       " 'LGESS': 287,\n",
       " 'LGFMS': 367,\n",
       " 'LGGNOS': 152,\n",
       " 'LGLL': 418,\n",
       " 'LGNET': 524,\n",
       " 'LGSOC': 82,\n",
       " 'LIAS': 513,\n",
       " 'LIHB': 236,\n",
       " 'LIPO': 102,\n",
       " 'LMS': 30,\n",
       " 'LNET': 238,\n",
       " 'LUACC': 356,\n",
       " 'LUAD': 0,\n",
       " 'LUAS': 129,\n",
       " 'LUCA': 116,\n",
       " 'LUMEC': 428,\n",
       " 'LUNE': 83,\n",
       " 'LUNG': 311,\n",
       " 'LUPC': 271,\n",
       " 'LUSC': 13,\n",
       " 'LXSC': 125,\n",
       " 'MAAP': 81,\n",
       " 'MACR': 48,\n",
       " 'MALTL': 423,\n",
       " 'MBC': 145,\n",
       " 'MBCL': 444,\n",
       " 'MBL': 124,\n",
       " 'MBOV': 329,\n",
       " 'MBT': 268,\n",
       " 'MCC': 50,\n",
       " 'MCCE': 401,\n",
       " 'MCHS': 319,\n",
       " 'MCL': 194,\n",
       " 'MCN': 377,\n",
       " 'MDLC': 29,\n",
       " 'MDS': 24,\n",
       " 'MEL': 12,\n",
       " 'MF': 484,\n",
       " 'MFH': 65,\n",
       " 'MFS': 180,\n",
       " 'MGCT': 85,\n",
       " 'MIXED': 360,\n",
       " 'MLYM': 228,\n",
       " 'MM': 138,\n",
       " 'MMBC': 516,\n",
       " 'MNET': 358,\n",
       " 'MNG': 42,\n",
       " 'MNGT': 392,\n",
       " 'MOV': 142,\n",
       " 'MPE': 343,\n",
       " 'MPN': 160,\n",
       " 'MPNST': 157,\n",
       " 'MPT': 216,\n",
       " 'MRC': 130,\n",
       " 'MRLS': 164,\n",
       " 'MRT': 413,\n",
       " 'MSCHW': 435,\n",
       " 'MSTAD': 397,\n",
       " 'MT': 175,\n",
       " 'MTSCC': 400,\n",
       " 'MUCC': 144,\n",
       " 'MUP': 67,\n",
       " 'MXOV': 181,\n",
       " 'MYCF': 331,\n",
       " 'MYCHS': 320,\n",
       " 'MYEC': 233,\n",
       " 'MYF': 74,\n",
       " 'MYXO': 387,\n",
       " 'MZL': 224,\n",
       " 'NBL': 57,\n",
       " 'NCCRCC': 276,\n",
       " 'NECNOS': 69,\n",
       " 'NETNOS': 177,\n",
       " 'NFIB': 230,\n",
       " 'NHL': 223,\n",
       " 'NMCHN': 285,\n",
       " 'NPC': 118,\n",
       " 'NSCLC': 27,\n",
       " 'NSCLCPD': 54,\n",
       " 'NSGCT': 173,\n",
       " 'NST': 533,\n",
       " 'OAST': 193,\n",
       " 'OCS': 97,\n",
       " 'OCSC': 26,\n",
       " 'ODG': 47,\n",
       " 'ODGC': 440,\n",
       " 'OFMT': 432,\n",
       " 'OHNCA': 297,\n",
       " 'OIMT': 442,\n",
       " 'OM': 313,\n",
       " 'OMGCT': 391,\n",
       " 'OMT': 390,\n",
       " 'ONBL': 344,\n",
       " 'OOVC': 172,\n",
       " 'OPHSC': 41,\n",
       " 'OS': 68,\n",
       " 'OSACA': 240,\n",
       " 'OSMBT': 449,\n",
       " 'OSMCA': 399,\n",
       " 'OSOS': 434,\n",
       " 'OTHER': 52,\n",
       " 'OUSARC': 270,\n",
       " 'OUTT': 388,\n",
       " 'OVARY': 470,\n",
       " 'OVT': 96,\n",
       " 'OYST': 359,\n",
       " 'PAAC': 165,\n",
       " 'PAAD': 5,\n",
       " 'PAASC': 191,\n",
       " 'PAMPCA': 245,\n",
       " 'PANCREAS': 380,\n",
       " 'PANET': 40,\n",
       " 'PAST': 169,\n",
       " 'PB': 394,\n",
       " 'PBL': 384,\n",
       " 'PBS': 453,\n",
       " 'PBT': 206,\n",
       " 'PCGP': 527,\n",
       " 'PCNSM': 438,\n",
       " 'PCV': 149,\n",
       " 'PD': 379,\n",
       " 'PDC': 104,\n",
       " 'PECOMA': 235,\n",
       " 'PEL': 497,\n",
       " 'PEMESO': 134,\n",
       " 'PGNG': 189,\n",
       " 'PHC': 211,\n",
       " 'PHCH': 338,\n",
       " 'PINT': 530,\n",
       " 'PLBMESO': 123,\n",
       " 'PLEMESO': 43,\n",
       " 'PLLS': 225,\n",
       " 'PLMESO': 92,\n",
       " 'PLRMS': 327,\n",
       " 'PLSMESO': 219,\n",
       " 'PMA': 427,\n",
       " 'PNET': 229,\n",
       " 'POCA': 314,\n",
       " 'PPB': 537,\n",
       " 'PPTID': 341,\n",
       " 'PRAD': 3,\n",
       " 'PRCC': 75,\n",
       " 'PRNE': 192,\n",
       " 'PRSC': 503,\n",
       " 'PRSCC': 277,\n",
       " 'PSC': 514,\n",
       " 'PSCC': 214,\n",
       " 'PSTAD': 455,\n",
       " 'PT': 511,\n",
       " 'PTAD': 55,\n",
       " 'PTCA': 520,\n",
       " 'PTCL': 170,\n",
       " 'PTCY': 405,\n",
       " 'PTES': 383,\n",
       " 'PXA': 349,\n",
       " 'RAML': 267,\n",
       " 'RAS': 332,\n",
       " 'RBL': 280,\n",
       " 'RCC': 49,\n",
       " 'RCSNOS': 357,\n",
       " 'RD': 389,\n",
       " 'READ': 11,\n",
       " 'RGNT': 439,\n",
       " 'RHM': 416,\n",
       " 'RMS': 163,\n",
       " 'ROCY': 185,\n",
       " 'RSCC': 495,\n",
       " 'RWDNET': 242,\n",
       " 'SAAD': 241,\n",
       " 'SACA': 201,\n",
       " 'SARCL': 132,\n",
       " 'SARCNOS': 64,\n",
       " 'SBC': 89,\n",
       " 'SBMOV': 278,\n",
       " 'SBOV': 174,\n",
       " 'SBWDNET': 133,\n",
       " 'SCB': 376,\n",
       " 'SCBC': 283,\n",
       " 'SCCE': 328,\n",
       " 'SCCNOS': 108,\n",
       " 'SCCO': 348,\n",
       " 'SCCRCC': 312,\n",
       " 'SCEMU': 492,\n",
       " 'SCGBM': 361,\n",
       " 'SCHW': 156,\n",
       " 'SCLC': 31,\n",
       " 'SCOAH': 459,\n",
       " 'SCOS': 433,\n",
       " 'SCRMS': 306,\n",
       " 'SCST': 292,\n",
       " 'SCT': 337,\n",
       " 'SCUP': 300,\n",
       " 'SDCA': 105,\n",
       " 'SEBA': 336,\n",
       " 'SECOS': 480,\n",
       " 'SEF': 326,\n",
       " 'SELT': 334,\n",
       " 'SEZS': 526,\n",
       " 'SFT': 107,\n",
       " 'SFTCNS': 407,\n",
       " 'SGAD': 403,\n",
       " 'SIC': 179,\n",
       " 'SKAC': 255,\n",
       " 'SKCM': 6,\n",
       " 'SKCN': 529,\n",
       " 'SKIN': 447,\n",
       " 'SKLMM': 315,\n",
       " 'SLCT': 247,\n",
       " 'SLL': 213,\n",
       " 'SM': 308,\n",
       " 'SNA': 288,\n",
       " 'SNSC': 195,\n",
       " 'SNUC': 263,\n",
       " 'SOC': 25,\n",
       " 'SPC': 395,\n",
       " 'SPCC': 346,\n",
       " 'SPDAC': 186,\n",
       " 'SPIR': 515,\n",
       " 'SPN': 260,\n",
       " 'SRAP': 232,\n",
       " 'SRCBC': 305,\n",
       " 'SRCC': 330,\n",
       " 'SRCCR': 176,\n",
       " 'SSRCC': 154,\n",
       " 'STAD': 23,\n",
       " 'STAS': 504,\n",
       " 'STMYEC': 258,\n",
       " 'STOMACH': 517,\n",
       " 'STSC': 430,\n",
       " 'SUBE': 417,\n",
       " 'SWDNET': 364,\n",
       " 'SYNS': 101,\n",
       " 'TALL': 212,\n",
       " 'TCCA': 373,\n",
       " 'TESTIS': 469,\n",
       " 'TET': 454,\n",
       " 'TGCT': 501,\n",
       " 'THAP': 99,\n",
       " 'THFO': 139,\n",
       " 'THHC': 146,\n",
       " 'THME': 90,\n",
       " 'THPA': 21,\n",
       " 'THPD': 79,\n",
       " 'THYC': 112,\n",
       " 'THYM': 159,\n",
       " 'THYROID': 412,\n",
       " 'TLYM': 496,\n",
       " 'TMESO': 431,\n",
       " 'TMT': 309,\n",
       " 'TNET': 351,\n",
       " 'TNKL': 251,\n",
       " 'TRCC': 200,\n",
       " 'TSCST': 381,\n",
       " 'TSTAD': 316,\n",
       " 'TT': 256,\n",
       " 'TYST': 248,\n",
       " 'UA': 374,\n",
       " 'UAD': 304,\n",
       " 'UAS': 237,\n",
       " 'UASC': 451,\n",
       " 'UCA': 393,\n",
       " 'UCCA': 345,\n",
       " 'UCCC': 140,\n",
       " 'UCEC': 72,\n",
       " 'UCP': 259,\n",
       " 'UCS': 51,\n",
       " 'UCU': 252,\n",
       " 'UDDC': 368,\n",
       " 'UDMN': 182,\n",
       " 'UEC': 14,\n",
       " 'UELMS': 307,\n",
       " 'ULM': 426,\n",
       " 'ULMS': 59,\n",
       " 'UM': 91,\n",
       " 'UMC': 448,\n",
       " 'UMEC': 120,\n",
       " 'UMLMS': 325,\n",
       " 'UMNC': 465,\n",
       " 'UNEC': 323,\n",
       " 'UPDC': 414,\n",
       " 'UPECOMA': 264,\n",
       " 'URCA': 493,\n",
       " 'URCC': 93,\n",
       " 'URMM': 369,\n",
       " 'USARC': 472,\n",
       " 'USC': 36,\n",
       " 'USCC': 339,\n",
       " 'USMT': 452,\n",
       " 'USTAD': 522,\n",
       " 'USTUMP': 398,\n",
       " 'UTERUS': 488,\n",
       " 'UTUC': 44,\n",
       " 'UUC': 290,\n",
       " 'UUS': 294,\n",
       " 'VA': 396,\n",
       " 'VDYS': 420,\n",
       " 'VGCE': 491,\n",
       " 'VMGCT': 168,\n",
       " 'VMM': 148,\n",
       " 'VMT': 419,\n",
       " 'VOEC': 318,\n",
       " 'VPDC': 521,\n",
       " 'VSC': 113,\n",
       " 'VULVA': 490,\n",
       " 'VYST': 272,\n",
       " 'WDLS': 137,\n",
       " 'WDTC': 415,\n",
       " 'WM': 370,\n",
       " 'WT': 135}"
      ]
     },
     "execution_count": 203,
     "metadata": {},
     "output_type": "execute_result"
    }
   ],
   "source": [
    "cancer_rank"
   ]
  },
  {
   "cell_type": "code",
   "execution_count": 204,
   "metadata": {},
   "outputs": [
    {
     "data": {
      "text/plain": [
       "286"
      ]
     },
     "execution_count": 204,
     "metadata": {},
     "output_type": "execute_result"
    }
   ],
   "source": [
    "len(unmapped)"
   ]
  },
  {
   "cell_type": "code",
   "execution_count": 205,
   "metadata": {},
   "outputs": [
    {
     "data": {
      "text/plain": [
       "251.11857707509881"
      ]
     },
     "execution_count": 205,
     "metadata": {},
     "output_type": "execute_result"
    }
   ],
   "source": [
    "np.mean(mapped)"
   ]
  },
  {
   "cell_type": "code",
   "execution_count": 206,
   "metadata": {},
   "outputs": [
    {
     "data": {
      "text/plain": [
       "289.23076923076923"
      ]
     },
     "execution_count": 206,
     "metadata": {},
     "output_type": "execute_result"
    }
   ],
   "source": [
    "np.mean(unmapped)"
   ]
  },
  {
   "cell_type": "markdown",
   "metadata": {},
   "source": [
    "## Interpretation gene intersection search"
   ]
  },
  {
   "cell_type": "code",
   "execution_count": 207,
   "metadata": {
    "collapsed": true
   },
   "outputs": [],
   "source": [
    "a = core_vdb[0]\n",
    "f = genie_features[0]"
   ]
  },
  {
   "cell_type": "code",
   "execution_count": 208,
   "metadata": {},
   "outputs": [
    {
     "name": "stderr",
     "output_type": "stream",
     "text": [
      "/Users/awagner/Workspace/git/vicckb/vicckb/model.py:257: UserWarning: Ambiguous gene symbol MLL2 in assertion 235677252030682\n",
      "  warn('Ambiguous gene symbol {} in assertion {}'.format(g, self))\n"
     ]
    }
   ],
   "source": [
    "e_level = defaultdict(dict)\n",
    "gene_diseases = defaultdict(lambda: defaultdict(set))\n",
    "for association in core_vdb:\n",
    "    source = association.source\n",
    "    for gene in association.genes:\n",
    "        try:\n",
    "            disease = association.disease.id\n",
    "        except AttributeError:\n",
    "            continue\n",
    "        key = (gene.symbol, disease)\n",
    "        gene_diseases[source][gene.symbol].add(disease)\n",
    "        gene_diseases['aggregate'][gene.symbol].add(disease)\n",
    "        current = e_level[source].get(key, None)\n",
    "        new = association.evidence_level\n",
    "        if current is None or new < current:\n",
    "            e_level[source][key] = new\n",
    "        current = e_level['aggregate'].get(key, None)\n",
    "        if current is None or new < current:\n",
    "            e_level['aggregate'][key] = new"
   ]
  },
  {
   "cell_type": "code",
   "execution_count": 209,
   "metadata": {
    "collapsed": true
   },
   "outputs": [],
   "source": [
    "patient_gene_actionability = dict()\n",
    "for patient in featured_patients:\n",
    "    samples = patient_to_samples[patient]\n",
    "    actionable = np.zeros(24) # [0..5]: sources (exact), 6: combined, 7: deprecated. \n",
    "                              # +8 for +disease +16 for +dis/tier1\n",
    "    aggregate_gene_diseases = gene_diseases['aggregate']\n",
    "    aggregate_e_level = e_level['aggregate']\n",
    "    for sample in samples:\n",
    "        sample_disease = sample_to_doid[sample]\n",
    "        features = genie_features_by_sample[sample]\n",
    "        evidence_level = None\n",
    "        for feature in features:\n",
    "            feature_gene = feature.gene_symbol\n",
    "            if feature_gene not in aggregate_gene_diseases:\n",
    "                continue\n",
    "            actionable[6] = 1\n",
    "            for interpretation_disease in aggregate_gene_diseases[feature_gene]:\n",
    "                if disease_dist(interpretation_disease, sample_disease) >= 0:\n",
    "                    actionable[14] = 1\n",
    "                    if aggregate_e_level[(feature_gene, interpretation_disease)] in ['A', 'B']:\n",
    "                        actionable[22] = 1\n",
    "                        break\n",
    "            for i, source in enumerate(SOURCES):\n",
    "                source_e_level = e_level[source]\n",
    "                source_gene_diseases = gene_diseases[source]\n",
    "                if feature_gene not in source_gene_diseases:\n",
    "                    continue\n",
    "                actionable[i] = 1\n",
    "                if not actionable[14]:\n",
    "                    continue\n",
    "                for interpretation_disease in source_gene_diseases[feature_gene]:\n",
    "                    if disease_dist(interpretation_disease, sample_disease) >= 0:\n",
    "                        actionable[i + 8] = 1\n",
    "                        if source_e_level[(feature_gene, interpretation_disease)] in ['A', 'B']:\n",
    "                            actionable[i + 16] = 1\n",
    "                            break\n",
    "    patient_gene_actionability[patient] = actionable\n",
    "    \n",
    "gene_actionability_grid = np.array(list(patient_gene_actionability.values()))\n",
    "gene_actionability_sum = gene_actionability_grid.sum(axis=0)"
   ]
  },
  {
   "cell_type": "code",
   "execution_count": 210,
   "metadata": {},
   "outputs": [
    {
     "data": {
      "text/plain": [
       "array([[ 0.83992462,  0.84670348,  0.80835972,  0.76768655,  0.62310571,\n",
       "         0.73622635,  0.861439  ,  0.        ],\n",
       "       [ 0.5642945 ,  0.56811579,  0.58235402,  0.18305546,  0.35517052,\n",
       "         0.10361976,  0.60716623,  0.        ],\n",
       "       [ 0.13916298,  0.46920721,  0.2367629 ,  0.12107729,  0.09500877,\n",
       "         0.0678148 ,  0.49705551,  0.        ]])"
      ]
     },
     "execution_count": 210,
     "metadata": {},
     "output_type": "execute_result"
    }
   ],
   "source": [
    "(gene_actionability_sum / ALL_PATIENT_COUNT).reshape((3,8))"
   ]
  },
  {
   "cell_type": "code",
   "execution_count": 211,
   "metadata": {},
   "outputs": [
    {
     "data": {
      "image/png": "[encoded data removed]",
      "text/plain": [
       "<matplotlib.figure.Figure at 0x1c4cf93c8>"
      ]
     },
     "metadata": {},
     "output_type": "display_data"
    }
   ],
   "source": [
    "fig, ax = plt.subplots(figsize=(7.5,3))\n",
    "\n",
    "counts = gene_actionability_sum\n",
    "groups = ['Variant', 'Variant + Disease', 'Variant + Disease + Tier I']\n",
    "subs = SOURCES + ('aggregate',)\n",
    "width = 0.15\n",
    "plot_elements = list()\n",
    "resource_ind = np.arange(3)\n",
    "\n",
    "# for i, source in enumerate(subs):\n",
    "#     x = np.array([gene_actionability_sum[i + 24], gene_actionability_sum[i + 32], 0]) / gene_actionability_grid.shape[0]\n",
    "#     ind = np.array((i, i+12, i+24)) * width\n",
    "#     p = ax.bar(ind, x, width, label=source, color='black')\n",
    "#     plot_elements.append(p)\n",
    "\n",
    "for i, source in enumerate(subs):\n",
    "    x = np.array([gene_actionability_sum[i], gene_actionability_sum[i + 8], gene_actionability_sum[i + 16]]) / ALL_PATIENT_COUNT\n",
    "    ind = np.array((i, i+12, i+24)) * width\n",
    "    p = ax.bar(ind, x, width, label=source)\n",
    "    plot_elements.append(p)\n",
    "\n",
    "ax.set_xticks(ind - 3*width)\n",
    "# ax.set_xticklabels(groups, rotation='vertical')\n",
    "handles, labels = ax.get_legend_handles_labels()\n",
    "# half_idx = len(labels) // 2\n",
    "half_idx = 0\n",
    "lgd = ax.legend(handles[half_idx:], labels[half_idx:], title='Search Type',\n",
    "          bbox_to_anchor=(1,1)\n",
    "         )\n",
    "plt.ylabel('% Cohort with Interpretations')\n",
    "\n",
    "plt.show()\n",
    "fig.savefig(str(FIGPATH / 'misc_figures' / 'genie_gene_actionability.pdf'), format='pdf',\n",
    "            bbox_extra_artists=(lgd, ), bbox_inches='tight'\n",
    "           )"
   ]
  },
  {
   "cell_type": "markdown",
   "metadata": {
    "collapsed": true
   },
   "source": [
    "# Quantitative value of harmonization"
   ]
  },
  {
   "cell_type": "markdown",
   "metadata": {},
   "source": [
    "## Genes"
   ]
  },
  {
   "cell_type": "code",
   "execution_count": 212,
   "metadata": {
    "collapsed": true
   },
   "outputs": [],
   "source": [
    "raw_genes = list()"
   ]
  },
  {
   "cell_type": "markdown",
   "metadata": {},
   "source": [
    "### CGI"
   ]
  },
  {
   "cell_type": "code",
   "execution_count": 213,
   "metadata": {
    "collapsed": true
   },
   "outputs": [],
   "source": [
    "def create_raw_cgi_genes(vdb):\n",
    "    cgi = vdb.by_source('cgi')\n",
    "    genes = list()\n",
    "    for interpretation in cgi:\n",
    "        for gene in interpretation['raw']['Gene'].split(';'):\n",
    "            genes.append(gene)\n",
    "    return genes"
   ]
  },
  {
   "cell_type": "code",
   "execution_count": 214,
   "metadata": {
    "collapsed": true
   },
   "outputs": [],
   "source": [
    "cgi_genes = create_raw_cgi_genes(core_vdb)"
   ]
  },
  {
   "cell_type": "code",
   "execution_count": 215,
   "metadata": {
    "collapsed": true
   },
   "outputs": [],
   "source": [
    "raw_genes.extend(set(cgi_genes))"
   ]
  },
  {
   "cell_type": "markdown",
   "metadata": {},
   "source": [
    "### CIViC"
   ]
  },
  {
   "cell_type": "code",
   "execution_count": 216,
   "metadata": {
    "collapsed": true
   },
   "outputs": [],
   "source": [
    "def create_raw_civic_genes(vdb):\n",
    "    civic = vdb.by_source('civic')\n",
    "    genes = list()\n",
    "    for interpretation in civic:\n",
    "        genes.append(interpretation['raw']['entrez_name'])\n",
    "    return genes"
   ]
  },
  {
   "cell_type": "code",
   "execution_count": 217,
   "metadata": {
    "collapsed": true
   },
   "outputs": [],
   "source": [
    "civic_genes = create_raw_civic_genes(core_vdb)"
   ]
  },
  {
   "cell_type": "code",
   "execution_count": 218,
   "metadata": {
    "collapsed": true
   },
   "outputs": [],
   "source": [
    "raw_genes.extend(set(civic_genes))"
   ]
  },
  {
   "cell_type": "markdown",
   "metadata": {},
   "source": [
    "### JAX-CKB"
   ]
  },
  {
   "cell_type": "code",
   "execution_count": 219,
   "metadata": {
    "collapsed": true
   },
   "outputs": [],
   "source": [
    "def create_raw_jax_genes(vdb):\n",
    "    jax = vdb.by_source('jax')\n",
    "    genes = list()\n",
    "    for interpretation in jax:\n",
    "        for gene in interpretation['genes']:\n",
    "            genes.append(gene.strip())\n",
    "    return genes"
   ]
  },
  {
   "cell_type": "code",
   "execution_count": 220,
   "metadata": {
    "collapsed": true
   },
   "outputs": [],
   "source": [
    "jax_genes = create_raw_jax_genes(core_vdb)"
   ]
  },
  {
   "cell_type": "code",
   "execution_count": 221,
   "metadata": {
    "collapsed": true
   },
   "outputs": [],
   "source": [
    "raw_genes.extend(set(jax_genes))"
   ]
  },
  {
   "cell_type": "markdown",
   "metadata": {},
   "source": [
    "### MolecularMatch"
   ]
  },
  {
   "cell_type": "code",
   "execution_count": 222,
   "metadata": {
    "collapsed": true
   },
   "outputs": [],
   "source": [
    "def create_raw_molecularmatch_genes(vdb):\n",
    "    mm = vdb.by_source('molecularmatch')\n",
    "    genes = list()\n",
    "    for interpretation in mm:\n",
    "        genes2 = interpretation['raw'].get('includeGene0', None)\n",
    "        if not genes2:\n",
    "            genes2 = interpretation['raw'].get('includeGene1', None)\n",
    "        if genes2:\n",
    "            genes.extend(genes2)\n",
    "    return genes"
   ]
  },
  {
   "cell_type": "code",
   "execution_count": 223,
   "metadata": {
    "collapsed": true
   },
   "outputs": [],
   "source": [
    "mm_genes = create_raw_molecularmatch_genes(core_vdb)"
   ]
  },
  {
   "cell_type": "code",
   "execution_count": 224,
   "metadata": {
    "collapsed": true
   },
   "outputs": [],
   "source": [
    "raw_genes.extend(set(mm_genes))"
   ]
  },
  {
   "cell_type": "markdown",
   "metadata": {},
   "source": [
    "### OncoKB"
   ]
  },
  {
   "cell_type": "code",
   "execution_count": 225,
   "metadata": {
    "collapsed": true
   },
   "outputs": [],
   "source": [
    "def create_raw_okb_genes(vdb):\n",
    "    okb = vdb.by_source('oncokb')\n",
    "    genes = list()\n",
    "    for interpretation in okb:\n",
    "        gene = interpretation['raw']['clinical']['gene']\n",
    "        genes.append(gene)\n",
    "    return genes"
   ]
  },
  {
   "cell_type": "code",
   "execution_count": 226,
   "metadata": {
    "collapsed": true
   },
   "outputs": [],
   "source": [
    "okb_genes = create_raw_okb_genes(core_vdb)"
   ]
  },
  {
   "cell_type": "code",
   "execution_count": 227,
   "metadata": {
    "collapsed": true
   },
   "outputs": [],
   "source": [
    "raw_genes.extend(set(okb_genes))"
   ]
  },
  {
   "cell_type": "markdown",
   "metadata": {},
   "source": [
    "### PMKB"
   ]
  },
  {
   "cell_type": "code",
   "execution_count": 228,
   "metadata": {
    "collapsed": true
   },
   "outputs": [],
   "source": [
    "def create_raw_pmkb_genes(vdb):\n",
    "    pmkb = vdb.by_source('pmkb')\n",
    "    genes = list()\n",
    "    for interpretation in pmkb:\n",
    "        gene = interpretation['raw']['variant']['gene']['name']\n",
    "        genes.append(gene)\n",
    "    return genes"
   ]
  },
  {
   "cell_type": "code",
   "execution_count": 229,
   "metadata": {
    "collapsed": true
   },
   "outputs": [],
   "source": [
    "pmkb_genes = create_raw_pmkb_genes(core_vdb)"
   ]
  },
  {
   "cell_type": "code",
   "execution_count": 230,
   "metadata": {
    "collapsed": true
   },
   "outputs": [],
   "source": [
    "raw_genes.extend(set(pmkb_genes))"
   ]
  },
  {
   "cell_type": "markdown",
   "metadata": {},
   "source": [
    "### Harmonized genes"
   ]
  },
  {
   "cell_type": "code",
   "execution_count": 231,
   "metadata": {},
   "outputs": [
    {
     "name": "stdout",
     "output_type": "stream",
     "text": [
      "molecularmatch: 109\n",
      "civic: 296\n",
      "pmkb: 42\n",
      "oncokb: 44\n",
      "jax: 107\n",
      "cgi: 182\n"
     ]
    },
    {
     "name": "stderr",
     "output_type": "stream",
     "text": [
      "/Users/awagner/Workspace/git/vicckb/vicckb/model.py:257: UserWarning: Ambiguous gene symbol MLL2 in assertion 235677252030682\n",
      "  warn('Ambiguous gene symbol {} in assertion {}'.format(g, self))\n"
     ]
    }
   ],
   "source": [
    "h_genes = list()\n",
    "\n",
    "for source in core_vdb.sources:\n",
    "    unique_source_genes = set()\n",
    "    for interpretation in core_vdb.by_source(source):\n",
    "        for gene in interpretation.genes:\n",
    "            unique_source_genes.add(gene.symbol)\n",
    "    print(f'{source}: {len(unique_source_genes)}')\n",
    "    h_genes.extend(unique_source_genes)"
   ]
  },
  {
   "cell_type": "markdown",
   "metadata": {},
   "source": [
    "### Comparison"
   ]
  },
  {
   "cell_type": "code",
   "execution_count": 232,
   "metadata": {
    "collapsed": true
   },
   "outputs": [],
   "source": [
    "raw_start = len(raw_genes)\n",
    "raw_uniq = len(set(raw_genes))\n",
    "h_start = len(h_genes)\n",
    "h_uniq = len(set(h_genes))"
   ]
  },
  {
   "cell_type": "code",
   "execution_count": 233,
   "metadata": {},
   "outputs": [
    {
     "data": {
      "text/plain": [
       "0.46282051282051284"
      ]
     },
     "execution_count": 233,
     "metadata": {},
     "output_type": "execute_result"
    }
   ],
   "source": [
    "1 - (h_uniq / h_start)"
   ]
  },
  {
   "cell_type": "code",
   "execution_count": 234,
   "metadata": {},
   "outputs": [
    {
     "data": {
      "text/plain": [
       "0.44956413449564137"
      ]
     },
     "execution_count": 234,
     "metadata": {},
     "output_type": "execute_result"
    }
   ],
   "source": [
    "1 - (raw_uniq / raw_start)"
   ]
  },
  {
   "cell_type": "markdown",
   "metadata": {},
   "source": [
    "## Variants"
   ]
  },
  {
   "cell_type": "code",
   "execution_count": 235,
   "metadata": {
    "collapsed": true
   },
   "outputs": [],
   "source": [
    "raw_features = list()"
   ]
  },
  {
   "cell_type": "markdown",
   "metadata": {},
   "source": [
    "### CGI"
   ]
  },
  {
   "cell_type": "code",
   "execution_count": 236,
   "metadata": {
    "collapsed": true
   },
   "outputs": [],
   "source": [
    "hgvs_re = re.compile(r'(.*):g.(\\d+)(\\w+)>(\\w+)')\n",
    "\n",
    "def hgvs_to_coords(hgvs):\n",
    "    match = hgvs_re.match(hgvs)\n",
    "    if not match:\n",
    "        return None\n",
    "    groups = match.groups()\n",
    "    return (str(groups[0]), int(groups[1]), int(groups[1]) + len(groups[2]) - 1)\n",
    "\n",
    "def create_raw_cgi_features(vdb):\n",
    "    cgi = vdb.by_source('cgi')\n",
    "    features = list()\n",
    "    for interpretation in cgi:\n",
    "        for f in interpretation['raw']['gDNA']:\n",
    "            if not f:\n",
    "                continue\n",
    "            coords = hgvs_to_coords(f)\n",
    "            if coords:\n",
    "                features.append(coords)\n",
    "    return features\n",
    "            "
   ]
  },
  {
   "cell_type": "code",
   "execution_count": 237,
   "metadata": {
    "collapsed": true
   },
   "outputs": [],
   "source": [
    "cgi_features = create_raw_cgi_features(core_vdb)"
   ]
  },
  {
   "cell_type": "code",
   "execution_count": 238,
   "metadata": {},
   "outputs": [
    {
     "data": {
      "text/plain": [
       "283"
      ]
     },
     "execution_count": 238,
     "metadata": {},
     "output_type": "execute_result"
    }
   ],
   "source": [
    "len(set(cgi_features))"
   ]
  },
  {
   "cell_type": "code",
   "execution_count": 239,
   "metadata": {
    "collapsed": true
   },
   "outputs": [],
   "source": [
    "raw_features.extend(set(cgi_features))"
   ]
  },
  {
   "cell_type": "markdown",
   "metadata": {},
   "source": [
    "### CIViC"
   ]
  },
  {
   "cell_type": "code",
   "execution_count": 240,
   "metadata": {
    "collapsed": true
   },
   "outputs": [],
   "source": [
    "def create_raw_civic_features(vdb):\n",
    "    civic = vdb.by_source('civic')\n",
    "    features = list()\n",
    "    harmonized_features = list()\n",
    "    for interpretation in civic:\n",
    "        coordinates = interpretation['raw']['coordinates']\n",
    "        gf = (\n",
    "            coordinates['chromosome'],\n",
    "            coordinates['start'],\n",
    "            coordinates['stop'],\n",
    "#             coordinates['variant_bases']\n",
    "        )\n",
    "        if not all(gf[:3]):\n",
    "            continue\n",
    "        features.append(gf)\n",
    "    return features"
   ]
  },
  {
   "cell_type": "code",
   "execution_count": 241,
   "metadata": {
    "collapsed": true
   },
   "outputs": [],
   "source": [
    "civic_features = create_raw_civic_features(core_vdb)"
   ]
  },
  {
   "cell_type": "code",
   "execution_count": 242,
   "metadata": {},
   "outputs": [
    {
     "data": {
      "text/plain": [
       "710"
      ]
     },
     "execution_count": 242,
     "metadata": {},
     "output_type": "execute_result"
    }
   ],
   "source": [
    "len(set(civic_features))"
   ]
  },
  {
   "cell_type": "code",
   "execution_count": 243,
   "metadata": {
    "collapsed": true
   },
   "outputs": [],
   "source": [
    "raw_features.extend(set(civic_features))"
   ]
  },
  {
   "cell_type": "markdown",
   "metadata": {},
   "source": [
    "### JAX-CKB"
   ]
  },
  {
   "cell_type": "markdown",
   "metadata": {},
   "source": [
    "There is nothing to do for this resource. Without harmonization or inference routines, cannot ascribe variant names to coordinates."
   ]
  },
  {
   "cell_type": "markdown",
   "metadata": {},
   "source": [
    "### MolecularMatch"
   ]
  },
  {
   "cell_type": "code",
   "execution_count": 244,
   "metadata": {
    "collapsed": true
   },
   "outputs": [],
   "source": [
    "def create_raw_molecularmatch_features(vdb):\n",
    "    features = list()\n",
    "    mm = vdb.by_source('molecularmatch')\n",
    "    for interpretation in mm:\n",
    "        for mutation in interpretation['raw']['mutations']:\n",
    "            try:\n",
    "                coords = mutation['GRCh37_location'][0] # Take first coord only\n",
    "            except IndexError:\n",
    "                continue\n",
    "            try:\n",
    "                start = int(coords['start'])\n",
    "                stop = int(coords['stop'])\n",
    "            except TypeError:\n",
    "                continue\n",
    "            assert start <= stop\n",
    "            chromosome = coords['chr']\n",
    "            alt = coords['alt']\n",
    "            if not all([chromosome, start, stop]):\n",
    "                continue\n",
    "            f = (chromosome, start, stop)\n",
    "            features.append(f)\n",
    "    return features\n",
    "    "
   ]
  },
  {
   "cell_type": "code",
   "execution_count": 245,
   "metadata": {
    "collapsed": true
   },
   "outputs": [],
   "source": [
    "mm_features = create_raw_molecularmatch_features(core_vdb)"
   ]
  },
  {
   "cell_type": "code",
   "execution_count": 246,
   "metadata": {},
   "outputs": [
    {
     "data": {
      "text/plain": [
       "427"
      ]
     },
     "execution_count": 246,
     "metadata": {},
     "output_type": "execute_result"
    }
   ],
   "source": [
    "len(set(mm_features))"
   ]
  },
  {
   "cell_type": "code",
   "execution_count": 247,
   "metadata": {
    "collapsed": true
   },
   "outputs": [],
   "source": [
    "raw_features.extend(set(mm_features))"
   ]
  },
  {
   "cell_type": "markdown",
   "metadata": {},
   "source": [
    "### OncoKB"
   ]
  },
  {
   "cell_type": "markdown",
   "metadata": {},
   "source": [
    "All mutations at protein level."
   ]
  },
  {
   "cell_type": "markdown",
   "metadata": {},
   "source": [
    "### PMKB"
   ]
  },
  {
   "cell_type": "code",
   "execution_count": 248,
   "metadata": {
    "collapsed": true
   },
   "outputs": [],
   "source": [
    "def create_raw_pmkb_features(vdb):\n",
    "    features = list()\n",
    "    pmkb = vdb.by_source('pmkb')\n",
    "    for interpretation in pmkb:\n",
    "        coordinates = interpretation['raw']['variant']['coordinates']\n",
    "        for coordinate in coordinates.split(', '):\n",
    "            chromosome, r = coordinate.split(':')\n",
    "            start, stop = r.split('-')\n",
    "            features.append((chromosome, int(start), int(stop)))\n",
    "    return features"
   ]
  },
  {
   "cell_type": "code",
   "execution_count": 249,
   "metadata": {
    "collapsed": true
   },
   "outputs": [],
   "source": [
    "pmkb_features = create_raw_pmkb_features(core_vdb)"
   ]
  },
  {
   "cell_type": "code",
   "execution_count": 250,
   "metadata": {},
   "outputs": [
    {
     "data": {
      "text/plain": [
       "161"
      ]
     },
     "execution_count": 250,
     "metadata": {},
     "output_type": "execute_result"
    }
   ],
   "source": [
    "len(set(pmkb_features))"
   ]
  },
  {
   "cell_type": "code",
   "execution_count": 251,
   "metadata": {
    "collapsed": true
   },
   "outputs": [],
   "source": [
    "raw_features.extend(set(pmkb_features))"
   ]
  },
  {
   "cell_type": "markdown",
   "metadata": {},
   "source": [
    "### Harmonized features"
   ]
  },
  {
   "cell_type": "code",
   "execution_count": 252,
   "metadata": {},
   "outputs": [
    {
     "name": "stdout",
     "output_type": "stream",
     "text": [
      "molecularmatch: 676\n",
      "civic: 850\n",
      "pmkb: 164\n",
      "oncokb: 652\n",
      "jax: 725\n",
      "cgi: 1600\n"
     ]
    }
   ],
   "source": [
    "h_features = list()\n",
    "\n",
    "for source in core_vdb.sources:\n",
    "    unique_source_features = set([x[0] for x in core_vdb.by_source(source).features])\n",
    "    print(f'{source}: {len(unique_source_features)}')\n",
    "    h_features.extend(unique_source_features)"
   ]
  },
  {
   "cell_type": "code",
   "execution_count": 253,
   "metadata": {},
   "outputs": [
    {
     "data": {
      "text/plain": [
       "4667"
      ]
     },
     "execution_count": 253,
     "metadata": {},
     "output_type": "execute_result"
    }
   ],
   "source": [
    "len(h_features)"
   ]
  },
  {
   "cell_type": "markdown",
   "metadata": {},
   "source": [
    "### Comparison"
   ]
  },
  {
   "cell_type": "code",
   "execution_count": 254,
   "metadata": {
    "collapsed": true
   },
   "outputs": [],
   "source": [
    "raw_start = len(raw_features)\n",
    "raw_uniq = len(set(raw_features))\n",
    "h_start = len(h_features)\n",
    "h_uniq = len(set(h_features))"
   ]
  },
  {
   "cell_type": "code",
   "execution_count": 255,
   "metadata": {},
   "outputs": [
    {
     "data": {
      "text/plain": [
       "0.2635526033854725"
      ]
     },
     "execution_count": 255,
     "metadata": {},
     "output_type": "execute_result"
    }
   ],
   "source": [
    "1 - (h_uniq / h_start)"
   ]
  },
  {
   "cell_type": "code",
   "execution_count": 256,
   "metadata": {},
   "outputs": [
    {
     "data": {
      "text/plain": [
       "0.07969639468690703"
      ]
     },
     "execution_count": 256,
     "metadata": {},
     "output_type": "execute_result"
    }
   ],
   "source": [
    "1 - (raw_uniq / raw_start)"
   ]
  },
  {
   "cell_type": "markdown",
   "metadata": {},
   "source": [
    "## Diseases"
   ]
  },
  {
   "cell_type": "code",
   "execution_count": 257,
   "metadata": {
    "collapsed": true
   },
   "outputs": [],
   "source": [
    "raw_diseases = list()"
   ]
  },
  {
   "cell_type": "markdown",
   "metadata": {},
   "source": [
    "### CGI"
   ]
  },
  {
   "cell_type": "code",
   "execution_count": 258,
   "metadata": {
    "collapsed": true
   },
   "outputs": [],
   "source": [
    "def create_raw_cgi_diseases(vdb):\n",
    "    cgi = vdb.by_source('cgi')\n",
    "    diseases = list()\n",
    "    for interpretation in cgi:\n",
    "        for d in interpretation['raw']['Primary Tumor type'].split(';'):\n",
    "            diseases.append(d.lower())\n",
    "    return diseases"
   ]
  },
  {
   "cell_type": "code",
   "execution_count": 259,
   "metadata": {
    "collapsed": true
   },
   "outputs": [],
   "source": [
    "cgi_diseases = create_raw_cgi_diseases(core_vdb)"
   ]
  },
  {
   "cell_type": "code",
   "execution_count": 260,
   "metadata": {
    "collapsed": true
   },
   "outputs": [],
   "source": [
    "raw_diseases.extend(set(cgi_diseases))"
   ]
  },
  {
   "cell_type": "markdown",
   "metadata": {},
   "source": [
    "### CIViC"
   ]
  },
  {
   "cell_type": "code",
   "execution_count": 261,
   "metadata": {
    "collapsed": true
   },
   "outputs": [],
   "source": [
    "def create_raw_civic_diseases(vdb):\n",
    "    civic = vdb.by_source('civic')\n",
    "    diseases = list()\n",
    "    for interpretation in civic:\n",
    "        disease = interpretation['raw']['evidence_items'][0]['disease']['display_name']\n",
    "        diseases.append(disease.lower())\n",
    "    return diseases"
   ]
  },
  {
   "cell_type": "code",
   "execution_count": 262,
   "metadata": {
    "collapsed": true
   },
   "outputs": [],
   "source": [
    "civic_diseases = create_raw_civic_diseases(core_vdb)"
   ]
  },
  {
   "cell_type": "code",
   "execution_count": 263,
   "metadata": {
    "collapsed": true
   },
   "outputs": [],
   "source": [
    "raw_diseases.extend(set(civic_diseases))"
   ]
  },
  {
   "cell_type": "markdown",
   "metadata": {},
   "source": [
    "### JAX-CKB"
   ]
  },
  {
   "cell_type": "code",
   "execution_count": 264,
   "metadata": {
    "collapsed": true
   },
   "outputs": [],
   "source": [
    "def create_raw_jax_diseases(vdb):\n",
    "    jax = vdb.by_source('jax')\n",
    "    diseases = list()\n",
    "    for interpretation in jax:\n",
    "        disease = interpretation['raw']['indication']['name']\n",
    "        diseases.append(disease.lower())\n",
    "    return diseases"
   ]
  },
  {
   "cell_type": "code",
   "execution_count": 265,
   "metadata": {
    "collapsed": true
   },
   "outputs": [],
   "source": [
    "jax_diseases = create_raw_jax_diseases(core_vdb)"
   ]
  },
  {
   "cell_type": "code",
   "execution_count": 266,
   "metadata": {
    "collapsed": true
   },
   "outputs": [],
   "source": [
    "raw_diseases.extend(set(jax_diseases))"
   ]
  },
  {
   "cell_type": "markdown",
   "metadata": {},
   "source": [
    "### MolecularMatch"
   ]
  },
  {
   "cell_type": "code",
   "execution_count": 267,
   "metadata": {
    "collapsed": true
   },
   "outputs": [],
   "source": [
    "def create_raw_mm_diseases(vdb):\n",
    "    mm = vdb.by_source('molecularmatch')\n",
    "    diseases = list()\n",
    "    for interpretation in mm:\n",
    "        disease = interpretation['raw']['includeCondition1'][0]\n",
    "        diseases.append(disease.lower())\n",
    "    return diseases"
   ]
  },
  {
   "cell_type": "code",
   "execution_count": 268,
   "metadata": {
    "collapsed": true
   },
   "outputs": [],
   "source": [
    "mm_diseases = create_raw_mm_diseases(core_vdb)"
   ]
  },
  {
   "cell_type": "code",
   "execution_count": 269,
   "metadata": {
    "collapsed": true
   },
   "outputs": [],
   "source": [
    "raw_diseases.extend(set(mm_diseases))"
   ]
  },
  {
   "cell_type": "markdown",
   "metadata": {},
   "source": [
    "### OncoKB"
   ]
  },
  {
   "cell_type": "code",
   "execution_count": 270,
   "metadata": {
    "collapsed": true
   },
   "outputs": [],
   "source": [
    "def create_raw_okb_diseases(vdb):\n",
    "    okb = vdb.by_source('oncokb')\n",
    "    diseases = list()\n",
    "    for interpretation in okb:\n",
    "        disease = interpretation['raw']['clinical']['cancerType']\n",
    "        diseases.append(disease.lower())\n",
    "    return diseases"
   ]
  },
  {
   "cell_type": "code",
   "execution_count": 271,
   "metadata": {
    "collapsed": true
   },
   "outputs": [],
   "source": [
    "okb_diseases = create_raw_okb_diseases(core_vdb)"
   ]
  },
  {
   "cell_type": "code",
   "execution_count": 272,
   "metadata": {
    "collapsed": true
   },
   "outputs": [],
   "source": [
    "raw_diseases.extend(set(okb_diseases))"
   ]
  },
  {
   "cell_type": "markdown",
   "metadata": {},
   "source": [
    "### PMKB"
   ]
  },
  {
   "cell_type": "code",
   "execution_count": 273,
   "metadata": {
    "collapsed": true
   },
   "outputs": [],
   "source": [
    "def create_raw_pmkb_diseases(vdb):\n",
    "    pmkb = vdb.by_source('pmkb')\n",
    "    diseases = list()\n",
    "    for interpretation in pmkb:\n",
    "        for tissue in interpretation['raw']['tissues']:\n",
    "            disease = ' '.join([tissue['name'], interpretation['raw']['tumor']['name']])\n",
    "            diseases.append(disease.lower())\n",
    "    return diseases"
   ]
  },
  {
   "cell_type": "code",
   "execution_count": 274,
   "metadata": {
    "collapsed": true
   },
   "outputs": [],
   "source": [
    "pmkb_diseases = create_raw_pmkb_diseases(core_vdb)"
   ]
  },
  {
   "cell_type": "code",
   "execution_count": 275,
   "metadata": {
    "collapsed": true
   },
   "outputs": [],
   "source": [
    "raw_diseases.extend(set(pmkb_diseases))"
   ]
  },
  {
   "cell_type": "markdown",
   "metadata": {},
   "source": [
    "### Harmonized diseases"
   ]
  },
  {
   "cell_type": "code",
   "execution_count": 276,
   "metadata": {},
   "outputs": [
    {
     "name": "stdout",
     "output_type": "stream",
     "text": [
      "molecularmatch: 12\n",
      "civic: 190\n",
      "pmkb: 46\n",
      "oncokb: 36\n",
      "jax: 205\n",
      "cgi: 123\n"
     ]
    }
   ],
   "source": [
    "h_diseases = list()\n",
    "\n",
    "for source in core_vdb.sources:\n",
    "    unique_source_diseases = set([x.disease.term for x in core_vdb.by_source(source) if x.disease])\n",
    "    print(f'{source}: {len(unique_source_diseases)}')\n",
    "    h_diseases.extend(unique_source_diseases)"
   ]
  },
  {
   "cell_type": "code",
   "execution_count": 277,
   "metadata": {},
   "outputs": [
    {
     "data": {
      "text/plain": [
       "612"
      ]
     },
     "execution_count": 277,
     "metadata": {},
     "output_type": "execute_result"
    }
   ],
   "source": [
    "len(h_diseases)"
   ]
  },
  {
   "cell_type": "markdown",
   "metadata": {},
   "source": [
    "### Comparison"
   ]
  },
  {
   "cell_type": "code",
   "execution_count": 278,
   "metadata": {
    "collapsed": true
   },
   "outputs": [],
   "source": [
    "raw_start = len(raw_diseases)\n",
    "raw_uniq = len(set(raw_diseases))\n",
    "h_start = len(h_diseases)\n",
    "h_uniq = len(set(h_diseases))"
   ]
  },
  {
   "cell_type": "code",
   "execution_count": 279,
   "metadata": {},
   "outputs": [
    {
     "data": {
      "text/plain": [
       "0.3790849673202614"
      ]
     },
     "execution_count": 279,
     "metadata": {},
     "output_type": "execute_result"
    }
   ],
   "source": [
    "1 - (h_uniq / h_start)"
   ]
  },
  {
   "cell_type": "code",
   "execution_count": 280,
   "metadata": {},
   "outputs": [
    {
     "data": {
      "text/plain": [
       "0.2680722891566265"
      ]
     },
     "execution_count": 280,
     "metadata": {},
     "output_type": "execute_result"
    }
   ],
   "source": [
    "1 - (raw_uniq / raw_start)"
   ]
  },
  {
   "cell_type": "markdown",
   "metadata": {},
   "source": [
    "## Drugs"
   ]
  },
  {
   "cell_type": "code",
   "execution_count": 281,
   "metadata": {
    "collapsed": true
   },
   "outputs": [],
   "source": [
    "raw_drugs = list()"
   ]
  },
  {
   "cell_type": "markdown",
   "metadata": {},
   "source": [
    "### CGI"
   ]
  },
  {
   "cell_type": "code",
   "execution_count": 282,
   "metadata": {
    "collapsed": true
   },
   "outputs": [],
   "source": [
    "def create_raw_cgi_drugs(vdb):\n",
    "    cgi = vdb.by_source('cgi')\n",
    "    drugs = list()\n",
    "    for interpretation in cgi:\n",
    "        for drug in interpretation['raw']['Drug full name'].split('+'):\n",
    "            drugs.append(drug.strip().lower())\n",
    "    return drugs"
   ]
  },
  {
   "cell_type": "code",
   "execution_count": 283,
   "metadata": {
    "collapsed": true
   },
   "outputs": [],
   "source": [
    "cgi_drugs = create_raw_cgi_drugs(core_vdb)"
   ]
  },
  {
   "cell_type": "code",
   "execution_count": 284,
   "metadata": {
    "collapsed": true
   },
   "outputs": [],
   "source": [
    "raw_drugs.extend(set(cgi_drugs))"
   ]
  },
  {
   "cell_type": "markdown",
   "metadata": {},
   "source": [
    "### CIViC"
   ]
  },
  {
   "cell_type": "code",
   "execution_count": 285,
   "metadata": {
    "collapsed": true
   },
   "outputs": [],
   "source": [
    "def create_raw_civic_drugs(vdb):\n",
    "    civic = vdb.by_source('civic')\n",
    "    drugs = list()\n",
    "    for interpretation in civic:\n",
    "        for drug in interpretation['raw']['evidence_items'][0]['drugs']:\n",
    "            drugs.append(drug['name'].lower())\n",
    "    return drugs"
   ]
  },
  {
   "cell_type": "code",
   "execution_count": 286,
   "metadata": {
    "collapsed": true
   },
   "outputs": [],
   "source": [
    "civic_drugs = create_raw_civic_drugs(core_vdb)"
   ]
  },
  {
   "cell_type": "code",
   "execution_count": 287,
   "metadata": {
    "collapsed": true
   },
   "outputs": [],
   "source": [
    "raw_drugs.extend(set(civic_drugs))"
   ]
  },
  {
   "cell_type": "markdown",
   "metadata": {},
   "source": [
    "### JAX-CKB"
   ]
  },
  {
   "cell_type": "code",
   "execution_count": 288,
   "metadata": {
    "collapsed": true
   },
   "outputs": [],
   "source": [
    "def create_raw_jax_drugs(vdb):\n",
    "    jax = vdb.by_source('jax')\n",
    "    drugs = list()\n",
    "    for interpretation in jax:\n",
    "        for drug in interpretation['raw']['therapy']['therapyName'].split('+'):\n",
    "            drugs.append(drug.strip().lower())\n",
    "    return drugs"
   ]
  },
  {
   "cell_type": "code",
   "execution_count": 289,
   "metadata": {
    "collapsed": true
   },
   "outputs": [],
   "source": [
    "jax_drugs = create_raw_jax_drugs(core_vdb)"
   ]
  },
  {
   "cell_type": "code",
   "execution_count": 290,
   "metadata": {
    "collapsed": true
   },
   "outputs": [],
   "source": [
    "raw_drugs.extend(set(jax_drugs))"
   ]
  },
  {
   "cell_type": "markdown",
   "metadata": {},
   "source": [
    "### MolecularMatch"
   ]
  },
  {
   "cell_type": "code",
   "execution_count": 291,
   "metadata": {
    "collapsed": true
   },
   "outputs": [],
   "source": [
    "def create_raw_mm_drugs(vdb):\n",
    "    mm = vdb.by_source('molecularmatch')\n",
    "    drugs = list()\n",
    "    for interpretation in mm:\n",
    "        try:\n",
    "            for drug in interpretation['raw']['includeDrug1']:\n",
    "                for drug2 in drug.split('+'):\n",
    "                    drugs.append(drug2.strip().lower())\n",
    "        except KeyError:\n",
    "            continue\n",
    "    return drugs"
   ]
  },
  {
   "cell_type": "code",
   "execution_count": 292,
   "metadata": {
    "collapsed": true
   },
   "outputs": [],
   "source": [
    "mm_drugs = create_raw_mm_drugs(core_vdb)"
   ]
  },
  {
   "cell_type": "code",
   "execution_count": 293,
   "metadata": {
    "collapsed": true
   },
   "outputs": [],
   "source": [
    "raw_drugs.extend(set(mm_drugs))"
   ]
  },
  {
   "cell_type": "markdown",
   "metadata": {},
   "source": [
    "### OncoKB"
   ]
  },
  {
   "cell_type": "code",
   "execution_count": 294,
   "metadata": {
    "collapsed": true
   },
   "outputs": [],
   "source": [
    "def create_raw_okb_drugs(vdb):\n",
    "    okb = vdb.by_source('oncokb')\n",
    "    drugs = list()\n",
    "    for interpretation in okb:\n",
    "        for drug in interpretation['raw']['clinical']['drug'].split(','):\n",
    "            for drug2 in drug.strip().split('+'):\n",
    "                drugs.append(drug2.strip().lower())\n",
    "    return drugs"
   ]
  },
  {
   "cell_type": "code",
   "execution_count": 295,
   "metadata": {
    "collapsed": true
   },
   "outputs": [],
   "source": [
    "okb_drugs = create_raw_okb_drugs(core_vdb)"
   ]
  },
  {
   "cell_type": "code",
   "execution_count": 296,
   "metadata": {
    "collapsed": true
   },
   "outputs": [],
   "source": [
    "raw_drugs.extend(set(okb_drugs))"
   ]
  },
  {
   "cell_type": "markdown",
   "metadata": {},
   "source": [
    "### PMKB"
   ]
  },
  {
   "cell_type": "markdown",
   "metadata": {},
   "source": [
    "PMKB does not provide drug fields"
   ]
  },
  {
   "cell_type": "markdown",
   "metadata": {},
   "source": [
    "### Harmonized drugs"
   ]
  },
  {
   "cell_type": "code",
   "execution_count": 297,
   "metadata": {},
   "outputs": [
    {
     "name": "stdout",
     "output_type": "stream",
     "text": [
      "molecularmatch: 110\n",
      "civic: 313\n",
      "pmkb: 0\n",
      "oncokb: 77\n",
      "jax: 542\n",
      "cgi: 200\n"
     ]
    }
   ],
   "source": [
    "h_drugs = list()\n",
    "\n",
    "for source in core_vdb.sources:\n",
    "    unique_source_drugs = set()\n",
    "    for interpretation in core_vdb.by_source(source):\n",
    "        for drug in interpretation.drugs:\n",
    "            unique_source_drugs.add(drug.term)\n",
    "    print(f'{source}: {len(unique_source_drugs)}')\n",
    "    h_drugs.extend(unique_source_drugs)"
   ]
  },
  {
   "cell_type": "markdown",
   "metadata": {},
   "source": [
    "### Comparison"
   ]
  },
  {
   "cell_type": "code",
   "execution_count": 298,
   "metadata": {
    "collapsed": true
   },
   "outputs": [],
   "source": [
    "raw_start = len(raw_drugs)\n",
    "raw_uniq = len(set(raw_drugs))\n",
    "h_start = len(h_drugs)\n",
    "h_uniq = len(set(h_drugs))"
   ]
  },
  {
   "cell_type": "code",
   "execution_count": 299,
   "metadata": {},
   "outputs": [
    {
     "data": {
      "text/plain": [
       "0.3631239935587761"
      ]
     },
     "execution_count": 299,
     "metadata": {},
     "output_type": "execute_result"
    }
   ],
   "source": [
    "1 - (h_uniq / h_start)"
   ]
  },
  {
   "cell_type": "code",
   "execution_count": 300,
   "metadata": {},
   "outputs": [
    {
     "data": {
      "text/plain": [
       "0.2028100183262065"
      ]
     },
     "execution_count": 300,
     "metadata": {},
     "output_type": "execute_result"
    }
   ],
   "source": [
    "1 - (raw_uniq / raw_start)"
   ]
  },
  {
   "cell_type": "code",
   "execution_count": 301,
   "metadata": {},
   "outputs": [
    {
     "data": {
      "text/plain": [
       "Counter({'favorable': 1,\n",
       "         'no_response': 1,\n",
       "         'resistant': 854,\n",
       "         'sensitive': 1217,\n",
       "         'unfavorable': 4,\n",
       "         'unknown': 3})"
      ]
     },
     "execution_count": 301,
     "metadata": {},
     "output_type": "execute_result"
    }
   ],
   "source": [
    "Counter([x['raw']['clinicalSignificance'] for x in core_vdb.by_source('molecularmatch')])"
   ]
  },
  {
   "cell_type": "code",
   "execution_count": 302,
   "metadata": {},
   "outputs": [
    {
     "data": {
      "text/plain": [
       "Counter({'favorable': 1,\n",
       "         'no_response': 1,\n",
       "         'resistant': 854,\n",
       "         'sensitive': 1222,\n",
       "         'unfavorable': 4,\n",
       "         'unknown': 3})"
      ]
     },
     "execution_count": 302,
     "metadata": {},
     "output_type": "execute_result"
    }
   ],
   "source": [
    "Counter([x['raw']['clinicalSignificance'] for x in vdb.by_source('molecularmatch')])"
   ]
  },
  {
   "cell_type": "markdown",
   "metadata": {},
   "source": [
    "# Export for Somatic Reference Sample project"
   ]
  },
  {
   "cell_type": "code",
   "execution_count": 303,
   "metadata": {
    "collapsed": true
   },
   "outputs": [],
   "source": [
    "import csv\n",
    "with open('out/srs_export.csv', 'w') as f:\n",
    "    writer = csv.writer(f)\n",
    "    writer.writerow([\n",
    "            'chromosome',\n",
    "            'start',\n",
    "            'stop',\n",
    "            'ref',\n",
    "            'alt',\n",
    "            'feature_label',\n",
    "            'evidence_level',\n",
    "            'drugs',\n",
    "            'disease_context',\n",
    "            'disease_id',\n",
    "            'interpretation_source',\n",
    "            'pmids',\n",
    "        ])\n",
    "    for a in core_vdb:\n",
    "        pmids = '|'.join([str(x.pmid) for x in a.publications if x.pmid])\n",
    "        drugs = '|'.join([str(x) for x in a.drugs if x])\n",
    "        if a.evidence_level not in ['A', 'B']:\n",
    "            continue\n",
    "        for drug in a.drugs:\n",
    "            assert '|' not in str(drug)\n",
    "        for feature in a.features:\n",
    "            try:\n",
    "                feature_name = feature.name\n",
    "            except AttributeError:\n",
    "                feature_name = ''\n",
    "            try:\n",
    "                disease_name = a.disease.name\n",
    "            except AttributeError:\n",
    "                disease_name = a['association']['phenotype'].get('description', '')\n",
    "            try:\n",
    "                disease_id = a.disease.id\n",
    "            except AttributeError:\n",
    "                continue\n",
    "            out = [feature.chromosome, feature.start, feature.end, \n",
    "                   feature.ref, feature.alt, feature_name, \n",
    "                   a.evidence_level, drugs,\n",
    "                   disease_name, disease_id, a.source, pmids]\n",
    "            if not (feature.ref and feature.alt):\n",
    "                continue\n",
    "            writer.writerow(out)\n"
   ]
  },
  {
   "cell_type": "markdown",
   "metadata": {},
   "source": [
    "# Troubleshooting"
   ]
  },
  {
   "cell_type": "code",
   "execution_count": 304,
   "metadata": {
    "collapsed": true
   },
   "outputs": [],
   "source": [
    "x = core_vdb[0]"
   ]
  },
  {
   "cell_type": "code",
   "execution_count": 305,
   "metadata": {
    "collapsed": true
   },
   "outputs": [],
   "source": [
    "f = x.features[0]"
   ]
  },
  {
   "cell_type": "code",
   "execution_count": 306,
   "metadata": {},
   "outputs": [
    {
     "data": {
      "text/plain": [
       "'DOID:3910'"
      ]
     },
     "execution_count": 306,
     "metadata": {},
     "output_type": "execute_result"
    }
   ],
   "source": [
    "x.disease.id"
   ]
  },
  {
   "cell_type": "code",
   "execution_count": 307,
   "metadata": {},
   "outputs": [
    {
     "data": {
      "text/plain": [
       "33852"
      ]
     },
     "execution_count": 307,
     "metadata": {},
     "output_type": "execute_result"
    }
   ],
   "source": [
    "len(unfiltered_patients_with_variants)"
   ]
  },
  {
   "cell_type": "code",
   "execution_count": 308,
   "metadata": {},
   "outputs": [
    {
     "data": {
      "text/plain": [
       "0.8860156515821708"
      ]
     },
     "execution_count": 308,
     "metadata": {},
     "output_type": "execute_result"
    }
   ],
   "source": [
    "len(unfiltered_patients_with_variants) / len(patient_to_samples)"
   ]
  },
  {
   "cell_type": "code",
   "execution_count": 309,
   "metadata": {},
   "outputs": [
    {
     "name": "stdout",
     "output_type": "stream",
     "text": [
      "0 total associations\n"
     ]
    }
   ],
   "source": [
    "brca.report_groups()"
   ]
  },
  {
   "cell_type": "code",
   "execution_count": null,
   "metadata": {
    "collapsed": true
   },
   "outputs": [],
   "source": []
  }
 ],
 "metadata": {
  "anaconda-cloud": {},
  "kernelspec": {
   "display_name": "Python 3",
   "language": "python",
   "name": "python3"
  },
  "language_info": {
   "codemirror_mode": {
    "name": "ipython",
    "version": 3
   },
   "file_extension": ".py",
   "mimetype": "text/x-python",
   "name": "python",
   "nbconvert_exporter": "python",
   "pygments_lexer": "ipython3",
   "version": "3.6.1"
  }
 },
 "nbformat": 4,
 "nbformat_minor": 2
}
