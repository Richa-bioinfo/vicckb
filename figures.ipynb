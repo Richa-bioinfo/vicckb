{
 "cells": [
  {
   "cell_type": "markdown",
   "metadata": {},
   "source": [
    "# Data Structuring and Pruning"
   ]
  },
  {
   "cell_type": "code",
   "execution_count": 1,
   "metadata": {
    "collapsed": false
   },
   "outputs": [],
   "source": [
    "# Load datasets\n",
    "\n",
    "import json\n",
    "import pathlib\n",
    "import importlib\n",
    "from collections import defaultdict, Counter\n",
    "import pyupset as pyu\n",
    "import pandas as pd\n",
    "import matplotlib.pyplot as plt\n",
    "import numpy as np\n",
    "from scipy import stats\n",
    "import re\n",
    "from matplotlib.gridspec import GridSpec\n",
    "import csv\n",
    "import requests\n",
    "\n",
    "from vicckb import model as viccdb\n",
    "from vicckb.definitions import DATA_ROOT\n",
    "%matplotlib inline\n",
    "\n",
    "FIGPATH = pathlib.Path('/Users/awagner/Google Drive/VICC/Manuscript/Figures')"
   ]
  },
  {
   "cell_type": "code",
   "execution_count": 2,
   "metadata": {
    "collapsed": false
   },
   "outputs": [
    {
     "name": "stdout",
     "output_type": "stream",
     "text": [
      "cgi: 1073 (6.3% of total)\n",
      "civic: 3340 (19.8% of total)\n",
      "jax: 5754 (34.0% of total)\n",
      "molecularmatch: 2085 (12.3% of total)\n",
      "oncokb: 4048 (24.0% of total)\n",
      "pmkb: 600 (3.6% of total)\n",
      "16900 total associations\n"
     ]
    }
   ],
   "source": [
    "# reload module and load data\n",
    "importlib.reload(viccdb)\n",
    "vdb = viccdb.ViccDb()\n",
    "vdb.report_groups()"
   ]
  },
  {
   "cell_type": "code",
   "execution_count": 3,
   "metadata": {
    "collapsed": false
   },
   "outputs": [
    {
     "name": "stdout",
     "output_type": "stream",
     "text": [
      "cgi: 1073 (6.3% of total)\n",
      "civic: 3340 (19.8% of total)\n",
      "jax: 5754 (34.0% of total)\n",
      "molecularmatch: 2085 (12.3% of total)\n",
      "oncokb: 4048 (24.0% of total)\n",
      "pmkb: 600 (3.6% of total)\n",
      "16900 total associations\n"
     ]
    }
   ],
   "source": [
    "# for now, omit brca from analysis\n",
    "brca = vdb.select(lambda x: x['source'] == 'brca')\n",
    "core_vdb = vdb - brca\n",
    "core_vdb.report_groups()"
   ]
  },
  {
   "cell_type": "code",
   "execution_count": 4,
   "metadata": {
    "collapsed": false
   },
   "outputs": [
    {
     "name": "stdout",
     "output_type": "stream",
     "text": [
      "oncokb: 3801 (93.9% of superset)\n",
      "Total: 3801 (22.5% of superset)\n"
     ]
    }
   ],
   "source": [
    "# remove biological associations\n",
    "oncokb_biological = core_vdb.select(lambda x: x['source'] == 'oncokb' and 'biological' in x['raw'])\n",
    "oncokb_biological.report_groups(core_vdb)\n",
    "core_vdb = core_vdb - oncokb_biological"
   ]
  },
  {
   "cell_type": "markdown",
   "metadata": {},
   "source": [
    "## Evidence Uniqueness\n",
    "\n",
    "This section deals with non-unique entries from the database. This is a temporary measure until the importers are fixed. As such, it uses private variables and non-standard methods to hack around the built-in uniqueness assumptions that are violated by these data. Remove this entire section once the source hash checks pass."
   ]
  },
  {
   "cell_type": "code",
   "execution_count": 5,
   "metadata": {
    "collapsed": false
   },
   "outputs": [
    {
     "name": "stdout",
     "output_type": "stream",
     "text": [
      "cgi: 1073 (8.2% of total)\n",
      "civic: 3340 (25.5% of total)\n",
      "jax: 5754 (43.9% of total)\n",
      "molecularmatch: 2085 (15.9% of total)\n",
      "oncokb: 247 (1.9% of total)\n",
      "pmkb: 600 (4.6% of total)\n",
      "13099 total associations\n"
     ]
    }
   ],
   "source": [
    "core_vdb.report_groups()"
   ]
  },
  {
   "cell_type": "code",
   "execution_count": 6,
   "metadata": {
    "collapsed": false
   },
   "outputs": [
    {
     "name": "stdout",
     "output_type": "stream",
     "text": [
      "cgi: 2 (0.2% of superset)\n",
      "pmkb: 311 (51.8% of superset)\n",
      "Total: 313 (2.4% of superset)\n"
     ]
    }
   ],
   "source": [
    "# Non-unique raw entries\n",
    "raw_duplicates = core_vdb.select(lambda x: len(core_vdb._hashed[hash(x)]) > 1)\n",
    "raw_duplicates.report_groups(core_vdb)"
   ]
  },
  {
   "cell_type": "code",
   "execution_count": 7,
   "metadata": {
    "collapsed": false
   },
   "outputs": [
    {
     "name": "stdout",
     "output_type": "stream",
     "text": [
      "cgi: 1072 (99.9% of superset)\n",
      "civic: 3340 (100.0% of superset)\n",
      "jax: 5754 (100.0% of superset)\n",
      "molecularmatch: 2085 (100.0% of superset)\n",
      "oncokb: 247 (100.0% of superset)\n",
      "pmkb: 600 (100.0% of superset)\n",
      "Total: 13098 (100.0% of superset)\n"
     ]
    }
   ],
   "source": [
    "cgi_dups = raw_duplicates.by_source('cgi')\n",
    "cgi_clean = [x for x in cgi_dups if x['raw']['Drug status']]\n",
    "test = viccdb.ViccDb([x for x in core_vdb if x not in cgi_dups] + list(cgi_clean))\n",
    "test.report_groups(core_vdb)"
   ]
  },
  {
   "cell_type": "code",
   "execution_count": 8,
   "metadata": {
    "collapsed": true
   },
   "outputs": [],
   "source": [
    "# Test matches expectation, moving to core\n",
    "core_vdb = test"
   ]
  },
  {
   "cell_type": "code",
   "execution_count": 9,
   "metadata": {
    "collapsed": true
   },
   "outputs": [],
   "source": [
    "pmkb_dups = raw_duplicates.by_source('pmkb')"
   ]
  },
  {
   "cell_type": "code",
   "execution_count": 10,
   "metadata": {
    "collapsed": false
   },
   "outputs": [
    {
     "data": {
      "text/plain": [
       "82"
      ]
     },
     "execution_count": 10,
     "metadata": {},
     "output_type": "execute_result"
    }
   ],
   "source": [
    "len(pmkb_dups._hashed)"
   ]
  },
  {
   "cell_type": "code",
   "execution_count": 11,
   "metadata": {
    "collapsed": false
   },
   "outputs": [
    {
     "data": {
      "text/plain": [
       "311"
      ]
     },
     "execution_count": 11,
     "metadata": {},
     "output_type": "execute_result"
    }
   ],
   "source": [
    "len(pmkb_dups)"
   ]
  },
  {
   "cell_type": "code",
   "execution_count": 12,
   "metadata": {
    "collapsed": true
   },
   "outputs": [],
   "source": [
    "merged_associations = list()\n",
    "for hash_key, equivalent_associations in pmkb_dups._hashed.items():\n",
    "    root_association = equivalent_associations.pop()\n",
    "    for other_association in equivalent_associations:\n",
    "        root_association['features'].append(other_association['features'][0])\n",
    "    merged_associations.append(root_association)"
   ]
  },
  {
   "cell_type": "code",
   "execution_count": 13,
   "metadata": {
    "collapsed": false
   },
   "outputs": [
    {
     "name": "stdout",
     "output_type": "stream",
     "text": [
      "cgi: 1072 (100.0% of superset)\n",
      "civic: 3340 (100.0% of superset)\n",
      "jax: 5754 (100.0% of superset)\n",
      "molecularmatch: 2085 (100.0% of superset)\n",
      "oncokb: 247 (100.0% of superset)\n",
      "pmkb: 371 (61.8% of superset)\n",
      "Total: 12869 (98.3% of superset)\n"
     ]
    }
   ],
   "source": [
    "test = viccdb.ViccDb([x for x in core_vdb if x not in merged_associations] + list(merged_associations))\n",
    "test.report_groups(core_vdb)"
   ]
  },
  {
   "cell_type": "code",
   "execution_count": 14,
   "metadata": {
    "collapsed": false
   },
   "outputs": [
    {
     "name": "stdout",
     "output_type": "stream",
     "text": [
      "Expecting 371 associations for PMKB\n"
     ]
    }
   ],
   "source": [
    "x = len(core_vdb.by_source('pmkb')) - len(pmkb_dups) + len(pmkb_dups._hashed)\n",
    "print(\"Expecting {} associations for PMKB\".format(x))"
   ]
  },
  {
   "cell_type": "code",
   "execution_count": 15,
   "metadata": {
    "collapsed": true
   },
   "outputs": [],
   "source": [
    "# Test matches expectation, moving to core\n",
    "core_vdb = test"
   ]
  },
  {
   "cell_type": "markdown",
   "metadata": {},
   "source": [
    "## Evidence filtering\n",
    "\n",
    "Removal of all evidence without associated publications, followed by removal of all associations without evidence."
   ]
  },
  {
   "cell_type": "code",
   "execution_count": 16,
   "metadata": {
    "collapsed": false
   },
   "outputs": [
    {
     "name": "stdout",
     "output_type": "stream",
     "text": [
      "jax: 8 (0.1% of superset)\n",
      "molecularmatch: 5 (0.2% of superset)\n",
      "Total: 13 (0.1% of superset)\n"
     ]
    }
   ],
   "source": [
    "def clean_refs(association):\n",
    "    evidences = association['association']['evidence']\n",
    "    evidence_indices_to_delete = list()\n",
    "    for i, evidence in enumerate(evidences):\n",
    "        assert isinstance(publications, list)\n",
    "        publications = [x for x in evidence['info']['publications'] if x]\n",
    "        evidence['info']['publications'] = publications\n",
    "        if not publications:\n",
    "            evidence_indices_to_delete.append(i)\n",
    "    for index in sorted(evidence_indices_to_delete, reverse=True):\n",
    "        del association['association']['evidence'][index]\n",
    "\n",
    "map(clean_refs, core_vdb)\n",
    "core_missing_ref = core_vdb.select(lambda x: not any(x.publications))\n",
    "core_missing_ref.report_groups(core_vdb)\n",
    "core_vdb = core_vdb - core_missing_ref"
   ]
  },
  {
   "cell_type": "code",
   "execution_count": 17,
   "metadata": {
    "collapsed": false
   },
   "outputs": [
    {
     "name": "stdout",
     "output_type": "stream",
     "text": [
      "cgi: 1072 (8.3% of total)\n",
      "civic: 3340 (26.0% of total)\n",
      "jax: 5746 (44.7% of total)\n",
      "molecularmatch: 2080 (16.2% of total)\n",
      "oncokb: 247 (1.9% of total)\n",
      "pmkb: 371 (2.9% of total)\n",
      "12856 total associations\n"
     ]
    }
   ],
   "source": [
    "core_vdb.report_groups()"
   ]
  },
  {
   "cell_type": "code",
   "execution_count": 18,
   "metadata": {
    "collapsed": false
   },
   "outputs": [
    {
     "name": "stdout",
     "output_type": "stream",
     "text": [
      "Total: 0 (0.0% of superset)\n"
     ]
    }
   ],
   "source": [
    "# All associations should have an evidence level\n",
    "\n",
    "core_vdb.select(lambda x: not x.evidence_level).report_groups(core_vdb)"
   ]
  },
  {
   "cell_type": "markdown",
   "metadata": {},
   "source": [
    "## Feature coordinates\n",
    "\n",
    "What follows is a detailed look at associations without start and end coordinates after normalization, and a set of regular expression filters to separate out these associations into chunks that can be annotated with gene- or exon-level coordinates, as appropriate."
   ]
  },
  {
   "cell_type": "code",
   "execution_count": 19,
   "metadata": {
    "collapsed": false
   },
   "outputs": [
    {
     "name": "stdout",
     "output_type": "stream",
     "text": [
      "cgi: 372 (34.7% of superset)\n",
      "jax: 1789 (31.1% of superset)\n",
      "molecularmatch: 17 (0.8% of superset)\n",
      "oncokb: 35 (0.9% of superset)\n",
      "Total: 2213 (13.1% of superset)\n"
     ]
    }
   ],
   "source": [
    "# Associations with more than 1 feature\n",
    "x = core_vdb.select(lambda x: len(x.features) > 1)\n",
    "x.report_groups(vdb)"
   ]
  },
  {
   "cell_type": "code",
   "execution_count": 20,
   "metadata": {
    "collapsed": false
   },
   "outputs": [
    {
     "name": "stdout",
     "output_type": "stream",
     "text": [
      "cgi: 15 (1.4% of superset)\n",
      "civic: 17 (0.5% of superset)\n",
      "jax: 12 (0.2% of superset)\n",
      "molecularmatch: 17 (0.8% of superset)\n",
      "oncokb: 2 (0.0% of superset)\n",
      "pmkb: 4 (0.7% of superset)\n",
      "Total: 67 (0.4% of superset)\n"
     ]
    }
   ],
   "source": [
    "# Associations without at least 1 complete and valid feature\n",
    "no_features = core_vdb.select(lambda x: len(x.features) == 0)\n",
    "no_features.report_groups(vdb)"
   ]
  },
  {
   "cell_type": "code",
   "execution_count": 21,
   "metadata": {
    "collapsed": false
   },
   "outputs": [
    {
     "data": {
      "text/plain": [
       "{'description': 'lung adenocarcinoma',\n",
       " 'family': 'lung cancer',\n",
       " 'type': {'id': 'DOID:3910',\n",
       "  'source': 'http://purl.obolibrary.org/obo/doid',\n",
       "  'term': 'lung adenocarcinoma'}}"
      ]
     },
     "execution_count": 21,
     "metadata": {},
     "output_type": "execute_result"
    }
   ],
   "source": [
    "vdb[0]['association']['phenotype']"
   ]
  },
  {
   "cell_type": "code",
   "execution_count": 22,
   "metadata": {
    "collapsed": false
   },
   "outputs": [
    {
     "name": "stdout",
     "output_type": "stream",
     "text": [
      "cgi: 1057 (98.6% of superset)\n",
      "civic: 3323 (99.5% of superset)\n",
      "jax: 5734 (99.8% of superset)\n",
      "molecularmatch: 2063 (99.2% of superset)\n",
      "oncokb: 245 (99.2% of superset)\n",
      "pmkb: 367 (98.9% of superset)\n",
      "Total: 12789 (99.5% of superset)\n"
     ]
    }
   ],
   "source": [
    "# Associations with coordinate features\n",
    "coord_featured = core_vdb - no_features\n",
    "coord_featured.report_groups(core_vdb)"
   ]
  },
  {
   "cell_type": "markdown",
   "metadata": {},
   "source": [
    "### Remainder of section is inactivated code for identifying associations without coordinates\n",
    "\n",
    "import re\n",
    "\n",
    "def feature_filter(re_obj, associations):\n",
    "    # report matches and return non-matches\n",
    "    found = list(filter(lambda x: re_obj.search(x['feature_names']) is not None, associations))\n",
    "    not_found = list(filter(lambda x: re_obj.search(x['feature_names']) is None, associations))\n",
    "    report_groups(found)\n",
    "    return(not_found)\n",
    "\n",
    "amp_re = re.compile(r'(amplification)|(loss)|(amp)', re.IGNORECASE)\n",
    "remainder = feature_filter(amp_re, no_partial_coord_featured_with_feature_names)"
   ]
  },
  {
   "cell_type": "markdown",
   "metadata": {},
   "source": [
    "fusion_re = re.compile(r'(\\w{2,}-\\w{2,})|(fusion)', re.IGNORECASE)\n",
    "r2 = feature_filter(fusion_re, remainder)"
   ]
  },
  {
   "cell_type": "markdown",
   "metadata": {},
   "source": [
    "ppm_re = re.compile(r'\\w+(:| )[a-z]\\d+[a-z]?(fs\\*?)?$', re.IGNORECASE)\n",
    "r3 = feature_filter(ppm_re, r2)"
   ]
  },
  {
   "cell_type": "markdown",
   "metadata": {},
   "source": [
    "indel_re = re.compile(r'\\w+(:| )\\w+(ins\\w+)|(del($|ins\\w+))|(dup$)')\n",
    "r4 = feature_filter(indel_re, r3)"
   ]
  },
  {
   "cell_type": "markdown",
   "metadata": {},
   "source": [
    "bucket_re = re.compile(r'[A-Z0-9]+( (in)?act)?( oncogenic)? mut((ant)|(ation))?$')\n",
    "r5 = feature_filter(bucket_re, r4)"
   ]
  },
  {
   "cell_type": "markdown",
   "metadata": {},
   "source": [
    "exon_re = re.compile(r'exon', re.IGNORECASE)\n",
    "r6 = feature_filter(exon_re, r5)"
   ]
  },
  {
   "cell_type": "markdown",
   "metadata": {},
   "source": [
    "expression_re = re.compile(r'(exp)|(^\\w+ (pos(itive)?)|(neg(ative)?)|(biallelic inactivation)$)|(truncating)|(deletion)', re.IGNORECASE)\n",
    "r7 = feature_filter(expression_re, r6)"
   ]
  },
  {
   "cell_type": "markdown",
   "metadata": {},
   "source": [
    "report_groups(r7)"
   ]
  },
  {
   "cell_type": "markdown",
   "metadata": {},
   "source": [
    "get_feature_names([x for x in r7 if x['source'] == 'cgi'])"
   ]
  },
  {
   "cell_type": "markdown",
   "metadata": {},
   "source": [
    "## Diseases"
   ]
  },
  {
   "cell_type": "code",
   "execution_count": 23,
   "metadata": {
    "collapsed": false
   },
   "outputs": [
    {
     "name": "stdout",
     "output_type": "stream",
     "text": [
      "civic: 1 (0.0% of superset)\n",
      "Total: 1 (0.0% of superset)\n"
     ]
    }
   ],
   "source": [
    "disease_missing = core_vdb.select(lambda x: x.disease is None)\n",
    "disease_missing.report_groups(core_vdb)"
   ]
  },
  {
   "cell_type": "code",
   "execution_count": 24,
   "metadata": {
    "collapsed": false
   },
   "outputs": [
    {
     "data": {
      "text/plain": [
       "{'description': 'Pericytoma with t(7;12) is a soft tissue tumor characterized by fusion of the ACTB and GLI genes through the translocation t(7;12)(p22;q13). In this study the genomic breakpoints of 5 cases were characterized.',\n",
       " 'environmentalContexts': [],\n",
       " 'evidence': [{'description': 'Positive',\n",
       "   'evidenceType': {'id': '1844', 'sourceName': 'CIVIC'},\n",
       "   'info': {'publications': ['http://www.ncbi.nlm.nih.gov/pubmed/15555571']}}],\n",
       " 'evidence_label': 'B',\n",
       " 'evidence_level': 2,\n",
       " 'phenotype': {'description': 'Pericytoma',\n",
       "  'family': 'Uncategorized-PHN',\n",
       "  'id': 'http://www.disease-ontology.org/'},\n",
       " 'publication_url': ['http://www.ncbi.nlm.nih.gov/pubmed/15555571'],\n",
       " 'response_type': 'Positive',\n",
       " 'source_link': 'https://civic.genome.wustl.edu/events/genes/2279/summary/variants/780/summary'}"
      ]
     },
     "execution_count": 24,
     "metadata": {},
     "output_type": "execute_result"
    }
   ],
   "source": [
    "disease_missing[0]['association']"
   ]
  },
  {
   "cell_type": "markdown",
   "metadata": {},
   "source": [
    "## Drugs"
   ]
  },
  {
   "cell_type": "code",
   "execution_count": 25,
   "metadata": {
    "collapsed": false
   },
   "outputs": [
    {
     "name": "stdout",
     "output_type": "stream",
     "text": [
      "cgi: 112 (10.4% of superset)\n",
      "civic: 1261 (37.8% of superset)\n",
      "jax: 457 (8.0% of superset)\n",
      "molecularmatch: 120 (5.8% of superset)\n",
      "oncokb: 8 (3.2% of superset)\n",
      "pmkb: 371 (100.0% of superset)\n",
      "Total: 2329 (18.1% of superset)\n"
     ]
    }
   ],
   "source": [
    "drugs_missing = core_vdb.select(lambda x: len(x.drugs) == 0)\n",
    "drugs_missing.report_groups(core_vdb)"
   ]
  },
  {
   "cell_type": "markdown",
   "metadata": {},
   "source": [
    "## Genes"
   ]
  },
  {
   "cell_type": "code",
   "execution_count": 26,
   "metadata": {
    "collapsed": false
   },
   "outputs": [
    {
     "name": "stderr",
     "output_type": "stream",
     "text": [
      "/Users/awagner/Workspace/git/vicckb/vicckb/model.py:248: UserWarning: Ambiguous gene symbol MLL2 in assertion 235677252030682\n",
      "  warn('Ambiguous gene symbol {} in assertion {}'.format(g, self))\n"
     ]
    }
   ],
   "source": [
    "ambiguous = list()\n",
    "for a in core_vdb:\n",
    "    a.genes\n",
    "\n",
    "# assert len(ambiguous) == 0  # Ensure there are no ambiguous genes from knowledgebases"
   ]
  },
  {
   "cell_type": "markdown",
   "metadata": {},
   "source": [
    "## Cache\n",
    "\n",
    "Saving core_vdb to cache for testing."
   ]
  },
  {
   "cell_type": "code",
   "execution_count": 27,
   "metadata": {
    "collapsed": true
   },
   "outputs": [],
   "source": [
    "core_vdb.cache_data()"
   ]
  },
  {
   "cell_type": "markdown",
   "metadata": {},
   "source": [
    "# Knowledgebase Comparison"
   ]
  },
  {
   "cell_type": "markdown",
   "metadata": {},
   "source": [
    "## Publications\n",
    "\n",
    "### All publications"
   ]
  },
  {
   "cell_type": "code",
   "execution_count": 40,
   "metadata": {
    "collapsed": false
   },
   "outputs": [
    {
     "data": {
      "text/plain": [
       "{'cgi': {<class 'vicckb.model.Publication'>: 12525520,\n",
       "  <class 'vicckb.model.Publication'>: 12660384,\n",
       "  <class 'vicckb.model.Publication'>: 14645423,\n",
       "  <class 'vicckb.model.Publication'>: 15201427,\n",
       "  <class 'vicckb.model.Publication'>: 15472075,\n",
       "  <class 'vicckb.model.Publication'>: 15618474,\n",
       "  <class 'vicckb.model.Publication'>: 15950068,\n",
       "  <class 'vicckb.model.Publication'>: 16091734,\n",
       "  <class 'vicckb.model.Publication'>: 16278407,\n",
       "  <class 'vicckb.model.Publication'>: 16282176,\n",
       "  <class 'vicckb.model.Publication'>: 16397263,\n",
       "  <class 'vicckb.model.Publication'>: 16409295,\n",
       "  <class 'vicckb.model.Publication'>: 16624552,\n",
       "  <class 'vicckb.model.Publication'>: 16637071,\n",
       "  <class 'vicckb.model.Publication'>: 16638875,\n",
       "  <class 'vicckb.model.Publication'>: 16688224,\n",
       "  <class 'vicckb.model.Publication'>: 16775247,\n",
       "  <class 'vicckb.model.Publication'>: 16834459,\n",
       "  <class 'vicckb.model.Publication'>: 16857985,\n",
       "  <class 'vicckb.model.Publication'>: 17080083,\n",
       "  <class 'vicckb.model.Publication'>: 17177598,\n",
       "  <class 'vicckb.model.Publication'>: 17259998,\n",
       "  <class 'vicckb.model.Publication'>: 17483355,\n",
       "  <class 'vicckb.model.Publication'>: 17611497,\n",
       "  <class 'vicckb.model.Publication'>: 17664472,\n",
       "  <class 'vicckb.model.Publication'>: 17804702,\n",
       "  <class 'vicckb.model.Publication'>: 18047674,\n",
       "  <class 'vicckb.model.Publication'>: 18397343,\n",
       "  <class 'vicckb.model.Publication'>: 18421059,\n",
       "  <class 'vicckb.model.Publication'>: 18483311,\n",
       "  <class 'vicckb.model.Publication'>: 18483379,\n",
       "  <class 'vicckb.model.Publication'>: 18552176,\n",
       "  <class 'vicckb.model.Publication'>: 18559612,\n",
       "  <class 'vicckb.model.Publication'>: 18635227,\n",
       "  <class 'vicckb.model.Publication'>: 18701506,\n",
       "  <class 'vicckb.model.Publication'>: 18794084,\n",
       "  <class 'vicckb.model.Publication'>: 18794099,\n",
       "  <class 'vicckb.model.Publication'>: 18794803,\n",
       "  <class 'vicckb.model.Publication'>: 18805579,\n",
       "  <class 'vicckb.model.Publication'>: 18936790,\n",
       "  <class 'vicckb.model.Publication'>: 18955451,\n",
       "  <class 'vicckb.model.Publication'>: 18955458,\n",
       "  <class 'vicckb.model.Publication'>: 18971950,\n",
       "  <class 'vicckb.model.Publication'>: 18986703,\n",
       "  <class 'vicckb.model.Publication'>: 19010823,\n",
       "  <class 'vicckb.model.Publication'>: 19018267,\n",
       "  <class 'vicckb.model.Publication'>: 19165201,\n",
       "  <class 'vicckb.model.Publication'>: 19204207,\n",
       "  <class 'vicckb.model.Publication'>: 19223544,\n",
       "  <class 'vicckb.model.Publication'>: 19238210,\n",
       "  <class 'vicckb.model.Publication'>: 19246562,\n",
       "  <class 'vicckb.model.Publication'>: 19318552,\n",
       "  <class 'vicckb.model.Publication'>: 19331127,\n",
       "  <class 'vicckb.model.Publication'>: 19359162,\n",
       "  <class 'vicckb.model.Publication'>: 19389879,\n",
       "  <class 'vicckb.model.Publication'>: 19398573,\n",
       "  <class 'vicckb.model.Publication'>: 19451225,\n",
       "  <class 'vicckb.model.Publication'>: 19461405,\n",
       "  <class 'vicckb.model.Publication'>: 19509233,\n",
       "  <class 'vicckb.model.Publication'>: 19541609,\n",
       "  <class 'vicckb.model.Publication'>: 19549911,\n",
       "  <class 'vicckb.model.Publication'>: 19553641,\n",
       "  <class 'vicckb.model.Publication'>: 19573811,\n",
       "  <class 'vicckb.model.Publication'>: 19587327,\n",
       "  <class 'vicckb.model.Publication'>: 19602588,\n",
       "  <class 'vicckb.model.Publication'>: 19671762,\n",
       "  <class 'vicckb.model.Publication'>: 19671763,\n",
       "  <class 'vicckb.model.Publication'>: 19680293,\n",
       "  <class 'vicckb.model.Publication'>: 19718025,\n",
       "  <class 'vicckb.model.Publication'>: 19726761,\n",
       "  <class 'vicckb.model.Publication'>: 19726763,\n",
       "  <class 'vicckb.model.Publication'>: 19726788,\n",
       "  <class 'vicckb.model.Publication'>: 19727076,\n",
       "  <class 'vicckb.model.Publication'>: 19738126,\n",
       "  <class 'vicckb.model.Publication'>: 19778842,\n",
       "  <class 'vicckb.model.Publication'>: 19809159,\n",
       "  <class 'vicckb.model.Publication'>: 19840887,\n",
       "  <class 'vicckb.model.Publication'>: 19861435,\n",
       "  <class 'vicckb.model.Publication'>: 19861960,\n",
       "  <class 'vicckb.model.Publication'>: 19915144,\n",
       "  <class 'vicckb.model.Publication'>: 19962665,\n",
       "  <class 'vicckb.model.Publication'>: 20003286,\n",
       "  <class 'vicckb.model.Publication'>: 20048174,\n",
       "  <class 'vicckb.model.Publication'>: 20065189,\n",
       "  <class 'vicckb.model.Publication'>: 20142587,\n",
       "  <class 'vicckb.model.Publication'>: 20179705,\n",
       "  <class 'vicckb.model.Publication'>: 20360610,\n",
       "  <class 'vicckb.model.Publication'>: 20372153,\n",
       "  <class 'vicckb.model.Publication'>: 20404132,\n",
       "  <class 'vicckb.model.Publication'>: 20439987,\n",
       "  <class 'vicckb.model.Publication'>: 20505189,\n",
       "  <class 'vicckb.model.Publication'>: 20526349,\n",
       "  <class 'vicckb.model.Publication'>: 20541700,\n",
       "  <class 'vicckb.model.Publication'>: 20609353,\n",
       "  <class 'vicckb.model.Publication'>: 20609467,\n",
       "  <class 'vicckb.model.Publication'>: 20619739,\n",
       "  <class 'vicckb.model.Publication'>: 20655465,\n",
       "  <class 'vicckb.model.Publication'>: 20733134,\n",
       "  <class 'vicckb.model.Publication'>: 20736812,\n",
       "  <class 'vicckb.model.Publication'>: 20818844,\n",
       "  <class 'vicckb.model.Publication'>: 20846399,\n",
       "  <class 'vicckb.model.Publication'>: 20861909,\n",
       "  <class 'vicckb.model.Publication'>: 20944090,\n",
       "  <class 'vicckb.model.Publication'>: 20970876,\n",
       "  <class 'vicckb.model.Publication'>: 20975068,\n",
       "  <class 'vicckb.model.Publication'>: 20979472,\n",
       "  <class 'vicckb.model.Publication'>: 20979473,\n",
       "  <class 'vicckb.model.Publication'>: 21075781,\n",
       "  <class 'vicckb.model.Publication'>: 21107682,\n",
       "  <class 'vicckb.model.Publication'>: 21135251,\n",
       "  <class 'vicckb.model.Publication'>: 21148487,\n",
       "  <class 'vicckb.model.Publication'>: 21156289,\n",
       "  <class 'vicckb.model.Publication'>: 21163703,\n",
       "  <class 'vicckb.model.Publication'>: 21166756,\n",
       "  <class 'vicckb.model.Publication'>: 21177407,\n",
       "  <class 'vicckb.model.Publication'>: 21189378,\n",
       "  <class 'vicckb.model.Publication'>: 21191045,\n",
       "  <class 'vicckb.model.Publication'>: 21273588,\n",
       "  <class 'vicckb.model.Publication'>: 21274259,\n",
       "  <class 'vicckb.model.Publication'>: 21289267,\n",
       "  <class 'vicckb.model.Publication'>: 21325073,\n",
       "  <class 'vicckb.model.Publication'>: 21368834,\n",
       "  <class 'vicckb.model.Publication'>: 21380780,\n",
       "  <class 'vicckb.model.Publication'>: 21383288,\n",
       "  <class 'vicckb.model.Publication'>: 21456006,\n",
       "  <class 'vicckb.model.Publication'>: 21464312,\n",
       "  <class 'vicckb.model.Publication'>: 21468130,\n",
       "  <class 'vicckb.model.Publication'>: 21470995,\n",
       "  <class 'vicckb.model.Publication'>: 21478036,\n",
       "  <class 'vicckb.model.Publication'>: 21515735,\n",
       "  <class 'vicckb.model.Publication'>: 21525172,\n",
       "  <class 'vicckb.model.Publication'>: 21558407,\n",
       "  <class 'vicckb.model.Publication'>: 21562040,\n",
       "  <class 'vicckb.model.Publication'>: 21575859,\n",
       "  <class 'vicckb.model.Publication'>: 21575865,\n",
       "  <class 'vicckb.model.Publication'>: 21632463,\n",
       "  <class 'vicckb.model.Publication'>: 21642685,\n",
       "  <class 'vicckb.model.Publication'>: 21673091,\n",
       "  <class 'vicckb.model.Publication'>: 21689725,\n",
       "  <class 'vicckb.model.Publication'>: 21690468,\n",
       "  <class 'vicckb.model.Publication'>: 21737509,\n",
       "  <class 'vicckb.model.Publication'>: 21741596,\n",
       "  <class 'vicckb.model.Publication'>: 21764376,\n",
       "  <class 'vicckb.model.Publication'>: 21778190,\n",
       "  <class 'vicckb.model.Publication'>: 21788564,\n",
       "  <class 'vicckb.model.Publication'>: 21835143,\n",
       "  <class 'vicckb.model.Publication'>: 21859989,\n",
       "  <class 'vicckb.model.Publication'>: 21860026,\n",
       "  <class 'vicckb.model.Publication'>: 21889194,\n",
       "  <class 'vicckb.model.Publication'>: 21907929,\n",
       "  <class 'vicckb.model.Publication'>: 21964340,\n",
       "  <class 'vicckb.model.Publication'>: 21969494,\n",
       "  <class 'vicckb.model.Publication'>: 21984976,\n",
       "  <class 'vicckb.model.Publication'>: 21998291,\n",
       "  <class 'vicckb.model.Publication'>: 22015773,\n",
       "  <class 'vicckb.model.Publication'>: 22025146,\n",
       "  <class 'vicckb.model.Publication'>: 22025163,\n",
       "  <class 'vicckb.model.Publication'>: 22038994,\n",
       "  <class 'vicckb.model.Publication'>: 22038996,\n",
       "  <class 'vicckb.model.Publication'>: 22068222,\n",
       "  <class 'vicckb.model.Publication'>: 22072639,\n",
       "  <class 'vicckb.model.Publication'>: 22101766,\n",
       "  <class 'vicckb.model.Publication'>: 22119758,\n",
       "  <class 'vicckb.model.Publication'>: 22162573,\n",
       "  <class 'vicckb.model.Publication'>: 22169769,\n",
       "  <class 'vicckb.model.Publication'>: 22184395,\n",
       "  <class 'vicckb.model.Publication'>: 22189054,\n",
       "  <class 'vicckb.model.Publication'>: 22190593,\n",
       "  <class 'vicckb.model.Publication'>: 22210878,\n",
       "  <class 'vicckb.model.Publication'>: 22235099,\n",
       "  <class 'vicckb.model.Publication'>: 22238366,\n",
       "  <class 'vicckb.model.Publication'>: 22238368,\n",
       "  <class 'vicckb.model.Publication'>: 22241789,\n",
       "  <class 'vicckb.model.Publication'>: 22253748,\n",
       "  <class 'vicckb.model.Publication'>: 22261807,\n",
       "  <class 'vicckb.model.Publication'>: 22261812,\n",
       "  <class 'vicckb.model.Publication'>: 22270258,\n",
       "  <class 'vicckb.model.Publication'>: 22270724,\n",
       "  <class 'vicckb.model.Publication'>: 22271473,\n",
       "  <class 'vicckb.model.Publication'>: 22277784,\n",
       "  <class 'vicckb.model.Publication'>: 22290393,\n",
       "  <class 'vicckb.model.Publication'>: 22302096,\n",
       "  <class 'vicckb.model.Publication'>: 22307137,\n",
       "  <class 'vicckb.model.Publication'>: 22327622,\n",
       "  <class 'vicckb.model.Publication'>: 22327624,\n",
       "  <class 'vicckb.model.Publication'>: 22328973,\n",
       "  <class 'vicckb.model.Publication'>: 22345164,\n",
       "  <class 'vicckb.model.Publication'>: 22351686,\n",
       "  <class 'vicckb.model.Publication'>: 22368270,\n",
       "  <class 'vicckb.model.Publication'>: 22389471,\n",
       "  <class 'vicckb.model.Publication'>: 22389870,\n",
       "  <class 'vicckb.model.Publication'>: 22392482,\n",
       "  <class 'vicckb.model.Publication'>: 22392911,\n",
       "  <class 'vicckb.model.Publication'>: 22399013,\n",
       "  <class 'vicckb.model.Publication'>: 22406760,\n",
       "  <class 'vicckb.model.Publication'>: 22417203,\n",
       "  <class 'vicckb.model.Publication'>: 22418700,\n",
       "  <class 'vicckb.model.Publication'>: 22422826,\n",
       "  <class 'vicckb.model.Publication'>: 22425996,\n",
       "  <class 'vicckb.model.Publication'>: 2242646,\n",
       "  <class 'vicckb.model.Publication'>: 22434731,\n",
       "  <class 'vicckb.model.Publication'>: 22440753,\n",
       "  <class 'vicckb.model.Publication'>: 22452896,\n",
       "  <class 'vicckb.model.Publication'>: 22471707,\n",
       "  <class 'vicckb.model.Publication'>: 22504184,\n",
       "  <class 'vicckb.model.Publication'>: 22507781,\n",
       "  <class 'vicckb.model.Publication'>: 22510873,\n",
       "  <class 'vicckb.model.Publication'>: 22573716,\n",
       "  <class 'vicckb.model.Publication'>: 22586120,\n",
       "  <class 'vicckb.model.Publication'>: 22586653,\n",
       "  <class 'vicckb.model.Publication'>: 22588879,\n",
       "  <class 'vicckb.model.Publication'>: 22608338,\n",
       "  <class 'vicckb.model.Publication'>: 2260966,\n",
       "  <class 'vicckb.model.Publication'>: 22614881,\n",
       "  <class 'vicckb.model.Publication'>: 22621641,\n",
       "  <class 'vicckb.model.Publication'>: 22649091,\n",
       "  <class 'vicckb.model.Publication'>: 22649144,\n",
       "  <class 'vicckb.model.Publication'>: 22653968,\n",
       "  <class 'vicckb.model.Publication'>: 22662154,\n",
       "  <class 'vicckb.model.Publication'>: 22683710,\n",
       "  <class 'vicckb.model.Publication'>: 22705984,\n",
       "  <class 'vicckb.model.Publication'>: 22711607,\n",
       "  <class 'vicckb.model.Publication'>: 22711857,\n",
       "  <class 'vicckb.model.Publication'>: 22718859,\n",
       "  <class 'vicckb.model.Publication'>: 22722202,\n",
       "  <class 'vicckb.model.Publication'>: 22729845,\n",
       "  <class 'vicckb.model.Publication'>: 22733540,\n",
       "  <class 'vicckb.model.Publication'>: 22743296,\n",
       "  <class 'vicckb.model.Publication'>: 22753918,\n",
       "  <class 'vicckb.model.Publication'>: 22773810,\n",
       "  <class 'vicckb.model.Publication'>: 22805104,\n",
       "  <class 'vicckb.model.Publication'>: 22805292,\n",
       "  <class 'vicckb.model.Publication'>: 22808163,\n",
       "  <class 'vicckb.model.Publication'>: 22829971,\n",
       "  <class 'vicckb.model.Publication'>: 22844108,\n",
       "  <class 'vicckb.model.Publication'>: 22850551,\n",
       "  <class 'vicckb.model.Publication'>: 22864769,\n",
       "  <class 'vicckb.model.Publication'>: 22869148,\n",
       "  <class 'vicckb.model.Publication'>: 22875628,\n",
       "  <class 'vicckb.model.Publication'>: 22885469,\n",
       "  <class 'vicckb.model.Publication'>: 22896685,\n",
       "  <class 'vicckb.model.Publication'>: 22897847,\n",
       "  <class 'vicckb.model.Publication'>: 22898035,\n",
       "  <class 'vicckb.model.Publication'>: 22899477,\n",
       "  <class 'vicckb.model.Publication'>: 2290085,\n",
       "  <class 'vicckb.model.Publication'>: 22904298,\n",
       "  <class 'vicckb.model.Publication'>: 22908275,\n",
       "  <class 'vicckb.model.Publication'>: 22923433,\n",
       "  <class 'vicckb.model.Publication'>: 22932669,\n",
       "  <class 'vicckb.model.Publication'>: 22955920,\n",
       "  <class 'vicckb.model.Publication'>: 22956644,\n",
       "  <class 'vicckb.model.Publication'>: 22985491,\n",
       "  <class 'vicckb.model.Publication'>: 22997239,\n",
       "  <class 'vicckb.model.Publication'>: 23001755,\n",
       "  <class 'vicckb.model.Publication'>: 23002168,\n",
       "  <class 'vicckb.model.Publication'>: 23012248,\n",
       "  <class 'vicckb.model.Publication'>: 23023262,\n",
       "  <class 'vicckb.model.Publication'>: 23033986,\n",
       "  <class 'vicckb.model.Publication'>: 23039341,\n",
       "  <class 'vicckb.model.Publication'>: 23056499,\n",
       "  <class 'vicckb.model.Publication'>: 23084521,\n",
       "  <class 'vicckb.model.Publication'>: 23085766,\n",
       "  <class 'vicckb.model.Publication'>: 23099009,\n",
       "  <class 'vicckb.model.Publication'>: 23099891,\n",
       "  <class 'vicckb.model.Publication'>: 23102728,\n",
       "  <class 'vicckb.model.Publication'>: 23129625,\n",
       "  <class 'vicckb.model.Publication'>: 23131561,\n",
       "  <class 'vicckb.model.Publication'>: 23134728,\n",
       "  <class 'vicckb.model.Publication'>: 23136191,\n",
       "  <class 'vicckb.model.Publication'>: 23149070,\n",
       "  <class 'vicckb.model.Publication'>: 23166678,\n",
       "  <class 'vicckb.model.Publication'>: 23171796,\n",
       "  <class 'vicckb.model.Publication'>: 231718,\n",
       "  <class 'vicckb.model.Publication'>: 23184177,\n",
       "  <class 'vicckb.model.Publication'>: 23200175,\n",
       "  <class 'vicckb.model.Publication'>: 23213094,\n",
       "  <class 'vicckb.model.Publication'>: 23220880,\n",
       "  <class 'vicckb.model.Publication'>: 23221341,\n",
       "  <class 'vicckb.model.Publication'>: 23237741,\n",
       "  <class 'vicckb.model.Publication'>: 23238879,\n",
       "  <class 'vicckb.model.Publication'>: 23245996,\n",
       "  <class 'vicckb.model.Publication'>: 23248257,\n",
       "  <class 'vicckb.model.Publication'>: 23274911,\n",
       "  <class 'vicckb.model.Publication'>: 23275151,\n",
       "  <class 'vicckb.model.Publication'>: 23287563,\n",
       "  <class 'vicckb.model.Publication'>: 23288408,\n",
       "  <class 'vicckb.model.Publication'>: 23312829,\n",
       "  <class 'vicckb.model.Publication'>: 23325582,\n",
       "  <class 'vicckb.model.Publication'>: 23327903,\n",
       "  <class 'vicckb.model.Publication'>: 23328547,\n",
       "  <class 'vicckb.model.Publication'>: 23348520,\n",
       "  <class 'vicckb.model.Publication'>: 23352126,\n",
       "  <class 'vicckb.model.Publication'>: 23358651,\n",
       "  <class 'vicckb.model.Publication'>: 23375402,\n",
       "  <class 'vicckb.model.Publication'>: 23391555,\n",
       "  <class 'vicckb.model.Publication'>: 23393200,\n",
       "  <class 'vicckb.model.Publication'>: 23418312,\n",
       "  <class 'vicckb.model.Publication'>: 23430109,\n",
       "  <class 'vicckb.model.Publication'>: 23430699,\n",
       "  <class 'vicckb.model.Publication'>: 23444215,\n",
       "  <class 'vicckb.model.Publication'>: 23470635,\n",
       "  <class 'vicckb.model.Publication'>: 23475782,\n",
       "  <class 'vicckb.model.Publication'>: 23480694,\n",
       "  <class 'vicckb.model.Publication'>: 23489023,\n",
       "  <class 'vicckb.model.Publication'>: 23515407,\n",
       "  <class 'vicckb.model.Publication'>: 23524406,\n",
       "  <class 'vicckb.model.Publication'>: 23533265,\n",
       "  <class 'vicckb.model.Publication'>: 23535073,\n",
       "  <class 'vicckb.model.Publication'>: 23538902,\n",
       "  <class 'vicckb.model.Publication'>: 23539443,\n",
       "  <class 'vicckb.model.Publication'>: 23544171,\n",
       "  <class 'vicckb.model.Publication'>: 23548269,\n",
       "  <class 'vicckb.model.Publication'>: 23551093,\n",
       "  <class 'vicckb.model.Publication'>: 23553849,\n",
       "  <class 'vicckb.model.Publication'>: 23558169,\n",
       "  <class 'vicckb.model.Publication'>: 23558291,\n",
       "  <class 'vicckb.model.Publication'>: 23569304,\n",
       "  <class 'vicckb.model.Publication'>: 23569312,\n",
       "  <class 'vicckb.model.Publication'>: 23578570,\n",
       "  <class 'vicckb.model.Publication'>: 23582185,\n",
       "  <class 'vicckb.model.Publication'>: 23582881,\n",
       "  <class 'vicckb.model.Publication'>: 23583440,\n",
       "  <class 'vicckb.model.Publication'>: 23589709,\n",
       "  <class 'vicckb.model.Publication'>: 23610116,\n",
       "  <class 'vicckb.model.Publication'>: 23612012,\n",
       "  <class 'vicckb.model.Publication'>: 23613521,\n",
       "  <class 'vicckb.model.Publication'>: 23614898,\n",
       "  <class 'vicckb.model.Publication'>: 23619167,\n",
       "  <class 'vicckb.model.Publication'>: 23632474,\n",
       "  <class 'vicckb.model.Publication'>: 23639470,\n",
       "  <class 'vicckb.model.Publication'>: 23656643,\n",
       "  <class 'vicckb.model.Publication'>: 23658459,\n",
       "  <class 'vicckb.model.Publication'>: 23680147,\n",
       "  <class 'vicckb.model.Publication'>: 23696637,\n",
       "  <class 'vicckb.model.Publication'>: 23708653,\n",
       "  <class 'vicckb.model.Publication'>: 23714726,\n",
       "  <class 'vicckb.model.Publication'>: 23715574,\n",
       "  <class 'vicckb.model.Publication'>: 23724914,\n",
       "  <class 'vicckb.model.Publication'>: 23729478,\n",
       "  <class 'vicckb.model.Publication'>: 23737487,\n",
       "  <class 'vicckb.model.Publication'>: 23761041,\n",
       "  <class 'vicckb.model.Publication'>: 23775962,\n",
       "  <class 'vicckb.model.Publication'>: 23779130,\n",
       "  <class 'vicckb.model.Publication'>: 23786770,\n",
       "  <class 'vicckb.model.Publication'>: 23800680,\n",
       "  <class 'vicckb.model.Publication'>: 23840364,\n",
       "  <class 'vicckb.model.Publication'>: 23878140,\n",
       "  <class 'vicckb.model.Publication'>: 238900088,\n",
       "  <class 'vicckb.model.Publication'>: 23908597,\n",
       "  <class 'vicckb.model.Publication'>: 23934192,\n",
       "  <class 'vicckb.model.Publication'>: 23950206,\n",
       "  <class 'vicckb.model.Publication'>: 23960073,\n",
       "  <class 'vicckb.model.Publication'>: 23960094,\n",
       "  <class 'vicckb.model.Publication'>: 23988873,\n",
       "  <class 'vicckb.model.Publication'>: 23995526,\n",
       "  <class 'vicckb.model.Publication'>: 24024839,\n",
       "  <class 'vicckb.model.Publication'>: 24045180,\n",
       "  <class 'vicckb.model.Publication'>: 24045185,\n",
       "  <class 'vicckb.model.Publication'>: 24055055,\n",
       "  <class 'vicckb.model.Publication'>: 24086736,\n",
       "  <class 'vicckb.model.Publication'>: 24124571,\n",
       "  <class 'vicckb.model.Publication'>: 24132921,\n",
       "  <class 'vicckb.model.Publication'>: 24162815,\n",
       "  <class 'vicckb.model.Publication'>: 24163374,\n",
       "  <class 'vicckb.model.Publication'>: 24173684,\n",
       "  <class 'vicckb.model.Publication'>: 24185510,\n",
       "  <class 'vicckb.model.Publication'>: 24185512,\n",
       "  <class 'vicckb.model.Publication'>: 24232489,\n",
       "  <class 'vicckb.model.Publication'>: 24240700,\n",
       "  <class 'vicckb.model.Publication'>: 24265152,\n",
       "  <class 'vicckb.model.Publication'>: 24265153,\n",
       "  <class 'vicckb.model.Publication'>: 24265154,\n",
       "  <class 'vicckb.model.Publication'>: 24296828,\n",
       "  <class 'vicckb.model.Publication'>: 24311643,\n",
       "  <class 'vicckb.model.Publication'>: 24327273,\n",
       "  <class 'vicckb.model.Publication'>: 24336067,\n",
       "  <class 'vicckb.model.Publication'>: 24345920,\n",
       "  <class 'vicckb.model.Publication'>: 24356817,\n",
       "  <class 'vicckb.model.Publication'>: 24366379,\n",
       "  <class 'vicckb.model.Publication'>: 24373973,\n",
       "  <class 'vicckb.model.Publication'>: 24375110,\n",
       "  <class 'vicckb.model.Publication'>: 24398047,\n",
       "  <class 'vicckb.model.Publication'>: 24444711,\n",
       "  <class 'vicckb.model.Publication'>: 24448821,\n",
       "  <class 'vicckb.model.Publication'>: 24458568,\n",
       "  <class 'vicckb.model.Publication'>: 24491302,\n",
       "  <class 'vicckb.model.Publication'>: 24500418,\n",
       "  <class 'vicckb.model.Publication'>: 24506072,\n",
       "  <class 'vicckb.model.Publication'>: 24509877,\n",
       "  <class 'vicckb.model.Publication'>: 24535670,\n",
       "  <class 'vicckb.model.Publication'>: 24553387,\n",
       "  <class 'vicckb.model.Publication'>: 24554720,\n",
       "  <class 'vicckb.model.Publication'>: 24556366,\n",
       "  <class 'vicckb.model.Publication'>: 24563539,\n",
       "  <class 'vicckb.model.Publication'>: 24569458,\n",
       "  <class 'vicckb.model.Publication'>: 24569783,\n",
       "  <class 'vicckb.model.Publication'>: 24576830,\n",
       "  <class 'vicckb.model.Publication'>: 24619500,\n",
       "  <class 'vicckb.model.Publication'>: 24622468,\n",
       "  <class 'vicckb.model.Publication'>: 24625776,\n",
       "  <class 'vicckb.model.Publication'>: 24631838,\n",
       "  <class 'vicckb.model.Publication'>: 24634382,\n",
       "  <class 'vicckb.model.Publication'>: 24670165,\n",
       "  <class 'vicckb.model.Publication'>: 24687604,\n",
       "  <class 'vicckb.model.Publication'>: 24687822,\n",
       "  <class 'vicckb.model.Publication'>: 24687827,\n",
       "  <class 'vicckb.model.Publication'>: 24691995,\n",
       "  <class 'vicckb.model.Publication'>: 24718867,\n",
       "  <class 'vicckb.model.Publication'>: 24727320,\n",
       "  <class 'vicckb.model.Publication'>: 24758297,\n",
       "  <class 'vicckb.model.Publication'>: 24786638,\n",
       "  <class 'vicckb.model.Publication'>: 24813888,\n",
       "  <class 'vicckb.model.Publication'>: 24848258,\n",
       "  <class 'vicckb.model.Publication'>: 2485933,\n",
       "  <class 'vicckb.model.Publication'>: 24869598,\n",
       "  <class 'vicckb.model.Publication'>: 24875859,\n",
       "  <class 'vicckb.model.Publication'>: 24882673,\n",
       "  <class 'vicckb.model.Publication'>: 24931142,\n",
       "  <class 'vicckb.model.Publication'>: 24934408,\n",
       "  <class 'vicckb.model.Publication'>: 24934779,\n",
       "  <class 'vicckb.model.Publication'>: 24947927,\n",
       "  <class 'vicckb.model.Publication'>: 24950987,\n",
       "  <class 'vicckb.model.Publication'>: 24951114,\n",
       "  <class 'vicckb.model.Publication'>: 24960402,\n",
       "  <class 'vicckb.model.Publication'>: 25035393,\n",
       "  <class 'vicckb.model.Publication'>: 25056119,\n",
       "  <class 'vicckb.model.Publication'>: 25074459,\n",
       "  <class 'vicckb.model.Publication'>: 25079317,\n",
       "  <class 'vicckb.model.Publication'>: 25082755,\n",
       "  <class 'vicckb.model.Publication'>: 25096233,\n",
       "  <class 'vicckb.model.Publication'>: 25108355,\n",
       "  <class 'vicckb.model.Publication'>: 25119042,\n",
       "  <class 'vicckb.model.Publication'>: 25125259,\n",
       "  <class 'vicckb.model.Publication'>: 25125683,\n",
       "  <class 'vicckb.model.Publication'>: 25173427,\n",
       "  <class 'vicckb.model.Publication'>: 25186176,\n",
       "  <class 'vicckb.model.Publication'>: 25193991,\n",
       "  <class 'vicckb.model.Publication'>: 25228534,\n",
       "  <class 'vicckb.model.Publication'>: 25231405,\n",
       "  <class 'vicckb.model.Publication'>: 25239608,\n",
       "  <class 'vicckb.model.Publication'>: 2524381,\n",
       "  <class 'vicckb.model.Publication'>: 25263539,\n",
       "  <class 'vicckb.model.Publication'>: 25264305,\n",
       "  <class 'vicckb.model.Publication'>: 25294897,\n",
       "  <class 'vicckb.model.Publication'>: 25294905,\n",
       "  <class 'vicckb.model.Publication'>: 25294908,\n",
       "  <class 'vicckb.model.Publication'>: 25295501,\n",
       "  <class 'vicckb.model.Publication'>: 25306392,\n",
       "  <class 'vicckb.model.Publication'>: 25314964,\n",
       "  <class 'vicckb.model.Publication'>: 25351743,\n",
       "  <class 'vicckb.model.Publication'>: 25366685,\n",
       "  <class 'vicckb.model.Publication'>: 25370473,\n",
       "  <class 'vicckb.model.Publication'>: 25375122,\n",
       "  <class 'vicckb.model.Publication'>: 25391241,\n",
       "  <class 'vicckb.model.Publication'>: 25394791,\n",
       "  <class 'vicckb.model.Publication'>: 25409149,\n",
       "  <class 'vicckb.model.Publication'>: 25409150,\n",
       "  <class 'vicckb.model.Publication'>: 25416950,\n",
       "  <class 'vicckb.model.Publication'>: 25424858,\n",
       "  <class 'vicckb.model.Publication'>: 25452452,\n",
       "  <class 'vicckb.model.Publication'>: 25505253,\n",
       "  <class 'vicckb.model.Publication'>: 25516890,\n",
       "  <class 'vicckb.model.Publication'>: 25520391,\n",
       "  <class 'vicckb.model.Publication'>: 25534569,\n",
       "  <class 'vicckb.model.Publication'>: 25564152,\n",
       "  <class 'vicckb.model.Publication'>: 25589191,\n",
       "  <class 'vicckb.model.Publication'>: 25596744,\n",
       "  <class 'vicckb.model.Publication'>: 25599133,\n",
       "  <class 'vicckb.model.Publication'>: 25623215,\n",
       "  <class 'vicckb.model.Publication'>: 25624430,\n",
       "  <class 'vicckb.model.Publication'>: 25632036,\n",
       "  <class 'vicckb.model.Publication'>: 25634215,\n",
       "  <class 'vicckb.model.Publication'>: 25667274,\n",
       "  <class 'vicckb.model.Publication'>: 25686104,\n",
       "  <class 'vicckb.model.Publication'>: 25686603,\n",
       "  <class 'vicckb.model.Publication'>: 25688157,\n",
       "  <class 'vicckb.model.Publication'>: 25694417,\n",
       "  <class 'vicckb.model.Publication'>: 25695690,\n",
       "  <class 'vicckb.model.Publication'>: 25719666,\n",
       "  <class 'vicckb.model.Publication'>: 25722381,\n",
       "  <class 'vicckb.model.Publication'>: 25759019,\n",
       "  <class 'vicckb.model.Publication'>: 25759020,\n",
       "  <class 'vicckb.model.Publication'>: 25810463,\n",
       "  <class 'vicckb.model.Publication'>: 25847190,\n",
       "  <class 'vicckb.model.Publication'>: 25847936,\n",
       "  <class 'vicckb.model.Publication'>: 25853747,\n",
       "  <class 'vicckb.model.Publication'>: 25878190,\n",
       "  <class 'vicckb.model.Publication'>: 25899785,\n",
       "  <class 'vicckb.model.Publication'>: 25939061,\n",
       "  <class 'vicckb.model.Publication'>: 25962717,\n",
       "  <class 'vicckb.model.Publication'>: 25964244,\n",
       "  <class 'vicckb.model.Publication'>: 25968887,\n",
       "  <class 'vicckb.model.Publication'>: 25997916,\n",
       "  <class 'vicckb.model.Publication'>: 26009011,\n",
       "  <class 'vicckb.model.Publication'>: 26015296,\n",
       "  <class 'vicckb.model.Publication'>: 26022204,\n",
       "  <class 'vicckb.model.Publication'>: 26022982,\n",
       "  <class 'vicckb.model.Publication'>: 26023187,\n",
       "  <class 'vicckb.model.Publication'>: 26030179,\n",
       "  <class 'vicckb.model.Publication'>: 26032424,\n",
       "  <class 'vicckb.model.Publication'>: 26048680,\n",
       "  <class 'vicckb.model.Publication'>: 26051236,\n",
       "  <class 'vicckb.model.Publication'>: 26059438,\n",
       "  <class 'vicckb.model.Publication'>: 26069190,\n",
       "  <class 'vicckb.model.Publication'>: 26099744,\n",
       "  <class 'vicckb.model.Publication'>: 26104654,\n",
       "  <class 'vicckb.model.Publication'>: 26134233,\n",
       "  <class 'vicckb.model.Publication'>: 26238431,\n",
       "  <class 'vicckb.model.Publication'>: 26287849,\n",
       "  <class 'vicckb.model.Publication'>: 26301689,\n",
       "  <class 'vicckb.model.Publication'>: 26324360,\n",
       "  <class 'vicckb.model.Publication'>: 26324363,\n",
       "  <class 'vicckb.model.Publication'>: 26325560,\n",
       "  <class 'vicckb.model.Publication'>: 26341080,\n",
       "  <class 'vicckb.model.Publication'>: 26351322,\n",
       "  <class 'vicckb.model.Publication'>: 26359368,\n",
       "  <class 'vicckb.model.Publication'>: 26370156,\n",
       "  <class 'vicckb.model.Publication'>: 26392102,\n",
       "  <class 'vicckb.model.Publication'>: 26432108,\n",
       "  <class 'vicckb.model.Publication'>: 26437366,\n",
       "  <class 'vicckb.model.Publication'>: 26510020,\n",
       "  <class 'vicckb.model.Publication'>: 26515464,\n",
       "  <class 'vicckb.model.Publication'>: 26530965,\n",
       "  <class 'vicckb.model.Publication'>: 26537256,\n",
       "  <class 'vicckb.model.Publication'>: 26537258,\n",
       "  <class 'vicckb.model.Publication'>: 26546295,\n",
       "  <class 'vicckb.model.Publication'>: 26552009,\n",
       "  <class 'vicckb.model.Publication'>: 26582713,\n",
       "  <class 'vicckb.model.Publication'>: 26598547,\n",
       "  <class 'vicckb.model.Publication'>: 26633560,\n",
       "  <class 'vicckb.model.Publication'>: 26644315,\n",
       "  <class 'vicckb.model.Publication'>: 26645196,\n",
       "  <class 'vicckb.model.Publication'>: 26658964,\n",
       "  <class 'vicckb.model.Publication'>: 26667485,\n",
       "  <class 'vicckb.model.Publication'>: 26698910,\n",
       "  <class 'vicckb.model.Publication'>: 26701728,\n",
       "  <class 'vicckb.model.Publication'>: 26732095,\n",
       "  <class 'vicckb.model.Publication'>: 26759240,\n",
       "  <class 'vicckb.model.Publication'>: 26763254,\n",
       "  <class 'vicckb.model.Publication'>: 26773740,\n",
       "  <class 'vicckb.model.Publication'>: 26787234,\n",
       "  <class 'vicckb.model.Publication'>: 26787751,\n",
       "  <class 'vicckb.model.Publication'>: 26801247,\n",
       "  <class 'vicckb.model.Publication'>: 26802155,\n",
       "  <class 'vicckb.model.Publication'>: 26859683,\n",
       "  <class 'vicckb.model.Publication'>: 26888827,\n",
       "  <class 'vicckb.model.Publication'>: 26920892,\n",
       "  <class 'vicckb.model.Publication'>: 26924578,\n",
       "  <class 'vicckb.model.Publication'>: 26933125,\n",
       "  <class 'vicckb.model.Publication'>: 26936308,\n",
       "  <class 'vicckb.model.Publication'>: 26977878,\n",
       "  <class 'vicckb.model.Publication'>: 26997480,\n",
       "  <class 'vicckb.model.Publication'>: 27001570,\n",
       "  <class 'vicckb.model.Publication'>: 27016228,\n",
       "  <class 'vicckb.model.Publication'>: 27044931,\n",
       "  <class 'vicckb.model.Publication'>: 27048246,\n",
       "  <class 'vicckb.model.Publication'>: 27075627,\n",
       "  <class 'vicckb.model.Publication'>: 27080216,\n",
       "  <class 'vicckb.model.Publication'>: 27091708,\n",
       "  <class 'vicckb.model.Publication'>: 27102076,\n",
       "  <class 'vicckb.model.Publication'>: 27114605,\n",
       "  <class 'vicckb.model.Publication'>: 27135740,\n",
       "  <class 'vicckb.model.Publication'>: 27159395,\n",
       "  <class 'vicckb.model.Publication'>: 27167191,\n",
       "  <class 'vicckb.model.Publication'>: 27172896,\n",
       "  <class 'vicckb.model.Publication'>: 27196756,\n",
       "  <class 'vicckb.model.Publication'>: 27199251,\n",
       "  <class 'vicckb.model.Publication'>: 27217383,\n",
       "  <class 'vicckb.model.Publication'>: 27231123,\n",
       "  <class 'vicckb.model.Publication'>: 27252416,\n",
       "  <class 'vicckb.model.Publication'>: 27269946,\n",
       "  <class 'vicckb.model.Publication'>: 27283860,\n",
       "  <class 'vicckb.model.Publication'>: 27283993,\n",
       "  <class 'vicckb.model.Publication'>: 27325282,\n",
       "  <class 'vicckb.model.Publication'>: 27338794,\n",
       "  <class 'vicckb.model.Publication'>: 27370605,\n",
       "  <class 'vicckb.model.Publication'>: 27397505,\n",
       "  <class 'vicckb.model.Publication'>: 27401242,\n",
       "  <class 'vicckb.model.Publication'>: 27433843,\n",
       "  <class 'vicckb.model.Publication'>: 27520294,\n",
       "  <class 'vicckb.model.Publication'>: 27535106,\n",
       "  <class 'vicckb.model.Publication'>: 27582059,\n",
       "  <class 'vicckb.model.Publication'>: 27646943,\n",
       "  <class 'vicckb.model.Publication'>: 27668655,\n",
       "  <class 'vicckb.model.Publication'>: 27672108,\n",
       "  <class 'vicckb.model.Publication'>: 27683556,\n",
       "  <class 'vicckb.model.Publication'>: 27694386,\n",
       "  <class 'vicckb.model.Publication'>: 27697991,\n",
       "  <class 'vicckb.model.Publication'>: 27729313,\n",
       "  <class 'vicckb.model.Publication'>: 27742657,\n",
       "  <class 'vicckb.model.Publication'>: 27748748,\n",
       "  <class 'vicckb.model.Publication'>: 27870570,\n",
       "  <class 'vicckb.model.Publication'>: 27870574,\n",
       "  <class 'vicckb.model.Publication'>: 27903500,\n",
       "  <class 'vicckb.model.Publication'>: 27942391,\n",
       "  <class 'vicckb.model.Publication'>: 27958275,\n",
       "  <class 'vicckb.model.Publication'>: 27959731,\n",
       "  <class 'vicckb.model.Publication'>: 27986707,\n",
       "  <class 'vicckb.model.Publication'>: 27998224,\n",
       "  <class 'vicckb.model.Publication'>: 27998968,\n",
       "  <class 'vicckb.model.Publication'>: 28034880,\n",
       "  <class 'vicckb.model.Publication'>: 28148839,\n",
       "  <class 'vicckb.model.Publication'>: 28183697,\n",
       "  <class 'vicckb.model.Publication'>: 28188185,\n",
       "  <class 'vicckb.model.Publication'>: 28274957,\n",
       "  <class 'vicckb.model.Publication'>: 28331003,\n",
       "  <class 'vicckb.model.Publication'>: 28363909,\n",
       "  <class 'vicckb.model.Publication'>: 28447912,\n",
       "  <class 'vicckb.model.Publication'>: 28489509,\n",
       "  <class 'vicckb.model.Publication'>: 28578312,\n",
       "  <class 'vicckb.model.Publication'>: 28615362,\n",
       "  <class 'vicckb.model.Publication'>: 28644771},\n",
       " 'civic': {<class 'vicckb.model.Publication'>: 15922892,\n",
       "  <class 'vicckb.model.Publication'>: 16254181,\n",
       "  <class 'vicckb.model.Publication'>: 21747090,\n",
       "  <class 'vicckb.model.Publication'>: 22246397,\n",
       "  <class 'vicckb.model.Publication'>: 25081901,\n",
       "  <class 'vicckb.model.Publication'>: 22623731,\n",
       "  <class 'vicckb.model.Publication'>: 24508103,\n",
       "  <class 'vicckb.model.Publication'>: 24915778,\n",
       "  <class 'vicckb.model.Publication'>: 20453058,\n",
       "  <class 'vicckb.model.Publication'>: 28079291,\n",
       "  <class 'vicckb.model.Publication'>: 22296372,\n",
       "  <class 'vicckb.model.Publication'>: 22149875,\n",
       "  <class 'vicckb.model.Publication'>: 25589191,\n",
       "  <class 'vicckb.model.Publication'>: 26683709,\n",
       "  <class 'vicckb.model.Publication'>: 26206558,\n",
       "  <class 'vicckb.model.Publication'>: 26490311,\n",
       "  <class 'vicckb.model.Publication'>: 24463458,\n",
       "  <class 'vicckb.model.Publication'>: 24962318,\n",
       "  <class 'vicckb.model.Publication'>: 24981688,\n",
       "  <class 'vicckb.model.Publication'>: 21537333,\n",
       "  <class 'vicckb.model.Publication'>: 18458053,\n",
       "  <class 'vicckb.model.Publication'>: 27520988,\n",
       "  <class 'vicckb.model.Publication'>: 26865419,\n",
       "  <class 'vicckb.model.Publication'>: 24559322,\n",
       "  <class 'vicckb.model.Publication'>: 23524406,\n",
       "  <class 'vicckb.model.Publication'>: 23761041,\n",
       "  <class 'vicckb.model.Publication'>: 16282176,\n",
       "  <class 'vicckb.model.Publication'>: 22203985,\n",
       "  <class 'vicckb.model.Publication'>: 18227510,\n",
       "  <class 'vicckb.model.Publication'>: 24894453,\n",
       "  <class 'vicckb.model.Publication'>: 27908594,\n",
       "  <class 'vicckb.model.Publication'>: 22608338,\n",
       "  <class 'vicckb.model.Publication'>: 25928036,\n",
       "  <class 'vicckb.model.Publication'>: 27785053,\n",
       "  <class 'vicckb.model.Publication'>: 18003960,\n",
       "  <class 'vicckb.model.Publication'>: 19934290,\n",
       "  <class 'vicckb.model.Publication'>: 20537386,\n",
       "  <class 'vicckb.model.Publication'>: 23374602,\n",
       "  <class 'vicckb.model.Publication'>: 21964527,\n",
       "  <class 'vicckb.model.Publication'>: 27179038,\n",
       "  <class 'vicckb.model.Publication'>: 20421455,\n",
       "  <class 'vicckb.model.Publication'>: 26916894,\n",
       "  <class 'vicckb.model.Publication'>: 22596232,\n",
       "  <class 'vicckb.model.Publication'>: 18669866,\n",
       "  <class 'vicckb.model.Publication'>: 25542057,\n",
       "  <class 'vicckb.model.Publication'>: 19040416,\n",
       "  <class 'vicckb.model.Publication'>: 24351425,\n",
       "  <class 'vicckb.model.Publication'>: 15647370,\n",
       "  <class 'vicckb.model.Publication'>: 26370156,\n",
       "  <class 'vicckb.model.Publication'>: 24836576,\n",
       "  <class 'vicckb.model.Publication'>: 24166148,\n",
       "  <class 'vicckb.model.Publication'>: 9215674,\n",
       "  <class 'vicckb.model.Publication'>: 25268372,\n",
       "  <class 'vicckb.model.Publication'>: 26057002,\n",
       "  <class 'vicckb.model.Publication'>: 22493419,\n",
       "  <class 'vicckb.model.Publication'>: 25883215,\n",
       "  <class 'vicckb.model.Publication'>: 22046346,\n",
       "  <class 'vicckb.model.Publication'>: 26307133,\n",
       "  <class 'vicckb.model.Publication'>: 27093365,\n",
       "  <class 'vicckb.model.Publication'>: 22215888,\n",
       "  <class 'vicckb.model.Publication'>: 22890726,\n",
       "  <class 'vicckb.model.Publication'>: 18450602,\n",
       "  <class 'vicckb.model.Publication'>: 23612012,\n",
       "  <class 'vicckb.model.Publication'>: 24388723,\n",
       "  <class 'vicckb.model.Publication'>: 12727991,\n",
       "  <class 'vicckb.model.Publication'>: 19692680,\n",
       "  <class 'vicckb.model.Publication'>: 21890455,\n",
       "  <class 'vicckb.model.Publication'>: 24855211,\n",
       "  <class 'vicckb.model.Publication'>: 20871596,\n",
       "  <class 'vicckb.model.Publication'>: 22490330,\n",
       "  <class 'vicckb.model.Publication'>: 24633157,\n",
       "  <class 'vicckb.model.Publication'>: 27470558,\n",
       "  <class 'vicckb.model.Publication'>: 19726788,\n",
       "  <class 'vicckb.model.Publication'>: 28679771,\n",
       "  <class 'vicckb.model.Publication'>: 26508446,\n",
       "  <class 'vicckb.model.Publication'>: 23888070,\n",
       "  <class 'vicckb.model.Publication'>: 20124459,\n",
       "  <class 'vicckb.model.Publication'>: 17131328,\n",
       "  <class 'vicckb.model.Publication'>: 24685132,\n",
       "  <class 'vicckb.model.Publication'>: 26778701,\n",
       "  <class 'vicckb.model.Publication'>: 8707293,\n",
       "  <class 'vicckb.model.Publication'>: 21172893,\n",
       "  <class 'vicckb.model.Publication'>: 24327581,\n",
       "  <class 'vicckb.model.Publication'>: 12517791,\n",
       "  <class 'vicckb.model.Publication'>: 15555571,\n",
       "  <class 'vicckb.model.Publication'>: 24296758,\n",
       "  <class 'vicckb.model.Publication'>: 15109448,\n",
       "  <class 'vicckb.model.Publication'>: 19284554,\n",
       "  <class 'vicckb.model.Publication'>: 23569304,\n",
       "  <class 'vicckb.model.Publication'>: 17024664,\n",
       "  <class 'vicckb.model.Publication'>: 24162815,\n",
       "  <class 'vicckb.model.Publication'>: 27211795,\n",
       "  <class 'vicckb.model.Publication'>: 27771611,\n",
       "  <class 'vicckb.model.Publication'>: 23329234,\n",
       "  <class 'vicckb.model.Publication'>: 22031865,\n",
       "  <class 'vicckb.model.Publication'>: 10617473,\n",
       "  <class 'vicckb.model.Publication'>: 12393546,\n",
       "  <class 'vicckb.model.Publication'>: 21358673,\n",
       "  <class 'vicckb.model.Publication'>: 25171497,\n",
       "  <class 'vicckb.model.Publication'>: 27288520,\n",
       "  <class 'vicckb.model.Publication'>: 26338418,\n",
       "  <class 'vicckb.model.Publication'>: 25971939,\n",
       "  <class 'vicckb.model.Publication'>: 23014527,\n",
       "  <class 'vicckb.model.Publication'>: 10088816,\n",
       "  <class 'vicckb.model.Publication'>: 21119661,\n",
       "  <class 'vicckb.model.Publication'>: 19661358,\n",
       "  <class 'vicckb.model.Publication'>: 24396464,\n",
       "  <class 'vicckb.model.Publication'>: 20846682,\n",
       "  <class 'vicckb.model.Publication'>: 22735384,\n",
       "  <class 'vicckb.model.Publication'>: 24651015,\n",
       "  <class 'vicckb.model.Publication'>: 21156401,\n",
       "  <class 'vicckb.model.Publication'>: 22383795,\n",
       "  <class 'vicckb.model.Publication'>: 24167368,\n",
       "  <class 'vicckb.model.Publication'>: 25798586,\n",
       "  <class 'vicckb.model.Publication'>: 19075596,\n",
       "  <class 'vicckb.model.Publication'>: 24658004,\n",
       "  <class 'vicckb.model.Publication'>: 25688157,\n",
       "  <class 'vicckb.model.Publication'>: 24185510,\n",
       "  <class 'vicckb.model.Publication'>: 25300346,\n",
       "  <class 'vicckb.model.Publication'>: 21177507,\n",
       "  <class 'vicckb.model.Publication'>: 22343617,\n",
       "  <class 'vicckb.model.Publication'>: 26772734,\n",
       "  <class 'vicckb.model.Publication'>: 12509970,\n",
       "  <class 'vicckb.model.Publication'>: 26152787,\n",
       "  <class 'vicckb.model.Publication'>: 27751729,\n",
       "  <class 'vicckb.model.Publication'>: 19718025,\n",
       "  <class 'vicckb.model.Publication'>: 26392102,\n",
       "  <class 'vicckb.model.Publication'>: 25092772,\n",
       "  <class 'vicckb.model.Publication'>: 26712101,\n",
       "  <class 'vicckb.model.Publication'>: 21840482,\n",
       "  <class 'vicckb.model.Publication'>: 23988873,\n",
       "  <class 'vicckb.model.Publication'>: 27283860,\n",
       "  <class 'vicckb.model.Publication'>: 23143947,\n",
       "  <class 'vicckb.model.Publication'>: 20818844,\n",
       "  <class 'vicckb.model.Publication'>: 27556863,\n",
       "  <class 'vicckb.model.Publication'>: 21594703,\n",
       "  <class 'vicckb.model.Publication'>: 26544513,\n",
       "  <class 'vicckb.model.Publication'>: 22663011,\n",
       "  <class 'vicckb.model.Publication'>: 25184630,\n",
       "  <class 'vicckb.model.Publication'>: 22431701,\n",
       "  <class 'vicckb.model.Publication'>: 21067377,\n",
       "  <class 'vicckb.model.Publication'>: 24387334,\n",
       "  <class 'vicckb.model.Publication'>: 27304188,\n",
       "  <class 'vicckb.model.Publication'>: 23300174,\n",
       "  <class 'vicckb.model.Publication'>: 21123452,\n",
       "  <class 'vicckb.model.Publication'>: 26391455,\n",
       "  <class 'vicckb.model.Publication'>: 22190288,\n",
       "  <class 'vicckb.model.Publication'>: 11792751,\n",
       "  <class 'vicckb.model.Publication'>: 19157502,\n",
       "  <class 'vicckb.model.Publication'>: 28148839,\n",
       "  <class 'vicckb.model.Publication'>: 20368568,\n",
       "  <class 'vicckb.model.Publication'>: 24943832,\n",
       "  <class 'vicckb.model.Publication'>: 23434161,\n",
       "  <class 'vicckb.model.Publication'>: 21422407,\n",
       "  <class 'vicckb.model.Publication'>: 9742087,\n",
       "  <class 'vicckb.model.Publication'>: 26822398,\n",
       "  <class 'vicckb.model.Publication'>: 24297342,\n",
       "  <class 'vicckb.model.Publication'>: 28472902,\n",
       "  <class 'vicckb.model.Publication'>: 24938562,\n",
       "  <class 'vicckb.model.Publication'>: 23569312,\n",
       "  <class 'vicckb.model.Publication'>: 26397223,\n",
       "  <class 'vicckb.model.Publication'>: 22114577,\n",
       "  <class 'vicckb.model.Publication'>: 17538160,\n",
       "  <class 'vicckb.model.Publication'>: 8462792,\n",
       "  <class 'vicckb.model.Publication'>: 19667267,\n",
       "  <class 'vicckb.model.Publication'>: 26046389,\n",
       "  <class 'vicckb.model.Publication'>: 26286452,\n",
       "  <class 'vicckb.model.Publication'>: 22292935,\n",
       "  <class 'vicckb.model.Publication'>: 23960094,\n",
       "  <class 'vicckb.model.Publication'>: 22658127,\n",
       "  <class 'vicckb.model.Publication'>: 15486187,\n",
       "  <class 'vicckb.model.Publication'>: 24065731,\n",
       "  <class 'vicckb.model.Publication'>: 28211448,\n",
       "  <class 'vicckb.model.Publication'>: 26637881,\n",
       "  <class 'vicckb.model.Publication'>: 20551065,\n",
       "  <class 'vicckb.model.Publication'>: 24578576,\n",
       "  <class 'vicckb.model.Publication'>: 19884556,\n",
       "  <class 'vicckb.model.Publication'>: 8187067,\n",
       "  <class 'vicckb.model.Publication'>: 22256804,\n",
       "  <class 'vicckb.model.Publication'>: 23463675,\n",
       "  <class 'vicckb.model.Publication'>: 10533077,\n",
       "  <class 'vicckb.model.Publication'>: 18528420,\n",
       "  <class 'vicckb.model.Publication'>: 19118063,\n",
       "  <class 'vicckb.model.Publication'>: 22628360,\n",
       "  <class 'vicckb.model.Publication'>: 23816960,\n",
       "  <class 'vicckb.model.Publication'>: 27485109,\n",
       "  <class 'vicckb.model.Publication'>: 26686064,\n",
       "  <class 'vicckb.model.Publication'>: 9829911,\n",
       "  <class 'vicckb.model.Publication'>: 22238366,\n",
       "  <class 'vicckb.model.Publication'>: 26559459,\n",
       "  <class 'vicckb.model.Publication'>: 21274720,\n",
       "  <class 'vicckb.model.Publication'>: 26528855,\n",
       "  <class 'vicckb.model.Publication'>: 23288408,\n",
       "  <class 'vicckb.model.Publication'>: 22281684,\n",
       "  <class 'vicckb.model.Publication'>: 25788273,\n",
       "  <class 'vicckb.model.Publication'>: 22328973,\n",
       "  <class 'vicckb.model.Publication'>: 12623848,\n",
       "  <class 'vicckb.model.Publication'>: 20628391,\n",
       "  <class 'vicckb.model.Publication'>: 20570890,\n",
       "  <class 'vicckb.model.Publication'>: 24439929,\n",
       "  <class 'vicckb.model.Publication'>: 25759020,\n",
       "  <class 'vicckb.model.Publication'>: 26716414,\n",
       "  <class 'vicckb.model.Publication'>: 25583779,\n",
       "  <class 'vicckb.model.Publication'>: 27671675,\n",
       "  <class 'vicckb.model.Publication'>: 8730290,\n",
       "  <class 'vicckb.model.Publication'>: 23582881,\n",
       "  <class 'vicckb.model.Publication'>: 16307017,\n",
       "  <class 'vicckb.model.Publication'>: 26596839,\n",
       "  <class 'vicckb.model.Publication'>: 16953233,\n",
       "  <class 'vicckb.model.Publication'>: 25542901,\n",
       "  <class 'vicckb.model.Publication'>: 9428816,\n",
       "  <class 'vicckb.model.Publication'>: 28193778,\n",
       "  <class 'vicckb.model.Publication'>: 28451792,\n",
       "  <class 'vicckb.model.Publication'>: 17690703,\n",
       "  <class 'vicckb.model.Publication'>: 27172793,\n",
       "  <class 'vicckb.model.Publication'>: 28259530,\n",
       "  <class 'vicckb.model.Publication'>: 27001570,\n",
       "  <class 'vicckb.model.Publication'>: 25517749,\n",
       "  <class 'vicckb.model.Publication'>: 19603024,\n",
       "  <class 'vicckb.model.Publication'>: 20368538,\n",
       "  <class 'vicckb.model.Publication'>: 18832571,\n",
       "  <class 'vicckb.model.Publication'>: 20538800,\n",
       "  <class 'vicckb.model.Publication'>: 25982282,\n",
       "  <class 'vicckb.model.Publication'>: 24950457,\n",
       "  <class 'vicckb.model.Publication'>: 19039322,\n",
       "  <class 'vicckb.model.Publication'>: 12000816,\n",
       "  <class 'vicckb.model.Publication'>: 11793370,\n",
       "  <class 'vicckb.model.Publication'>: 20149136,\n",
       "  <class 'vicckb.model.Publication'>: 16236737,\n",
       "  <class 'vicckb.model.Publication'>: 18632602,\n",
       "  <class 'vicckb.model.Publication'>: 26557775,\n",
       "  <class 'vicckb.model.Publication'>: 15659725,\n",
       "  <class 'vicckb.model.Publication'>: 23340172,\n",
       "  <class 'vicckb.model.Publication'>: 21732342,\n",
       "  <class 'vicckb.model.Publication'>: 18794084,\n",
       "  <class 'vicckb.model.Publication'>: 27315356,\n",
       "  <class 'vicckb.model.Publication'>: 16906227,\n",
       "  <class 'vicckb.model.Publication'>: 27518686,\n",
       "  <class 'vicckb.model.Publication'>: 16551858,\n",
       "  <class 'vicckb.model.Publication'>: 19357394,\n",
       "  <class 'vicckb.model.Publication'>: 26359368,\n",
       "  <class 'vicckb.model.Publication'>: 24947927,\n",
       "  <class 'vicckb.model.Publication'>: 15642680,\n",
       "  <class 'vicckb.model.Publication'>: 21862407,\n",
       "  <class 'vicckb.model.Publication'>: 25524798,\n",
       "  <class 'vicckb.model.Publication'>: 17936563,\n",
       "  <class 'vicckb.model.Publication'>: 11354926,\n",
       "  <class 'vicckb.model.Publication'>: 23480694,\n",
       "  <class 'vicckb.model.Publication'>: 9552022,\n",
       "  <class 'vicckb.model.Publication'>: 25502557,\n",
       "  <class 'vicckb.model.Publication'>: 25667280,\n",
       "  <class 'vicckb.model.Publication'>: 25199829,\n",
       "  <class 'vicckb.model.Publication'>: 23792563,\n",
       "  <class 'vicckb.model.Publication'>: 20840671,\n",
       "  <class 'vicckb.model.Publication'>: 19470925,\n",
       "  <class 'vicckb.model.Publication'>: 21730982,\n",
       "  <class 'vicckb.model.Publication'>: 23806793,\n",
       "  <class 'vicckb.model.Publication'>: 23733758,\n",
       "  <class 'vicckb.model.Publication'>: 27959684,\n",
       "  <class 'vicckb.model.Publication'>: 23390248,\n",
       "  <class 'vicckb.model.Publication'>: 24961465,\n",
       "  <class 'vicckb.model.Publication'>: 23029227,\n",
       "  <class 'vicckb.model.Publication'>: 22101352,\n",
       "  <class 'vicckb.model.Publication'>: 9829912,\n",
       "  <class 'vicckb.model.Publication'>: 22699455,\n",
       "  <class 'vicckb.model.Publication'>: 26268241,\n",
       "  <class 'vicckb.model.Publication'>: 20567917,\n",
       "  <class 'vicckb.model.Publication'>: 26162296,\n",
       "  <class 'vicckb.model.Publication'>: 25691057,\n",
       "  <class 'vicckb.model.Publication'>: 23797736,\n",
       "  <class 'vicckb.model.Publication'>: 14504092,\n",
       "  <class 'vicckb.model.Publication'>: 23539443,\n",
       "  <class 'vicckb.model.Publication'>: 22983505,\n",
       "  <class 'vicckb.model.Publication'>: 23982599,\n",
       "  <class 'vicckb.model.Publication'>: 23674493,\n",
       "  <class 'vicckb.model.Publication'>: 24335962,\n",
       "  <class 'vicckb.model.Publication'>: 27276402,\n",
       "  <class 'vicckb.model.Publication'>: 27269946,\n",
       "  <class 'vicckb.model.Publication'>: 23218766,\n",
       "  <class 'vicckb.model.Publication'>: 26537256,\n",
       "  <class 'vicckb.model.Publication'>: 27664533,\n",
       "  <class 'vicckb.model.Publication'>: 27034505,\n",
       "  <class 'vicckb.model.Publication'>: 17192538,\n",
       "  <class 'vicckb.model.Publication'>: 22004109,\n",
       "  <class 'vicckb.model.Publication'>: 26589432,\n",
       "  <class 'vicckb.model.Publication'>: 15746676,\n",
       "  <class 'vicckb.model.Publication'>: 23568491,\n",
       "  <class 'vicckb.model.Publication'>: 19574279,\n",
       "  <class 'vicckb.model.Publication'>: 18986703,\n",
       "  <class 'vicckb.model.Publication'>: 24466223,\n",
       "  <class 'vicckb.model.Publication'>: 27181063,\n",
       "  <class 'vicckb.model.Publication'>: 16434489,\n",
       "  <class 'vicckb.model.Publication'>: 27391784,\n",
       "  <class 'vicckb.model.Publication'>: 26787751,\n",
       "  <class 'vicckb.model.Publication'>: 23632886,\n",
       "  <class 'vicckb.model.Publication'>: 21796119,\n",
       "  <class 'vicckb.model.Publication'>: 21523734,\n",
       "  <class 'vicckb.model.Publication'>: 25891174,\n",
       "  <class 'vicckb.model.Publication'>: 25544710,\n",
       "  <class 'vicckb.model.Publication'>: 2547513,\n",
       "  <class 'vicckb.model.Publication'>: 24178622,\n",
       "  <class 'vicckb.model.Publication'>: 25037629,\n",
       "  <class 'vicckb.model.Publication'>: 26715889,\n",
       "  <class 'vicckb.model.Publication'>: 24236021,\n",
       "  <class 'vicckb.model.Publication'>: 25923549,\n",
       "  <class 'vicckb.model.Publication'>: 28958504,\n",
       "  <class 'vicckb.model.Publication'>: 20733134,\n",
       "  <class 'vicckb.model.Publication'>: 23497317,\n",
       "  <class 'vicckb.model.Publication'>: 23222956,\n",
       "  <class 'vicckb.model.Publication'>: 19915144,\n",
       "  <class 'vicckb.model.Publication'>: 16243825,\n",
       "  <class 'vicckb.model.Publication'>: 22805291,\n",
       "  <class 'vicckb.model.Publication'>: 26884591,\n",
       "  <class 'vicckb.model.Publication'>: 19029981,\n",
       "  <class 'vicckb.model.Publication'>: 17442989,\n",
       "  <class 'vicckb.model.Publication'>: 19366796,\n",
       "  <class 'vicckb.model.Publication'>: 10547574,\n",
       "  <class 'vicckb.model.Publication'>: 24576830,\n",
       "  <class 'vicckb.model.Publication'>: 24097869,\n",
       "  <class 'vicckb.model.Publication'>: 28275037,\n",
       "  <class 'vicckb.model.Publication'>: 2199829,\n",
       "  <class 'vicckb.model.Publication'>: 26510020,\n",
       "  <class 'vicckb.model.Publication'>: 25666295,\n",
       "  <class 'vicckb.model.Publication'>: 26845194,\n",
       "  <class 'vicckb.model.Publication'>: 22425996,\n",
       "  <class 'vicckb.model.Publication'>: 19874578,\n",
       "  <class 'vicckb.model.Publication'>: 20975057,\n",
       "  <class 'vicckb.model.Publication'>: 20081860,\n",
       "  <class 'vicckb.model.Publication'>: 22162573,\n",
       "  <class 'vicckb.model.Publication'>: 18765795,\n",
       "  <class 'vicckb.model.Publication'>: 26867820,\n",
       "  <class 'vicckb.model.Publication'>: 26822128,\n",
       "  <class 'vicckb.model.Publication'>: 9156047,\n",
       "  <class 'vicckb.model.Publication'>: 19958924,\n",
       "  <class 'vicckb.model.Publication'>: 27998968,\n",
       "  <class 'vicckb.model.Publication'>: 25424858,\n",
       "  <class 'vicckb.model.Publication'>: 24933606,\n",
       "  <class 'vicckb.model.Publication'>: 27876675,\n",
       "  <class 'vicckb.model.Publication'>: 22895145,\n",
       "  <class 'vicckb.model.Publication'>: 19287384,\n",
       "  <class 'vicckb.model.Publication'>: 26181029,\n",
       "  <class 'vicckb.model.Publication'>: 24265152,\n",
       "  <class 'vicckb.model.Publication'>: 22650231,\n",
       "  <class 'vicckb.model.Publication'>: 19318574,\n",
       "  <class 'vicckb.model.Publication'>: 12807974,\n",
       "  <class 'vicckb.model.Publication'>: 26894977,\n",
       "  <class 'vicckb.model.Publication'>: 26574622,\n",
       "  <class 'vicckb.model.Publication'>: 15201427,\n",
       "  <class 'vicckb.model.Publication'>: 23111194,\n",
       "  <class 'vicckb.model.Publication'>: 26674132,\n",
       "  <class 'vicckb.model.Publication'>: 25537159,\n",
       "  <class 'vicckb.model.Publication'>: 8929264,\n",
       "  <class 'vicckb.model.Publication'>: 28351930,\n",
       "  <class 'vicckb.model.Publication'>: 23456958,\n",
       "  <class 'vicckb.model.Publication'>: 26070258,\n",
       "  <class 'vicckb.model.Publication'>: 19270817,\n",
       "  <class 'vicckb.model.Publication'>: 22842582,\n",
       "  <class 'vicckb.model.Publication'>: 21343559,\n",
       "  <class 'vicckb.model.Publication'>: 22418700,\n",
       "  <class 'vicckb.model.Publication'>: 26625204,\n",
       "  <class 'vicckb.model.Publication'>: 25053825,\n",
       "  <class 'vicckb.model.Publication'>: 24335681,\n",
       "  <class 'vicckb.model.Publication'>: 21997850,\n",
       "  <class 'vicckb.model.Publication'>: 21841502,\n",
       "  <class 'vicckb.model.Publication'>: 18202412,\n",
       "  <class 'vicckb.model.Publication'>: 26894380,\n",
       "  <class 'vicckb.model.Publication'>: 18689542,\n",
       "  <class 'vicckb.model.Publication'>: 22265326,\n",
       "  <class 'vicckb.model.Publication'>: 16091755,\n",
       "  <class 'vicckb.model.Publication'>: 24997557,\n",
       "  <class 'vicckb.model.Publication'>: 28404093,\n",
       "  <class 'vicckb.model.Publication'>: 20728210,\n",
       "  <class 'vicckb.model.Publication'>: 24088382,\n",
       "  <class 'vicckb.model.Publication'>: 26870193,\n",
       "  <class 'vicckb.model.Publication'>: 24662454,\n",
       "  <class 'vicckb.model.Publication'>: 22215748,\n",
       "  <class 'vicckb.model.Publication'>: 25892145,\n",
       "  <class 'vicckb.model.Publication'>: 26371285,\n",
       "  <class 'vicckb.model.Publication'>: 25899785,\n",
       "  <class 'vicckb.model.Publication'>: 16309541,\n",
       "  <class 'vicckb.model.Publication'>: 21862683,\n",
       "  <class 'vicckb.model.Publication'>: 11524732,\n",
       "  <class 'vicckb.model.Publication'>: 26912052,\n",
       "  <class 'vicckb.model.Publication'>: 23313110,\n",
       "  <class 'vicckb.model.Publication'>: 24098545,\n",
       "  <class 'vicckb.model.Publication'>: 8441429,\n",
       "  <class 'vicckb.model.Publication'>: 11208838,\n",
       "  <class 'vicckb.model.Publication'>: 26051236,\n",
       "  <class 'vicckb.model.Publication'>: 24899684,\n",
       "  <class 'vicckb.model.Publication'>: 24623981,\n",
       "  <class 'vicckb.model.Publication'>: 28287083,\n",
       "  <class 'vicckb.model.Publication'>: 27500726,\n",
       "  <class 'vicckb.model.Publication'>: 3163261,\n",
       "  <class 'vicckb.model.Publication'>: 24039832,\n",
       "  <class 'vicckb.model.Publication'>: 23348520,\n",
       "  <class 'vicckb.model.Publication'>: 10224221,\n",
       "  <class 'vicckb.model.Publication'>: 22452896,\n",
       "  <class 'vicckb.model.Publication'>: 16818618,\n",
       "  <class 'vicckb.model.Publication'>: 15146165,\n",
       "  <class 'vicckb.model.Publication'>: 26821351,\n",
       "  <class 'vicckb.model.Publication'>: 9569050,\n",
       "  <class 'vicckb.model.Publication'>: 19470935,\n",
       "  <class 'vicckb.model.Publication'>: 26920892,\n",
       "  <class 'vicckb.model.Publication'>: 22901364,\n",
       "  <class 'vicckb.model.Publication'>: 1568170,\n",
       "  <class 'vicckb.model.Publication'>: 24893891,\n",
       "  <class 'vicckb.model.Publication'>: 24653627,\n",
       "  <class 'vicckb.model.Publication'>: 15911866,\n",
       "  <class 'vicckb.model.Publication'>: 25961751,\n",
       "  <class 'vicckb.model.Publication'>: 18510589,\n",
       "  <class 'vicckb.model.Publication'>: 20010090,\n",
       "  <class 'vicckb.model.Publication'>: 20227043,\n",
       "  <class 'vicckb.model.Publication'>: 25015329,\n",
       "  <class 'vicckb.model.Publication'>: 26956051,\n",
       "  <class 'vicckb.model.Publication'>: 19922504,\n",
       "  <class 'vicckb.model.Publication'>: 23656643,\n",
       "  <class 'vicckb.model.Publication'>: 26502926,\n",
       "  <class 'vicckb.model.Publication'>: 27009855,\n",
       "  <class 'vicckb.model.Publication'>: 26546295,\n",
       "  <class 'vicckb.model.Publication'>: 11704842,\n",
       "  <class 'vicckb.model.Publication'>: 21181474,\n",
       "  <class 'vicckb.model.Publication'>: 26943774,\n",
       "  <class 'vicckb.model.Publication'>: 24132921,\n",
       "  <class 'vicckb.model.Publication'>: 11607825,\n",
       "  <class 'vicckb.model.Publication'>: 22805292,\n",
       "  <class 'vicckb.model.Publication'>: 27037411,\n",
       "  <class 'vicckb.model.Publication'>: 24729716,\n",
       "  <class 'vicckb.model.Publication'>: 23584301,\n",
       "  <class 'vicckb.model.Publication'>: 24608574,\n",
       "  <class 'vicckb.model.Publication'>: 21467160,\n",
       "  <class 'vicckb.model.Publication'>: 22711607,\n",
       "  <class 'vicckb.model.Publication'>: 25952756,\n",
       "  <class 'vicckb.model.Publication'>: 24678776,\n",
       "  <class 'vicckb.model.Publication'>: 15696205,\n",
       "  <class 'vicckb.model.Publication'>: 26918046,\n",
       "  <class 'vicckb.model.Publication'>: 10786679,\n",
       "  <class 'vicckb.model.Publication'>: 23948972,\n",
       "  <class 'vicckb.model.Publication'>: 23867504,\n",
       "  <class 'vicckb.model.Publication'>: 16638875,\n",
       "  <class 'vicckb.model.Publication'>: 22090360,\n",
       "  <class 'vicckb.model.Publication'>: 26888827,\n",
       "  <class 'vicckb.model.Publication'>: 24586741,\n",
       "  <class 'vicckb.model.Publication'>: 20473330,\n",
       "  <class 'vicckb.model.Publication'>: 21461300,\n",
       "  <class 'vicckb.model.Publication'>: 21364689,\n",
       "  <class 'vicckb.model.Publication'>: 16533790,\n",
       "  <class 'vicckb.model.Publication'>: 11782370,\n",
       "  <class 'vicckb.model.Publication'>: 8592333,\n",
       "  <class 'vicckb.model.Publication'>: 26765760,\n",
       "  <class 'vicckb.model.Publication'>: 16088935,\n",
       "  <class 'vicckb.model.Publication'>: 19060236,\n",
       "  <class 'vicckb.model.Publication'>: 26428316,\n",
       "  <class 'vicckb.model.Publication'>: 21995386,\n",
       "  <class 'vicckb.model.Publication'>: 18421059,\n",
       "  <class 'vicckb.model.Publication'>: 25672916,\n",
       "  <class 'vicckb.model.Publication'>: 10408776,\n",
       "  <class 'vicckb.model.Publication'>: 19513541,\n",
       "  <class 'vicckb.model.Publication'>: 21098728,\n",
       "  <class 'vicckb.model.Publication'>: 25971938,\n",
       "  <class 'vicckb.model.Publication'>: 22357542,\n",
       "  <class 'vicckb.model.Publication'>: 18445659,\n",
       "  <class 'vicckb.model.Publication'>: 27863413,\n",
       "  <class 'vicckb.model.Publication'>: 16715139,\n",
       "  <class 'vicckb.model.Publication'>: 26596672,\n",
       "  <class 'vicckb.model.Publication'>: 20693978,\n",
       "  <class 'vicckb.model.Publication'>: 23585477,\n",
       "  <class 'vicckb.model.Publication'>: 26673008,\n",
       "  <class 'vicckb.model.Publication'>: 18555254,\n",
       "  <class 'vicckb.model.Publication'>: 23746666,\n",
       "  <class 'vicckb.model.Publication'>: 28028034,\n",
       "  <class 'vicckb.model.Publication'>: 21663470,\n",
       "  <class 'vicckb.model.Publication'>: 21985784,\n",
       "  <class 'vicckb.model.Publication'>: 22038994,\n",
       "  <class 'vicckb.model.Publication'>: 27313181,\n",
       "  <class 'vicckb.model.Publication'>: 12414898,\n",
       "  <class 'vicckb.model.Publication'>: 23715574,\n",
       "  <class 'vicckb.model.Publication'>: 25433983,\n",
       "  <class 'vicckb.model.Publication'>: 23020162,\n",
       "  <class 'vicckb.model.Publication'>: 19047294,\n",
       "  <class 'vicckb.model.Publication'>: 16467099,\n",
       "  <class 'vicckb.model.Publication'>: 20542753,\n",
       "  <class 'vicckb.model.Publication'>: 11535556,\n",
       "  <class 'vicckb.model.Publication'>: 24797300,\n",
       "  <class 'vicckb.model.Publication'>: 26729443,\n",
       "  <class 'vicckb.model.Publication'>: 19157633,\n",
       "  <class 'vicckb.model.Publication'>: 17215851,\n",
       "  <class 'vicckb.model.Publication'>: 20739657,\n",
       "  <class 'vicckb.model.Publication'>: 26486786,\n",
       "  <class 'vicckb.model.Publication'>: 27451907,\n",
       "  <class 'vicckb.model.Publication'>: 11070098,\n",
       "  <class 'vicckb.model.Publication'>: 27092876,\n",
       "  <class 'vicckb.model.Publication'>: 22504184,\n",
       "  <class 'vicckb.model.Publication'>: 22261812,\n",
       "  <class 'vicckb.model.Publication'>: 18230792,\n",
       "  <class 'vicckb.model.Publication'>: 27718847,\n",
       "  <class 'vicckb.model.Publication'>: 24140933,\n",
       "  <class 'vicckb.model.Publication'>: 27663592,\n",
       "  <class 'vicckb.model.Publication'>: 26671993,\n",
       "  <class 'vicckb.model.Publication'>: 27343442,\n",
       "  <class 'vicckb.model.Publication'>: 23384228,\n",
       "  <class 'vicckb.model.Publication'>: 12949711,\n",
       "  <class 'vicckb.model.Publication'>: 20157715,\n",
       "  <class 'vicckb.model.Publication'>: 21576590,\n",
       "  <class 'vicckb.model.Publication'>: 24888229,\n",
       "  <class 'vicckb.model.Publication'>: 21383288,\n",
       "  <class 'vicckb.model.Publication'>: 17409929,\n",
       "  <class 'vicckb.model.Publication'>: 24631838,\n",
       "  <class 'vicckb.model.Publication'>: 25970771,\n",
       "  <class 'vicckb.model.Publication'>: 23382472,\n",
       "  <class 'vicckb.model.Publication'>: 27029710,\n",
       "  <class 'vicckb.model.Publication'>: 17671205,\n",
       "  <class 'vicckb.model.Publication'>: 21920589,\n",
       "  <class 'vicckb.model.Publication'>: 26216294,\n",
       "  <class 'vicckb.model.Publication'>: 23079656,\n",
       "  <class 'vicckb.model.Publication'>: 23038758,\n",
       "  <class 'vicckb.model.Publication'>: 16043828,\n",
       "  <class 'vicckb.model.Publication'>: 12840112,\n",
       "  <class 'vicckb.model.Publication'>: 23729178,\n",
       "  <class 'vicckb.model.Publication'>: 23099803,\n",
       "  <class 'vicckb.model.Publication'>: 10761708,\n",
       "  <class 'vicckb.model.Publication'>: 26423602,\n",
       "  <class 'vicckb.model.Publication'>: 23435830,\n",
       "  <class 'vicckb.model.Publication'>: 24875859,\n",
       "  <class 'vicckb.model.Publication'>: 22210878,\n",
       "  <class 'vicckb.model.Publication'>: 25670080,\n",
       "  <class 'vicckb.model.Publication'>: 22439647,\n",
       "  <class 'vicckb.model.Publication'>: 15217946,\n",
       "  <class 'vicckb.model.Publication'>: 22740998,\n",
       "  <class 'vicckb.model.Publication'>: 27729313,\n",
       "  <class 'vicckb.model.Publication'>: 26324363,\n",
       "  <class 'vicckb.model.Publication'>: 25706985,\n",
       "  <class 'vicckb.model.Publication'>: 22056021,\n",
       "  <class 'vicckb.model.Publication'>: 26662432,\n",
       "  <class 'vicckb.model.Publication'>: 26822383,\n",
       "  <class 'vicckb.model.Publication'>: 12476305,\n",
       "  <class 'vicckb.model.Publication'>: 23291299,\n",
       "  <class 'vicckb.model.Publication'>: 21415852,\n",
       "  <class 'vicckb.model.Publication'>: 24550739,\n",
       "  <class 'vicckb.model.Publication'>: 23969938,\n",
       "  <class 'vicckb.model.Publication'>: 27414035,\n",
       "  <class 'vicckb.model.Publication'>: 26701727,\n",
       "  <class 'vicckb.model.Publication'>: 16341243,\n",
       "  <class 'vicckb.model.Publication'>: 26621817,\n",
       "  <class 'vicckb.model.Publication'>: 26739882,\n",
       "  <class 'vicckb.model.Publication'>: 22619677,\n",
       "  <class 'vicckb.model.Publication'>: 19339720,\n",
       "  <class 'vicckb.model.Publication'>: 19734639,\n",
       "  <class 'vicckb.model.Publication'>: 22033490,\n",
       "  <class 'vicckb.model.Publication'>: 24740809,\n",
       "  <class 'vicckb.model.Publication'>: 23670176,\n",
       "  <class 'vicckb.model.Publication'>: 26725216,\n",
       "  <class 'vicckb.model.Publication'>: 27371698,\n",
       "  <class 'vicckb.model.Publication'>: 9327728,\n",
       "  <class 'vicckb.model.Publication'>: 17339191,\n",
       "  <class 'vicckb.model.Publication'>: 22180162,\n",
       "  <class 'vicckb.model.Publication'>: 22395615,\n",
       "  <class 'vicckb.model.Publication'>: 24035188,\n",
       "  <class 'vicckb.model.Publication'>: 23056499,\n",
       "  <class 'vicckb.model.Publication'>: 25693012,\n",
       "  <class 'vicckb.model.Publication'>: 24666267,\n",
       "  <class 'vicckb.model.Publication'>: 24800185,\n",
       "  <class 'vicckb.model.Publication'>: 26579623,\n",
       "  <class 'vicckb.model.Publication'>: 25766722,\n",
       "  <class 'vicckb.model.Publication'>: 23231951,\n",
       "  <class 'vicckb.model.Publication'>: 19584151,\n",
       "  <class 'vicckb.model.Publication'>: 11505222,\n",
       "  <class 'vicckb.model.Publication'>: 18316791,\n",
       "  <class 'vicckb.model.Publication'>: 25056119,\n",
       "  <class 'vicckb.model.Publication'>: 26732495,\n",
       "  <class 'vicckb.model.Publication'>: 18757403,\n",
       "  <class 'vicckb.model.Publication'>: 25715769,\n",
       "  <class 'vicckb.model.Publication'>: 23842656,\n",
       "  <class 'vicckb.model.Publication'>: 21791641,\n",
       "  <class 'vicckb.model.Publication'>: 20336784,\n",
       "  <class 'vicckb.model.Publication'>: 22285168,\n",
       "  <class 'vicckb.model.Publication'>: 24570209,\n",
       "  <class 'vicckb.model.Publication'>: 15998907,\n",
       "  <class 'vicckb.model.Publication'>: 18946061,\n",
       "  <class 'vicckb.model.Publication'>: 28525386,\n",
       "  <class 'vicckb.model.Publication'>: 26989027,\n",
       "  <class 'vicckb.model.Publication'>: 27083334,\n",
       "  <class 'vicckb.model.Publication'>: 11751510,\n",
       "  <class 'vicckb.model.Publication'>: 27566387,\n",
       "  <class 'vicckb.model.Publication'>: 12624160,\n",
       "  <class 'vicckb.model.Publication'>: 15961768,\n",
       "  <class 'vicckb.model.Publication'>: 26372703,\n",
       "  <class 'vicckb.model.Publication'>: 22025163,\n",
       "  <class 'vicckb.model.Publication'>: 25153719,\n",
       "  <class 'vicckb.model.Publication'>: 17522398,\n",
       "  <class 'vicckb.model.Publication'>: 26167872,\n",
       "  <class 'vicckb.model.Publication'>: 18704422,\n",
       "  <class 'vicckb.model.Publication'>: 22270724,\n",
       "  <class 'vicckb.model.Publication'>: 28471952,\n",
       "  <class 'vicckb.model.Publication'>: 26881434,\n",
       "  <class 'vicckb.model.Publication'>: 27209210,\n",
       "  <class 'vicckb.model.Publication'>: 25398829,\n",
       "  <class 'vicckb.model.Publication'>: 25563310,\n",
       "  <class 'vicckb.model.Publication'>: 25759019,\n",
       "  <class 'vicckb.model.Publication'>: 22368270,\n",
       "  <class 'vicckb.model.Publication'>: 24748501,\n",
       "  <class 'vicckb.model.Publication'>: 26773740,\n",
       "  <class 'vicckb.model.Publication'>: 27694386,\n",
       "  <class 'vicckb.model.Publication'>: 24868024,\n",
       "  <class 'vicckb.model.Publication'>: 25024077,\n",
       "  <class 'vicckb.model.Publication'>: 24583796,\n",
       "  <class 'vicckb.model.Publication'>: 20124187,\n",
       "  <class 'vicckb.model.Publication'>: 23455880,\n",
       "  <class 'vicckb.model.Publication'>: 28492898,\n",
       "  <class 'vicckb.model.Publication'>: 24625776,\n",
       "  <class 'vicckb.model.Publication'>: 26372962,\n",
       "  <class 'vicckb.model.Publication'>: 17911174,\n",
       "  <class 'vicckb.model.Publication'>: 16487996,\n",
       "  <class 'vicckb.model.Publication'>: 15932632,\n",
       "  <class 'vicckb.model.Publication'>: 17891190,\n",
       "  <class 'vicckb.model.Publication'>: 27404270,\n",
       "  <class 'vicckb.model.Publication'>: 25668228,\n",
       "  <class 'vicckb.model.Publication'>: 26768165,\n",
       "  <class 'vicckb.model.Publication'>: 19223544,\n",
       "  <class 'vicckb.model.Publication'>: 26311741,\n",
       "  <class 'vicckb.model.Publication'>: 23724914,\n",
       "  <class 'vicckb.model.Publication'>: 25593184,\n",
       "  <class 'vicckb.model.Publication'>: 9741544,\n",
       "  <class 'vicckb.model.Publication'>: 25590338,\n",
       "  <class 'vicckb.model.Publication'>: 22448344,\n",
       "  <class 'vicckb.model.Publication'>: 19075254,\n",
       "  <class 'vicckb.model.Publication'>: 17085664,\n",
       "  <class 'vicckb.model.Publication'>: 22923433,\n",
       "  <class 'vicckb.model.Publication'>: 24821190,\n",
       "  <class 'vicckb.model.Publication'>: 20022809,\n",
       "  <class 'vicckb.model.Publication'>: 26789877,\n",
       "  <class 'vicckb.model.Publication'>: 20142587,\n",
       "  <class 'vicckb.model.Publication'>: 12777976,\n",
       "  <class 'vicckb.model.Publication'>: 26291055,\n",
       "  <class 'vicckb.model.Publication'>: 17909070,\n",
       "  <class 'vicckb.model.Publication'>: 26269204,\n",
       "  <class 'vicckb.model.Publication'>: 28486044,\n",
       "  <class 'vicckb.model.Publication'>: 25673558,\n",
       "  <class 'vicckb.model.Publication'>: 18593940,\n",
       "  <class 'vicckb.model.Publication'>: 25677871,\n",
       "  <class 'vicckb.model.Publication'>: 16454808,\n",
       "  <class 'vicckb.model.Publication'>: 27032107,\n",
       "  <class 'vicckb.model.Publication'>: 24366361,\n",
       "  <class 'vicckb.model.Publication'>: 22274685,\n",
       "  <class 'vicckb.model.Publication'>: 22291079,\n",
       "  <class 'vicckb.model.Publication'>: 10492640,\n",
       "  <class 'vicckb.model.Publication'>: 24771645,\n",
       "  <class 'vicckb.model.Publication'>: 23652803,\n",
       "  <class 'vicckb.model.Publication'>: 24758907,\n",
       "  <class 'vicckb.model.Publication'>: 23020132,\n",
       "  <class 'vicckb.model.Publication'>: 26173738,\n",
       "  <class 'vicckb.model.Publication'>: 26324360,\n",
       "  <class 'vicckb.model.Publication'>: 22753902,\n",
       "  <class 'vicckb.model.Publication'>: 22199315,\n",
       "  <class 'vicckb.model.Publication'>: 23190221,\n",
       "  <class 'vicckb.model.Publication'>: 28453411,\n",
       "  <class 'vicckb.model.Publication'>: 22810899,\n",
       "  <class 'vicckb.model.Publication'>: 25855885,\n",
       "  <class 'vicckb.model.Publication'>: 23018865,\n",
       "  <class 'vicckb.model.Publication'>: 23220880,\n",
       "  <class 'vicckb.model.Publication'>: 26807188,\n",
       "  <class 'vicckb.model.Publication'>: 24735930,\n",
       "  <class 'vicckb.model.Publication'>: 26831717,\n",
       "  <class 'vicckb.model.Publication'>: 26789727,\n",
       "  <class 'vicckb.model.Publication'>: 11675361,\n",
       "  <class 'vicckb.model.Publication'>: 26460303,\n",
       "  <class 'vicckb.model.Publication'>: 23346317,\n",
       "  <class 'vicckb.model.Publication'>: 26989536,\n",
       "  <class 'vicckb.model.Publication'>: 21384277,\n",
       "  <class 'vicckb.model.Publication'>: 20085938,\n",
       "  <class 'vicckb.model.Publication'>: 25239608,\n",
       "  <class 'vicckb.model.Publication'>: 26181354,\n",
       "  <class 'vicckb.model.Publication'>: 17965322,\n",
       "  <class 'vicckb.model.Publication'>: 25589621,\n",
       "  <class 'vicckb.model.Publication'>: 26341751,\n",
       "  <class 'vicckb.model.Publication'>: 26925841,\n",
       "  <class 'vicckb.model.Publication'>: 24277854,\n",
       "  <class 'vicckb.model.Publication'>: 25939761,\n",
       "  <class 'vicckb.model.Publication'>: 25562111,\n",
       "  <class 'vicckb.model.Publication'>: 26837699,\n",
       "  <class 'vicckb.model.Publication'>: 22422354,\n",
       "  <class 'vicckb.model.Publication'>: 25698061,\n",
       "  <class 'vicckb.model.Publication'>: 25242168,\n",
       "  <class 'vicckb.model.Publication'>: 18287029,\n",
       "  <class 'vicckb.model.Publication'>: 15824158,\n",
       "  <class 'vicckb.model.Publication'>: 26179511,\n",
       "  <class 'vicckb.model.Publication'>: 24736073,\n",
       "  <class 'vicckb.model.Publication'>: 19571295,\n",
       "  <class 'vicckb.model.Publication'>: 26693073,\n",
       "  <class 'vicckb.model.Publication'>: 22124213,\n",
       "  <class 'vicckb.model.Publication'>: 23325582,\n",
       "  <class 'vicckb.model.Publication'>: 21594665,\n",
       "  <class 'vicckb.model.Publication'>: 27004400,\n",
       "  <class 'vicckb.model.Publication'>: 21331613,\n",
       "  <class 'vicckb.model.Publication'>: 23333114,\n",
       "  <class 'vicckb.model.Publication'>: 25216528,\n",
       "  <class 'vicckb.model.Publication'>: 23060591,\n",
       "  <class 'vicckb.model.Publication'>: 23812671,\n",
       "  <class 'vicckb.model.Publication'>: 21470995,\n",
       "  <class 'vicckb.model.Publication'>: 17186357,\n",
       "  <class 'vicckb.model.Publication'>: 15781657,\n",
       "  <class 'vicckb.model.Publication'>: 21882184,\n",
       "  <class 'vicckb.model.Publication'>: 28284557,\n",
       "  <class 'vicckb.model.Publication'>: 26664143,\n",
       "  <class 'vicckb.model.Publication'>: 27124835,\n",
       "  <class 'vicckb.model.Publication'>: 23673869,\n",
       "  <class 'vicckb.model.Publication'>: 26287849,\n",
       "  <class 'vicckb.model.Publication'>: 17375050,\n",
       "  <class 'vicckb.model.Publication'>: 19114683,\n",
       "  <class 'vicckb.model.Publication'>: 27302369,\n",
       "  <class 'vicckb.model.Publication'>: 18955451,\n",
       "  <class 'vicckb.model.Publication'>: 9497878,\n",
       "  <class 'vicckb.model.Publication'>: 25121551,\n",
       "  <class 'vicckb.model.Publication'>: 26722081,\n",
       "  <class 'vicckb.model.Publication'>: 28430626,\n",
       "  <class 'vicckb.model.Publication'>: 23431193,\n",
       "  <class 'vicckb.model.Publication'>: 19671763,\n",
       "  <class 'vicckb.model.Publication'>: 25370471,\n",
       "  <class 'vicckb.model.Publication'>: 23828442,\n",
       "  <class 'vicckb.model.Publication'>: 21993670,\n",
       "  <class 'vicckb.model.Publication'>: 15310767,\n",
       "  <class 'vicckb.model.Publication'>: 25353071,\n",
       "  <class 'vicckb.model.Publication'>: 25524464,\n",
       "  <class 'vicckb.model.Publication'>: 27022066,\n",
       "  <class 'vicckb.model.Publication'>: 22452895,\n",
       "  <class 'vicckb.model.Publication'>: 23177515,\n",
       "  <class 'vicckb.model.Publication'>: 27167191,\n",
       "  <class 'vicckb.model.Publication'>: 26115874,\n",
       "  <class 'vicckb.model.Publication'>: 16960151,\n",
       "  <class 'vicckb.model.Publication'>: 24122810,\n",
       "  <class 'vicckb.model.Publication'>: 21613260,\n",
       "  <class 'vicckb.model.Publication'>: 14679114,\n",
       "  <class 'vicckb.model.Publication'>: 26439803,\n",
       "  <class 'vicckb.model.Publication'>: 25412851,\n",
       "  <class 'vicckb.model.Publication'>: 26428308,\n",
       "  <class 'vicckb.model.Publication'>: 25544636,\n",
       "  <class 'vicckb.model.Publication'>: 21189378,\n",
       "  <class 'vicckb.model.Publication'>: 24793816,\n",
       "  <class 'vicckb.model.Publication'>: 25601188,\n",
       "  <class 'vicckb.model.Publication'>: 23861977,\n",
       "  <class 'vicckb.model.Publication'>: 18394554,\n",
       "  <class 'vicckb.model.Publication'>: 26442524,\n",
       "  <class 'vicckb.model.Publication'>: 16424035,\n",
       "  <class 'vicckb.model.Publication'>: 23203444,\n",
       "  <class 'vicckb.model.Publication'>: 24205792,\n",
       "  <class 'vicckb.model.Publication'>: 26712222,\n",
       "  <class 'vicckb.model.Publication'>: 22479427,\n",
       "  <class 'vicckb.model.Publication'>: 26243863,\n",
       "  <class 'vicckb.model.Publication'>: 22038996,\n",
       "  <class 'vicckb.model.Publication'>: 12357354,\n",
       "  <class 'vicckb.model.Publication'>: 21309036,\n",
       "  <class 'vicckb.model.Publication'>: 22614970,\n",
       "  <class 'vicckb.model.Publication'>: 26802155,\n",
       "  <class 'vicckb.model.Publication'>: 20088962,\n",
       "  <class 'vicckb.model.Publication'>: 19472011,\n",
       "  <class 'vicckb.model.Publication'>: 27108243,\n",
       "  <class 'vicckb.model.Publication'>: 27626483,\n",
       "  <class 'vicckb.model.Publication'>: 28578601,\n",
       "  <class 'vicckb.model.Publication'>: 21119596,\n",
       "  <class 'vicckb.model.Publication'>: 23569316,\n",
       "  <class 'vicckb.model.Publication'>: 24836762,\n",
       "  <class 'vicckb.model.Publication'>: 24333121,\n",
       "  <class 'vicckb.model.Publication'>: 15626738,\n",
       "  <class 'vicckb.model.Publication'>: 20447124,\n",
       "  <class 'vicckb.model.Publication'>: 24185512,\n",
       "  <class 'vicckb.model.Publication'>: 22551904,\n",
       "  <class 'vicckb.model.Publication'>: 25628030,\n",
       "  <class 'vicckb.model.Publication'>: 19603018,\n",
       "  <class 'vicckb.model.Publication'>: 20826716,\n",
       "  <class 'vicckb.model.Publication'>: 26838030,\n",
       "  <class 'vicckb.model.Publication'>: 27226433,\n",
       "  <class 'vicckb.model.Publication'>: 8674046,\n",
       "  <class 'vicckb.model.Publication'>: 22247021,\n",
       "  <class 'vicckb.model.Publication'>: 25852058,\n",
       "  <class 'vicckb.model.Publication'>: 22766794,\n",
       "  <class 'vicckb.model.Publication'>: 25924824,\n",
       "  <class 'vicckb.model.Publication'>: 18794081,\n",
       "  <class 'vicckb.model.Publication'>: 11122430,\n",
       "  <class 'vicckb.model.Publication'>: 10580029,\n",
       "  <class 'vicckb.model.Publication'>: 26802149,\n",
       "  <class 'vicckb.model.Publication'>: 28061634,\n",
       "  <class 'vicckb.model.Publication'>: 25973082,\n",
       "  <class 'vicckb.model.Publication'>: 25232318,\n",
       "  <class 'vicckb.model.Publication'>: 8637704,\n",
       "  <class 'vicckb.model.Publication'>: 27568520,\n",
       "  <class 'vicckb.model.Publication'>: 24934408,\n",
       "  <class 'vicckb.model.Publication'>: 25111426,\n",
       "  <class 'vicckb.model.Publication'>: 19536888,\n",
       "  <class 'vicckb.model.Publication'>: 26561417,\n",
       "  <class 'vicckb.model.Publication'>: 21163703,\n",
       "  <class 'vicckb.model.Publication'>: 21847063,\n",
       "  <class 'vicckb.model.Publication'>: 25399551,\n",
       "  <class 'vicckb.model.Publication'>: 23434733,\n",
       "  <class 'vicckb.model.Publication'>: 17330097,\n",
       "  <class 'vicckb.model.Publication'>: 23989949,\n",
       "  <class 'vicckb.model.Publication'>: 21531810,\n",
       "  <class 'vicckb.model.Publication'>: 24898067,\n",
       "  <class 'vicckb.model.Publication'>: 22333600,\n",
       "  <class 'vicckb.model.Publication'>: 16497971,\n",
       "  <class 'vicckb.model.Publication'>: 25521405,\n",
       "  <class 'vicckb.model.Publication'>: 26617739,\n",
       "  <class 'vicckb.model.Publication'>: 8758206,\n",
       "  <class 'vicckb.model.Publication'>: 26267899,\n",
       "  <class 'vicckb.model.Publication'>: 26565381,\n",
       "  <class 'vicckb.model.Publication'>: 26936505,\n",
       "  <class 'vicckb.model.Publication'>: 21048039,\n",
       "  <class 'vicckb.model.Publication'>: 24577117,\n",
       "  <class 'vicckb.model.Publication'>: 23298237,\n",
       "  <class 'vicckb.model.Publication'>: 25217772,\n",
       "  <class 'vicckb.model.Publication'>: 26304929,\n",
       "  <class 'vicckb.model.Publication'>: 20088873,\n",
       "  <class 'vicckb.model.Publication'>: 27010960,\n",
       "  <class 'vicckb.model.Publication'>: 17363584,\n",
       "  <class 'vicckb.model.Publication'>: 26282658,\n",
       "  <class 'vicckb.model.Publication'>: 12060124,\n",
       "  <class 'vicckb.model.Publication'>: 17700571,\n",
       "  <class 'vicckb.model.Publication'>: 26456083,\n",
       "  <class 'vicckb.model.Publication'>: 26720284,\n",
       "  <class 'vicckb.model.Publication'>: 23873422,\n",
       "  <class 'vicckb.model.Publication'>: 27491651,\n",
       "  <class 'vicckb.model.Publication'>: 22550175,\n",
       "  <class 'vicckb.model.Publication'>: 28183697,\n",
       "  <class 'vicckb.model.Publication'>: 24670642,\n",
       "  <class 'vicckb.model.Publication'>: 7977367,\n",
       "  <class 'vicckb.model.Publication'>: 22591296,\n",
       "  <class 'vicckb.model.Publication'>: 23565280,\n",
       "  <class 'vicckb.model.Publication'>: 17070615,\n",
       "  <class 'vicckb.model.Publication'>: 22745105,\n",
       "  <class 'vicckb.model.Publication'>: 26161928,\n",
       "  <class 'vicckb.model.Publication'>: 26771088,\n",
       "  <class 'vicckb.model.Publication'>: 26894620,\n",
       "  <class 'vicckb.model.Publication'>: 25210794,\n",
       "  <class 'vicckb.model.Publication'>: 25267748,\n",
       "  <class 'vicckb.model.Publication'>: 14654525,\n",
       "  <class 'vicckb.model.Publication'>: 14583498,\n",
       "  <class 'vicckb.model.Publication'>: 21972040,\n",
       "  <class 'vicckb.model.Publication'>: 24868098,\n",
       "  <class 'vicckb.model.Publication'>: 23677116,\n",
       "  <class 'vicckb.model.Publication'>: 25351745,\n",
       "  <class 'vicckb.model.Publication'>: 24407160,\n",
       "  <class 'vicckb.model.Publication'>: 22698404,\n",
       "  <class 'vicckb.model.Publication'>: 21160078,\n",
       "  <class 'vicckb.model.Publication'>: 21865346,\n",
       "  <class 'vicckb.model.Publication'>: 18408761,\n",
       "  <class 'vicckb.model.Publication'>: 7553625,\n",
       "  <class 'vicckb.model.Publication'>: 26917690,\n",
       "  <class 'vicckb.model.Publication'>: 25322874,\n",
       "  <class 'vicckb.model.Publication'>: 19775480,\n",
       "  <class 'vicckb.model.Publication'>: 27279227,\n",
       "  <class 'vicckb.model.Publication'>: 24166501,\n",
       "  <class 'vicckb.model.Publication'>: 25587029,\n",
       "  <class 'vicckb.model.Publication'>: 25520391,\n",
       "  <class 'vicckb.model.Publication'>: 16467086,\n",
       "  <class 'vicckb.model.Publication'>: 15728811,\n",
       "  <class 'vicckb.model.Publication'>: 19933982,\n",
       "  <class 'vicckb.model.Publication'>: 26891277,\n",
       "  <class 'vicckb.model.Publication'>: 28029918,\n",
       "  <class 'vicckb.model.Publication'>: 25910840,\n",
       "  <class 'vicckb.model.Publication'>: 27020857,\n",
       "  <class 'vicckb.model.Publication'>: 9663592,\n",
       "  <class 'vicckb.model.Publication'>: 19391130,\n",
       "  <class 'vicckb.model.Publication'>: 26918451,\n",
       "  <class 'vicckb.model.Publication'>: 17177598,\n",
       "  <class 'vicckb.model.Publication'>: 22541434,\n",
       "  <class 'vicckb.model.Publication'>: 27004155,\n",
       "  <class 'vicckb.model.Publication'>: 24512910,\n",
       "  <class 'vicckb.model.Publication'>: 28202511,\n",
       "  <class 'vicckb.model.Publication'>: 25853747,\n",
       "  <class 'vicckb.model.Publication'>: 26789870,\n",
       "  <class 'vicckb.model.Publication'>: 19304957,\n",
       "  <class 'vicckb.model.Publication'>: 28330462,\n",
       "  <class 'vicckb.model.Publication'>: 22356324,\n",
       "  <class 'vicckb.model.Publication'>: 24353160,\n",
       "  <class 'vicckb.model.Publication'>: 23955565,\n",
       "  <class 'vicckb.model.Publication'>: 26987942,\n",
       "  <class 'vicckb.model.Publication'>: 24595080,\n",
       "  <class 'vicckb.model.Publication'>: 15758010,\n",
       "  <class 'vicckb.model.Publication'>: 24587245,\n",
       "  <class 'vicckb.model.Publication'>: 26547802,\n",
       "  <class 'vicckb.model.Publication'>: 23344087,\n",
       "  <class 'vicckb.model.Publication'>: 15339850,\n",
       "  <class 'vicckb.model.Publication'>: 16307009,\n",
       "  <class 'vicckb.model.Publication'>: 24240700,\n",
       "  <class 'vicckb.model.Publication'>: 18073307,\n",
       "  <class 'vicckb.model.Publication'>: 23404858,\n",
       "  <class 'vicckb.model.Publication'>: 26256760,\n",
       "  <class 'vicckb.model.Publication'>: 24137399,\n",
       "  <class 'vicckb.model.Publication'>: 26921265,\n",
       "  <class 'vicckb.model.Publication'>: 9426052,\n",
       "  <class 'vicckb.model.Publication'>: 23559153,\n",
       "  <class 'vicckb.model.Publication'>: 12748244,\n",
       "  <class 'vicckb.model.Publication'>: 26598547,\n",
       "  <class 'vicckb.model.Publication'>: 24934779,\n",
       "  <class 'vicckb.model.Publication'>: 21483000,\n",
       "  <class 'vicckb.model.Publication'>: 22262166,\n",
       "  <class 'vicckb.model.Publication'>: 26459177,\n",
       "  <class 'vicckb.model.Publication'>: 21278246,\n",
       "  <class 'vicckb.model.Publication'>: 27612423,\n",
       "  <class 'vicckb.model.Publication'>: 16690963,\n",
       "  <class 'vicckb.model.Publication'>: 25014773,\n",
       "  <class 'vicckb.model.Publication'>: 20120764,\n",
       "  <class 'vicckb.model.Publication'>: 21828143,\n",
       "  <class 'vicckb.model.Publication'>: 26359985,\n",
       "  <class 'vicckb.model.Publication'>: 25878190,\n",
       "  <class 'vicckb.model.Publication'>: 23766237,\n",
       "  <class 'vicckb.model.Publication'>: 22906996,\n",
       "  <class 'vicckb.model.Publication'>: 23031422,\n",
       "  <class 'vicckb.model.Publication'>: 18559874,\n",
       "  <class 'vicckb.model.Publication'>: 24553387,\n",
       "  <class 'vicckb.model.Publication'>: 18191450,\n",
       "  <class 'vicckb.model.Publication'>: 27959700,\n",
       "  <class 'vicckb.model.Publication'>: 26788326,\n",
       "  <class 'vicckb.model.Publication'>: 25082261,\n",
       "  <class 'vicckb.model.Publication'>: 26625312,\n",
       "  <class 'vicckb.model.Publication'>: 26464169,\n",
       "  <class 'vicckb.model.Publication'>: 15951308,\n",
       "  <class 'vicckb.model.Publication'>: 25683602,\n",
       "  <class 'vicckb.model.Publication'>: 24841718,\n",
       "  <class 'vicckb.model.Publication'>: 16081687,\n",
       "  <class 'vicckb.model.Publication'>: 26207647,\n",
       "  <class 'vicckb.model.Publication'>: 23430109,\n",
       "  <class 'vicckb.model.Publication'>: 21309039,\n",
       "  <class 'vicckb.model.Publication'>: 15597105,\n",
       "  <class 'vicckb.model.Publication'>: 9499454,\n",
       "  <class 'vicckb.model.Publication'>: 17575221,\n",
       "  <class 'vicckb.model.Publication'>: 22389872,\n",
       "  <class 'vicckb.model.Publication'>: 14726504,\n",
       "  <class 'vicckb.model.Publication'>: 12865922,\n",
       "  <class 'vicckb.model.Publication'>: 9207459,\n",
       "  <class 'vicckb.model.Publication'>: 12114495,\n",
       "  <class 'vicckb.model.Publication'>: 26309414,\n",
       "  <class 'vicckb.model.Publication'>: 22426421,\n",
       "  <class 'vicckb.model.Publication'>: 22077063,\n",
       "  <class 'vicckb.model.Publication'>: 25504439,\n",
       "  <class 'vicckb.model.Publication'>: 24927407,\n",
       "  <class 'vicckb.model.Publication'>: 19901104,\n",
       "  <class 'vicckb.model.Publication'>: 16618717,\n",
       "  <class 'vicckb.model.Publication'>: 25692060,\n",
       "  <class 'vicckb.model.Publication'>: 25668009,\n",
       "  <class 'vicckb.model.Publication'>: 22156657,\n",
       "  <class 'vicckb.model.Publication'>: 23171796,\n",
       "  <class 'vicckb.model.Publication'>: 23635773,\n",
       "  <class 'vicckb.model.Publication'>: 23620406,\n",
       "  <class 'vicckb.model.Publication'>: 24373973,\n",
       "  <class 'vicckb.model.Publication'>: 25265494,\n",
       "  <class 'vicckb.model.Publication'>: 26729184,\n",
       "  <class 'vicckb.model.Publication'>: 24256029,\n",
       "  <class 'vicckb.model.Publication'>: 19903786,\n",
       "  <class 'vicckb.model.Publication'>: 22773810,\n",
       "  <class 'vicckb.model.Publication'>: 26118315,\n",
       "  <class 'vicckb.model.Publication'>: 19273710,\n",
       "  <class 'vicckb.model.Publication'>: 15790433,\n",
       "  <class 'vicckb.model.Publication'>: 24957073,\n",
       "  <class 'vicckb.model.Publication'>: 26352686,\n",
       "  <class 'vicckb.model.Publication'>: 12844285,\n",
       "  <class 'vicckb.model.Publication'>: 22133049,\n",
       "  <class 'vicckb.model.Publication'>: 8550742,\n",
       "  <class 'vicckb.model.Publication'>: 28453554,\n",
       "  <class 'vicckb.model.Publication'>: 18089823,\n",
       "  <class 'vicckb.model.Publication'>: 19666869,\n",
       "  <class 'vicckb.model.Publication'>: 26970723,\n",
       "  <class 'vicckb.model.Publication'>: 26732095,\n",
       "  <class 'vicckb.model.Publication'>: 15256420,\n",
       "  <class 'vicckb.model.Publication'>: 19966866,\n",
       "  <class 'vicckb.model.Publication'>: 12202531,\n",
       "  <class 'vicckb.model.Publication'>: 26678033,\n",
       "  <class 'vicckb.model.Publication'>: 25303977,\n",
       "  <class 'vicckb.model.Publication'>: 24705250,\n",
       "  <class 'vicckb.model.Publication'>: 26920887,\n",
       "  <class 'vicckb.model.Publication'>: 27102076,\n",
       "  <class 'vicckb.model.Publication'>: 24588908,\n",
       "  <class 'vicckb.model.Publication'>: 26015511,\n",
       "  <class 'vicckb.model.Publication'>: 20363910,\n",
       "  <class 'vicckb.model.Publication'>: 21107323,\n",
       "  <class 'vicckb.model.Publication'>: 26239229,\n",
       "  <class 'vicckb.model.Publication'>: 23213094,\n",
       "  <class 'vicckb.model.Publication'>: 24088390,\n",
       "  <class 'vicckb.model.Publication'>: 21558396,\n",
       "  <class 'vicckb.model.Publication'>: 20978259,\n",
       "  <class 'vicckb.model.Publication'>: 25086725,\n",
       "  <class 'vicckb.model.Publication'>: 22621641,\n",
       "  <class 'vicckb.model.Publication'>: 23579861,\n",
       "  <class 'vicckb.model.Publication'>: 23341344,\n",
       "  <class 'vicckb.model.Publication'>: 24571676,\n",
       "  <class 'vicckb.model.Publication'>: 21584898,\n",
       "  <class 'vicckb.model.Publication'>: 27159395,\n",
       "  <class 'vicckb.model.Publication'>: 24859829,\n",
       "  <class 'vicckb.model.Publication'>: 25409150,\n",
       "  <class 'vicckb.model.Publication'>: 25295501,\n",
       "  <class 'vicckb.model.Publication'>: 28489509,\n",
       "  <class 'vicckb.model.Publication'>: 8241511,\n",
       "  <class 'vicckb.model.Publication'>: 24799460,\n",
       "  <class 'vicckb.model.Publication'>: 11290608,\n",
       "  <class 'vicckb.model.Publication'>: 19941080,\n",
       "  <class 'vicckb.model.Publication'>: 22025157,\n",
       "  <class 'vicckb.model.Publication'>: 17470858,\n",
       "  <class 'vicckb.model.Publication'>: 22241959,\n",
       "  <class 'vicckb.model.Publication'>: 25349473,\n",
       "  <class 'vicckb.model.Publication'>: 14612939,\n",
       "  <class 'vicckb.model.Publication'>: 14726387,\n",
       "  <class 'vicckb.model.Publication'>: 21596855,\n",
       "  ...},\n",
       " 'jax': {<class 'vicckb.model.Publication'>: 16258068,\n",
       "  <class 'vicckb.model.Publication'>: 26627007,\n",
       "  <class 'vicckb.model.Publication'>: 28750271,\n",
       "  <class 'vicckb.model.Publication'>: 27294782,\n",
       "  <class 'vicckb.model.Publication'>: 27424159,\n",
       "  <class 'vicckb.model.Publication'>: 20979469,\n",
       "  <class 'vicckb.model.Publication'>: 22662154,\n",
       "  <class 'vicckb.model.Publication'>: 27625305,\n",
       "  <class 'vicckb.model.Publication'>: 26606880,\n",
       "  <class 'vicckb.model.Publication'>: 27450453,\n",
       "  <class 'vicckb.model.Publication'>: 24463458,\n",
       "  <class 'vicckb.model.Publication'>: 28630215,\n",
       "  <class 'vicckb.model.Publication'>: 26758680,\n",
       "  <class 'vicckb.model.Publication'>: 27322743,\n",
       "  <class 'vicckb.model.Publication'>: 17638894,\n",
       "  <class 'vicckb.model.Publication'>: 26494859,\n",
       "  <class 'vicckb.model.Publication'>: 27798265,\n",
       "  <class 'vicckb.model.Publication'>: 26715098,\n",
       "  <class 'vicckb.model.Publication'>: 26733612,\n",
       "  <class 'vicckb.model.Publication'>: 22608338,\n",
       "  <class 'vicckb.model.Publication'>: 28343545,\n",
       "  <class 'vicckb.model.Publication'>: 25957812,\n",
       "  <class 'vicckb.model.Publication'>: 28522754,\n",
       "  <class 'vicckb.model.Publication'>: 18751412,\n",
       "  <class 'vicckb.model.Publication'>: 17664273,\n",
       "  <class 'vicckb.model.Publication'>: 25103625,\n",
       "  <class 'vicckb.model.Publication'>: 27179038,\n",
       "  <class 'vicckb.model.Publication'>: 19459856,\n",
       "  <class 'vicckb.model.Publication'>: 27550450,\n",
       "  <class 'vicckb.model.Publication'>: 26779812,\n",
       "  <class 'vicckb.model.Publication'>: 27197184,\n",
       "  <class 'vicckb.model.Publication'>: 12082456,\n",
       "  <class 'vicckb.model.Publication'>: 26098748,\n",
       "  <class 'vicckb.model.Publication'>: 26358474,\n",
       "  <class 'vicckb.model.Publication'>: 15647370,\n",
       "  <class 'vicckb.model.Publication'>: 23986086,\n",
       "  <class 'vicckb.model.Publication'>: 23597562,\n",
       "  <class 'vicckb.model.Publication'>: 27544060,\n",
       "  <class 'vicckb.model.Publication'>: 26775591,\n",
       "  <class 'vicckb.model.Publication'>: 17314276,\n",
       "  <class 'vicckb.model.Publication'>: 28476735,\n",
       "  <class 'vicckb.model.Publication'>: 23392356,\n",
       "  <class 'vicckb.model.Publication'>: 20942962,\n",
       "  <class 'vicckb.model.Publication'>: 26341920,\n",
       "  <class 'vicckb.model.Publication'>: 26354527,\n",
       "  <class 'vicckb.model.Publication'>: 25883215,\n",
       "  <class 'vicckb.model.Publication'>: 22046346,\n",
       "  <class 'vicckb.model.Publication'>: 26307133,\n",
       "  <class 'vicckb.model.Publication'>: 28765325,\n",
       "  <class 'vicckb.model.Publication'>: 26208524,\n",
       "  <class 'vicckb.model.Publication'>: 17888033,\n",
       "  <class 'vicckb.model.Publication'>: 23490650,\n",
       "  <class 'vicckb.model.Publication'>: 25209843,\n",
       "  <class 'vicckb.model.Publication'>: 19692680,\n",
       "  <class 'vicckb.model.Publication'>: 26432108,\n",
       "  <class 'vicckb.model.Publication'>: 22490330,\n",
       "  <class 'vicckb.model.Publication'>: 19726788,\n",
       "  <class 'vicckb.model.Publication'>: 28679771,\n",
       "  <class 'vicckb.model.Publication'>: 14636651,\n",
       "  <class 'vicckb.model.Publication'>: 28119489,\n",
       "  <class 'vicckb.model.Publication'>: 23980093,\n",
       "  <class 'vicckb.model.Publication'>: 27468240,\n",
       "  <class 'vicckb.model.Publication'>: 27595477,\n",
       "  <class 'vicckb.model.Publication'>: 12068308,\n",
       "  <class 'vicckb.model.Publication'>: 26116172,\n",
       "  <class 'vicckb.model.Publication'>: 25818407,\n",
       "  <class 'vicckb.model.Publication'>: 16109776,\n",
       "  <class 'vicckb.model.Publication'>: 20633291,\n",
       "  <class 'vicckb.model.Publication'>: 24470511,\n",
       "  <class 'vicckb.model.Publication'>: 26862733,\n",
       "  <class 'vicckb.model.Publication'>: 27803065,\n",
       "  <class 'vicckb.model.Publication'>: 21725052,\n",
       "  <class 'vicckb.model.Publication'>: 26380006,\n",
       "  <class 'vicckb.model.Publication'>: 28040715,\n",
       "  <class 'vicckb.model.Publication'>: 28152546,\n",
       "  <class 'vicckb.model.Publication'>: 27697991,\n",
       "  <class 'vicckb.model.Publication'>: 23957426,\n",
       "  <class 'vicckb.model.Publication'>: 26177294,\n",
       "  <class 'vicckb.model.Publication'>: 28284008,\n",
       "  <class 'vicckb.model.Publication'>: 21705440,\n",
       "  <class 'vicckb.model.Publication'>: 26267534,\n",
       "  <class 'vicckb.model.Publication'>: 21358673,\n",
       "  <class 'vicckb.model.Publication'>: 26432786,\n",
       "  <class 'vicckb.model.Publication'>: 25971939,\n",
       "  <class 'vicckb.model.Publication'>: 24141978,\n",
       "  <class 'vicckb.model.Publication'>: 23980091,\n",
       "  <class 'vicckb.model.Publication'>: 23629727,\n",
       "  <class 'vicckb.model.Publication'>: 21119661,\n",
       "  <class 'vicckb.model.Publication'>: 23908597,\n",
       "  <class 'vicckb.model.Publication'>: 28424201,\n",
       "  <class 'vicckb.model.Publication'>: 26768652,\n",
       "  <class 'vicckb.model.Publication'>: 20725099,\n",
       "  <class 'vicckb.model.Publication'>: 22735384,\n",
       "  <class 'vicckb.model.Publication'>: 24081659,\n",
       "  <class 'vicckb.model.Publication'>: 26849637,\n",
       "  <class 'vicckb.model.Publication'>: 25688157,\n",
       "  <class 'vicckb.model.Publication'>: 23270925,\n",
       "  <class 'vicckb.model.Publication'>: 21482694,\n",
       "  <class 'vicckb.model.Publication'>: 25637314,\n",
       "  <class 'vicckb.model.Publication'>: 19238632,\n",
       "  <class 'vicckb.model.Publication'>: 26598747,\n",
       "  <class 'vicckb.model.Publication'>: 21399868,\n",
       "  <class 'vicckb.model.Publication'>: 27196758,\n",
       "  <class 'vicckb.model.Publication'>: 28178345,\n",
       "  <class 'vicckb.model.Publication'>: 26487278,\n",
       "  <class 'vicckb.model.Publication'>: 21458915,\n",
       "  <class 'vicckb.model.Publication'>: 25376608,\n",
       "  <class 'vicckb.model.Publication'>: 21328579,\n",
       "  <class 'vicckb.model.Publication'>: 26772734,\n",
       "  <class 'vicckb.model.Publication'>: 26156229,\n",
       "  <class 'vicckb.model.Publication'>: 21613408,\n",
       "  <class 'vicckb.model.Publication'>: 27777285,\n",
       "  <class 'vicckb.model.Publication'>: 23226625,\n",
       "  <class 'vicckb.model.Publication'>: 20610623,\n",
       "  <class 'vicckb.model.Publication'>: 27067989,\n",
       "  <class 'vicckb.model.Publication'>: 19718025,\n",
       "  <class 'vicckb.model.Publication'>: 26392102,\n",
       "  <class 'vicckb.model.Publication'>: 27980106,\n",
       "  <class 'vicckb.model.Publication'>: 27432227,\n",
       "  <class 'vicckb.model.Publication'>: 28151717,\n",
       "  <class 'vicckb.model.Publication'>: 25573954,\n",
       "  <class 'vicckb.model.Publication'>: 26786851,\n",
       "  <class 'vicckb.model.Publication'>: 28611205,\n",
       "  <class 'vicckb.model.Publication'>: 25434466,\n",
       "  <class 'vicckb.model.Publication'>: 27052654,\n",
       "  <class 'vicckb.model.Publication'>: 26544513,\n",
       "  <class 'vicckb.model.Publication'>: 27406088,\n",
       "  <class 'vicckb.model.Publication'>: 22663011,\n",
       "  <class 'vicckb.model.Publication'>: 21877899,\n",
       "  <class 'vicckb.model.Publication'>: 27550455,\n",
       "  <class 'vicckb.model.Publication'>: 25665005,\n",
       "  <class 'vicckb.model.Publication'>: 28228601,\n",
       "  <class 'vicckb.model.Publication'>: 18774637,\n",
       "  <class 'vicckb.model.Publication'>: 25266042,\n",
       "  <class 'vicckb.model.Publication'>: 27900369,\n",
       "  <class 'vicckb.model.Publication'>: 26224873,\n",
       "  <class 'vicckb.model.Publication'>: 26116361,\n",
       "  <class 'vicckb.model.Publication'>: 26232337,\n",
       "  <class 'vicckb.model.Publication'>: 27429073,\n",
       "  <class 'vicckb.model.Publication'>: 25838391,\n",
       "  <class 'vicckb.model.Publication'>: 26239249,\n",
       "  <class 'vicckb.model.Publication'>: 1689463,\n",
       "  <class 'vicckb.model.Publication'>: 26461489,\n",
       "  <class 'vicckb.model.Publication'>: 28148839,\n",
       "  <class 'vicckb.model.Publication'>: 26250460,\n",
       "  <class 'vicckb.model.Publication'>: 20368568,\n",
       "  <class 'vicckb.model.Publication'>: 23917401,\n",
       "  <class 'vicckb.model.Publication'>: 18441328,\n",
       "  <class 'vicckb.model.Publication'>: 22665524,\n",
       "  <class 'vicckb.model.Publication'>: 22814295,\n",
       "  <class 'vicckb.model.Publication'>: 25589492,\n",
       "  <class 'vicckb.model.Publication'>: 23948973,\n",
       "  <class 'vicckb.model.Publication'>: 25585100,\n",
       "  <class 'vicckb.model.Publication'>: 24322983,\n",
       "  <class 'vicckb.model.Publication'>: 28784858,\n",
       "  <class 'vicckb.model.Publication'>: 22693356,\n",
       "  <class 'vicckb.model.Publication'>: 22327936,\n",
       "  <class 'vicckb.model.Publication'>: 28285684,\n",
       "  <class 'vicckb.model.Publication'>: 25567130,\n",
       "  <class 'vicckb.model.Publication'>: 23795919,\n",
       "  <class 'vicckb.model.Publication'>: 26720423,\n",
       "  <class 'vicckb.model.Publication'>: 27525386,\n",
       "  <class 'vicckb.model.Publication'>: 22784709,\n",
       "  <class 'vicckb.model.Publication'>: 28714990,\n",
       "  <class 'vicckb.model.Publication'>: 12082455,\n",
       "  <class 'vicckb.model.Publication'>: 26849014,\n",
       "  <class 'vicckb.model.Publication'>: 28065413,\n",
       "  <class 'vicckb.model.Publication'>: 24065731,\n",
       "  <class 'vicckb.model.Publication'>: 27216155,\n",
       "  <class 'vicckb.model.Publication'>: 24304820,\n",
       "  <class 'vicckb.model.Publication'>: 26909613,\n",
       "  <class 'vicckb.model.Publication'>: 24362531,\n",
       "  <class 'vicckb.model.Publication'>: 26586721,\n",
       "  <class 'vicckb.model.Publication'>: 24675041,\n",
       "  <class 'vicckb.model.Publication'>: 26360609,\n",
       "  <class 'vicckb.model.Publication'>: 22271473,\n",
       "  <class 'vicckb.model.Publication'>: 26126987,\n",
       "  <class 'vicckb.model.Publication'>: 21926191,\n",
       "  <class 'vicckb.model.Publication'>: 22916261,\n",
       "  <class 'vicckb.model.Publication'>: 24265153,\n",
       "  <class 'vicckb.model.Publication'>: 19812602,\n",
       "  <class 'vicckb.model.Publication'>: 25787766,\n",
       "  <class 'vicckb.model.Publication'>: 25104330,\n",
       "  <class 'vicckb.model.Publication'>: 26947875,\n",
       "  <class 'vicckb.model.Publication'>: 27149458,\n",
       "  <class 'vicckb.model.Publication'>: 23816960,\n",
       "  <class 'vicckb.model.Publication'>: 26194343,\n",
       "  <class 'vicckb.model.Publication'>: 22301675,\n",
       "  <class 'vicckb.model.Publication'>: 26472029,\n",
       "  <class 'vicckb.model.Publication'>: 23613521,\n",
       "  <class 'vicckb.model.Publication'>: 27699769,\n",
       "  <class 'vicckb.model.Publication'>: 22238366,\n",
       "  <class 'vicckb.model.Publication'>: 24140932,\n",
       "  <class 'vicckb.model.Publication'>: 17664472,\n",
       "  <class 'vicckb.model.Publication'>: 26645196,\n",
       "  <class 'vicckb.model.Publication'>: 26144315,\n",
       "  <class 'vicckb.model.Publication'>: 22281684,\n",
       "  <class 'vicckb.model.Publication'>: 24509625,\n",
       "  <class 'vicckb.model.Publication'>: 21389100,\n",
       "  <class 'vicckb.model.Publication'>: 25193991,\n",
       "  <class 'vicckb.model.Publication'>: 25242579,\n",
       "  <class 'vicckb.model.Publication'>: 22328973,\n",
       "  <class 'vicckb.model.Publication'>: 28961841,\n",
       "  <class 'vicckb.model.Publication'>: 26634271,\n",
       "  <class 'vicckb.model.Publication'>: 19783361,\n",
       "  <class 'vicckb.model.Publication'>: 20570890,\n",
       "  <class 'vicckb.model.Publication'>: 21468343,\n",
       "  <class 'vicckb.model.Publication'>: 22983396,\n",
       "  <class 'vicckb.model.Publication'>: 26582713,\n",
       "  <class 'vicckb.model.Publication'>: 27523909,\n",
       "  <class 'vicckb.model.Publication'>: 25759020,\n",
       "  <class 'vicckb.model.Publication'>: 19029224,\n",
       "  <class 'vicckb.model.Publication'>: 20179222,\n",
       "  <class 'vicckb.model.Publication'>: 21714648,\n",
       "  <class 'vicckb.model.Publication'>: 20418756,\n",
       "  <class 'vicckb.model.Publication'>: 25583779,\n",
       "  <class 'vicckb.model.Publication'>: 23811600,\n",
       "  <class 'vicckb.model.Publication'>: 21515735,\n",
       "  <class 'vicckb.model.Publication'>: 21725357,\n",
       "  <class 'vicckb.model.Publication'>: 22837387,\n",
       "  <class 'vicckb.model.Publication'>: 26251290,\n",
       "  <class 'vicckb.model.Publication'>: 23565244,\n",
       "  <class 'vicckb.model.Publication'>: 28615361,\n",
       "  <class 'vicckb.model.Publication'>: 22713237,\n",
       "  <class 'vicckb.model.Publication'>: 23475782,\n",
       "  <class 'vicckb.model.Publication'>: 28193778,\n",
       "  <class 'vicckb.model.Publication'>: 25877855,\n",
       "  <class 'vicckb.model.Publication'>: 27186432,\n",
       "  <class 'vicckb.model.Publication'>: 28039262,\n",
       "  <class 'vicckb.model.Publication'>: 26175413,\n",
       "  <class 'vicckb.model.Publication'>: 25309914,\n",
       "  <class 'vicckb.model.Publication'>: 27196766,\n",
       "  <class 'vicckb.model.Publication'>: 27932416,\n",
       "  <class 'vicckb.model.Publication'>: 20515943,\n",
       "  <class 'vicckb.model.Publication'>: 26162687,\n",
       "  <class 'vicckb.model.Publication'>: 27283993,\n",
       "  <class 'vicckb.model.Publication'>: 18632602,\n",
       "  <class 'vicckb.model.Publication'>: 19047918,\n",
       "  <class 'vicckb.model.Publication'>: 26861905,\n",
       "  <class 'vicckb.model.Publication'>: 27556948,\n",
       "  <class 'vicckb.model.Publication'>: 18794084,\n",
       "  <class 'vicckb.model.Publication'>: 27315356,\n",
       "  <class 'vicckb.model.Publication'>: 24573385,\n",
       "  <class 'vicckb.model.Publication'>: 24886365,\n",
       "  <class 'vicckb.model.Publication'>: 24063894,\n",
       "  <class 'vicckb.model.Publication'>: 27928026,\n",
       "  <class 'vicckb.model.Publication'>: 24947927,\n",
       "  <class 'vicckb.model.Publication'>: 19064407,\n",
       "  <class 'vicckb.model.Publication'>: 20215545,\n",
       "  <class 'vicckb.model.Publication'>: 27312177,\n",
       "  <class 'vicckb.model.Publication'>: 24919569,\n",
       "  <class 'vicckb.model.Publication'>: 17936563,\n",
       "  <class 'vicckb.model.Publication'>: 26513298,\n",
       "  <class 'vicckb.model.Publication'>: 27080216,\n",
       "  <class 'vicckb.model.Publication'>: 23748344,\n",
       "  <class 'vicckb.model.Publication'>: 25605023,\n",
       "  <class 'vicckb.model.Publication'>: 21998291,\n",
       "  <class 'vicckb.model.Publication'>: 24742739,\n",
       "  <class 'vicckb.model.Publication'>: 25667280,\n",
       "  <class 'vicckb.model.Publication'>: 24283590,\n",
       "  <class 'vicckb.model.Publication'>: 25724520,\n",
       "  <class 'vicckb.model.Publication'>: 23347136,\n",
       "  <class 'vicckb.model.Publication'>: 24487413,\n",
       "  <class 'vicckb.model.Publication'>: 27512117,\n",
       "  <class 'vicckb.model.Publication'>: 26748848,\n",
       "  <class 'vicckb.model.Publication'>: 21239882,\n",
       "  <class 'vicckb.model.Publication'>: 17909047,\n",
       "  <class 'vicckb.model.Publication'>: 24419427,\n",
       "  <class 'vicckb.model.Publication'>: 23775486,\n",
       "  <class 'vicckb.model.Publication'>: 20664172,\n",
       "  <class 'vicckb.model.Publication'>: 23733758,\n",
       "  <class 'vicckb.model.Publication'>: 27959684,\n",
       "  <class 'vicckb.model.Publication'>: 27196784,\n",
       "  <class 'vicckb.model.Publication'>: 24291104,\n",
       "  <class 'vicckb.model.Publication'>: 27573426,\n",
       "  <class 'vicckb.model.Publication'>: 17210691,\n",
       "  <class 'vicckb.model.Publication'>: 24634413,\n",
       "  <class 'vicckb.model.Publication'>: 26861460,\n",
       "  <class 'vicckb.model.Publication'>: 22084396,\n",
       "  <class 'vicckb.model.Publication'>: 23136191,\n",
       "  <class 'vicckb.model.Publication'>: 22753594,\n",
       "  <class 'vicckb.model.Publication'>: 23539443,\n",
       "  <class 'vicckb.model.Publication'>: 27626069,\n",
       "  <class 'vicckb.model.Publication'>: 28891408,\n",
       "  <class 'vicckb.model.Publication'>: 27509865,\n",
       "  <class 'vicckb.model.Publication'>: 26009011,\n",
       "  <class 'vicckb.model.Publication'>: 18648004,\n",
       "  <class 'vicckb.model.Publication'>: 18413839,\n",
       "  <class 'vicckb.model.Publication'>: 26437915,\n",
       "  <class 'vicckb.model.Publication'>: 23674493,\n",
       "  <class 'vicckb.model.Publication'>: 21668414,\n",
       "  <class 'vicckb.model.Publication'>: 24837299,\n",
       "  <class 'vicckb.model.Publication'>: 28632865,\n",
       "  <class 'vicckb.model.Publication'>: 27307593,\n",
       "  <class 'vicckb.model.Publication'>: 24623852,\n",
       "  <class 'vicckb.model.Publication'>: 24583798,\n",
       "  <class 'vicckb.model.Publication'>: 26276366,\n",
       "  <class 'vicckb.model.Publication'>: 21191045,\n",
       "  <class 'vicckb.model.Publication'>: 26589432,\n",
       "  <class 'vicckb.model.Publication'>: 26992226,\n",
       "  <class 'vicckb.model.Publication'>: 27078022,\n",
       "  <class 'vicckb.model.Publication'>: 18986703,\n",
       "  <class 'vicckb.model.Publication'>: 25873496,\n",
       "  <class 'vicckb.model.Publication'>: 26743856,\n",
       "  <class 'vicckb.model.Publication'>: 25348016,\n",
       "  <class 'vicckb.model.Publication'>: 26787751,\n",
       "  <class 'vicckb.model.Publication'>: 28957417,\n",
       "  <class 'vicckb.model.Publication'>: 26469692,\n",
       "  <class 'vicckb.model.Publication'>: 26811525,\n",
       "  <class 'vicckb.model.Publication'>: 28961834,\n",
       "  <class 'vicckb.model.Publication'>: 25421750,\n",
       "  <class 'vicckb.model.Publication'>: 26036639,\n",
       "  <class 'vicckb.model.Publication'>: 27354483,\n",
       "  <class 'vicckb.model.Publication'>: 25224413,\n",
       "  <class 'vicckb.model.Publication'>: 24323026,\n",
       "  <class 'vicckb.model.Publication'>: 22158538,\n",
       "  <class 'vicckb.model.Publication'>: 25923549,\n",
       "  <class 'vicckb.model.Publication'>: 27196752,\n",
       "  <class 'vicckb.model.Publication'>: 20609467,\n",
       "  <class 'vicckb.model.Publication'>: 26573800,\n",
       "  <class 'vicckb.model.Publication'>: 23497317,\n",
       "  <class 'vicckb.model.Publication'>: 23817809,\n",
       "  <class 'vicckb.model.Publication'>: 19915144,\n",
       "  <class 'vicckb.model.Publication'>: 22805291,\n",
       "  <class 'vicckb.model.Publication'>: 23344264,\n",
       "  <class 'vicckb.model.Publication'>: 26884591,\n",
       "  <class 'vicckb.model.Publication'>: 19029981,\n",
       "  <class 'vicckb.model.Publication'>: 19366796,\n",
       "  <class 'vicckb.model.Publication'>: 23526464,\n",
       "  <class 'vicckb.model.Publication'>: 27179933,\n",
       "  <class 'vicckb.model.Publication'>: 17483355,\n",
       "  <class 'vicckb.model.Publication'>: 26510020,\n",
       "  <class 'vicckb.model.Publication'>: 18981003,\n",
       "  <class 'vicckb.model.Publication'>: 26781311,\n",
       "  <class 'vicckb.model.Publication'>: 19874578,\n",
       "  <class 'vicckb.model.Publication'>: 26240273,\n",
       "  <class 'vicckb.model.Publication'>: 9462753,\n",
       "  <class 'vicckb.model.Publication'>: 28268064,\n",
       "  <class 'vicckb.model.Publication'>: 26343583,\n",
       "  <class 'vicckb.model.Publication'>: 21494260,\n",
       "  <class 'vicckb.model.Publication'>: 26228206,\n",
       "  <class 'vicckb.model.Publication'>: 25145672,\n",
       "  <class 'vicckb.model.Publication'>: 24583793,\n",
       "  <class 'vicckb.model.Publication'>: 15184865,\n",
       "  <class 'vicckb.model.Publication'>: 26883273,\n",
       "  <class 'vicckb.model.Publication'>: 27149990,\n",
       "  <class 'vicckb.model.Publication'>: 25424858,\n",
       "  <class 'vicckb.model.Publication'>: 23274910,\n",
       "  <class 'vicckb.model.Publication'>: 26687836,\n",
       "  <class 'vicckb.model.Publication'>: 19164557,\n",
       "  <class 'vicckb.model.Publication'>: 27876675,\n",
       "  <class 'vicckb.model.Publication'>: 22797062,\n",
       "  <class 'vicckb.model.Publication'>: 24265152,\n",
       "  <class 'vicckb.model.Publication'>: 24939055,\n",
       "  <class 'vicckb.model.Publication'>: 21415220,\n",
       "  <class 'vicckb.model.Publication'>: 15201427,\n",
       "  <class 'vicckb.model.Publication'>: 27158668,\n",
       "  <class 'vicckb.model.Publication'>: 18262558,\n",
       "  <class 'vicckb.model.Publication'>: 23165797,\n",
       "  <class 'vicckb.model.Publication'>: 27252416,\n",
       "  <class 'vicckb.model.Publication'>: 18598947,\n",
       "  <class 'vicckb.model.Publication'>: 22705984,\n",
       "  <class 'vicckb.model.Publication'>: 24819961,\n",
       "  <class 'vicckb.model.Publication'>: 28351930,\n",
       "  <class 'vicckb.model.Publication'>: 26438783,\n",
       "  <class 'vicckb.model.Publication'>: 28407039,\n",
       "  <class 'vicckb.model.Publication'>: 28685070,\n",
       "  <class 'vicckb.model.Publication'>: 21224473,\n",
       "  <class 'vicckb.model.Publication'>: 20811697,\n",
       "  <class 'vicckb.model.Publication'>: 26561558,\n",
       "  <class 'vicckb.model.Publication'>: 22753465,\n",
       "  <class 'vicckb.model.Publication'>: 27992451,\n",
       "  <class 'vicckb.model.Publication'>: 23848818,\n",
       "  <class 'vicckb.model.Publication'>: 18202412,\n",
       "  <class 'vicckb.model.Publication'>: 22533337,\n",
       "  <class 'vicckb.model.Publication'>: 8609706,\n",
       "  <class 'vicckb.model.Publication'>: 22295124,\n",
       "  <class 'vicckb.model.Publication'>: 19381019,\n",
       "  <class 'vicckb.model.Publication'>: 22504380,\n",
       "  <class 'vicckb.model.Publication'>: 28327988,\n",
       "  <class 'vicckb.model.Publication'>: 26964772,\n",
       "  <class 'vicckb.model.Publication'>: 26294215,\n",
       "  <class 'vicckb.model.Publication'>: 20728210,\n",
       "  <class 'vicckb.model.Publication'>: 24088382,\n",
       "  <class 'vicckb.model.Publication'>: 26810733,\n",
       "  <class 'vicckb.model.Publication'>: 20797855,\n",
       "  <class 'vicckb.model.Publication'>: 22147895,\n",
       "  <class 'vicckb.model.Publication'>: 12374669,\n",
       "  <class 'vicckb.model.Publication'>: 20970876,\n",
       "  <class 'vicckb.model.Publication'>: 23991291,\n",
       "  <class 'vicckb.model.Publication'>: 28652249,\n",
       "  <class 'vicckb.model.Publication'>: 28787259,\n",
       "  <class 'vicckb.model.Publication'>: 15297186,\n",
       "  <class 'vicckb.model.Publication'>: 25899785,\n",
       "  <class 'vicckb.model.Publication'>: 21321609,\n",
       "  <class 'vicckb.model.Publication'>: 22689681,\n",
       "  <class 'vicckb.model.Publication'>: 27216193,\n",
       "  <class 'vicckb.model.Publication'>: 17555450,\n",
       "  <class 'vicckb.model.Publication'>: 23839309,\n",
       "  <class 'vicckb.model.Publication'>: 26582644,\n",
       "  <class 'vicckb.model.Publication'>: 22543857,\n",
       "  <class 'vicckb.model.Publication'>: 27287717,\n",
       "  <class 'vicckb.model.Publication'>: 24130052,\n",
       "  <class 'vicckb.model.Publication'>: 26051236,\n",
       "  <class 'vicckb.model.Publication'>: 27500726,\n",
       "  <class 'vicckb.model.Publication'>: 28344857,\n",
       "  <class 'vicckb.model.Publication'>: 18493606,\n",
       "  <class 'vicckb.model.Publication'>: 10086740,\n",
       "  <class 'vicckb.model.Publication'>: 25110197,\n",
       "  <class 'vicckb.model.Publication'>: 27002107,\n",
       "  <class 'vicckb.model.Publication'>: 27439478,\n",
       "  <class 'vicckb.model.Publication'>: 19755659,\n",
       "  <class 'vicckb.model.Publication'>: 27760111,\n",
       "  <class 'vicckb.model.Publication'>: 25714871,\n",
       "  <class 'vicckb.model.Publication'>: 27422710,\n",
       "  <class 'vicckb.model.Publication'>: 25900027,\n",
       "  <class 'vicckb.model.Publication'>: 26864210,\n",
       "  <class 'vicckb.model.Publication'>: 28827373,\n",
       "  <class 'vicckb.model.Publication'>: 24893891,\n",
       "  <class 'vicckb.model.Publication'>: 23670029,\n",
       "  <class 'vicckb.model.Publication'>: 25015329,\n",
       "  <class 'vicckb.model.Publication'>: 23804704,\n",
       "  <class 'vicckb.model.Publication'>: 23542356,\n",
       "  <class 'vicckb.model.Publication'>: 21266357,\n",
       "  <class 'vicckb.model.Publication'>: 23656643,\n",
       "  <class 'vicckb.model.Publication'>: 22829080,\n",
       "  <class 'vicckb.model.Publication'>: 27197306,\n",
       "  <class 'vicckb.model.Publication'>: 23002168,\n",
       "  <class 'vicckb.model.Publication'>: 22693357,\n",
       "  <class 'vicckb.model.Publication'>: 24132921,\n",
       "  <class 'vicckb.model.Publication'>: 22805292,\n",
       "  <class 'vicckb.model.Publication'>: 26341921,\n",
       "  <class 'vicckb.model.Publication'>: 24971884,\n",
       "  <class 'vicckb.model.Publication'>: 24919154,\n",
       "  <class 'vicckb.model.Publication'>: 21393571,\n",
       "  <class 'vicckb.model.Publication'>: 17349580,\n",
       "  <class 'vicckb.model.Publication'>: 23881923,\n",
       "  <class 'vicckb.model.Publication'>: 21325073,\n",
       "  <class 'vicckb.model.Publication'>: 26554404,\n",
       "  <class 'vicckb.model.Publication'>: 24608574,\n",
       "  <class 'vicckb.model.Publication'>: 22711607,\n",
       "  <class 'vicckb.model.Publication'>: 20811676,\n",
       "  <class 'vicckb.model.Publication'>: 20423992,\n",
       "  <class 'vicckb.model.Publication'>: 15696205,\n",
       "  <class 'vicckb.model.Publication'>: 9754653,\n",
       "  <class 'vicckb.model.Publication'>: 23138183,\n",
       "  <class 'vicckb.model.Publication'>: 27697975,\n",
       "  <class 'vicckb.model.Publication'>: 26888827,\n",
       "  <class 'vicckb.model.Publication'>: 23175443,\n",
       "  <class 'vicckb.model.Publication'>: 24569089,\n",
       "  <class 'vicckb.model.Publication'>: 24586741,\n",
       "  <class 'vicckb.model.Publication'>: 22871572,\n",
       "  <class 'vicckb.model.Publication'>: 20142593,\n",
       "  <class 'vicckb.model.Publication'>: 26802156,\n",
       "  <class 'vicckb.model.Publication'>: 27075627,\n",
       "  <class 'vicckb.model.Publication'>: 24077805,\n",
       "  <class 'vicckb.model.Publication'>: 22653968,\n",
       "  <class 'vicckb.model.Publication'>: 28578312,\n",
       "  <class 'vicckb.model.Publication'>: 28619981,\n",
       "  <class 'vicckb.model.Publication'>: 24100628,\n",
       "  <class 'vicckb.model.Publication'>: 12118367,\n",
       "  <class 'vicckb.model.Publication'>: 26351322,\n",
       "  <class 'vicckb.model.Publication'>: 22473592,\n",
       "  <class 'vicckb.model.Publication'>: 25504634,\n",
       "  <class 'vicckb.model.Publication'>: 22903472,\n",
       "  <class 'vicckb.model.Publication'>: 28958502,\n",
       "  <class 'vicckb.model.Publication'>: 27370604,\n",
       "  <class 'vicckb.model.Publication'>: 25326231,\n",
       "  <class 'vicckb.model.Publication'>: 21900693,\n",
       "  <class 'vicckb.model.Publication'>: 26071474,\n",
       "  <class 'vicckb.model.Publication'>: 28539475,\n",
       "  <class 'vicckb.model.Publication'>: 26846818,\n",
       "  <class 'vicckb.model.Publication'>: 28498808,\n",
       "  <class 'vicckb.model.Publication'>: 24563539,\n",
       "  <class 'vicckb.model.Publication'>: 29035277,\n",
       "  <class 'vicckb.model.Publication'>: 22624712,\n",
       "  <class 'vicckb.model.Publication'>: 25971938,\n",
       "  <class 'vicckb.model.Publication'>: 21901340,\n",
       "  <class 'vicckb.model.Publication'>: 25870145,\n",
       "  <class 'vicckb.model.Publication'>: 18006825,\n",
       "  <class 'vicckb.model.Publication'>: 25790901,\n",
       "  <class 'vicckb.model.Publication'>: 16357008,\n",
       "  <class 'vicckb.model.Publication'>: 26920889,\n",
       "  <class 'vicckb.model.Publication'>: 28498781,\n",
       "  <class 'vicckb.model.Publication'>: 27520294,\n",
       "  <class 'vicckb.model.Publication'>: 25870087,\n",
       "  <class 'vicckb.model.Publication'>: 23209031,\n",
       "  <class 'vicckb.model.Publication'>: 19047294,\n",
       "  <class 'vicckb.model.Publication'>: 22389471,\n",
       "  <class 'vicckb.model.Publication'>: 17121911,\n",
       "  <class 'vicckb.model.Publication'>: 27834212,\n",
       "  <class 'vicckb.model.Publication'>: 26438159,\n",
       "  <class 'vicckb.model.Publication'>: 22550165,\n",
       "  <class 'vicckb.model.Publication'>: 27573171,\n",
       "  <class 'vicckb.model.Publication'>: 20388807,\n",
       "  <class 'vicckb.model.Publication'>: 20739657,\n",
       "  <class 'vicckb.model.Publication'>: 27451907,\n",
       "  <class 'vicckb.model.Publication'>: 26486786,\n",
       "  <class 'vicckb.model.Publication'>: 24231268,\n",
       "  <class 'vicckb.model.Publication'>: 27418649,\n",
       "  <class 'vicckb.model.Publication'>: 28768804,\n",
       "  <class 'vicckb.model.Publication'>: 26936919,\n",
       "  <class 'vicckb.model.Publication'>: 22237022,\n",
       "  <class 'vicckb.model.Publication'>: 20979473,\n",
       "  <class 'vicckb.model.Publication'>: 15345593,\n",
       "  <class 'vicckb.model.Publication'>: 27343442,\n",
       "  <class 'vicckb.model.Publication'>: 28710747,\n",
       "  <class 'vicckb.model.Publication'>: 26936917,\n",
       "  <class 'vicckb.model.Publication'>: 21383288,\n",
       "  <class 'vicckb.model.Publication'>: 25847190,\n",
       "  <class 'vicckb.model.Publication'>: 23811235,\n",
       "  <class 'vicckb.model.Publication'>: 26270481,\n",
       "  <class 'vicckb.model.Publication'>: 26692561,\n",
       "  <class 'vicckb.model.Publication'>: 27535969,\n",
       "  <class 'vicckb.model.Publication'>: 17698633,\n",
       "  <class 'vicckb.model.Publication'>: 20978347,\n",
       "  <class 'vicckb.model.Publication'>: 26216294,\n",
       "  <class 'vicckb.model.Publication'>: 21643018,\n",
       "  <class 'vicckb.model.Publication'>: 20371716,\n",
       "  <class 'vicckb.model.Publication'>: 16043828,\n",
       "  <class 'vicckb.model.Publication'>: 27793840,\n",
       "  <class 'vicckb.model.Publication'>: 26769228,\n",
       "  <class 'vicckb.model.Publication'>: 11432885,\n",
       "  <class 'vicckb.model.Publication'>: 27362227,\n",
       "  <class 'vicckb.model.Publication'>: 20207848,\n",
       "  <class 'vicckb.model.Publication'>: 21517818,\n",
       "  <class 'vicckb.model.Publication'>: 25817203,\n",
       "  <class 'vicckb.model.Publication'>: 27126994,\n",
       "  <class 'vicckb.model.Publication'>: 18606718,\n",
       "  <class 'vicckb.model.Publication'>: 28830912,\n",
       "  <class 'vicckb.model.Publication'>: 7506125,\n",
       "  <class 'vicckb.model.Publication'>: 28375706,\n",
       "  <class 'vicckb.model.Publication'>: 26324363,\n",
       "  <class 'vicckb.model.Publication'>: 25706985,\n",
       "  <class 'vicckb.model.Publication'>: 21852505,\n",
       "  <class 'vicckb.model.Publication'>: 28843487,\n",
       "  <class 'vicckb.model.Publication'>: 28765324,\n",
       "  <class 'vicckb.model.Publication'>: 26220714,\n",
       "  <class 'vicckb.model.Publication'>: 28784859,\n",
       "  <class 'vicckb.model.Publication'>: 25068800,\n",
       "  <class 'vicckb.model.Publication'>: 24504419,\n",
       "  <class 'vicckb.model.Publication'>: 25658463,\n",
       "  <class 'vicckb.model.Publication'>: 21831953,\n",
       "  <class 'vicckb.model.Publication'>: 26739882,\n",
       "  <class 'vicckb.model.Publication'>: 28331003,\n",
       "  <class 'vicckb.model.Publication'>: 25911688,\n",
       "  <class 'vicckb.model.Publication'>: 27093299,\n",
       "  <class 'vicckb.model.Publication'>: 26725216,\n",
       "  <class 'vicckb.model.Publication'>: 27371698,\n",
       "  <class 'vicckb.model.Publication'>: 25261231,\n",
       "  <class 'vicckb.model.Publication'>: 23614352,\n",
       "  <class 'vicckb.model.Publication'>: 26429956,\n",
       "  <class 'vicckb.model.Publication'>: 17376864,\n",
       "  <class 'vicckb.model.Publication'>: 22399804,\n",
       "  <class 'vicckb.model.Publication'>: 21730979,\n",
       "  <class 'vicckb.model.Publication'>: 22180162,\n",
       "  <class 'vicckb.model.Publication'>: 28119295,\n",
       "  <class 'vicckb.model.Publication'>: 27821489,\n",
       "  <class 'vicckb.model.Publication'>: 18026198,\n",
       "  <class 'vicckb.model.Publication'>: 23056499,\n",
       "  <class 'vicckb.model.Publication'>: 26843189,\n",
       "  <class 'vicckb.model.Publication'>: 28649441,\n",
       "  <class 'vicckb.model.Publication'>: 27435396,\n",
       "  <class 'vicckb.model.Publication'>: 23071338,\n",
       "  <class 'vicckb.model.Publication'>: 26102509,\n",
       "  <class 'vicckb.model.Publication'>: 22224445,\n",
       "  <class 'vicckb.model.Publication'>: 19584151,\n",
       "  <class 'vicckb.model.Publication'>: 26294741,\n",
       "  <class 'vicckb.model.Publication'>: 26522332,\n",
       "  <class 'vicckb.model.Publication'>: 26286086,\n",
       "  <class 'vicckb.model.Publication'>: 18316791,\n",
       "  <class 'vicckb.model.Publication'>: 26183925,\n",
       "  <class 'vicckb.model.Publication'>: 20538618,\n",
       "  <class 'vicckb.model.Publication'>: 23942066,\n",
       "  <class 'vicckb.model.Publication'>: 23099237,\n",
       "  <class 'vicckb.model.Publication'>: 28280091,\n",
       "  <class 'vicckb.model.Publication'>: 22722787,\n",
       "  <class 'vicckb.model.Publication'>: 28679766,\n",
       "  <class 'vicckb.model.Publication'>: 21199802,\n",
       "  <class 'vicckb.model.Publication'>: 28487443,\n",
       "  <class 'vicckb.model.Publication'>: 28235199,\n",
       "  <class 'vicckb.model.Publication'>: 21791641,\n",
       "  <class 'vicckb.model.Publication'>: 26517239,\n",
       "  <class 'vicckb.model.Publication'>: 27601554,\n",
       "  <class 'vicckb.model.Publication'>: 24573551,\n",
       "  <class 'vicckb.model.Publication'>: 21992793,\n",
       "  <class 'vicckb.model.Publication'>: 27595393,\n",
       "  <class 'vicckb.model.Publication'>: 27083334,\n",
       "  <class 'vicckb.model.Publication'>: 25077897,\n",
       "  <class 'vicckb.model.Publication'>: 28611108,\n",
       "  <class 'vicckb.model.Publication'>: 28346230,\n",
       "  <class 'vicckb.model.Publication'>: 27573423,\n",
       "  <class 'vicckb.model.Publication'>: 27333990,\n",
       "  <class 'vicckb.model.Publication'>: 22025163,\n",
       "  <class 'vicckb.model.Publication'>: 27780853,\n",
       "  <class 'vicckb.model.Publication'>: 24978597,\n",
       "  <class 'vicckb.model.Publication'>: 22270724,\n",
       "  <class 'vicckb.model.Publication'>: 21183792,\n",
       "  <class 'vicckb.model.Publication'>: 26597303,\n",
       "  <class 'vicckb.model.Publication'>: 22323597,\n",
       "  <class 'vicckb.model.Publication'>: 26117819,\n",
       "  <class 'vicckb.model.Publication'>: 26931343,\n",
       "  <class 'vicckb.model.Publication'>: 27225694,\n",
       "  <class 'vicckb.model.Publication'>: 25393796,\n",
       "  <class 'vicckb.model.Publication'>: 23406027,\n",
       "  <class 'vicckb.model.Publication'>: 22733540,\n",
       "  <class 'vicckb.model.Publication'>: 19755387,\n",
       "  <class 'vicckb.model.Publication'>: 15790786,\n",
       "  <class 'vicckb.model.Publication'>: 11238126,\n",
       "  <class 'vicckb.model.Publication'>: 16507829,\n",
       "  <class 'vicckb.model.Publication'>: 22955918,\n",
       "  <class 'vicckb.model.Publication'>: 22869879,\n",
       "  <class 'vicckb.model.Publication'>: 27815358,\n",
       "  <class 'vicckb.model.Publication'>: 27872130,\n",
       "  <class 'vicckb.model.Publication'>: 20644979,\n",
       "  <class 'vicckb.model.Publication'>: 24791855,\n",
       "  <class 'vicckb.model.Publication'>: 25759019,\n",
       "  <class 'vicckb.model.Publication'>: 28011461,\n",
       "  <class 'vicckb.model.Publication'>: 26144316,\n",
       "  <class 'vicckb.model.Publication'>: 27975152,\n",
       "  <class 'vicckb.model.Publication'>: 25193432,\n",
       "  <class 'vicckb.model.Publication'>: 18199554,\n",
       "  <class 'vicckb.model.Publication'>: 21764376,\n",
       "  <class 'vicckb.model.Publication'>: 27694386,\n",
       "  <class 'vicckb.model.Publication'>: 24868024,\n",
       "  <class 'vicckb.model.Publication'>: 23705826,\n",
       "  <class 'vicckb.model.Publication'>: 26842236,\n",
       "  <class 'vicckb.model.Publication'>: 25551293,\n",
       "  <class 'vicckb.model.Publication'>: 16707468,\n",
       "  <class 'vicckb.model.Publication'>: 23455880,\n",
       "  <class 'vicckb.model.Publication'>: 28492898,\n",
       "  <class 'vicckb.model.Publication'>: 23558291,\n",
       "  <class 'vicckb.model.Publication'>: 25241285,\n",
       "  <class 'vicckb.model.Publication'>: 28586279,\n",
       "  <class 'vicckb.model.Publication'>: 26504226,\n",
       "  <class 'vicckb.model.Publication'>: 25256830,\n",
       "  <class 'vicckb.model.Publication'>: 27104980,\n",
       "  <class 'vicckb.model.Publication'>: 18618574,\n",
       "  <class 'vicckb.model.Publication'>: 22190593,\n",
       "  <class 'vicckb.model.Publication'>: 26936398,\n",
       "  <class 'vicckb.model.Publication'>: 27432917,\n",
       "  <class 'vicckb.model.Publication'>: 26578684,\n",
       "  <class 'vicckb.model.Publication'>: 27167172,\n",
       "  <class 'vicckb.model.Publication'>: 25559287,\n",
       "  <class 'vicckb.model.Publication'>: 28169392,\n",
       "  <class 'vicckb.model.Publication'>: 28490463,\n",
       "  <class 'vicckb.model.Publication'>: 26359452,\n",
       "  <class 'vicckb.model.Publication'>: 22460902,\n",
       "  <class 'vicckb.model.Publication'>: 11359672,\n",
       "  <class 'vicckb.model.Publication'>: 22448344,\n",
       "  <class 'vicckb.model.Publication'>: 22908275,\n",
       "  <class 'vicckb.model.Publication'>: 14749129,\n",
       "  <class 'vicckb.model.Publication'>: 12124172,\n",
       "  <class 'vicckb.model.Publication'>: 26853339,\n",
       "  <class 'vicckb.model.Publication'>: 28232670,\n",
       "  <class 'vicckb.model.Publication'>: 24251790,\n",
       "  <class 'vicckb.model.Publication'>: 17085664,\n",
       "  <class 'vicckb.model.Publication'>: 19901108,\n",
       "  <class 'vicckb.model.Publication'>: 25825487,\n",
       "  <class 'vicckb.model.Publication'>: 26106072,\n",
       "  <class 'vicckb.model.Publication'>: 12777976,\n",
       "  <class 'vicckb.model.Publication'>: 21881046,\n",
       "  <class 'vicckb.model.Publication'>: 25228534,\n",
       "  <class 'vicckb.model.Publication'>: 25185971,\n",
       "  <class 'vicckb.model.Publication'>: 26841430,\n",
       "  <class 'vicckb.model.Publication'>: 25238247,\n",
       "  <class 'vicckb.model.Publication'>: 27480147,\n",
       "  <class 'vicckb.model.Publication'>: 27026201,\n",
       "  <class 'vicckb.model.Publication'>: 19755509,\n",
       "  <class 'vicckb.model.Publication'>: 22753902,\n",
       "  <class 'vicckb.model.Publication'>: 19015641,\n",
       "  <class 'vicckb.model.Publication'>: 23220880,\n",
       "  <class 'vicckb.model.Publication'>: 24735930,\n",
       "  <class 'vicckb.model.Publication'>: 24523613,\n",
       "  <class 'vicckb.model.Publication'>: 22159814,\n",
       "  <class 'vicckb.model.Publication'>: 27488531,\n",
       "  <class 'vicckb.model.Publication'>: 26460303,\n",
       "  <class 'vicckb.model.Publication'>: 20170098,\n",
       "  <class 'vicckb.model.Publication'>: 25185099,\n",
       "  <class 'vicckb.model.Publication'>: 23190500,\n",
       "  <class 'vicckb.model.Publication'>: 25239608,\n",
       "  <class 'vicckb.model.Publication'>: 24091716,\n",
       "  <class 'vicckb.model.Publication'>: 25669829,\n",
       "  <class 'vicckb.model.Publication'>: 25589621,\n",
       "  <class 'vicckb.model.Publication'>: 24277854,\n",
       "  <class 'vicckb.model.Publication'>: 25939761,\n",
       "  <class 'vicckb.model.Publication'>: 15064724,\n",
       "  <class 'vicckb.model.Publication'>: 28455243,\n",
       "  <class 'vicckb.model.Publication'>: 18768809,\n",
       "  <class 'vicckb.model.Publication'>: 19934279,\n",
       "  <class 'vicckb.model.Publication'>: 25146434,\n",
       "  <class 'vicckb.model.Publication'>: 24601221,\n",
       "  <class 'vicckb.model.Publication'>: 24903481,\n",
       "  <class 'vicckb.model.Publication'>: 27231123,\n",
       "  <class 'vicckb.model.Publication'>: 18287029,\n",
       "  <class 'vicckb.model.Publication'>: 26759239,\n",
       "  <class 'vicckb.model.Publication'>: 26179511,\n",
       "  <class 'vicckb.model.Publication'>: 24736073,\n",
       "  <class 'vicckb.model.Publication'>: 22389253,\n",
       "  <class 'vicckb.model.Publication'>: 15494073,\n",
       "  <class 'vicckb.model.Publication'>: 25394791,\n",
       "  <class 'vicckb.model.Publication'>: 26438117,\n",
       "  <class 'vicckb.model.Publication'>: 28341788,\n",
       "  <class 'vicckb.model.Publication'>: 25964101,\n",
       "  <class 'vicckb.model.Publication'>: 26676867,\n",
       "  <class 'vicckb.model.Publication'>: 16751810,\n",
       "  <class 'vicckb.model.Publication'>: 24387221,\n",
       "  <class 'vicckb.model.Publication'>: 24507812,\n",
       "  <class 'vicckb.model.Publication'>: 26645561,\n",
       "  <class 'vicckb.model.Publication'>: 24360397,\n",
       "  <class 'vicckb.model.Publication'>: 28284557,\n",
       "  <class 'vicckb.model.Publication'>: 27026198,\n",
       "  <class 'vicckb.model.Publication'>: 23131561,\n",
       "  <class 'vicckb.model.Publication'>: 25962717,\n",
       "  <class 'vicckb.model.Publication'>: 22915647,\n",
       "  <class 'vicckb.model.Publication'>: 26287849,\n",
       "  <class 'vicckb.model.Publication'>: 16015387,\n",
       "  <class 'vicckb.model.Publication'>: 22932669,\n",
       "  <class 'vicckb.model.Publication'>: 25931286,\n",
       "  <class 'vicckb.model.Publication'>: 28135237,\n",
       "  <class 'vicckb.model.Publication'>: 28126333,\n",
       "  <class 'vicckb.model.Publication'>: 24372276,\n",
       "  <class 'vicckb.model.Publication'>: 23585514,\n",
       "  <class 'vicckb.model.Publication'>: 9661880,\n",
       "  <class 'vicckb.model.Publication'>: 22781553,\n",
       "  <class 'vicckb.model.Publication'>: 23431193,\n",
       "  <class 'vicckb.model.Publication'>: 19671763,\n",
       "  <class 'vicckb.model.Publication'>: 27672108,\n",
       "  <class 'vicckb.model.Publication'>: 22271687,\n",
       "  <class 'vicckb.model.Publication'>: 23828442,\n",
       "  <class 'vicckb.model.Publication'>: 28145866,\n",
       "  <class 'vicckb.model.Publication'>: 24002496,\n",
       "  <class 'vicckb.model.Publication'>: 19078957,\n",
       "  <class 'vicckb.model.Publication'>: 28240971,\n",
       "  <class 'vicckb.model.Publication'>: 27049722,\n",
       "  <class 'vicckb.model.Publication'>: 21468686,\n",
       "  <class 'vicckb.model.Publication'>: 22394203,\n",
       "  <class 'vicckb.model.Publication'>: 12586620,\n",
       "  <class 'vicckb.model.Publication'>: 24122810,\n",
       "  <class 'vicckb.model.Publication'>: 25412851,\n",
       "  <class 'vicckb.model.Publication'>: 18347139,\n",
       "  <class 'vicckb.model.Publication'>: 25995436,\n",
       "  <class 'vicckb.model.Publication'>: 25544636,\n",
       "  <class 'vicckb.model.Publication'>: 21189378,\n",
       "  <class 'vicckb.model.Publication'>: 26965451,\n",
       "  <class 'vicckb.model.Publication'>: 24166903,\n",
       "  <class 'vicckb.model.Publication'>: 21502504,\n",
       "  <class 'vicckb.model.Publication'>: 18089725,\n",
       "  <class 'vicckb.model.Publication'>: 28179366,\n",
       "  <class 'vicckb.model.Publication'>: 21969494,\n",
       "  <class 'vicckb.model.Publication'>: 24077826,\n",
       "  <class 'vicckb.model.Publication'>: 28179481,\n",
       "  <class 'vicckb.model.Publication'>: 25436981,\n",
       "  <class 'vicckb.model.Publication'>: 24205792,\n",
       "  <class 'vicckb.model.Publication'>: 26243863,\n",
       "  <class 'vicckb.model.Publication'>: 25910950,\n",
       "  <class 'vicckb.model.Publication'>: 25870146,\n",
       "  <class 'vicckb.model.Publication'>: 22286523,\n",
       "  <class 'vicckb.model.Publication'>: 27669459,\n",
       "  <class 'vicckb.model.Publication'>: 27602501,\n",
       "  <class 'vicckb.model.Publication'>: 20372153,\n",
       "  <class 'vicckb.model.Publication'>: 24035431,\n",
       "  <class 'vicckb.model.Publication'>: 26682573,\n",
       "  <class 'vicckb.model.Publication'>: 28644771,\n",
       "  <class 'vicckb.model.Publication'>: 23874683,\n",
       "  <class 'vicckb.model.Publication'>: 27108243,\n",
       "  <class 'vicckb.model.Publication'>: 25713434,\n",
       "  <class 'vicckb.model.Publication'>: 27196754,\n",
       "  <class 'vicckb.model.Publication'>: 21750219,\n",
       "  <class 'vicckb.model.Publication'>: 27048951,\n",
       "  <class 'vicckb.model.Publication'>: 26474387,\n",
       "  <class 'vicckb.model.Publication'>: 25855786,\n",
       "  <class 'vicckb.model.Publication'>: 26324372,\n",
       "  <class 'vicckb.model.Publication'>: 18795925,\n",
       "  <class 'vicckb.model.Publication'>: 26475333,\n",
       "  <class 'vicckb.model.Publication'>: 17062558,\n",
       "  <class 'vicckb.model.Publication'>: 27717299,\n",
       "  <class 'vicckb.model.Publication'>: 23625191,\n",
       "  <class 'vicckb.model.Publication'>: 20338520,\n",
       "  <class 'vicckb.model.Publication'>: 23085766,\n",
       "  <class 'vicckb.model.Publication'>: 23553846,\n",
       "  <class 'vicckb.model.Publication'>: 23454836,\n",
       "  <class 'vicckb.model.Publication'>: 28644114,\n",
       "  <class 'vicckb.model.Publication'>: 28274957,\n",
       "  <class 'vicckb.model.Publication'>: 26822154,\n",
       "  <class 'vicckb.model.Publication'>: 25261369,\n",
       "  <class 'vicckb.model.Publication'>: 26439693,\n",
       "  <class 'vicckb.model.Publication'>: 25805799,\n",
       "  <class 'vicckb.model.Publication'>: 25232318,\n",
       "  <class 'vicckb.model.Publication'>: 24091768,\n",
       "  <class 'vicckb.model.Publication'>: 28363999,\n",
       "  <class 'vicckb.model.Publication'>: 26984758,\n",
       "  <class 'vicckb.model.Publication'>: 26698910,\n",
       "  <class 'vicckb.model.Publication'>: 21673091,\n",
       "  <class 'vicckb.model.Publication'>: 24398328,\n",
       "  <class 'vicckb.model.Publication'>: 26552700,\n",
       "  <class 'vicckb.model.Publication'>: 26487584,\n",
       "  <class 'vicckb.model.Publication'>: 25169980,\n",
       "  <class 'vicckb.model.Publication'>: 25824335,\n",
       "  <class 'vicckb.model.Publication'>: 23428903,\n",
       "  <class 'vicckb.model.Publication'>: 26697989,\n",
       "  <class 'vicckb.model.Publication'>: 22965953,\n",
       "  <class 'vicckb.model.Publication'>: 25514658,\n",
       "  <class 'vicckb.model.Publication'>: 26294908,\n",
       "  <class 'vicckb.model.Publication'>: 28398638,\n",
       "  <class 'vicckb.model.Publication'>: 21531761,\n",
       "  <class 'vicckb.model.Publication'>: 21847063,\n",
       "  <class 'vicckb.model.Publication'>: 23434733,\n",
       "  <class 'vicckb.model.Publication'>: 24927217,\n",
       "  <class 'vicckb.model.Publication'>: 27615706,\n",
       "  <class 'vicckb.model.Publication'>: 25724526,\n",
       "  <class 'vicckb.model.Publication'>: 16243804,\n",
       "  <class 'vicckb.model.Publication'>: 16956345,\n",
       "  <class 'vicckb.model.Publication'>: 28598816,\n",
       "  <class 'vicckb.model.Publication'>: 20068177,\n",
       "  <class 'vicckb.model.Publication'>: 26936505,\n",
       "  <class 'vicckb.model.Publication'>: 23832012,\n",
       "  <class 'vicckb.model.Publication'>: 27480103,\n",
       "  <class 'vicckb.model.Publication'>: 26206338,\n",
       "  <class 'vicckb.model.Publication'>: 25111512,\n",
       "  <class 'vicckb.model.Publication'>: 21689725,\n",
       "  <class 'vicckb.model.Publication'>: 26676756,\n",
       "  <class 'vicckb.model.Publication'>: 26304929,\n",
       "  <class 'vicckb.model.Publication'>: 26563132,\n",
       "  <class 'vicckb.model.Publication'>: 24982373,\n",
       "  <class 'vicckb.model.Publication'>: 26282658,\n",
       "  <class 'vicckb.model.Publication'>: 21300883,\n",
       "  <class 'vicckb.model.Publication'>: 24204198,\n",
       "  <class 'vicckb.model.Publication'>: 22277784,\n",
       "  <class 'vicckb.model.Publication'>: 27217440,\n",
       "  <class 'vicckb.model.Publication'>: 26351320,\n",
       "  <class 'vicckb.model.Publication'>: 25193512,\n",
       "  <class 'vicckb.model.Publication'>: 28183697,\n",
       "  <class 'vicckb.model.Publication'>: 27550940,\n",
       "  <class 'vicckb.model.Publication'>: 22745105,\n",
       "  <class 'vicckb.model.Publication'>: 18024392,\n",
       "  <class 'vicckb.model.Publication'>: 27507190,\n",
       "  <class 'vicckb.model.Publication'>: 23578997,\n",
       "  <class 'vicckb.model.Publication'>: 28363995,\n",
       "  <class 'vicckb.model.Publication'>: 25673820,\n",
       "  <class 'vicckb.model.Publication'>: 28408243,\n",
       "  <class 'vicckb.model.Publication'>: 27893038,\n",
       "  <class 'vicckb.model.Publication'>: 27251290,\n",
       "  <class 'vicckb.model.Publication'>: 24317392,\n",
       "  <class 'vicckb.model.Publication'>: 20560678,\n",
       "  <class 'vicckb.model.Publication'>: 23690417,\n",
       "  <class 'vicckb.model.Publication'>: 24868098,\n",
       "  <class 'vicckb.model.Publication'>: 26823493,\n",
       "  <class 'vicckb.model.Publication'>: 27965306,\n",
       "  <class 'vicckb.model.Publication'>: 27680702,\n",
       "  <class 'vicckb.model.Publication'>: 26792260,\n",
       "  <class 'vicckb.model.Publication'>: 26206867,\n",
       "  <class 'vicckb.model.Publication'>: 27312529,\n",
       "  <class 'vicckb.model.Publication'>: 22391131,\n",
       "  <class 'vicckb.model.Publication'>: 24874286,\n",
       "  <class 'vicckb.model.Publication'>: 20664174,\n",
       "  <class 'vicckb.model.Publication'>: 17229632,\n",
       "  <class 'vicckb.model.Publication'>: 25322874,\n",
       "  <class 'vicckb.model.Publication'>: 27918764,\n",
       "  <class 'vicckb.model.Publication'>: 26785607,\n",
       "  <class 'vicckb.model.Publication'>: 25589624,\n",
       "  <class 'vicckb.model.Publication'>: 20479403,\n",
       "  <class 'vicckb.model.Publication'>: 27622333,\n",
       "  <class 'vicckb.model.Publication'>: 19139124,\n",
       "  <class 'vicckb.model.Publication'>: 26603258,\n",
       "  <class 'vicckb.model.Publication'>: 27401245,\n",
       "  <class 'vicckb.model.Publication'>: 25594012,\n",
       "  <class 'vicckb.model.Publication'>: 25652455,\n",
       "  <class 'vicckb.model.Publication'>: 25873592,\n",
       "  <class 'vicckb.model.Publication'>: 26631613,\n",
       "  <class 'vicckb.model.Publication'>: 22944768,\n",
       "  <class 'vicckb.model.Publication'>: 21980130,\n",
       "  <class 'vicckb.model.Publication'>: 22105611,\n",
       "  <class 'vicckb.model.Publication'>: 21799033,\n",
       "  <class 'vicckb.model.Publication'>: 27020857,\n",
       "  <class 'vicckb.model.Publication'>: 17145525,\n",
       "  <class 'vicckb.model.Publication'>: 17177598,\n",
       "  <class 'vicckb.model.Publication'>: 23012248,\n",
       "  <class 'vicckb.model.Publication'>: 22541434,\n",
       "  <class 'vicckb.model.Publication'>: 27207775,\n",
       "  <class 'vicckb.model.Publication'>: 19706763,\n",
       "  <class 'vicckb.model.Publication'>: 27004155,\n",
       "  <class 'vicckb.model.Publication'>: 25221644,\n",
       "  <class 'vicckb.model.Publication'>: 28330462,\n",
       "  <class 'vicckb.model.Publication'>: 24353160,\n",
       "  <class 'vicckb.model.Publication'>: 28062704,\n",
       "  <class 'vicckb.model.Publication'>: 19887545,\n",
       "  <class 'vicckb.model.Publication'>: 21670448,\n",
       "  <class 'vicckb.model.Publication'>: 26649278,\n",
       "  <class 'vicckb.model.Publication'>: 27694802,\n",
       "  <class 'vicckb.model.Publication'>: 24351824,\n",
       "  <class 'vicckb.model.Publication'>: 25425962,\n",
       "  <class 'vicckb.model.Publication'>: 24983364,\n",
       "  <class 'vicckb.model.Publication'>: 23940356,\n",
       "  <class 'vicckb.model.Publication'>: 26801760,\n",
       "  <class 'vicckb.model.Publication'>: 25370473,\n",
       "  <class 'vicckb.model.Publication'>: 26633560,\n",
       "  <class 'vicckb.model.Publication'>: 23344087,\n",
       "  <class 'vicckb.model.Publication'>: 27924459,\n",
       "  <class 'vicckb.model.Publication'>: 25895099,\n",
       "  <class 'vicckb.model.Publication'>: 28819023,\n",
       "  <class 'vicckb.model.Publication'>: 25700705,\n",
       "  <class 'vicckb.model.Publication'>: 22096241,\n",
       "  <class 'vicckb.model.Publication'>: 23521373,\n",
       "  <class 'vicckb.model.Publication'>: 27683183,\n",
       "  <class 'vicckb.model.Publication'>: 26459177,\n",
       "  <class 'vicckb.model.Publication'>: 26508027,\n",
       "  <class 'vicckb.model.Publication'>: 26363012,\n",
       "  <class 'vicckb.model.Publication'>: 28512244,\n",
       "  <class 'vicckb.model.Publication'>: 26961851,\n",
       "  <class 'vicckb.model.Publication'>: 27297867,\n",
       "  <class 'vicckb.model.Publication'>: 22048237,\n",
       "  <class 'vicckb.model.Publication'>: 24552773,\n",
       "  <class 'vicckb.model.Publication'>: 27535106,\n",
       "  <class 'vicckb.model.Publication'>: 26036643,\n",
       "  <class 'vicckb.model.Publication'>: 23023262,\n",
       "  <class 'vicckb.model.Publication'>: 22240241,\n",
       "  <class 'vicckb.model.Publication'>: 25564152,\n",
       "  <class 'vicckb.model.Publication'>: 19018267,\n",
       "  <class 'vicckb.model.Publication'>: 24220272,\n",
       "  <class 'vicckb.model.Publication'>: 25594040,\n",
       "  <class 'vicckb.model.Publication'>: 27959700,\n",
       "  <class 'vicckb.model.Publication'>: 28504649,\n",
       "  <class 'vicckb.model.Publication'>: 25465125,\n",
       "  <class 'vicckb.model.Publication'>: 26939704,\n",
       "  <class 'vicckb.model.Publication'>: 25931518,\n",
       "  <class 'vicckb.model.Publication'>: 26230957,\n",
       "  <class 'vicckb.model.Publication'>: 25589496,\n",
       "  <class 'vicckb.model.Publication'>: 25294908,\n",
       "  <class 'vicckb.model.Publication'>: 26247207,\n",
       "  <class 'vicckb.model.Publication'>: 21135055,\n",
       "  <class 'vicckb.model.Publication'>: 27638859,\n",
       "  <class 'vicckb.model.Publication'>: 24517889,\n",
       "  <class 'vicckb.model.Publication'>: 23868008,\n",
       "  <class 'vicckb.model.Publication'>: 26343582,\n",
       "  <class 'vicckb.model.Publication'>: 27496137,\n",
       "  <class 'vicckb.model.Publication'>: 20080688,\n",
       "  <class 'vicckb.model.Publication'>: 26801247,\n",
       "  <class 'vicckb.model.Publication'>: 25527417,\n",
       "  <class 'vicckb.model.Publication'>: 27399335,\n",
       "  <class 'vicckb.model.Publication'>: 23691988,\n",
       "  <class 'vicckb.model.Publication'>: 24823695,\n",
       "  <class 'vicckb.model.Publication'>: 23774673,\n",
       "  <class 'vicckb.model.Publication'>: 27197158,\n",
       "  <class 'vicckb.model.Publication'>: 26137449,\n",
       "  <class 'vicckb.model.Publication'>: 21676217,\n",
       "  <class 'vicckb.model.Publication'>: 25265494,\n",
       "  <class 'vicckb.model.Publication'>: 25589493,\n",
       "  <class 'vicckb.model.Publication'>: 25760429,\n",
       "  <class 'vicckb.model.Publication'>: 27913578,\n",
       "  <class 'vicckb.model.Publication'>: 25435280,\n",
       "  <class 'vicckb.model.Publication'>: 22869148,\n",
       "  <class 'vicckb.model.Publication'>: 24885690,\n",
       "  <class 'vicckb.model.Publication'>: 23633494,\n",
       "  <class 'vicckb.model.Publication'>: 26352686,\n",
       "  <class 'vicckb.model.Publication'>: 25609060,\n",
       "  <class 'vicckb.model.Publication'>: 25939769,\n",
       "  <class 'vicckb.model.Publication'>: 27196749,\n",
       "  <class 'vicckb.model.Publication'>: 26446793,\n",
       "  <class 'vicckb.model.Publication'>: 27388325,\n",
       "  <class 'vicckb.model.Publication'>: 22952903,\n",
       "  <class 'vicckb.model.Publication'>: 18089823,\n",
       "  <class 'vicckb.model.Publication'>: 19666869,\n",
       "  <class 'vicckb.model.Publication'>: 26333383,\n",
       "  <class 'vicckb.model.Publication'>: 23567324,\n",
       "  <class 'vicckb.model.Publication'>: 26757360,\n",
       "  <class 'vicckb.model.Publication'>: 27454289,\n",
       "  <class 'vicckb.model.Publication'>: 22990016,\n",
       "  <class 'vicckb.model.Publication'>: 25107918,\n",
       "  <class 'vicckb.model.Publication'>: 21289267,\n",
       "  <class 'vicckb.model.Publication'>: 21998214,\n",
       "  <class 'vicckb.model.Publication'>: 26466569,\n",
       "  <class 'vicckb.model.Publication'>: 23365119,\n",
       "  <class 'vicckb.model.Publication'>: 26732095,\n",
       "  <class 'vicckb.model.Publication'>: 15256420,\n",
       "  <class 'vicckb.model.Publication'>: 12481435,\n",
       "  <class 'vicckb.model.Publication'>: 23248257,\n",
       "  <class 'vicckb.model.Publication'>: 15289325,\n",
       "  <class 'vicckb.model.Publication'>: 22253748,\n",
       "  <class 'vicckb.model.Publication'>: 26920887,\n",
       "  <class 'vicckb.model.Publication'>: 28224663,\n",
       "  <class 'vicckb.model.Publication'>: 24422853,\n",
       "  <class 'vicckb.model.Publication'>: 27102076,\n",
       "  <class 'vicckb.model.Publication'>: 17646409,\n",
       "  <class 'vicckb.model.Publication'>: 26015511,\n",
       "  <class 'vicckb.model.Publication'>: 21107323,\n",
       "  <class 'vicckb.model.Publication'>: 21558396,\n",
       "  <class 'vicckb.model.Publication'>: 27174596,\n",
       "  <class 'vicckb.model.Publication'>: 26230596,\n",
       "  <class 'vicckb.model.Publication'>: 24162827,\n",
       "  <class 'vicckb.model.Publication'>: 26916115,\n",
       "  <class 'vicckb.model.Publication'>: 28108151,\n",
       "  <class 'vicckb.model.Publication'>: 25231402,\n",
       "  <class 'vicckb.model.Publication'>: 28489509,\n",
       "  <class 'vicckb.model.Publication'>: 18172313,\n",
       "  <class 'vicckb.model.Publication'>: 28231254,\n",
       "  <class 'vicckb.model.Publication'>: 22515704,\n",
       "  <class 'vicckb.model.Publication'>: 27687302,\n",
       "  <class 'vicckb.model.Publication'>: 21871868,\n",
       "  <class 'vicckb.model.Publication'>: 23705946,\n",
       "  ...},\n",
       " 'molecularmatch': {<class 'vicckb.model.Publication'>: 10071185,\n",
       "  <class 'vicckb.model.Publication'>: 10076565,\n",
       "  <class 'vicckb.model.Publication'>: 10213492,\n",
       "  <class 'vicckb.model.Publication'>: 10347231,\n",
       "  <class 'vicckb.model.Publication'>: 10487827,\n",
       "  <class 'vicckb.model.Publication'>: 10698519,\n",
       "  <class 'vicckb.model.Publication'>: 10850414,\n",
       "  <class 'vicckb.model.Publication'>: 11157798,\n",
       "  <class 'vicckb.model.Publication'>: 11161223,\n",
       "  <class 'vicckb.model.Publication'>: 11196159,\n",
       "  <class 'vicckb.model.Publication'>: 11241313,\n",
       "  <class 'vicckb.model.Publication'>: 11900252,\n",
       "  <class 'vicckb.model.Publication'>: 11943721,\n",
       "  <class 'vicckb.model.Publication'>: 11990381,\n",
       "  <class 'vicckb.model.Publication'>: 12083967,\n",
       "  <class 'vicckb.model.Publication'>: 12200448,\n",
       "  <class 'vicckb.model.Publication'>: 12427738,\n",
       "  <class 'vicckb.model.Publication'>: 12490735,\n",
       "  <class 'vicckb.model.Publication'>: 12738713,\n",
       "  <class 'vicckb.model.Publication'>: 14729053,\n",
       "  <class 'vicckb.model.Publication'>: 15010854,\n",
       "  <class 'vicckb.model.Publication'>: 15035987,\n",
       "  <class 'vicckb.model.Publication'>: 15046639,\n",
       "  <class 'vicckb.model.Publication'>: 15064718,\n",
       "  <class 'vicckb.model.Publication'>: 15133491,\n",
       "  <class 'vicckb.model.Publication'>: 15289858,\n",
       "  <class 'vicckb.model.Publication'>: 15342366,\n",
       "  <class 'vicckb.model.Publication'>: 15579438,\n",
       "  <class 'vicckb.model.Publication'>: 15608557,\n",
       "  <class 'vicckb.model.Publication'>: 15613453,\n",
       "  <class 'vicckb.model.Publication'>: 15642163,\n",
       "  <class 'vicckb.model.Publication'>: 15696205,\n",
       "  <class 'vicckb.model.Publication'>: 15737014,\n",
       "  <class 'vicckb.model.Publication'>: 15870435,\n",
       "  <class 'vicckb.model.Publication'>: 15998906,\n",
       "  <class 'vicckb.model.Publication'>: 15998907,\n",
       "  <class 'vicckb.model.Publication'>: 16187112,\n",
       "  <class 'vicckb.model.Publication'>: 16187797,\n",
       "  <class 'vicckb.model.Publication'>: 16775247,\n",
       "  <class 'vicckb.model.Publication'>: 16809730,\n",
       "  <class 'vicckb.model.Publication'>: 16843263,\n",
       "  <class 'vicckb.model.Publication'>: 16849418,\n",
       "  <class 'vicckb.model.Publication'>: 17008892,\n",
       "  <class 'vicckb.model.Publication'>: 17020982,\n",
       "  <class 'vicckb.model.Publication'>: 17046465,\n",
       "  <class 'vicckb.model.Publication'>: 17062680,\n",
       "  <class 'vicckb.model.Publication'>: 17075123,\n",
       "  <class 'vicckb.model.Publication'>: 17085664,\n",
       "  <class 'vicckb.model.Publication'>: 17189293,\n",
       "  <class 'vicckb.model.Publication'>: 17311002,\n",
       "  <class 'vicckb.model.Publication'>: 17463250,\n",
       "  <class 'vicckb.model.Publication'>: 17470858,\n",
       "  <class 'vicckb.model.Publication'>: 17473213,\n",
       "  <class 'vicckb.model.Publication'>: 17495523,\n",
       "  <class 'vicckb.model.Publication'>: 17538169,\n",
       "  <class 'vicckb.model.Publication'>: 17574969,\n",
       "  <class 'vicckb.model.Publication'>: 17924331,\n",
       "  <class 'vicckb.model.Publication'>: 17998284,\n",
       "  <class 'vicckb.model.Publication'>: 18036263,\n",
       "  <class 'vicckb.model.Publication'>: 18073307,\n",
       "  <class 'vicckb.model.Publication'>: 18093943,\n",
       "  <class 'vicckb.model.Publication'>: 18166348,\n",
       "  <class 'vicckb.model.Publication'>: 18202412,\n",
       "  <class 'vicckb.model.Publication'>: 18282277,\n",
       "  <class 'vicckb.model.Publication'>: 18309959,\n",
       "  <class 'vicckb.model.Publication'>: 18316791,\n",
       "  <class 'vicckb.model.Publication'>: 18408761,\n",
       "  <class 'vicckb.model.Publication'>: 18451181,\n",
       "  <class 'vicckb.model.Publication'>: 18676761,\n",
       "  <class 'vicckb.model.Publication'>: 18794084,\n",
       "  <class 'vicckb.model.Publication'>: 18946061,\n",
       "  <class 'vicckb.model.Publication'>: 19001320,\n",
       "  <class 'vicckb.model.Publication'>: 19114683,\n",
       "  <class 'vicckb.model.Publication'>: 19223544,\n",
       "  <class 'vicckb.model.Publication'>: 19303137,\n",
       "  <class 'vicckb.model.Publication'>: 19339720,\n",
       "  <class 'vicckb.model.Publication'>: 19351776,\n",
       "  <class 'vicckb.model.Publication'>: 19351834,\n",
       "  <class 'vicckb.model.Publication'>: 19364970,\n",
       "  <class 'vicckb.model.Publication'>: 19390945,\n",
       "  <class 'vicckb.model.Publication'>: 19543972,\n",
       "  <class 'vicckb.model.Publication'>: 19603018,\n",
       "  <class 'vicckb.model.Publication'>: 19632948,\n",
       "  <class 'vicckb.model.Publication'>: 19718025,\n",
       "  <class 'vicckb.model.Publication'>: 19724844,\n",
       "  <class 'vicckb.model.Publication'>: 19874578,\n",
       "  <class 'vicckb.model.Publication'>: 19884556,\n",
       "  <class 'vicckb.model.Publication'>: 19915144,\n",
       "  <class 'vicckb.model.Publication'>: 20049735,\n",
       "  <class 'vicckb.model.Publication'>: 20103620,\n",
       "  <class 'vicckb.model.Publication'>: 20141835,\n",
       "  <class 'vicckb.model.Publication'>: 20335017,\n",
       "  <class 'vicckb.model.Publication'>: 20406842,\n",
       "  <class 'vicckb.model.Publication'>: 20516115,\n",
       "  <class 'vicckb.model.Publication'>: 20571069,\n",
       "  <class 'vicckb.model.Publication'>: 20608970,\n",
       "  <class 'vicckb.model.Publication'>: 20609467,\n",
       "  <class 'vicckb.model.Publication'>: 20619739,\n",
       "  <class 'vicckb.model.Publication'>: 20737206,\n",
       "  <class 'vicckb.model.Publication'>: 20921461,\n",
       "  <class 'vicckb.model.Publication'>: 20921462,\n",
       "  <class 'vicckb.model.Publication'>: 20921465,\n",
       "  <class 'vicckb.model.Publication'>: 20979473,\n",
       "  <class 'vicckb.model.Publication'>: 21030459,\n",
       "  <class 'vicckb.model.Publication'>: 21131552,\n",
       "  <class 'vicckb.model.Publication'>: 21362200,\n",
       "  <class 'vicckb.model.Publication'>: 21412232,\n",
       "  <class 'vicckb.model.Publication'>: 21430269,\n",
       "  <class 'vicckb.model.Publication'>: 21470995,\n",
       "  <class 'vicckb.model.Publication'>: 21499301,\n",
       "  <class 'vicckb.model.Publication'>: 21502504,\n",
       "  <class 'vicckb.model.Publication'>: 21531810,\n",
       "  <class 'vicckb.model.Publication'>: 21575866,\n",
       "  <class 'vicckb.model.Publication'>: 21606412,\n",
       "  <class 'vicckb.model.Publication'>: 21613408,\n",
       "  <class 'vicckb.model.Publication'>: 21705440,\n",
       "  <class 'vicckb.model.Publication'>: 21750219,\n",
       "  <class 'vicckb.model.Publication'>: 21764376,\n",
       "  <class 'vicckb.model.Publication'>: 21783417,\n",
       "  <class 'vicckb.model.Publication'>: 21791641,\n",
       "  <class 'vicckb.model.Publication'>: 21838707,\n",
       "  <class 'vicckb.model.Publication'>: 21948233,\n",
       "  <class 'vicckb.model.Publication'>: 21990165,\n",
       "  <class 'vicckb.model.Publication'>: 22025146,\n",
       "  <class 'vicckb.model.Publication'>: 22034911,\n",
       "  <class 'vicckb.model.Publication'>: 22046346,\n",
       "  <class 'vicckb.model.Publication'>: 22071596,\n",
       "  <class 'vicckb.model.Publication'>: 22072639,\n",
       "  <class 'vicckb.model.Publication'>: 22089970,\n",
       "  <class 'vicckb.model.Publication'>: 22235099,\n",
       "  <class 'vicckb.model.Publication'>: 22237261,\n",
       "  <class 'vicckb.model.Publication'>: 22238366,\n",
       "  <class 'vicckb.model.Publication'>: 22270724,\n",
       "  <class 'vicckb.model.Publication'>: 22277784,\n",
       "  <class 'vicckb.model.Publication'>: 22281684,\n",
       "  <class 'vicckb.model.Publication'>: 22294718,\n",
       "  <class 'vicckb.model.Publication'>: 22325357,\n",
       "  <class 'vicckb.model.Publication'>: 22327622,\n",
       "  <class 'vicckb.model.Publication'>: 22328973,\n",
       "  <class 'vicckb.model.Publication'>: 22402123,\n",
       "  <class 'vicckb.model.Publication'>: 22425996,\n",
       "  <class 'vicckb.model.Publication'>: 22452895,\n",
       "  <class 'vicckb.model.Publication'>: 22608338,\n",
       "  <class 'vicckb.model.Publication'>: 22648207,\n",
       "  <class 'vicckb.model.Publication'>: 22649091,\n",
       "  <class 'vicckb.model.Publication'>: 22745105,\n",
       "  <class 'vicckb.model.Publication'>: 22753465,\n",
       "  <class 'vicckb.model.Publication'>: 22767154,\n",
       "  <class 'vicckb.model.Publication'>: 22781553,\n",
       "  <class 'vicckb.model.Publication'>: 22805292,\n",
       "  <class 'vicckb.model.Publication'>: 22869148,\n",
       "  <class 'vicckb.model.Publication'>: 22889855,\n",
       "  <class 'vicckb.model.Publication'>: 22908275,\n",
       "  <class 'vicckb.model.Publication'>: 22932669,\n",
       "  <class 'vicckb.model.Publication'>: 23002168,\n",
       "  <class 'vicckb.model.Publication'>: 23082000,\n",
       "  <class 'vicckb.model.Publication'>: 23160853,\n",
       "  <class 'vicckb.model.Publication'>: 23172312,\n",
       "  <class 'vicckb.model.Publication'>: 23177514,\n",
       "  <class 'vicckb.model.Publication'>: 23200175,\n",
       "  <class 'vicckb.model.Publication'>: 23220880,\n",
       "  <class 'vicckb.model.Publication'>: 23221341,\n",
       "  <class 'vicckb.model.Publication'>: 23239810,\n",
       "  <class 'vicckb.model.Publication'>: 23287563,\n",
       "  <class 'vicckb.model.Publication'>: 23332287,\n",
       "  <class 'vicckb.model.Publication'>: 23344087,\n",
       "  <class 'vicckb.model.Publication'>: 23401436,\n",
       "  <class 'vicckb.model.Publication'>: 23407561,\n",
       "  <class 'vicckb.model.Publication'>: 23470965,\n",
       "  <class 'vicckb.model.Publication'>: 23515407,\n",
       "  <class 'vicckb.model.Publication'>: 23533264,\n",
       "  <class 'vicckb.model.Publication'>: 23578175,\n",
       "  <class 'vicckb.model.Publication'>: 23578570,\n",
       "  <class 'vicckb.model.Publication'>: 23584301,\n",
       "  <class 'vicckb.model.Publication'>: 23610105,\n",
       "  <class 'vicckb.model.Publication'>: 23614898,\n",
       "  <class 'vicckb.model.Publication'>: 23630663,\n",
       "  <class 'vicckb.model.Publication'>: 23658459,\n",
       "  <class 'vicckb.model.Publication'>: 23696637,\n",
       "  <class 'vicckb.model.Publication'>: 23705946,\n",
       "  <class 'vicckb.model.Publication'>: 23724914,\n",
       "  <class 'vicckb.model.Publication'>: 23725851,\n",
       "  <class 'vicckb.model.Publication'>: 23729478,\n",
       "  <class 'vicckb.model.Publication'>: 23801166,\n",
       "  <class 'vicckb.model.Publication'>: 23856031,\n",
       "  <class 'vicckb.model.Publication'>: 23888070,\n",
       "  <class 'vicckb.model.Publication'>: 23908597,\n",
       "  <class 'vicckb.model.Publication'>: 23932362,\n",
       "  <class 'vicckb.model.Publication'>: 23982599,\n",
       "  <class 'vicckb.model.Publication'>: 24002501,\n",
       "  <class 'vicckb.model.Publication'>: 24019492,\n",
       "  <class 'vicckb.model.Publication'>: 24024839,\n",
       "  <class 'vicckb.model.Publication'>: 24035431,\n",
       "  <class 'vicckb.model.Publication'>: 24044505,\n",
       "  <class 'vicckb.model.Publication'>: 24055055,\n",
       "  <class 'vicckb.model.Publication'>: 2406025,\n",
       "  <class 'vicckb.model.Publication'>: 24063698,\n",
       "  <class 'vicckb.model.Publication'>: 24104880,\n",
       "  <class 'vicckb.model.Publication'>: 24177180,\n",
       "  <class 'vicckb.model.Publication'>: 24185510,\n",
       "  <class 'vicckb.model.Publication'>: 24185512,\n",
       "  <class 'vicckb.model.Publication'>: 24202392,\n",
       "  <class 'vicckb.model.Publication'>: 24217577,\n",
       "  <class 'vicckb.model.Publication'>: 24277854,\n",
       "  <class 'vicckb.model.Publication'>: 24327273,\n",
       "  <class 'vicckb.model.Publication'>: 24353160,\n",
       "  <class 'vicckb.model.Publication'>: 24398047,\n",
       "  <class 'vicckb.model.Publication'>: 24451109,\n",
       "  <class 'vicckb.model.Publication'>: 24504441,\n",
       "  <class 'vicckb.model.Publication'>: 24508103,\n",
       "  <class 'vicckb.model.Publication'>: 24516025,\n",
       "  <class 'vicckb.model.Publication'>: 24608574,\n",
       "  <class 'vicckb.model.Publication'>: 24642893,\n",
       "  <class 'vicckb.model.Publication'>: 24670165,\n",
       "  <class 'vicckb.model.Publication'>: 24675041,\n",
       "  <class 'vicckb.model.Publication'>: 24723450,\n",
       "  <class 'vicckb.model.Publication'>: 24735922,\n",
       "  <class 'vicckb.model.Publication'>: 24736079,\n",
       "  <class 'vicckb.model.Publication'>: 24755613,\n",
       "  <class 'vicckb.model.Publication'>: 24765199,\n",
       "  <class 'vicckb.model.Publication'>: 24835218,\n",
       "  <class 'vicckb.model.Publication'>: 24850847,\n",
       "  <class 'vicckb.model.Publication'>: 24868098,\n",
       "  <class 'vicckb.model.Publication'>: 24879797,\n",
       "  <class 'vicckb.model.Publication'>: 24887559,\n",
       "  <class 'vicckb.model.Publication'>: 24893891,\n",
       "  <class 'vicckb.model.Publication'>: 24907636,\n",
       "  <class 'vicckb.model.Publication'>: 24919854,\n",
       "  <class 'vicckb.model.Publication'>: 24938562,\n",
       "  <class 'vicckb.model.Publication'>: 25009010,\n",
       "  <class 'vicckb.model.Publication'>: 25015210,\n",
       "  <class 'vicckb.model.Publication'>: 25074459,\n",
       "  <class 'vicckb.model.Publication'>: 25115304,\n",
       "  <class 'vicckb.model.Publication'>: 25172762,\n",
       "  <class 'vicckb.model.Publication'>: 25184630,\n",
       "  <class 'vicckb.model.Publication'>: 25193991,\n",
       "  <class 'vicckb.model.Publication'>: 25204415,\n",
       "  <class 'vicckb.model.Publication'>: 25204553,\n",
       "  <class 'vicckb.model.Publication'>: 25228534,\n",
       "  <class 'vicckb.model.Publication'>: 25242168,\n",
       "  <class 'vicckb.model.Publication'>: 25264305,\n",
       "  <class 'vicckb.model.Publication'>: 25265494,\n",
       "  <class 'vicckb.model.Publication'>: 25348954,\n",
       "  <class 'vicckb.model.Publication'>: 25349307,\n",
       "  <class 'vicckb.model.Publication'>: 25351743,\n",
       "  <class 'vicckb.model.Publication'>: 25351745,\n",
       "  <class 'vicckb.model.Publication'>: 25366691,\n",
       "  <class 'vicckb.model.Publication'>: 25393796,\n",
       "  <class 'vicckb.model.Publication'>: 25393798,\n",
       "  <class 'vicckb.model.Publication'>: 25399551,\n",
       "  <class 'vicckb.model.Publication'>: 25399552,\n",
       "  <class 'vicckb.model.Publication'>: 25436805,\n",
       "  <class 'vicckb.model.Publication'>: 25466244,\n",
       "  <class 'vicckb.model.Publication'>: 25480824,\n",
       "  <class 'vicckb.model.Publication'>: 25521405,\n",
       "  <class 'vicckb.model.Publication'>: 25537644,\n",
       "  <class 'vicckb.model.Publication'>: 25589191,\n",
       "  <class 'vicckb.model.Publication'>: 25600636,\n",
       "  <class 'vicckb.model.Publication'>: 25623215,\n",
       "  <class 'vicckb.model.Publication'>: 25637314,\n",
       "  <class 'vicckb.model.Publication'>: 25667280,\n",
       "  <class 'vicckb.model.Publication'>: 25673558,\n",
       "  <class 'vicckb.model.Publication'>: 25677745,\n",
       "  <class 'vicckb.model.Publication'>: 25693012,\n",
       "  <class 'vicckb.model.Publication'>: 25701455,\n",
       "  <class 'vicckb.model.Publication'>: 25713333,\n",
       "  <class 'vicckb.model.Publication'>: 25727400,\n",
       "  <class 'vicckb.model.Publication'>: 25732163,\n",
       "  <class 'vicckb.model.Publication'>: 25733882,\n",
       "  <class 'vicckb.model.Publication'>: 25736571,\n",
       "  <class 'vicckb.model.Publication'>: 25749034,\n",
       "  <class 'vicckb.model.Publication'>: 25795410,\n",
       "  <class 'vicckb.model.Publication'>: 25826094,\n",
       "  <class 'vicckb.model.Publication'>: 25848357,\n",
       "  <class 'vicckb.model.Publication'>: 25870145,\n",
       "  <class 'vicckb.model.Publication'>: 25891304,\n",
       "  <class 'vicckb.model.Publication'>: 25923549,\n",
       "  <class 'vicckb.model.Publication'>: 25923550,\n",
       "  <class 'vicckb.model.Publication'>: 25939061,\n",
       "  <class 'vicckb.model.Publication'>: 25943534,\n",
       "  <class 'vicckb.model.Publication'>: 25953157,\n",
       "  <class 'vicckb.model.Publication'>: 25956960,\n",
       "  <class 'vicckb.model.Publication'>: 25962717,\n",
       "  <class 'vicckb.model.Publication'>: 25964297,\n",
       "  <class 'vicckb.model.Publication'>: 25970050,\n",
       "  <class 'vicckb.model.Publication'>: 25971938,\n",
       "  <class 'vicckb.model.Publication'>: 25979929,\n",
       "  <class 'vicckb.model.Publication'>: 25981818,\n",
       "  <class 'vicckb.model.Publication'>: 25989278,\n",
       "  <class 'vicckb.model.Publication'>: 26027431,\n",
       "  <class 'vicckb.model.Publication'>: 26045855,\n",
       "  <class 'vicckb.model.Publication'>: 26051236,\n",
       "  <class 'vicckb.model.Publication'>: 26056478,\n",
       "  <class 'vicckb.model.Publication'>: 26059438,\n",
       "  <class 'vicckb.model.Publication'>: 26078337,\n",
       "  <class 'vicckb.model.Publication'>: 26084268,\n",
       "  <class 'vicckb.model.Publication'>: 26125448,\n",
       "  <class 'vicckb.model.Publication'>: 26134233,\n",
       "  <class 'vicckb.model.Publication'>: 26141748,\n",
       "  <class 'vicckb.model.Publication'>: 26144315,\n",
       "  <class 'vicckb.model.Publication'>: 26181354,\n",
       "  <class 'vicckb.model.Publication'>: 26187614,\n",
       "  <class 'vicckb.model.Publication'>: 26200454,\n",
       "  <class 'vicckb.model.Publication'>: 26215952,\n",
       "  <class 'vicckb.model.Publication'>: 26237499,\n",
       "  <class 'vicckb.model.Publication'>: 26243863,\n",
       "  <class 'vicckb.model.Publication'>: 26257057,\n",
       "  <class 'vicckb.model.Publication'>: 26272806,\n",
       "  <class 'vicckb.model.Publication'>: 26287849,\n",
       "  <class 'vicckb.model.Publication'>: 26291023,\n",
       "  <class 'vicckb.model.Publication'>: 26314551,\n",
       "  <class 'vicckb.model.Publication'>: 26341921,\n",
       "  <class 'vicckb.model.Publication'>: 26351323,\n",
       "  <class 'vicckb.model.Publication'>: 26354527,\n",
       "  <class 'vicckb.model.Publication'>: 26358790,\n",
       "  <class 'vicckb.model.Publication'>: 26358791,\n",
       "  <class 'vicckb.model.Publication'>: 26369631,\n",
       "  <class 'vicckb.model.Publication'>: 26370156,\n",
       "  <class 'vicckb.model.Publication'>: 26372962,\n",
       "  <class 'vicckb.model.Publication'>: 26412456,\n",
       "  <class 'vicckb.model.Publication'>: 26464158,\n",
       "  <class 'vicckb.model.Publication'>: 26469692,\n",
       "  <class 'vicckb.model.Publication'>: 26498038,\n",
       "  <class 'vicckb.model.Publication'>: 26545934,\n",
       "  <class 'vicckb.model.Publication'>: 26554404,\n",
       "  <class 'vicckb.model.Publication'>: 26559459,\n",
       "  <class 'vicckb.model.Publication'>: 26563128,\n",
       "  <class 'vicckb.model.Publication'>: 26582713,\n",
       "  <class 'vicckb.model.Publication'>: 26598547,\n",
       "  <class 'vicckb.model.Publication'>: 26623721,\n",
       "  <class 'vicckb.model.Publication'>: 26673800,\n",
       "  <class 'vicckb.model.Publication'>: 26689913,\n",
       "  <class 'vicckb.model.Publication'>: 26698910,\n",
       "  <class 'vicckb.model.Publication'>: 26708155,\n",
       "  <class 'vicckb.model.Publication'>: 26711932,\n",
       "  <class 'vicckb.model.Publication'>: 26712084,\n",
       "  <class 'vicckb.model.Publication'>: 26749488,\n",
       "  <class 'vicckb.model.Publication'>: 26759238,\n",
       "  <class 'vicckb.model.Publication'>: 26766738,\n",
       "  <class 'vicckb.model.Publication'>: 26773740,\n",
       "  <class 'vicckb.model.Publication'>: 26775591,\n",
       "  <class 'vicckb.model.Publication'>: 26783290,\n",
       "  <class 'vicckb.model.Publication'>: 26836308,\n",
       "  <class 'vicckb.model.Publication'>: 26843189,\n",
       "  <class 'vicckb.model.Publication'>: 26849637,\n",
       "  <class 'vicckb.model.Publication'>: 26874901,\n",
       "  <class 'vicckb.model.Publication'>: 26888827,\n",
       "  <class 'vicckb.model.Publication'>: 26917690,\n",
       "  <class 'vicckb.model.Publication'>: 26931343,\n",
       "  <class 'vicckb.model.Publication'>: 26950414,\n",
       "  <class 'vicckb.model.Publication'>: 26964772,\n",
       "  <class 'vicckb.model.Publication'>: 26967328,\n",
       "  <class 'vicckb.model.Publication'>: 26980062,\n",
       "  <class 'vicckb.model.Publication'>: 26984449,\n",
       "  <class 'vicckb.model.Publication'>: 26988570,\n",
       "  <class 'vicckb.model.Publication'>: 26994146,\n",
       "  <class 'vicckb.model.Publication'>: 27020857,\n",
       "  <class 'vicckb.model.Publication'>: 27020862,\n",
       "  <class 'vicckb.model.Publication'>: 27026198,\n",
       "  <class 'vicckb.model.Publication'>: 27029708,\n",
       "  <class 'vicckb.model.Publication'>: 27080216,\n",
       "  <class 'vicckb.model.Publication'>: 27091190,\n",
       "  <class 'vicckb.model.Publication'>: 27091708,\n",
       "  <class 'vicckb.model.Publication'>: 27126994,\n",
       "  <class 'vicckb.model.Publication'>: 27138582,\n",
       "  <class 'vicckb.model.Publication'>: 27174596,\n",
       "  <class 'vicckb.model.Publication'>: 27177928,\n",
       "  <class 'vicckb.model.Publication'>: 27178332,\n",
       "  <class 'vicckb.model.Publication'>: 27186432,\n",
       "  <class 'vicckb.model.Publication'>: 27198270,\n",
       "  <class 'vicckb.model.Publication'>: 27198333,\n",
       "  <class 'vicckb.model.Publication'>: 27198352,\n",
       "  <class 'vicckb.model.Publication'>: 27217383,\n",
       "  <class 'vicckb.model.Publication'>: 27269946,\n",
       "  <class 'vicckb.model.Publication'>: 27283860,\n",
       "  <class 'vicckb.model.Publication'>: 27312529,\n",
       "  <class 'vicckb.model.Publication'>: 27370605,\n",
       "  <class 'vicckb.model.Publication'>: 27401242,\n",
       "  <class 'vicckb.model.Publication'>: 27406875,\n",
       "  <class 'vicckb.model.Publication'>: 27407089,\n",
       "  <class 'vicckb.model.Publication'>: 27410477,\n",
       "  <class 'vicckb.model.Publication'>: 27413075,\n",
       "  <class 'vicckb.model.Publication'>: 27413714,\n",
       "  <class 'vicckb.model.Publication'>: 27432227,\n",
       "  <class 'vicckb.model.Publication'>: 27468240,\n",
       "  <class 'vicckb.model.Publication'>: 27529514,\n",
       "  <class 'vicckb.model.Publication'>: 27532364,\n",
       "  <class 'vicckb.model.Publication'>: 27542767,\n",
       "  <class 'vicckb.model.Publication'>: 27565914,\n",
       "  <class 'vicckb.model.Publication'>: 27577079,\n",
       "  <class 'vicckb.model.Publication'>: 27609840,\n",
       "  <class 'vicckb.model.Publication'>: 27634906,\n",
       "  <class 'vicckb.model.Publication'>: 27665021,\n",
       "  <class 'vicckb.model.Publication'>: 27717298,\n",
       "  <class 'vicckb.model.Publication'>: 27718847,\n",
       "  <class 'vicckb.model.Publication'>: 27737796,\n",
       "  <class 'vicckb.model.Publication'>: 27748766,\n",
       "  <class 'vicckb.model.Publication'>: 27751847,\n",
       "  <class 'vicckb.model.Publication'>: 27780853,\n",
       "  <class 'vicckb.model.Publication'>: 27821604,\n",
       "  <class 'vicckb.model.Publication'>: 27825616,\n",
       "  <class 'vicckb.model.Publication'>: 27825636,\n",
       "  <class 'vicckb.model.Publication'>: 27825637,\n",
       "  <class 'vicckb.model.Publication'>: 27834212,\n",
       "  <class 'vicckb.model.Publication'>: 27836716,\n",
       "  <class 'vicckb.model.Publication'>: 27867609,\n",
       "  <class 'vicckb.model.Publication'>: 27872130,\n",
       "  <class 'vicckb.model.Publication'>: 27886589,\n",
       "  <class 'vicckb.model.Publication'>: 27900589,\n",
       "  <class 'vicckb.model.Publication'>: 27906677,\n",
       "  <class 'vicckb.model.Publication'>: 27912826,\n",
       "  <class 'vicckb.model.Publication'>: 27922010,\n",
       "  <class 'vicckb.model.Publication'>: 27923043,\n",
       "  <class 'vicckb.model.Publication'>: 27959700,\n",
       "  <class 'vicckb.model.Publication'>: 27986707,\n",
       "  <class 'vicckb.model.Publication'>: 27988457,\n",
       "  <class 'vicckb.model.Publication'>: 28004883,\n",
       "  <class 'vicckb.model.Publication'>: 28057616,\n",
       "  <class 'vicckb.model.Publication'>: 28100566,\n",
       "  <class 'vicckb.model.Publication'>: 28112739,\n",
       "  <class 'vicckb.model.Publication'>: 28115222,\n",
       "  <class 'vicckb.model.Publication'>: 28119295,\n",
       "  <class 'vicckb.model.Publication'>: 28183140,\n",
       "  <class 'vicckb.model.Publication'>: 28243590,\n",
       "  <class 'vicckb.model.Publication'>: 28264838,\n",
       "  <class 'vicckb.model.Publication'>: 28271038,\n",
       "  <class 'vicckb.model.Publication'>: 28324883,\n",
       "  <class 'vicckb.model.Publication'>: 28365967,\n",
       "  <class 'vicckb.model.Publication'>: 28396313,\n",
       "  <class 'vicckb.model.Publication'>: 28634423,\n",
       "  <class 'vicckb.model.Publication'>: 28822576,\n",
       "  <class 'vicckb.model.Publication'>: 7753829,\n",
       "  <class 'vicckb.model.Publication'>: 8676668,\n",
       "  <class 'vicckb.model.Publication'>: 8698850,\n",
       "  <class 'vicckb.model.Publication'>: 9065403,\n",
       "  <class 'vicckb.model.Publication'>: 9150704,\n",
       "  <class 'vicckb.model.Publication'>: 9191060},\n",
       " 'oncokb': {<class 'vicckb.model.Publication'>: 10533067,\n",
       "  <class 'vicckb.model.Publication'>: 10561337,\n",
       "  <class 'vicckb.model.Publication'>: 11248153,\n",
       "  <class 'vicckb.model.Publication'>: 11287972,\n",
       "  <class 'vicckb.model.Publication'>: 11287973,\n",
       "  <class 'vicckb.model.Publication'>: 12181401,\n",
       "  <class 'vicckb.model.Publication'>: 12181402,\n",
       "  <class 'vicckb.model.Publication'>: 12200353,\n",
       "  <class 'vicckb.model.Publication'>: 12208738,\n",
       "  <class 'vicckb.model.Publication'>: 12637609,\n",
       "  <class 'vicckb.model.Publication'>: 12660384,\n",
       "  <class 'vicckb.model.Publication'>: 12676775,\n",
       "  <class 'vicckb.model.Publication'>: 12781364,\n",
       "  <class 'vicckb.model.Publication'>: 12944919,\n",
       "  <class 'vicckb.model.Publication'>: 12949711,\n",
       "  <class 'vicckb.model.Publication'>: 14504092,\n",
       "  <class 'vicckb.model.Publication'>: 14570950,\n",
       "  <class 'vicckb.model.Publication'>: 15034867,\n",
       "  <class 'vicckb.model.Publication'>: 15118073,\n",
       "  <class 'vicckb.model.Publication'>: 1516603,\n",
       "  <class 'vicckb.model.Publication'>: 15269313,\n",
       "  <class 'vicckb.model.Publication'>: 15451219,\n",
       "  <class 'vicckb.model.Publication'>: 15483017,\n",
       "  <class 'vicckb.model.Publication'>: 15503291,\n",
       "  <class 'vicckb.model.Publication'>: 15595939,\n",
       "  <class 'vicckb.model.Publication'>: 15638953,\n",
       "  <class 'vicckb.model.Publication'>: 15677699,\n",
       "  <class 'vicckb.model.Publication'>: 15681532,\n",
       "  <class 'vicckb.model.Publication'>: 15685537,\n",
       "  <class 'vicckb.model.Publication'>: 15710947,\n",
       "  <class 'vicckb.model.Publication'>: 15735036,\n",
       "  <class 'vicckb.model.Publication'>: 15737014,\n",
       "  <class 'vicckb.model.Publication'>: 15746584,\n",
       "  <class 'vicckb.model.Publication'>: 15897572,\n",
       "  <class 'vicckb.model.Publication'>: 15928335,\n",
       "  <class 'vicckb.model.Publication'>: 16011858,\n",
       "  <class 'vicckb.model.Publication'>: 16091755,\n",
       "  <class 'vicckb.model.Publication'>: 16098458,\n",
       "  <class 'vicckb.model.Publication'>: 16187797,\n",
       "  <class 'vicckb.model.Publication'>: 16236737,\n",
       "  <class 'vicckb.model.Publication'>: 16236738,\n",
       "  <class 'vicckb.model.Publication'>: 16273091,\n",
       "  <class 'vicckb.model.Publication'>: 16397241,\n",
       "  <class 'vicckb.model.Publication'>: 16452222,\n",
       "  <class 'vicckb.model.Publication'>: 16498388,\n",
       "  <class 'vicckb.model.Publication'>: 16647110,\n",
       "  <class 'vicckb.model.Publication'>: 16754777,\n",
       "  <class 'vicckb.model.Publication'>: 16845659,\n",
       "  <class 'vicckb.model.Publication'>: 16960151,\n",
       "  <class 'vicckb.model.Publication'>: 16981987,\n",
       "  <class 'vicckb.model.Publication'>: 17016424,\n",
       "  <class 'vicckb.model.Publication'>: 17046465,\n",
       "  <class 'vicckb.model.Publication'>: 17087936,\n",
       "  <class 'vicckb.model.Publication'>: 17192538,\n",
       "  <class 'vicckb.model.Publication'>: 17285735,\n",
       "  <class 'vicckb.model.Publication'>: 17304050,\n",
       "  <class 'vicckb.model.Publication'>: 17419150,\n",
       "  <class 'vicckb.model.Publication'>: 17470858,\n",
       "  <class 'vicckb.model.Publication'>: 17496201,\n",
       "  <class 'vicckb.model.Publication'>: 17555450,\n",
       "  <class 'vicckb.model.Publication'>: 17591827,\n",
       "  <class 'vicckb.model.Publication'>: 17686547,\n",
       "  <class 'vicckb.model.Publication'>: 18000506,\n",
       "  <class 'vicckb.model.Publication'>: 18230792,\n",
       "  <class 'vicckb.model.Publication'>: 18235121,\n",
       "  <class 'vicckb.model.Publication'>: 18316791,\n",
       "  <class 'vicckb.model.Publication'>: 18408761,\n",
       "  <class 'vicckb.model.Publication'>: 18594509,\n",
       "  <class 'vicckb.model.Publication'>: 1867676,\n",
       "  <class 'vicckb.model.Publication'>: 18676761,\n",
       "  <class 'vicckb.model.Publication'>: 18794084,\n",
       "  <class 'vicckb.model.Publication'>: 18950453,\n",
       "  <class 'vicckb.model.Publication'>: 18955458,\n",
       "  <class 'vicckb.model.Publication'>: 19060928,\n",
       "  <class 'vicckb.model.Publication'>: 19096300,\n",
       "  <class 'vicckb.model.Publication'>: 19212337,\n",
       "  <class 'vicckb.model.Publication'>: 19282169,\n",
       "  <class 'vicckb.model.Publication'>: 19318484,\n",
       "  <class 'vicckb.model.Publication'>: 19339720,\n",
       "  <class 'vicckb.model.Publication'>: 19461405,\n",
       "  <class 'vicckb.model.Publication'>: 19536777,\n",
       "  <class 'vicckb.model.Publication'>: 19553641,\n",
       "  <class 'vicckb.model.Publication'>: 19584866,\n",
       "  <class 'vicckb.model.Publication'>: 19620561,\n",
       "  <class 'vicckb.model.Publication'>: 19625781,\n",
       "  <class 'vicckb.model.Publication'>: 19692680,\n",
       "  <class 'vicckb.model.Publication'>: 19786658,\n",
       "  <class 'vicckb.model.Publication'>: 20022809,\n",
       "  <class 'vicckb.model.Publication'>: 20131302,\n",
       "  <class 'vicckb.model.Publication'>: 20142587,\n",
       "  <class 'vicckb.model.Publication'>: 20406929,\n",
       "  <class 'vicckb.model.Publication'>: 20439456,\n",
       "  <class 'vicckb.model.Publication'>: 20525993,\n",
       "  <class 'vicckb.model.Publication'>: 20525995,\n",
       "  <class 'vicckb.model.Publication'>: 20530712,\n",
       "  <class 'vicckb.model.Publication'>: 20571495,\n",
       "  <class 'vicckb.model.Publication'>: 20573926,\n",
       "  <class 'vicckb.model.Publication'>: 20601955,\n",
       "  <class 'vicckb.model.Publication'>: 20609468,\n",
       "  <class 'vicckb.model.Publication'>: 20619739,\n",
       "  <class 'vicckb.model.Publication'>: 20728210,\n",
       "  <class 'vicckb.model.Publication'>: 20730488,\n",
       "  <class 'vicckb.model.Publication'>: 20808254,\n",
       "  <class 'vicckb.model.Publication'>: 20818844,\n",
       "  <class 'vicckb.model.Publication'>: 20881279,\n",
       "  <class 'vicckb.model.Publication'>: 20921462,\n",
       "  <class 'vicckb.model.Publication'>: 20921465,\n",
       "  <class 'vicckb.model.Publication'>: 20979472,\n",
       "  <class 'vicckb.model.Publication'>: 21047224,\n",
       "  <class 'vicckb.model.Publication'>: 21128251,\n",
       "  <class 'vicckb.model.Publication'>: 21169255,\n",
       "  <class 'vicckb.model.Publication'>: 21224473,\n",
       "  <class 'vicckb.model.Publication'>: 21228335,\n",
       "  <class 'vicckb.model.Publication'>: 21252719,\n",
       "  <class 'vicckb.model.Publication'>: 21362200,\n",
       "  <class 'vicckb.model.Publication'>: 21422421,\n",
       "  <class 'vicckb.model.Publication'>: 21502504,\n",
       "  <class 'vicckb.model.Publication'>: 21531810,\n",
       "  <class 'vicckb.model.Publication'>: 21610706,\n",
       "  <class 'vicckb.model.Publication'>: 21623265,\n",
       "  <class 'vicckb.model.Publication'>: 21642685,\n",
       "  <class 'vicckb.model.Publication'>: 21670455,\n",
       "  <class 'vicckb.model.Publication'>: 21764376,\n",
       "  <class 'vicckb.model.Publication'>: 21768458,\n",
       "  <class 'vicckb.model.Publication'>: 21862407,\n",
       "  <class 'vicckb.model.Publication'>: 21918175,\n",
       "  <class 'vicckb.model.Publication'>: 21949883,\n",
       "  <class 'vicckb.model.Publication'>: 22049316,\n",
       "  <class 'vicckb.model.Publication'>: 22065080,\n",
       "  <class 'vicckb.model.Publication'>: 22105174,\n",
       "  <class 'vicckb.model.Publication'>: 22113612,\n",
       "  <class 'vicckb.model.Publication'>: 22149875,\n",
       "  <class 'vicckb.model.Publication'>: 22153890,\n",
       "  <class 'vicckb.model.Publication'>: 22160483,\n",
       "  <class 'vicckb.model.Publication'>: 22188813,\n",
       "  <class 'vicckb.model.Publication'>: 22190593,\n",
       "  <class 'vicckb.model.Publication'>: 22257673,\n",
       "  <class 'vicckb.model.Publication'>: 22270258,\n",
       "  <class 'vicckb.model.Publication'>: 22285168,\n",
       "  <class 'vicckb.model.Publication'>: 22294718,\n",
       "  <class 'vicckb.model.Publication'>: 22340590,\n",
       "  <class 'vicckb.model.Publication'>: 22355357,\n",
       "  <class 'vicckb.model.Publication'>: 22370314,\n",
       "  <class 'vicckb.model.Publication'>: 22452895,\n",
       "  <class 'vicckb.model.Publication'>: 22504949,\n",
       "  <class 'vicckb.model.Publication'>: 22521243,\n",
       "  <class 'vicckb.model.Publication'>: 22588880,\n",
       "  <class 'vicckb.model.Publication'>: 22608338,\n",
       "  <class 'vicckb.model.Publication'>: 22653967,\n",
       "  <class 'vicckb.model.Publication'>: 22663011,\n",
       "  <class 'vicckb.model.Publication'>: 22670903,\n",
       "  <class 'vicckb.model.Publication'>: 22670904,\n",
       "  <class 'vicckb.model.Publication'>: 22718859,\n",
       "  <class 'vicckb.model.Publication'>: 22735384,\n",
       "  <class 'vicckb.model.Publication'>: 22743296,\n",
       "  <class 'vicckb.model.Publication'>: 22745105,\n",
       "  <class 'vicckb.model.Publication'>: 22798288,\n",
       "  <class 'vicckb.model.Publication'>: 22805291,\n",
       "  <class 'vicckb.model.Publication'>: 22806875,\n",
       "  <class 'vicckb.model.Publication'>: 22837387,\n",
       "  <class 'vicckb.model.Publication'>: 22875628,\n",
       "  <class 'vicckb.model.Publication'>: 22897847,\n",
       "  <class 'vicckb.model.Publication'>: 22899477,\n",
       "  <class 'vicckb.model.Publication'>: 22967996,\n",
       "  <class 'vicckb.model.Publication'>: 22983396,\n",
       "  <class 'vicckb.model.Publication'>: 23020132,\n",
       "  <class 'vicckb.model.Publication'>: 23020162,\n",
       "  <class 'vicckb.model.Publication'>: 23051747,\n",
       "  <class 'vicckb.model.Publication'>: 23051966,\n",
       "  <class 'vicckb.model.Publication'>: 23082000,\n",
       "  <class 'vicckb.model.Publication'>: 23084521,\n",
       "  <class 'vicckb.model.Publication'>: 23136191,\n",
       "  <class 'vicckb.model.Publication'>: 23140824,\n",
       "  <class 'vicckb.model.Publication'>: 23154560,\n",
       "  <class 'vicckb.model.Publication'>: 23158522,\n",
       "  <class 'vicckb.model.Publication'>: 23169436,\n",
       "  <class 'vicckb.model.Publication'>: 23177514,\n",
       "  <class 'vicckb.model.Publication'>: 23177515,\n",
       "  <class 'vicckb.model.Publication'>: 23220880,\n",
       "  <class 'vicckb.model.Publication'>: 23248257,\n",
       "  <class 'vicckb.model.Publication'>: 23258246,\n",
       "  <class 'vicckb.model.Publication'>: 23312829,\n",
       "  <class 'vicckb.model.Publication'>: 23328547,\n",
       "  <class 'vicckb.model.Publication'>: 23365119,\n",
       "  <class 'vicckb.model.Publication'>: 23371856,\n",
       "  <class 'vicckb.model.Publication'>: 23393090,\n",
       "  <class 'vicckb.model.Publication'>: 23394218,\n",
       "  <class 'vicckb.model.Publication'>: 23400675,\n",
       "  <class 'vicckb.model.Publication'>: 23402814,\n",
       "  <class 'vicckb.model.Publication'>: 23406027,\n",
       "  <class 'vicckb.model.Publication'>: 23408105,\n",
       "  <class 'vicckb.model.Publication'>: 23414587,\n",
       "  <class 'vicckb.model.Publication'>: 23502220,\n",
       "  <class 'vicckb.model.Publication'>: 23533264,\n",
       "  <class 'vicckb.model.Publication'>: 23558169,\n",
       "  <class 'vicckb.model.Publication'>: 23566546,\n",
       "  <class 'vicckb.model.Publication'>: 23569312,\n",
       "  <class 'vicckb.model.Publication'>: 23578175,\n",
       "  <class 'vicckb.model.Publication'>: 23584301,\n",
       "  <class 'vicckb.model.Publication'>: 23598171,\n",
       "  <class 'vicckb.model.Publication'>: 23602601,\n",
       "  <class 'vicckb.model.Publication'>: 23614898,\n",
       "  <class 'vicckb.model.Publication'>: 23630205,\n",
       "  <class 'vicckb.model.Publication'>: 23632474,\n",
       "  <class 'vicckb.model.Publication'>: 23662903,\n",
       "  <class 'vicckb.model.Publication'>: 23721513,\n",
       "  <class 'vicckb.model.Publication'>: 23724913,\n",
       "  <class 'vicckb.model.Publication'>: 23726034,\n",
       "  <class 'vicckb.model.Publication'>: 23733758,\n",
       "  <class 'vicckb.model.Publication'>: 23749122,\n",
       "  <class 'vicckb.model.Publication'>: 23752188,\n",
       "  <class 'vicckb.model.Publication'>: 23775962,\n",
       "  <class 'vicckb.model.Publication'>: 23816960,\n",
       "  <class 'vicckb.model.Publication'>: 23816963,\n",
       "  <class 'vicckb.model.Publication'>: 23846731,\n",
       "  <class 'vicckb.model.Publication'>: 23850807,\n",
       "  <class 'vicckb.model.Publication'>: 23871490,\n",
       "  <class 'vicckb.model.Publication'>: 23890088,\n",
       "  <class 'vicckb.model.Publication'>: 23903756,\n",
       "  <class 'vicckb.model.Publication'>: 23912954,\n",
       "  <class 'vicckb.model.Publication'>: 23918947,\n",
       "  <class 'vicckb.model.Publication'>: 23934108,\n",
       "  <class 'vicckb.model.Publication'>: 23969006,\n",
       "  <class 'vicckb.model.Publication'>: 23991695,\n",
       "  <class 'vicckb.model.Publication'>: 24024839,\n",
       "  <class 'vicckb.model.Publication'>: 24024844,\n",
       "  <class 'vicckb.model.Publication'>: 24065731,\n",
       "  <class 'vicckb.model.Publication'>: 24076665,\n",
       "  <class 'vicckb.model.Publication'>: 24077916,\n",
       "  <class 'vicckb.model.Publication'>: 24122810,\n",
       "  <class 'vicckb.model.Publication'>: 24143074,\n",
       "  <class 'vicckb.model.Publication'>: 24240680,\n",
       "  <class 'vicckb.model.Publication'>: 24244612,\n",
       "  <class 'vicckb.model.Publication'>: 24285021,\n",
       "  <class 'vicckb.model.Publication'>: 24310736,\n",
       "  <class 'vicckb.model.Publication'>: 24345920,\n",
       "  <class 'vicckb.model.Publication'>: 24353160,\n",
       "  <class 'vicckb.model.Publication'>: 24359404,\n",
       "  <class 'vicckb.model.Publication'>: 24407160,\n",
       "  <class 'vicckb.model.Publication'>: 24478319,\n",
       "  <class 'vicckb.model.Publication'>: 24508103,\n",
       "  <class 'vicckb.model.Publication'>: 24523439,\n",
       "  <class 'vicckb.model.Publication'>: 24535670,\n",
       "  <class 'vicckb.model.Publication'>: 24561032,\n",
       "  <class 'vicckb.model.Publication'>: 24563539,\n",
       "  <class 'vicckb.model.Publication'>: 24569458,\n",
       "  <class 'vicckb.model.Publication'>: 24576830,\n",
       "  <class 'vicckb.model.Publication'>: 24608574,\n",
       "  <class 'vicckb.model.Publication'>: 24625776,\n",
       "  <class 'vicckb.model.Publication'>: 24670165,\n",
       "  <class 'vicckb.model.Publication'>: 24687085,\n",
       "  <class 'vicckb.model.Publication'>: 24729041,\n",
       "  <class 'vicckb.model.Publication'>: 24739896,\n",
       "  <class 'vicckb.model.Publication'>: 24746704,\n",
       "  <class 'vicckb.model.Publication'>: 24781018,\n",
       "  <class 'vicckb.model.Publication'>: 24888229,\n",
       "  <class 'vicckb.model.Publication'>: 24893891,\n",
       "  <class 'vicckb.model.Publication'>: 24900187,\n",
       "  <class 'vicckb.model.Publication'>: 24900266,\n",
       "  <class 'vicckb.model.Publication'>: 24933606,\n",
       "  <class 'vicckb.model.Publication'>: 24963404,\n",
       "  <class 'vicckb.model.Publication'>: 25089220,\n",
       "  <class 'vicckb.model.Publication'>: 25096233,\n",
       "  <class 'vicckb.model.Publication'>: 25110411,\n",
       "  <class 'vicckb.model.Publication'>: 25130612,\n",
       "  <class 'vicckb.model.Publication'>: 25172762,\n",
       "  <class 'vicckb.model.Publication'>: 25179728,\n",
       "  <class 'vicckb.model.Publication'>: 25207766,\n",
       "  <class 'vicckb.model.Publication'>: 25231399,\n",
       "  <class 'vicckb.model.Publication'>: 25260694,\n",
       "  <class 'vicckb.model.Publication'>: 25264305,\n",
       "  <class 'vicckb.model.Publication'>: 25265492,\n",
       "  <class 'vicckb.model.Publication'>: 25265494,\n",
       "  <class 'vicckb.model.Publication'>: 25287822,\n",
       "  <class 'vicckb.model.Publication'>: 25287827,\n",
       "  <class 'vicckb.model.Publication'>: 25322323,\n",
       "  <class 'vicckb.model.Publication'>: 25351745,\n",
       "  <class 'vicckb.model.Publication'>: 25366685,\n",
       "  <class 'vicckb.model.Publication'>: 25366691,\n",
       "  <class 'vicckb.model.Publication'>: 25370473,\n",
       "  <class 'vicckb.model.Publication'>: 25398829,\n",
       "  <class 'vicckb.model.Publication'>: 25399551,\n",
       "  <class 'vicckb.model.Publication'>: 25409150,\n",
       "  <class 'vicckb.model.Publication'>: 25465127,\n",
       "  <class 'vicckb.model.Publication'>: 25466451,\n",
       "  <class 'vicckb.model.Publication'>: 25515960,\n",
       "  <class 'vicckb.model.Publication'>: 25521405,\n",
       "  <class 'vicckb.model.Publication'>: 25544636,\n",
       "  <class 'vicckb.model.Publication'>: 25589191,\n",
       "  <class 'vicckb.model.Publication'>: 25592632,\n",
       "  <class 'vicckb.model.Publication'>: 25641662,\n",
       "  <class 'vicckb.model.Publication'>: 25801412,\n",
       "  <class 'vicckb.model.Publication'>: 25877889,\n",
       "  <class 'vicckb.model.Publication'>: 25905001,\n",
       "  <class 'vicckb.model.Publication'>: 25923549,\n",
       "  <class 'vicckb.model.Publication'>: 25971938,\n",
       "  <class 'vicckb.model.Publication'>: 25971939,\n",
       "  <class 'vicckb.model.Publication'>: 26028255,\n",
       "  <class 'vicckb.model.Publication'>: 26051236,\n",
       "  <class 'vicckb.model.Publication'>: 26072686,\n",
       "  <class 'vicckb.model.Publication'>: 26200454,\n",
       "  <class 'vicckb.model.Publication'>: 26206867,\n",
       "  <class 'vicckb.model.Publication'>: 26215952,\n",
       "  <class 'vicckb.model.Publication'>: 26216294,\n",
       "  <class 'vicckb.model.Publication'>: 26286086,\n",
       "  <class 'vicckb.model.Publication'>: 26287849,\n",
       "  <class 'vicckb.model.Publication'>: 26314551,\n",
       "  <class 'vicckb.model.Publication'>: 26324360,\n",
       "  <class 'vicckb.model.Publication'>: 26324363,\n",
       "  <class 'vicckb.model.Publication'>: 26324739,\n",
       "  <class 'vicckb.model.Publication'>: 26343582,\n",
       "  <class 'vicckb.model.Publication'>: 26351323,\n",
       "  <class 'vicckb.model.Publication'>: 26455322,\n",
       "  <class 'vicckb.model.Publication'>: 26510020,\n",
       "  <class 'vicckb.model.Publication'>: 26540169,\n",
       "  <class 'vicckb.model.Publication'>: 26553750,\n",
       "  <class 'vicckb.model.Publication'>: 26566875,\n",
       "  <class 'vicckb.model.Publication'>: 26598747,\n",
       "  <class 'vicckb.model.Publication'>: 26603524,\n",
       "  <class 'vicckb.model.Publication'>: 26708155,\n",
       "  <class 'vicckb.model.Publication'>: 26729443,\n",
       "  <class 'vicckb.model.Publication'>: 26776917,\n",
       "  <class 'vicckb.model.Publication'>: 26831717,\n",
       "  <class 'vicckb.model.Publication'>: 26925841,\n",
       "  <class 'vicckb.model.Publication'>: 26936308,\n",
       "  <class 'vicckb.model.Publication'>: 26973324,\n",
       "  <class 'vicckb.model.Publication'>: 27021554,\n",
       "  <class 'vicckb.model.Publication'>: 27080216,\n",
       "  <class 'vicckb.model.Publication'>: 27216979,\n",
       "  <class 'vicckb.model.Publication'>: 27269946,\n",
       "  <class 'vicckb.model.Publication'>: 27279544,\n",
       "  <class 'vicckb.model.Publication'>: 27283860,\n",
       "  <class 'vicckb.model.Publication'>: 27292784,\n",
       "  <class 'vicckb.model.Publication'>: 27310333,\n",
       "  <class 'vicckb.model.Publication'>: 27462141,\n",
       "  <class 'vicckb.model.Publication'>: 27482884,\n",
       "  <class 'vicckb.model.Publication'>: 27672108,\n",
       "  <class 'vicckb.model.Publication'>: 27717299,\n",
       "  <class 'vicckb.model.Publication'>: 27836716,\n",
       "  <class 'vicckb.model.Publication'>: 27870574,\n",
       "  <class 'vicckb.model.Publication'>: 27908594,\n",
       "  <class 'vicckb.model.Publication'>: 27986707,\n",
       "  <class 'vicckb.model.Publication'>: 28077435,\n",
       "  <class 'vicckb.model.Publication'>: 28183697,\n",
       "  <class 'vicckb.model.Publication'>: 28223062,\n",
       "  <class 'vicckb.model.Publication'>: 28229583,\n",
       "  <class 'vicckb.model.Publication'>: 28423638,\n",
       "  <class 'vicckb.model.Publication'>: 28489509,\n",
       "  <class 'vicckb.model.Publication'>: 28578312,\n",
       "  <class 'vicckb.model.Publication'>: 28588020,\n",
       "  <class 'vicckb.model.Publication'>: 28783719},\n",
       " 'pmkb': {<class 'vicckb.model.Publication'>: 10416591,\n",
       "  <class 'vicckb.model.Publication'>: 10866302,\n",
       "  <class 'vicckb.model.Publication'>: 11074560,\n",
       "  <class 'vicckb.model.Publication'>: 11290608,\n",
       "  <class 'vicckb.model.Publication'>: 11506491,\n",
       "  <class 'vicckb.model.Publication'>: 12068308,\n",
       "  <class 'vicckb.model.Publication'>: 12070009,\n",
       "  <class 'vicckb.model.Publication'>: 12097271,\n",
       "  <class 'vicckb.model.Publication'>: 12481435,\n",
       "  <class 'vicckb.model.Publication'>: 12569358,\n",
       "  <class 'vicckb.model.Publication'>: 12660384,\n",
       "  <class 'vicckb.model.Publication'>: 12701114,\n",
       "  <class 'vicckb.model.Publication'>: 12824925,\n",
       "  <class 'vicckb.model.Publication'>: 12912937,\n",
       "  <class 'vicckb.model.Publication'>: 14670924,\n",
       "  <class 'vicckb.model.Publication'>: 14764528,\n",
       "  <class 'vicckb.model.Publication'>: 15035987,\n",
       "  <class 'vicckb.model.Publication'>: 15070706,\n",
       "  <class 'vicckb.model.Publication'>: 15246564,\n",
       "  <class 'vicckb.model.Publication'>: 15329413,\n",
       "  <class 'vicckb.model.Publication'>: 15331575,\n",
       "  <class 'vicckb.model.Publication'>: 15331929,\n",
       "  <class 'vicckb.model.Publication'>: 15472075,\n",
       "  <class 'vicckb.model.Publication'>: 15522316,\n",
       "  <class 'vicckb.model.Publication'>: 15608678,\n",
       "  <class 'vicckb.model.Publication'>: 15625347,\n",
       "  <class 'vicckb.model.Publication'>: 15659508,\n",
       "  <class 'vicckb.model.Publication'>: 15659725,\n",
       "  <class 'vicckb.model.Publication'>: 15696205,\n",
       "  <class 'vicckb.model.Publication'>: 15994075,\n",
       "  <class 'vicckb.model.Publication'>: 15994285,\n",
       "  <class 'vicckb.model.Publication'>: 16183119,\n",
       "  <class 'vicckb.model.Publication'>: 16397024,\n",
       "  <class 'vicckb.model.Publication'>: 16404744,\n",
       "  <class 'vicckb.model.Publication'>: 16449998,\n",
       "  <class 'vicckb.model.Publication'>: 16501605,\n",
       "  <class 'vicckb.model.Publication'>: 16573740,\n",
       "  <class 'vicckb.model.Publication'>: 16645167,\n",
       "  <class 'vicckb.model.Publication'>: 16741248,\n",
       "  <class 'vicckb.model.Publication'>: 16764926,\n",
       "  <class 'vicckb.model.Publication'>: 16773193,\n",
       "  <class 'vicckb.model.Publication'>: 16818618,\n",
       "  <class 'vicckb.model.Publication'>: 16834459,\n",
       "  <class 'vicckb.model.Publication'>: 16868251,\n",
       "  <class 'vicckb.model.Publication'>: 16908931,\n",
       "  <class 'vicckb.model.Publication'>: 16930767,\n",
       "  <class 'vicckb.model.Publication'>: 17056636,\n",
       "  <class 'vicckb.model.Publication'>: 17065430,\n",
       "  <class 'vicckb.model.Publication'>: 17150185,\n",
       "  <class 'vicckb.model.Publication'>: 17177598,\n",
       "  <class 'vicckb.model.Publication'>: 17200344,\n",
       "  <class 'vicckb.model.Publication'>: 17257127,\n",
       "  <class 'vicckb.model.Publication'>: 17363509,\n",
       "  <class 'vicckb.model.Publication'>: 17429853,\n",
       "  <class 'vicckb.model.Publication'>: 17529967,\n",
       "  <class 'vicckb.model.Publication'>: 17529973,\n",
       "  <class 'vicckb.model.Publication'>: 17599048,\n",
       "  <class 'vicckb.model.Publication'>: 17657213,\n",
       "  <class 'vicckb.model.Publication'>: 17724477,\n",
       "  <class 'vicckb.model.Publication'>: 18024407,\n",
       "  <class 'vicckb.model.Publication'>: 18199332,\n",
       "  <class 'vicckb.model.Publication'>: 18202412,\n",
       "  <class 'vicckb.model.Publication'>: 18316791,\n",
       "  <class 'vicckb.model.Publication'>: 18458038,\n",
       "  <class 'vicckb.model.Publication'>: 18508816,\n",
       "  <class 'vicckb.model.Publication'>: 18552176,\n",
       "  <class 'vicckb.model.Publication'>: 18757411,\n",
       "  <class 'vicckb.model.Publication'>: 18772890,\n",
       "  <class 'vicckb.model.Publication'>: 18927438,\n",
       "  <class 'vicckb.model.Publication'>: 18980976,\n",
       "  <class 'vicckb.model.Publication'>: 18992635,\n",
       "  <class 'vicckb.model.Publication'>: 19001320,\n",
       "  <class 'vicckb.model.Publication'>: 19041002,\n",
       "  <class 'vicckb.model.Publication'>: 19075190,\n",
       "  <class 'vicckb.model.Publication'>: 19194467,\n",
       "  <class 'vicckb.model.Publication'>: 19330652,\n",
       "  <class 'vicckb.model.Publication'>: 19366804,\n",
       "  <class 'vicckb.model.Publication'>: 19445024,\n",
       "  <class 'vicckb.model.Publication'>: 19624854,\n",
       "  <class 'vicckb.model.Publication'>: 19636422,\n",
       "  <class 'vicckb.model.Publication'>: 19657110,\n",
       "  <class 'vicckb.model.Publication'>: 20018760,\n",
       "  <class 'vicckb.model.Publication'>: 20102718,\n",
       "  <class 'vicckb.model.Publication'>: 20107228,\n",
       "  <class 'vicckb.model.Publication'>: 20141835,\n",
       "  <class 'vicckb.model.Publication'>: 20147967,\n",
       "  <class 'vicckb.model.Publication'>: 20210255,\n",
       "  <class 'vicckb.model.Publication'>: 20368538,\n",
       "  <class 'vicckb.model.Publication'>: 20368543,\n",
       "  <class 'vicckb.model.Publication'>: 20368795,\n",
       "  <class 'vicckb.model.Publication'>: 20376084,\n",
       "  <class 'vicckb.model.Publication'>: 20376086,\n",
       "  <class 'vicckb.model.Publication'>: 20410924,\n",
       "  <class 'vicckb.model.Publication'>: 20494930,\n",
       "  <class 'vicckb.model.Publication'>: 20508616,\n",
       "  <class 'vicckb.model.Publication'>: 20519626,\n",
       "  <class 'vicckb.model.Publication'>: 20567020,\n",
       "  <class 'vicckb.model.Publication'>: 20570890,\n",
       "  <class 'vicckb.model.Publication'>: 20685810,\n",
       "  <class 'vicckb.model.Publication'>: 20926450,\n",
       "  <class 'vicckb.model.Publication'>: 20949621,\n",
       "  <class 'vicckb.model.Publication'>: 20979473,\n",
       "  <class 'vicckb.model.Publication'>: 21030459,\n",
       "  <class 'vicckb.model.Publication'>: 21179087,\n",
       "  <class 'vicckb.model.Publication'>: 21205076,\n",
       "  <class 'vicckb.model.Publication'>: 21224473,\n",
       "  <class 'vicckb.model.Publication'>: 21297586,\n",
       "  <class 'vicckb.model.Publication'>: 21305640,\n",
       "  <class 'vicckb.model.Publication'>: 21371307,\n",
       "  <class 'vicckb.model.Publication'>: 21403829,\n",
       "  <class 'vicckb.model.Publication'>: 21436633,\n",
       "  <class 'vicckb.model.Publication'>: 21519346,\n",
       "  <class 'vicckb.model.Publication'>: 21526955,\n",
       "  <class 'vicckb.model.Publication'>: 21531810,\n",
       "  <class 'vicckb.model.Publication'>: 21573178,\n",
       "  <class 'vicckb.model.Publication'>: 21642962,\n",
       "  <class 'vicckb.model.Publication'>: 21674578,\n",
       "  <class 'vicckb.model.Publication'>: 21690468,\n",
       "  <class 'vicckb.model.Publication'>: 21714648,\n",
       "  <class 'vicckb.model.Publication'>: 21775669,\n",
       "  <class 'vicckb.model.Publication'>: 21798893,\n",
       "  <class 'vicckb.model.Publication'>: 21829767,\n",
       "  <class 'vicckb.model.Publication'>: 21886174,\n",
       "  <class 'vicckb.model.Publication'>: 21901162,\n",
       "  <class 'vicckb.model.Publication'>: 21909114,\n",
       "  <class 'vicckb.model.Publication'>: 21970370,\n",
       "  <class 'vicckb.model.Publication'>: 2199192,\n",
       "  <class 'vicckb.model.Publication'>: 21991928,\n",
       "  <class 'vicckb.model.Publication'>: 21995386,\n",
       "  <class 'vicckb.model.Publication'>: 22026926,\n",
       "  <class 'vicckb.model.Publication'>: 22046346,\n",
       "  <class 'vicckb.model.Publication'>: 22064353,\n",
       "  <class 'vicckb.model.Publication'>: 22064355,\n",
       "  <class 'vicckb.model.Publication'>: 22071650,\n",
       "  <class 'vicckb.model.Publication'>: 22150006,\n",
       "  <class 'vicckb.model.Publication'>: 22157295,\n",
       "  <class 'vicckb.model.Publication'>: 22158538,\n",
       "  <class 'vicckb.model.Publication'>: 22180306,\n",
       "  <class 'vicckb.model.Publication'>: 22190593,\n",
       "  <class 'vicckb.model.Publication'>: 22200085,\n",
       "  <class 'vicckb.model.Publication'>: 22230299,\n",
       "  <class 'vicckb.model.Publication'>: 22261446,\n",
       "  <class 'vicckb.model.Publication'>: 22263058,\n",
       "  <class 'vicckb.model.Publication'>: 22266870,\n",
       "  <class 'vicckb.model.Publication'>: 22273505,\n",
       "  <class 'vicckb.model.Publication'>: 22277784,\n",
       "  <class 'vicckb.model.Publication'>: 22301675,\n",
       "  <class 'vicckb.model.Publication'>: 22343920,\n",
       "  <class 'vicckb.model.Publication'>: 22355676,\n",
       "  <class 'vicckb.model.Publication'>: 22389253,\n",
       "  <class 'vicckb.model.Publication'>: 22417203,\n",
       "  <class 'vicckb.model.Publication'>: 22610277,\n",
       "  <class 'vicckb.model.Publication'>: 22639828,\n",
       "  <class 'vicckb.model.Publication'>: 22649091,\n",
       "  <class 'vicckb.model.Publication'>: 22675565,\n",
       "  <class 'vicckb.model.Publication'>: 22722829,\n",
       "  <class 'vicckb.model.Publication'>: 22761469,\n",
       "  <class 'vicckb.model.Publication'>: 22797155,\n",
       "  <class 'vicckb.model.Publication'>: 22798288,\n",
       "  <class 'vicckb.model.Publication'>: 22810696,\n",
       "  <class 'vicckb.model.Publication'>: 22817889,\n",
       "  <class 'vicckb.model.Publication'>: 22820256,\n",
       "  <class 'vicckb.model.Publication'>: 22848739,\n",
       "  <class 'vicckb.model.Publication'>: 22869151,\n",
       "  <class 'vicckb.model.Publication'>: 22875611,\n",
       "  <class 'vicckb.model.Publication'>: 22891276,\n",
       "  <class 'vicckb.model.Publication'>: 22895193,\n",
       "  <class 'vicckb.model.Publication'>: 22931316,\n",
       "  <class 'vicckb.model.Publication'>: 22960745,\n",
       "  <class 'vicckb.model.Publication'>: 22980975,\n",
       "  <class 'vicckb.model.Publication'>: 22982663,\n",
       "  <class 'vicckb.model.Publication'>: 23009221,\n",
       "  <class 'vicckb.model.Publication'>: 23053179,\n",
       "  <class 'vicckb.model.Publication'>: 23088640,\n",
       "  <class 'vicckb.model.Publication'>: 23187834,\n",
       "  <class 'vicckb.model.Publication'>: 23215570,\n",
       "  <class 'vicckb.model.Publication'>: 23220880,\n",
       "  <class 'vicckb.model.Publication'>: 23273605,\n",
       "  <class 'vicckb.model.Publication'>: 23320047,\n",
       "  <class 'vicckb.model.Publication'>: 23335386,\n",
       "  <class 'vicckb.model.Publication'>: 23354304,\n",
       "  <class 'vicckb.model.Publication'>: 23358982,\n",
       "  <class 'vicckb.model.Publication'>: 23359050,\n",
       "  <class 'vicckb.model.Publication'>: 23371856,\n",
       "  <class 'vicckb.model.Publication'>: 23415641,\n",
       "  <class 'vicckb.model.Publication'>: 23430109,\n",
       "  <class 'vicckb.model.Publication'>: 23443460,\n",
       "  <class 'vicckb.model.Publication'>: 23490077,\n",
       "  <class 'vicckb.model.Publication'>: 23512829,\n",
       "  <class 'vicckb.model.Publication'>: 23527311,\n",
       "  <class 'vicckb.model.Publication'>: 23532369,\n",
       "  <class 'vicckb.model.Publication'>: 23560587,\n",
       "  <class 'vicckb.model.Publication'>: 23591524,\n",
       "  <class 'vicckb.model.Publication'>: 23616356,\n",
       "  <class 'vicckb.model.Publication'>: 23619563,\n",
       "  <class 'vicckb.model.Publication'>: 23630074,\n",
       "  <class 'vicckb.model.Publication'>: 23630663,\n",
       "  <class 'vicckb.model.Publication'>: 23645565,\n",
       "  <class 'vicckb.model.Publication'>: 23662017,\n",
       "  <class 'vicckb.model.Publication'>: 23670175,\n",
       "  <class 'vicckb.model.Publication'>: 23680140,\n",
       "  <class 'vicckb.model.Publication'>: 23690417,\n",
       "  <class 'vicckb.model.Publication'>: 23700467,\n",
       "  <class 'vicckb.model.Publication'>: 23715574,\n",
       "  <class 'vicckb.model.Publication'>: 23752188,\n",
       "  <class 'vicckb.model.Publication'>: 23770823,\n",
       "  <class 'vicckb.model.Publication'>: 23860447,\n",
       "  <class 'vicckb.model.Publication'>: 23861105,\n",
       "  <class 'vicckb.model.Publication'>: 23867056,\n",
       "  <class 'vicckb.model.Publication'>: 23875803,\n",
       "  <class 'vicckb.model.Publication'>: 23902722,\n",
       "  <class 'vicckb.model.Publication'>: 23929217,\n",
       "  <class 'vicckb.model.Publication'>: 23954893,\n",
       "  <class 'vicckb.model.Publication'>: 23999441,\n",
       "  <class 'vicckb.model.Publication'>: 24024839,\n",
       "  <class 'vicckb.model.Publication'>: 24057647,\n",
       "  <class 'vicckb.model.Publication'>: 24061512,\n",
       "  <class 'vicckb.model.Publication'>: 24065765,\n",
       "  <class 'vicckb.model.Publication'>: 24105326,\n",
       "  <class 'vicckb.model.Publication'>: 24113472,\n",
       "  <class 'vicckb.model.Publication'>: 24120142,\n",
       "  <class 'vicckb.model.Publication'>: 24127596,\n",
       "  <class 'vicckb.model.Publication'>: 24131888,\n",
       "  <class 'vicckb.model.Publication'>: 24164801,\n",
       "  <class 'vicckb.model.Publication'>: 24166518,\n",
       "  <class 'vicckb.model.Publication'>: 24185509,\n",
       "  <class 'vicckb.model.Publication'>: 24192927,\n",
       "  <class 'vicckb.model.Publication'>: 24196786,\n",
       "  <class 'vicckb.model.Publication'>: 24220272,\n",
       "  <class 'vicckb.model.Publication'>: 24224040,\n",
       "  <class 'vicckb.model.Publication'>: 24224156,\n",
       "  <class 'vicckb.model.Publication'>: 24226631,\n",
       "  <class 'vicckb.model.Publication'>: 24274147,\n",
       "  <class 'vicckb.model.Publication'>: 24281161,\n",
       "  <class 'vicckb.model.Publication'>: 24325356,\n",
       "  <class 'vicckb.model.Publication'>: 24325359,\n",
       "  <class 'vicckb.model.Publication'>: 24331719,\n",
       "  <class 'vicckb.model.Publication'>: 24359244,\n",
       "  <class 'vicckb.model.Publication'>: 24382642,\n",
       "  <class 'vicckb.model.Publication'>: 24402162,\n",
       "  <class 'vicckb.model.Publication'>: 24416237,\n",
       "  <class 'vicckb.model.Publication'>: 24419426,\n",
       "  <class 'vicckb.model.Publication'>: 24428489,\n",
       "  <class 'vicckb.model.Publication'>: 24429522,\n",
       "  <class 'vicckb.model.Publication'>: 24440717,\n",
       "  <class 'vicckb.model.Publication'>: 24443360,\n",
       "  <class 'vicckb.model.Publication'>: 24444466,\n",
       "  <class 'vicckb.model.Publication'>: 24487413,\n",
       "  <class 'vicckb.model.Publication'>: 24495477,\n",
       "  <class 'vicckb.model.Publication'>: 24496303,\n",
       "  <class 'vicckb.model.Publication'>: 24525507,\n",
       "  <class 'vicckb.model.Publication'>: 24549259,\n",
       "  <class 'vicckb.model.Publication'>: 24569456,\n",
       "  <class 'vicckb.model.Publication'>: 24652989,\n",
       "  <class 'vicckb.model.Publication'>: 24656771,\n",
       "  <class 'vicckb.model.Publication'>: 24668493,\n",
       "  <class 'vicckb.model.Publication'>: 24675041,\n",
       "  <class 'vicckb.model.Publication'>: 24682858,\n",
       "  <class 'vicckb.model.Publication'>: 24699305,\n",
       "  <class 'vicckb.model.Publication'>: 24715106,\n",
       "  <class 'vicckb.model.Publication'>: 24736066,\n",
       "  <class 'vicckb.model.Publication'>: 24736079,\n",
       "  <class 'vicckb.model.Publication'>: 24736080,\n",
       "  <class 'vicckb.model.Publication'>: 24736087,\n",
       "  <class 'vicckb.model.Publication'>: 24760710,\n",
       "  <class 'vicckb.model.Publication'>: 24767105,\n",
       "  <class 'vicckb.model.Publication'>: 24782504,\n",
       "  <class 'vicckb.model.Publication'>: 24784840,\n",
       "  <class 'vicckb.model.Publication'>: 24791854,\n",
       "  <class 'vicckb.model.Publication'>: 24857785,\n",
       "  <class 'vicckb.model.Publication'>: 24938521,\n",
       "  <class 'vicckb.model.Publication'>: 24943832,\n",
       "  <class 'vicckb.model.Publication'>: 24951114,\n",
       "  <class 'vicckb.model.Publication'>: 25060518,\n",
       "  <class 'vicckb.model.Publication'>: 25072932,\n",
       "  <class 'vicckb.model.Publication'>: 25079317,\n",
       "  <class 'vicckb.model.Publication'>: 25079552,\n",
       "  <class 'vicckb.model.Publication'>: 25132659,\n",
       "  <class 'vicckb.model.Publication'>: 25150293,\n",
       "  <class 'vicckb.model.Publication'>: 25152623,\n",
       "  <class 'vicckb.model.Publication'>: 25169980,\n",
       "  <class 'vicckb.model.Publication'>: 25279299,\n",
       "  <class 'vicckb.model.Publication'>: 25293556,\n",
       "  <class 'vicckb.model.Publication'>: 25341748,\n",
       "  <class 'vicckb.model.Publication'>: 25417114,\n",
       "  <class 'vicckb.model.Publication'>: 25422487,\n",
       "  <class 'vicckb.model.Publication'>: 25453753,\n",
       "  <class 'vicckb.model.Publication'>: 2549064,\n",
       "  <class 'vicckb.model.Publication'>: 25505835,\n",
       "  <class 'vicckb.model.Publication'>: 25521405,\n",
       "  <class 'vicckb.model.Publication'>: 25536104,\n",
       "  <class 'vicckb.model.Publication'>: 25589191,\n",
       "  <class 'vicckb.model.Publication'>: 25631445,\n",
       "  <class 'vicckb.model.Publication'>: 25656048,\n",
       "  <class 'vicckb.model.Publication'>: 25664944,\n",
       "  <class 'vicckb.model.Publication'>: 25695224,\n",
       "  <class 'vicckb.model.Publication'>: 25853747,\n",
       "  <class 'vicckb.model.Publication'>: 25855536,\n",
       "  <class 'vicckb.model.Publication'>: 25964588,\n",
       "  <class 'vicckb.model.Publication'>: 26014096,\n",
       "  <class 'vicckb.model.Publication'>: 26018876,\n",
       "  <class 'vicckb.model.Publication'>: 26079547,\n",
       "  <class 'vicckb.model.Publication'>: 26101090,\n",
       "  <class 'vicckb.model.Publication'>: 26115708,\n",
       "  <class 'vicckb.model.Publication'>: 26206867,\n",
       "  <class 'vicckb.model.Publication'>: 26210223,\n",
       "  <class 'vicckb.model.Publication'>: 26234722,\n",
       "  <class 'vicckb.model.Publication'>: 26276366,\n",
       "  <class 'vicckb.model.Publication'>: 26284123,\n",
       "  <class 'vicckb.model.Publication'>: 26315110,\n",
       "  <class 'vicckb.model.Publication'>: 26320869,\n",
       "  <class 'vicckb.model.Publication'>: 26339441,\n",
       "  <class 'vicckb.model.Publication'>: 26343386,\n",
       "  <class 'vicckb.model.Publication'>: 26354527,\n",
       "  <class 'vicckb.model.Publication'>: 26392535,\n",
       "  <class 'vicckb.model.Publication'>: 26477306,\n",
       "  <class 'vicckb.model.Publication'>: 26498038,\n",
       "  <class 'vicckb.model.Publication'>: 26498363,\n",
       "  <class 'vicckb.model.Publication'>: 26503946,\n",
       "  <class 'vicckb.model.Publication'>: 26536169,\n",
       "  <class 'vicckb.model.Publication'>: 26720671,\n",
       "  <class 'vicckb.model.Publication'>: 26778714,\n",
       "  <class 'vicckb.model.Publication'>: 26791928,\n",
       "  <class 'vicckb.model.Publication'>: 26813233,\n",
       "  <class 'vicckb.model.Publication'>: 26870223,\n",
       "  <class 'vicckb.model.Publication'>: 26892442,\n",
       "  <class 'vicckb.model.Publication'>: 26909576,\n",
       "  <class 'vicckb.model.Publication'>: 27174785,\n",
       "  <class 'vicckb.model.Publication'>: 27219019,\n",
       "  <class 'vicckb.model.Publication'>: 27893285,\n",
       "  <class 'vicckb.model.Publication'>: 7479840,\n",
       "  <class 'vicckb.model.Publication'>: 7512180,\n",
       "  <class 'vicckb.model.Publication'>: 7691885,\n",
       "  <class 'vicckb.model.Publication'>: 8668202,\n",
       "  <class 'vicckb.model.Publication'>: 8946930,\n",
       "  <class 'vicckb.model.Publication'>: 9324277,\n",
       "  <class 'vicckb.model.Publication'>: 9467011,\n",
       "  <class 'vicckb.model.Publication'>: 9714703,\n",
       "  <class 'vicckb.model.Publication'>: 9724771,\n",
       "  <class 'vicckb.model.Publication'>: 9737679}}"
      ]
     },
     "execution_count": 40,
     "metadata": {},
     "output_type": "execute_result"
    },
    {
     "data": {
      "image/png": "[encoded data removed]",
      "text/plain": [
       "<matplotlib.figure.Figure at 0x13fe2e668>"
      ]
     },
     "metadata": {},
     "output_type": "display_data"
    }
   ],
   "source": [
    "x = core_vdb.plot_element_by_source('publications', min_bound=4)\n",
    "f = x['figure']\n",
    "# f.savefig('out/publications.pdf')\n",
    "x['input_data']"
   ]
  },
  {
   "cell_type": "code",
   "execution_count": 29,
   "metadata": {
    "collapsed": false
   },
   "outputs": [
    {
     "name": "stdout",
     "output_type": "stream",
     "text": [
      "molecularmatch: 312 resource-specific publications\n",
      "civic: 1106 resource-specific publications\n",
      "pmkb: 272 resource-specific publications\n",
      "oncokb: 211 resource-specific publications\n",
      "jax: 1311 resource-specific publications\n",
      "cgi: 484 resource-specific publications\n",
      "3696 (84.89%) total resource-specific publications\n"
     ]
    }
   ],
   "source": [
    "# Publications uniquely cited\n",
    "data = x['input_data']\n",
    "total = 0\n",
    "for source in data:\n",
    "    publications_from_elsewhere = set()\n",
    "    for source2 in data:\n",
    "        if source == source2:\n",
    "            continue\n",
    "        publications_from_elsewhere.update(data[source2])\n",
    "    unique = data[source] - publications_from_elsewhere\n",
    "    print(\"{}: {} resource-specific publications\".format(source, len(unique)))\n",
    "    total += len(unique)\n",
    "print(\"{} ({:.2%}) total resource-specific publications\".format(total, total / len(set.union(*(data.values())))))"
   ]
  },
  {
   "cell_type": "code",
   "execution_count": 30,
   "metadata": {
    "collapsed": false
   },
   "outputs": [
    {
     "name": "stdout",
     "output_type": "stream",
     "text": [
      "3696 / 4354 (84.89%) of publications are represented in only 1 resource.\n",
      "203 / 4354 (4.66%) of publications are represented in the majority of (3) resources.\n",
      "1 / 4354 (0.02%) of publications are represented across all resources.\n"
     ]
    },
    {
     "data": {
      "text/plain": [
       "{<class 'vicckb.model.Publication'>: 23220880}"
      ]
     },
     "execution_count": 30,
     "metadata": {},
     "output_type": "execute_result"
    }
   ],
   "source": [
    "x = core_vdb.element_by_source_stats('publications')\n",
    "x['ubiquitous'] # Bose et al. Cancer Discovery 2013"
   ]
  },
  {
   "cell_type": "markdown",
   "metadata": {},
   "source": [
    "### PMIDs"
   ]
  },
  {
   "cell_type": "code",
   "execution_count": 31,
   "metadata": {
    "collapsed": false
   },
   "outputs": [
    {
     "data": {
      "image/png": "[encoded data removed]",
      "text/plain": [
       "<matplotlib.figure.Figure at 0x136197128>"
      ]
     },
     "metadata": {},
     "output_type": "display_data"
    }
   ],
   "source": [
    "x = core_vdb.plot_element_by_source('publications', lambda x: x.pmid, min_bound=3)\n",
    "# f = x['figure']\n",
    "# f.savefig('out/pmids.pdf')"
   ]
  },
  {
   "cell_type": "code",
   "execution_count": 32,
   "metadata": {
    "collapsed": false
   },
   "outputs": [
    {
     "name": "stdout",
     "output_type": "stream",
     "text": [
      "3146 / 3800 (82.79%) of publications are represented in only 1 resource.\n",
      "203 / 3800 (5.34%) of publications are represented in the majority of (3) resources.\n",
      "1 / 3800 (0.03%) of publications are represented across all resources.\n"
     ]
    },
    {
     "data": {
      "text/plain": [
       "{<class 'vicckb.model.Publication'>: 23220880}"
      ]
     },
     "execution_count": 32,
     "metadata": {},
     "output_type": "execute_result"
    }
   ],
   "source": [
    "x = core_vdb.element_by_source_stats('publications', lambda x: x.pmid)\n",
    "x['ubiquitous'] # Bose et al. Cancer Discovery 2013"
   ]
  },
  {
   "cell_type": "markdown",
   "metadata": {},
   "source": [
    "## Genes"
   ]
  },
  {
   "cell_type": "code",
   "execution_count": 33,
   "metadata": {
    "collapsed": false
   },
   "outputs": [
    {
     "name": "stdout",
     "output_type": "stream",
     "text": [
      "cgi: 1 (0.1% of superset)\n",
      "molecularmatch: 5 (0.2% of superset)\n",
      "oncokb: 2 (0.8% of superset)\n",
      "Total: 8 (0.1% of superset)\n"
     ]
    },
    {
     "name": "stderr",
     "output_type": "stream",
     "text": [
      "/Users/awagner/Workspace/git/vicckb/vicckb/model.py:248: UserWarning: Ambiguous gene symbol MLL2 in assertion 235677252030682\n",
      "  warn('Ambiguous gene symbol {} in assertion {}'.format(g, self))\n"
     ]
    }
   ],
   "source": [
    "no_genes = core_vdb.select(lambda x: not x.genes)\n",
    "no_genes.report_groups(core_vdb)"
   ]
  },
  {
   "cell_type": "code",
   "execution_count": 34,
   "metadata": {
    "collapsed": false
   },
   "outputs": [
    {
     "data": {
      "image/png": "[encoded data removed]",
      "text/plain": [
       "<matplotlib.figure.Figure at 0x13acc9550>"
      ]
     },
     "metadata": {},
     "output_type": "display_data"
    }
   ],
   "source": [
    "with_genes = core_vdb - no_genes\n",
    "x = with_genes.plot_element_by_source('genes')\n",
    "# f = x['figure']\n",
    "# f.savefig('out/genes.pdf')"
   ]
  },
  {
   "cell_type": "code",
   "execution_count": 35,
   "metadata": {
    "collapsed": false
   },
   "outputs": [
    {
     "name": "stdout",
     "output_type": "stream",
     "text": [
      "253 / 415 (60.96%) of genes are represented in only 1 resource.\n",
      "97 / 415 (23.37%) of genes are represented in the majority of (3) resources.\n",
      "16 / 415 (3.86%) of genes are represented across all resources.\n"
     ]
    },
    {
     "data": {
      "text/plain": [
       "{<class 'vicckb.model.Gene'>: EGFR,\n",
       " <class 'vicckb.model.Gene'>: ERBB2,\n",
       " <class 'vicckb.model.Gene'>: FGFR3,\n",
       " <class 'vicckb.model.Gene'>: FGFR2,\n",
       " <class 'vicckb.model.Gene'>: FLT3,\n",
       " <class 'vicckb.model.Gene'>: ALK,\n",
       " <class 'vicckb.model.Gene'>: ABL1,\n",
       " <class 'vicckb.model.Gene'>: KIT,\n",
       " <class 'vicckb.model.Gene'>: KRAS,\n",
       " <class 'vicckb.model.Gene'>: MET,\n",
       " <class 'vicckb.model.Gene'>: NOTCH1,\n",
       " <class 'vicckb.model.Gene'>: NRAS,\n",
       " <class 'vicckb.model.Gene'>: PDGFRA,\n",
       " <class 'vicckb.model.Gene'>: PIK3CA,\n",
       " <class 'vicckb.model.Gene'>: PTEN,\n",
       " <class 'vicckb.model.Gene'>: BRAF}"
      ]
     },
     "execution_count": 35,
     "metadata": {},
     "output_type": "execute_result"
    }
   ],
   "source": [
    "x = with_genes.element_by_source_stats('genes')\n",
    "x['ubiquitous']"
   ]
  },
  {
   "cell_type": "markdown",
   "metadata": {
    "collapsed": true
   },
   "source": [
    "## Features"
   ]
  },
  {
   "cell_type": "code",
   "execution_count": 36,
   "metadata": {
    "collapsed": false
   },
   "outputs": [
    {
     "data": {
      "image/png": "[encoded data removed]",
      "text/plain": [
       "<matplotlib.figure.Figure at 0x13b2fe1d0>"
      ]
     },
     "metadata": {},
     "output_type": "display_data"
    }
   ],
   "source": [
    "x = core_vdb.plot_element_by_source('features', min_bound=5)\n",
    "# f = x['figure']\n",
    "# f.savefig(str(FIGPATH / 'misc_figures' / 'feature_upset.pdf'))"
   ]
  },
  {
   "cell_type": "code",
   "execution_count": 37,
   "metadata": {
    "collapsed": false
   },
   "outputs": [
    {
     "name": "stdout",
     "output_type": "stream",
     "text": [
      "2646 / 3439 (76.94%) of features are represented in only 1 resource.\n",
      "279 / 3439 (8.11%) of features are represented in the majority of (3) resources.\n",
      "7 / 3439 (0.20%) of features are represented across all resources.\n"
     ]
    }
   ],
   "source": [
    "x = core_vdb.element_by_source_stats('features')"
   ]
  },
  {
   "cell_type": "code",
   "execution_count": 38,
   "metadata": {
    "collapsed": false
   },
   "outputs": [
    {
     "data": {
      "text/plain": [
       "[<class 'vicckb.model.GenomicFeature'>: GRCh37:17:37880220:37880220:ERBB2 L755S,\n",
       " <class 'vicckb.model.GenomicFeature'>: GRCh37:7:55249071:55249071:EGFR T790M,\n",
       " <class 'vicckb.model.GenomicFeature'>: GRCh37:7:55249005:55249005:EGFR S768I,\n",
       " <class 'vicckb.model.GenomicFeature'>: GRCh37:17:37881332:37881332:ERBB2 V842I,\n",
       " <class 'vicckb.model.GenomicFeature'>: GRCh37:4:55152093:55152093:PDGFRA D842V,\n",
       " <class 'vicckb.model.GenomicFeature'>: GRCh37:7:55259515:55259515:EGFR L858R,\n",
       " <class 'vicckb.model.GenomicFeature'>: GRCh37:4:55594258:55594258:KIT V654A]"
      ]
     },
     "execution_count": 38,
     "metadata": {},
     "output_type": "execute_result"
    }
   ],
   "source": [
    "ubiquitous_features = list(x['ubiquitous'])\n",
    "ubiquitous_features"
   ]
  },
  {
   "cell_type": "markdown",
   "metadata": {},
   "source": [
    "### Tier 1 variants\n"
   ]
  },
  {
   "cell_type": "code",
   "execution_count": 40,
   "metadata": {
    "collapsed": false
   },
   "outputs": [
    {
     "name": "stdout",
     "output_type": "stream",
     "text": [
      "236\n",
      "1499\n"
     ]
    }
   ],
   "source": [
    "tier1 = core_vdb.select(lambda x: x.evidence_level in ['A', 'B'])\n",
    "genes = set()\n",
    "features = set()\n",
    "for a in tier1:\n",
    "    genes.update(a.genes)\n",
    "    features.update(a.features)\n",
    "print(len(genes))\n",
    "print(len(features))"
   ]
  },
  {
   "cell_type": "markdown",
   "metadata": {},
   "source": [
    "### Hierarchical search\n",
    "Existing method is to find an exact match of any features for an association. Below we demonstrate gains through hierarchical search of GenomicFeatures, a core result of this effort."
   ]
  },
  {
   "cell_type": "code",
   "execution_count": 41,
   "metadata": {
    "collapsed": false
   },
   "outputs": [
    {
     "data": {
      "text/plain": [
       "26"
      ]
     },
     "execution_count": 41,
     "metadata": {},
     "output_type": "execute_result"
    }
   ],
   "source": [
    "hits = core_vdb.search_by_feature(chromosome=7, start=140453136, end=140453136, reference_name='GRCh37')\n",
    "\n",
    "v600k = [x['best_match']['p'] for x in hits if x['best_match']['feature'].name.endswith('V600K')]\n",
    "len(v600k)"
   ]
  },
  {
   "cell_type": "code",
   "execution_count": 42,
   "metadata": {
    "collapsed": false
   },
   "outputs": [
    {
     "data": {
      "text/plain": [
       "3439"
      ]
     },
     "execution_count": 42,
     "metadata": {},
     "output_type": "execute_result"
    }
   ],
   "source": [
    "unique_features = set()\n",
    "x = [x.features for x in core_vdb]\n",
    "for fset in x:\n",
    "    unique_features.update(fset)\n",
    "unique_features = list(unique_features)\n",
    "len(unique_features)"
   ]
  },
  {
   "cell_type": "code",
   "execution_count": 43,
   "metadata": {
    "collapsed": false
   },
   "outputs": [],
   "source": [
    "# This is a computationally expensive operation (~1 minute for the 2800 searches). Could be sped up through indexed searching.\n",
    "\n",
    "# feature_hits = dict()\n",
    "# for feature in unique_features:\n",
    "#     feature_hits[feature] = core_vdb.search_by_feature(genomic_feature=feature)\n",
    "\n",
    "# New method\n",
    "\n",
    "feature_hits = core_vdb.search_by_features(genomic_features=unique_features)\n"
   ]
  },
  {
   "cell_type": "code",
   "execution_count": 44,
   "metadata": {
    "collapsed": false
   },
   "outputs": [
    {
     "data": {
      "text/plain": [
       "Counter({'exact': 21499,\n",
       "         'focal': 66242,\n",
       "         'positional': 34591,\n",
       "         'regional': 288441})"
      ]
     },
     "execution_count": 44,
     "metadata": {},
     "output_type": "execute_result"
    }
   ],
   "source": [
    "ranking = viccdb.ViccDb.MATCH_RANKING\n",
    "hits_by_type = Counter()\n",
    "sources_by_type = defaultdict(Counter)\n",
    "for match_type in ranking:\n",
    "    typed_hits = [x for x in feature_hits if ranking.index(x['best_match']['type']) <= ranking.index(match_type)]\n",
    "    hits_by_type[match_type] = len(typed_hits)\n",
    "    typed_associations_by_query = defaultdict(set)\n",
    "    for hit in typed_hits:\n",
    "        typed_associations_by_query[hit['query']].add(hit['association'])\n",
    "    for associations in typed_associations_by_query.values():\n",
    "        sources = {association.source for association in associations}\n",
    "        sources_by_type[len(sources)][match_type] += 1\n",
    "hits_by_type"
   ]
  },
  {
   "cell_type": "code",
   "execution_count": 45,
   "metadata": {
    "collapsed": false
   },
   "outputs": [
    {
     "data": {
      "text/plain": [
       "defaultdict(collections.Counter,\n",
       "            {1: Counter({'exact': 2387,\n",
       "                      'focal': 2096,\n",
       "                      'positional': 2381,\n",
       "                      'regional': 493}),\n",
       "             2: Counter({'exact': 461,\n",
       "                      'focal': 687,\n",
       "                      'positional': 610,\n",
       "                      'regional': 438}),\n",
       "             3: Counter({'exact': 153,\n",
       "                      'focal': 302,\n",
       "                      'positional': 274,\n",
       "                      'regional': 757}),\n",
       "             4: Counter({'exact': 55,\n",
       "                      'focal': 164,\n",
       "                      'positional': 110,\n",
       "                      'regional': 370}),\n",
       "             5: Counter({'exact': 20,\n",
       "                      'focal': 115,\n",
       "                      'positional': 49,\n",
       "                      'regional': 928}),\n",
       "             6: Counter({'exact': 7,\n",
       "                      'focal': 75,\n",
       "                      'positional': 15,\n",
       "                      'regional': 453})})"
      ]
     },
     "execution_count": 45,
     "metadata": {},
     "output_type": "execute_result"
    }
   ],
   "source": [
    "sources_by_type"
   ]
  },
  {
   "cell_type": "code",
   "execution_count": 46,
   "metadata": {
    "collapsed": false
   },
   "outputs": [
    {
     "data": {
      "image/png": "[encoded data removed]",
      "text/plain": [
       "<matplotlib.figure.Figure at 0x1436ab5f8>"
      ]
     },
     "metadata": {},
     "output_type": "display_data"
    }
   ],
   "source": [
    "fig, ax = plt.subplots()\n",
    "\n",
    "source_counts = sorted(sources_by_type)\n",
    "groups = viccdb.ViccDb.MATCH_RANKING\n",
    "width = 0.15\n",
    "plot_elements = list()\n",
    "ind = np.arange(len(groups))\n",
    "for i, source_count in enumerate(source_counts):\n",
    "    type_counts = sources_by_type[source_count]\n",
    "    x = [type_counts[k] for k in groups]\n",
    "    p = ax.bar(ind + width*(i-2.5), x, width, label=source_count)\n",
    "    plot_elements.append(p)\n",
    "ax.set_xticks(ind)\n",
    "ax.set_xticklabels(groups)\n",
    "handles, labels = ax.get_legend_handles_labels()\n",
    "ax.legend(handles, labels, title='Sources')\n",
    "plt.ylabel('Queries')\n",
    "plt.show()\n",
    "fig.savefig('out/search_performance.pdf', format='pdf')\n",
    "\n",
    "# Something is wrong here. Expected at least 7 positional queries to hit 6 resources."
   ]
  },
  {
   "cell_type": "code",
   "execution_count": 47,
   "metadata": {
    "collapsed": false
   },
   "outputs": [
    {
     "data": {
      "text/plain": [
       "3439"
      ]
     },
     "execution_count": 47,
     "metadata": {},
     "output_type": "execute_result"
    }
   ],
   "source": [
    "# feature_hits = core_vdb.search_by_features(genomic_features=ubiquitous_features)\n",
    "q = {hit['query'] for hit in feature_hits}\n",
    "len(q)"
   ]
  },
  {
   "cell_type": "code",
   "execution_count": 48,
   "metadata": {
    "collapsed": false
   },
   "outputs": [
    {
     "data": {
      "text/plain": [
       "Counter({3: 92,\n",
       "         1: 2520,\n",
       "         8: 5,\n",
       "         5: 6,\n",
       "         '100+': 506,\n",
       "         '10-99': 107,\n",
       "         2: 190,\n",
       "         4: 7,\n",
       "         6: 3,\n",
       "         7: 2,\n",
       "         9: 1})"
      ]
     },
     "execution_count": 48,
     "metadata": {},
     "output_type": "execute_result"
    }
   ],
   "source": [
    "c = Counter()\n",
    "for f in unique_features:\n",
    "    if len(f) > 9 and len(f) < 100:\n",
    "        l = '10-99'\n",
    "    elif len(f) >= 100:\n",
    "        l = '100+'\n",
    "    else:\n",
    "        l = len(f)\n",
    "    c[l] += 1\n",
    "c"
   ]
  },
  {
   "cell_type": "markdown",
   "metadata": {},
   "source": [
    "### Sequence Ontology"
   ]
  },
  {
   "cell_type": "code",
   "execution_count": 49,
   "metadata": {
    "collapsed": true
   },
   "outputs": [],
   "source": [
    "count = Counter()\n",
    "for association in core_vdb:\n",
    "    for feature in association.features:\n",
    "        count[feature.so.get('name', 'Uncategorized')] += 1"
   ]
  },
  {
   "cell_type": "code",
   "execution_count": 50,
   "metadata": {
    "collapsed": false
   },
   "outputs": [
    {
     "data": {
      "text/plain": [
       "[('substitution', 10176),\n",
       " ('Uncategorized', 6898),\n",
       " ('missense_variant', 2926),\n",
       " ('fusion', 2071),\n",
       " ('stop_gained', 1214),\n",
       " ('feature_amplification', 555),\n",
       " ('wild_type', 391),\n",
       " ('deletion', 264),\n",
       " ('loss_of_function_variant', 242),\n",
       " ('copy_number_loss', 207)]"
      ]
     },
     "execution_count": 50,
     "metadata": {},
     "output_type": "execute_result"
    }
   ],
   "source": [
    "count.most_common(10)"
   ]
  },
  {
   "cell_type": "code",
   "execution_count": 51,
   "metadata": {
    "collapsed": false
   },
   "outputs": [
    {
     "data": {
      "text/plain": [
       "0.30977572461068476"
      ]
     },
     "execution_count": 51,
     "metadata": {},
     "output_type": "execute_result"
    }
   ],
   "source": [
    "(5052 + 3263) / sum(count.values())"
   ]
  },
  {
   "cell_type": "code",
   "execution_count": 52,
   "metadata": {
    "collapsed": false
   },
   "outputs": [
    {
     "name": "stdout",
     "output_type": "stream",
     "text": [
      "cgi: 31 (2.9% of superset)\n",
      "civic: 386 (11.6% of superset)\n",
      "jax: 2432 (42.3% of superset)\n",
      "molecularmatch: 496 (23.8% of superset)\n",
      "oncokb: 78 (31.6% of superset)\n",
      "pmkb: 112 (30.2% of superset)\n",
      "Total: 3535 (27.5% of superset)\n"
     ]
    }
   ],
   "source": [
    "# Associations lacking any sequence ontology ID\n",
    "\n",
    "def no_soid(association):\n",
    "    x = [feature.so.get('name', 'Uncategorized') == 'Uncategorized' for feature in association.features]\n",
    "    return all(x)\n",
    "\n",
    "no_soid_group = core_vdb.select(no_soid)\n",
    "no_soid_group.report_groups(core_vdb)"
   ]
  },
  {
   "cell_type": "code",
   "execution_count": 53,
   "metadata": {
    "collapsed": false
   },
   "outputs": [
    {
     "name": "stdout",
     "output_type": "stream",
     "text": [
      "cgi: 16 (1.5% of superset)\n",
      "civic: 369 (11.0% of superset)\n",
      "jax: 3197 (55.6% of superset)\n",
      "molecularmatch: 480 (23.1% of superset)\n",
      "oncokb: 76 (30.8% of superset)\n",
      "pmkb: 108 (29.1% of superset)\n",
      "Total: 4246 (33.0% of superset)\n"
     ]
    }
   ],
   "source": [
    "# Associations lacking at least one sequence ontology ID\n",
    "\n",
    "def missing_soid(association):\n",
    "    x = [feature.so.get('name', 'Uncategorized') == 'Uncategorized' for feature in association.features]\n",
    "    return any(x)\n",
    "\n",
    "missing_soid_group = core_vdb.select(missing_soid)\n",
    "missing_soid_group.report_groups(core_vdb)"
   ]
  },
  {
   "cell_type": "code",
   "execution_count": 54,
   "metadata": {
    "collapsed": false
   },
   "outputs": [
    {
     "name": "stdout",
     "output_type": "stream",
     "text": [
      "jax: 777 (13.5% of superset)\n",
      "molecularmatch: 1 (0.0% of superset)\n",
      "Total: 778 (6.1% of superset)\n"
     ]
    }
   ],
   "source": [
    "partial_soid_group = missing_soid_group - no_soid_group\n",
    "partial_soid_group.report_groups(core_vdb)"
   ]
  },
  {
   "cell_type": "code",
   "execution_count": 55,
   "metadata": {
    "collapsed": false
   },
   "outputs": [
    {
     "data": {
      "text/plain": [
       "{'hierarchy': ['SO:0000400', 'SO:0001761', 'SO:0001814'],\n",
       " 'name': 'synonymous',\n",
       " 'parent_name': 'sequence_attribute',\n",
       " 'parent_soid': 'SO:0000400',\n",
       " 'soid': 'SO:0001815'}"
      ]
     },
     "execution_count": 55,
     "metadata": {},
     "output_type": "execute_result"
    }
   ],
   "source": [
    "partial_soid_group[0].features[2].so"
   ]
  },
  {
   "cell_type": "markdown",
   "metadata": {},
   "source": [
    "### Project GENIE feature match"
   ]
  },
  {
   "cell_type": "code",
   "execution_count": 59,
   "metadata": {
    "collapsed": true
   },
   "outputs": [],
   "source": [
    "# Loading Disease graph here for use in GENIE disease matching\n",
    "\n",
    "import obonet\n",
    "import networkx\n",
    "\n",
    "url = 'https://raw.githubusercontent.com/DiseaseOntology/HumanDiseaseOntology/v2018-05-11/src/ontology/HumanDO.obo'\n",
    "graph = obonet.read_obo(url)\n",
    "\n",
    "assert networkx.is_directed_acyclic_graph(graph)"
   ]
  },
  {
   "cell_type": "code",
   "execution_count": 60,
   "metadata": {
    "collapsed": true
   },
   "outputs": [],
   "source": [
    "so_by_name = {\n",
    "    \"3'Flank\": {'name': 'downstream_transcript_variant', 'soid': 'SO:0001987'},\n",
    "    \"3'UTR\": {'name': '3_prime_UTR_variant', 'soid': 'SO:0001624'},\n",
    "    \"5'Flank\": {'name': 'upstream_transcript_variant', 'soid': 'SO:0001986'},\n",
    "    \"5'UTR\": {'name': '5_prime_UTR_variant', 'soid': 'SO:0001623'},\n",
    "    \"Frame_Shift_Del\": {'name': 'frameshift_truncation', 'soid': 'SO:0001910'},\n",
    "    \"Frame_Shift_Ins\": {'name': 'frameshift_elongation', 'soid': 'SO:0001909'},\n",
    "    \"In_Frame_Del\": {'name': 'inframe_deletion', 'soid': 'SO:0001822'},\n",
    "    \"In_Frame_Ins\": {'name': 'inframe_insertion', 'soid': 'SO:0001821'},\n",
    "    \"Intron\": {'name': 'intron_variant', 'soid': 'SO:0001627'},\n",
    "    \"Missense_Mutation\": {'name': 'missense_variant', 'soid': 'SO:0001583'},\n",
    "    \"Nonsense_Mutation\": {'name': 'stop_gained', 'soid': 'SO:0001587'},\n",
    "    \"Nonstop_Mutation\": {'name': 'stop_lost', 'soid': 'SO:0001578'},\n",
    "    \"Silent\": {'name': 'synonymous_variant', 'soid': 'SO:0001819'},\n",
    "    \"Splice_Region\": {'name': 'splice_region_variant', 'soid': 'SO:0001630'},\n",
    "    \"Splice_Site\": {'name': 'splice_site_variant', 'soid': 'SO:0001629'},\n",
    "    \"Translation_Start_Site\": {'name': 'initiator_codon_variant', 'soid': 'SO:0001582'}\n",
    "}"
   ]
  },
  {
   "cell_type": "code",
   "execution_count": 61,
   "metadata": {
    "collapsed": false
   },
   "outputs": [],
   "source": [
    "alias_to_doids = defaultdict(list)\n",
    "def map_to_doid(graph, doid):\n",
    "    for _id in graph.predecessors(doid):\n",
    "        map_to_doid(graph, _id)\n",
    "    xrefs = graph.node[doid].get('xref', [])\n",
    "    for xref in xrefs:\n",
    "        source, xref_id = xref.split(':')\n",
    "        alias_to_doids[(source, xref_id)].append(doid)\n",
    "\n",
    "map_to_doid(graph, 'DOID:162') "
   ]
  },
  {
   "cell_type": "code",
   "execution_count": 62,
   "metadata": {
    "collapsed": true
   },
   "outputs": [],
   "source": [
    "oncotree_to_aliases = dict()\n",
    "oncotree_types_url = 'http://oncotree.mskcc.org/api/tumorTypes'\n",
    "resp = requests.get(oncotree_types_url, params={'version': 'oncotree_2018_05_01'})\n",
    "resp.raise_for_status()\n",
    "oncotree_types = resp.json()\n",
    "for o_type in oncotree_types:\n",
    "    oncotree_to_aliases[o_type['code']] = []\n",
    "    for source, terms in o_type['externalReferences'].items():\n",
    "        for term in terms:\n",
    "            oncotree_to_aliases[o_type['code']].append((source, term))"
   ]
  },
  {
   "cell_type": "code",
   "execution_count": 63,
   "metadata": {
    "collapsed": false
   },
   "outputs": [],
   "source": [
    "oncotree_to_doids = dict()\n",
    "for o_term, aliases in oncotree_to_aliases.items():\n",
    "    if not aliases:\n",
    "        oncotree_to_doids[o_term] = None\n",
    "        continue\n",
    "    doids = set()\n",
    "    for alias in aliases:\n",
    "        alias_doids = alias_to_doids.get(alias, False)\n",
    "        if alias_doids:\n",
    "            doids.update(alias_doids)\n",
    "    if doids:\n",
    "        oncotree_to_doids[o_term] = list(doids)\n",
    "    else:\n",
    "        oncotree_to_doids[o_term] = None"
   ]
  },
  {
   "cell_type": "code",
   "execution_count": 64,
   "metadata": {
    "collapsed": true
   },
   "outputs": [],
   "source": [
    "patched_doids = {\n",
    "    'MAAP': 'DOID:3608',\n",
    "    'SCCNOS': 'DOID:1749',\n",
    "    'MACR': 'DOID:0050861',\n",
    "    'OCSC': 'DOID:0050866',\n",
    "    'UDMN': 'DOID:162',\n",
    "    'CUP': 'DOID:162',\n",
    "    'CUPNOS': 'DOID:162',\n",
    "    'MYF': 'DOID:4971',\n",
    "    'HGSOC': 'DOID:0050933',\n",
    "    'LGSOC': 'DOID:0050933',\n",
    "    'SOC': 'DOID:0050933',\n",
    "    'PANET': 'DOID:1798',\n",
    "    'IMT': 'DOID:0050905',\n",
    "    'OPHSC': 'DOID:0050921',\n",
    "    'MDS': 'DOID:0050908',\n",
    "    'ACYC': 'DOID:0080202',\n",
    "    'HL': 'DOID:8567',\n",
    "    'SEM': 'DOID:4440'\n",
    "}"
   ]
  },
  {
   "cell_type": "code",
   "execution_count": 65,
   "metadata": {
    "collapsed": false
   },
   "outputs": [],
   "source": [
    "sample_to_patient = dict()\n",
    "patient_to_samples = defaultdict(list)\n",
    "sample_to_doid = dict()\n",
    "required_patches = set()\n",
    "optional_patches = set()\n",
    "no_patch = set()\n",
    "\n",
    "with open(DATA_ROOT / 'GENIE_v3' / 'data_clinical_sample_3.0.0.txt') as f:\n",
    "    for _ in range(4):\n",
    "        f.readline()    # get past info lines\n",
    "    reader = csv.DictReader(f, delimiter=\"\\t\")\n",
    "    for row in reader:\n",
    "        patient = row['PATIENT_ID']\n",
    "        sample = row['SAMPLE_ID']\n",
    "        sample_to_patient[sample] = patient\n",
    "        patient_to_samples[patient].append(sample)\n",
    "        oncotree_code = row['ONCOTREE_CODE'].upper()\n",
    "        doids = oncotree_to_doids[oncotree_code]\n",
    "        if not doids:\n",
    "            required_patches.add(oncotree_code)\n",
    "            doid = patched_doids.get(oncotree_code, None)\n",
    "        elif len(doids) > 1:\n",
    "            optional_patches.add(oncotree_code)\n",
    "            doid = patched_doids[oncotree_code]\n",
    "        else:\n",
    "            no_patch.add(oncotree_code)\n",
    "            doid = doids[0]\n",
    "        sample_to_doid[sample] = doid\n",
    "        \n",
    "patient_to_samples = dict(patient_to_samples)"
   ]
  },
  {
   "cell_type": "code",
   "execution_count": 66,
   "metadata": {
    "collapsed": true
   },
   "outputs": [],
   "source": [
    "# Load genie variants\n",
    "genie_features = list()\n",
    "genie_features_by_patient = defaultdict(list)\n",
    "genie_features_by_variant = defaultdict(list)\n",
    "with open(DATA_ROOT / 'GENIE_v3' / 'data_mutations_extended_3.0.0.txt', 'r') as maf:\n",
    "    sample_list = maf.readline().strip().split(' ')[1:]\n",
    "    maf_reader = csv.DictReader(maf, delimiter=\"\\t\")\n",
    "    for row in maf_reader:\n",
    "        start = row['Start_Position']\n",
    "        end = row['End_Position']\n",
    "        chromosome = row['Chromosome']\n",
    "        if row['Reference_Allele'] != row['Tumor_Seq_Allele1']:\n",
    "            alt = row['Tumor_Seq_Allele1']\n",
    "        else:\n",
    "            alt = row['Tumor_Seq_Allele2']\n",
    "        reference = row['NCBI_Build']\n",
    "        feature = viccdb.GenomicFeature(\n",
    "            chromosome=chromosome,\n",
    "            start=start,\n",
    "            end=end,\n",
    "            referenceName=reference,\n",
    "            name=':'.join([row['Tumor_Sample_Barcode'], row['HGVSp_Short']]),\n",
    "            geneSymbol=row['Hugo_Symbol'],\n",
    "            sequence_ontology=so_by_name[row['Variant_Classification']],\n",
    "            alt=alt\n",
    "        )\n",
    "        genie_features.append(feature)\n",
    "        patient = sample_to_patient[row['Tumor_Sample_Barcode']]\n",
    "        genie_features_by_patient[patient].append(feature)\n",
    "        genie_features_by_variant[(reference, chromosome, start, end, alt)].append(feature)"
   ]
  },
  {
   "cell_type": "code",
   "execution_count": 67,
   "metadata": {
    "collapsed": false
   },
   "outputs": [
    {
     "data": {
      "text/plain": [
       "263592"
      ]
     },
     "execution_count": 67,
     "metadata": {},
     "output_type": "execute_result"
    }
   ],
   "source": [
    "len(genie_features)"
   ]
  },
  {
   "cell_type": "code",
   "execution_count": 68,
   "metadata": {
    "collapsed": false
   },
   "outputs": [
    {
     "name": "stdout",
     "output_type": "stream",
     "text": [
      "297.02275096898666\n"
     ]
    }
   ],
   "source": [
    "# Do a GENIE feature search across knowledgebase. Huge search operation takes ~5.5 min to complete\n",
    "from timeit import default_timer\n",
    "tick = default_timer()\n",
    "genie_search_results = core_vdb.search_by_features(genie_features)\n",
    "tock = default_timer()\n",
    "print(tock-tick)"
   ]
  },
  {
   "cell_type": "code",
   "execution_count": 69,
   "metadata": {
    "collapsed": false
   },
   "outputs": [
    {
     "name": "stdout",
     "output_type": "stream",
     "text": [
      "Avg. queries / second: 811.0523076923076\n",
      "Search results: 2480094\n",
      "Avg. search results / query: 9.408836383501775\n"
     ]
    }
   ],
   "source": [
    "print(f'Avg. queries / second: {263592/325}')\n",
    "print(f'Search results: {len(genie_search_results)}')\n",
    "print(f'Avg. search results / query: {len(genie_search_results)/len(genie_features)}')"
   ]
  },
  {
   "cell_type": "code",
   "execution_count": 70,
   "metadata": {
    "collapsed": true
   },
   "outputs": [],
   "source": [
    "genie_feature_lengths = Counter()\n",
    "for feature in genie_features:\n",
    "    genie_feature_lengths[len(feature)] += 1"
   ]
  },
  {
   "cell_type": "code",
   "execution_count": 198,
   "metadata": {
    "collapsed": false
   },
   "outputs": [],
   "source": [
    "result_size = defaultdict(Counter)\n",
    "for result in genie_search_results:\n",
    "    for match_type in ranking:\n",
    "        if ranking.index(result['best_match']['type']) <= ranking.index(match_type):\n",
    "            result_size[result['query']][match_type] += 1"
   ]
  },
  {
   "cell_type": "code",
   "execution_count": 151,
   "metadata": {
    "collapsed": false
   },
   "outputs": [
    {
     "name": "stdout",
     "output_type": "stream",
     "text": [
      "Percentage of queries with results: 35.3%\n"
     ]
    }
   ],
   "source": [
    "print('Percentage of queries with results: {:.1%}'.format(len(result_size) / len(genie_features)))"
   ]
  },
  {
   "cell_type": "code",
   "execution_count": 165,
   "metadata": {
    "collapsed": false
   },
   "outputs": [
    {
     "data": {
      "text/plain": [
       "1063"
      ]
     },
     "execution_count": 165,
     "metadata": {},
     "output_type": "execute_result"
    }
   ],
   "source": [
    "exact_match_features = [x for x in result_size if result_size[x]['exact'] > 0]\n",
    "len(exact_match_features)"
   ]
  },
  {
   "cell_type": "code",
   "execution_count": 163,
   "metadata": {
    "collapsed": false
   },
   "outputs": [
    {
     "name": "stdout",
     "output_type": "stream",
     "text": [
      "Percentage of queries with results: 0.4%\n"
     ]
    }
   ],
   "source": [
    "print('Percentage of queries with results: {:.1%}'.format(len(exact_match_features) / len(genie_features)))"
   ]
  },
  {
   "cell_type": "code",
   "execution_count": 72,
   "metadata": {
    "collapsed": false
   },
   "outputs": [],
   "source": [
    "data = defaultdict(list)\n",
    "for feature in genie_features:\n",
    "    length = len(feature)\n",
    "    for match_type in ranking:\n",
    "        data[match_type].append([length, result_size[feature][match_type]])"
   ]
  },
  {
   "cell_type": "code",
   "execution_count": 171,
   "metadata": {
    "collapsed": false
   },
   "outputs": [
    {
     "data": {
      "image/png": "[encoded data removed]",
      "text/plain": [
       "<matplotlib.figure.Figure at 0x27d3ddb00>"
      ]
     },
     "metadata": {},
     "output_type": "display_data"
    }
   ],
   "source": [
    "colors = dict(zip(ranking, ['blue', 'green', 'orange', 'red']))\n",
    "pcs = list()\n",
    "labels = list()\n",
    "plt.figure()\n",
    "plt.xscale('log')\n",
    "plt.yscale('log')\n",
    "for t in reversed(ranking):\n",
    "    coord_pairs = data[t]\n",
    "    a = np.array(coord_pairs) + 1\n",
    "    pc = plt.scatter(a[:,0], a[:,1], marker='.', color=colors[t], alpha=0.05)\n",
    "    pcs.append(pc)\n",
    "    labels.append(t)\n",
    "plt.xlabel('Feature Size')\n",
    "plt.ylabel('Interpretations')\n",
    "plt.title('Feature v Result Size of GENIE Variants')\n",
    "plt.legend(pcs, labels, bbox_to_anchor=(1.05, 1), loc=2, borderaxespad=0.)\n",
    "plt.tight_layout() # drops legend :-/\n",
    "# plt.savefig(str(FIGPATH / 'feature_v_result_size_genie.pdf'))\n",
    "# plt.savefig(str(FIGPATH / 'feature_v_result_size_genie.png'))\n",
    "plt.show()"
   ]
  },
  {
   "cell_type": "code",
   "execution_count": 289,
   "metadata": {
    "collapsed": false
   },
   "outputs": [
    {
     "data": {
      "image/png": "[encoded data removed]",
      "text/plain": [
       "<matplotlib.figure.Figure at 0x26cf62240>"
      ]
     },
     "metadata": {},
     "output_type": "display_data"
    }
   ],
   "source": [
    "for t in reversed(ranking):\n",
    "    data = [result_size[q][t] for q in genie_features\n",
    "            if result_size[q][t] > 0\n",
    "           ]\n",
    "    plt.hist(data, alpha=1, label=t, color=colors[t], bins=150)\n",
    "plt.xlabel('Interpretations Matched to Variant Query')\n",
    "plt.ylabel('Queries')\n",
    "plt.title('Counts of Interpretations per Variant Query by Search Strategy')\n",
    "plt.legend()\n",
    "plt.savefig(str(FIGPATH / 'genie_interpretation_v_query_all.pdf'))\n",
    "plt.show()"
   ]
  },
  {
   "cell_type": "code",
   "execution_count": 291,
   "metadata": {
    "collapsed": false
   },
   "outputs": [
    {
     "data": {
      "image/png": "[encoded data removed]",
      "text/plain": [
       "<matplotlib.figure.Figure at 0x26f3114e0>"
      ]
     },
     "metadata": {},
     "output_type": "display_data"
    }
   ],
   "source": [
    "notables = Counter()\n",
    "for t in reversed(ranking[:3]):\n",
    "    data = [result_size[q][t] for q in genie_features\n",
    "            if result_size[q][t] > 0\n",
    "           ]\n",
    "    for q in genie_features:\n",
    "        if result_size[q][t] > 90:\n",
    "            notables[(q,t)] += 1\n",
    "    plt.hist(data, alpha=1, label=t, color=colors[t], bins=150)\n",
    "plt.title('Counts of Interpretations per Variant Query by Search Strategy')\n",
    "plt.xlabel('Interpretations Matched to Variant Query')\n",
    "plt.ylabel('Queries')\n",
    "plt.legend()\n",
    "plt.savefig(str(FIGPATH / 'genie_interpretation_v_query_no_regional.pdf'))\n",
    "plt.show()"
   ]
  },
  {
   "cell_type": "code",
   "execution_count": 292,
   "metadata": {
    "collapsed": false
   },
   "outputs": [
    {
     "name": "stdout",
     "output_type": "stream",
     "text": [
      "(92, 1425): KRAS p.G12V (exact)\n",
      "(94, 998): KRAS p.G12C (exact)\n",
      "(111, 1062): PIK3CA p.E545K (exact)\n",
      "(113, 1062): PIK3CA p.E545K (positional)\n",
      "(117, 1062): PIK3CA p.E545K (focal)\n",
      "(160, 1080): PIK3CA p.H1047R (exact)\n",
      "(161, 1720): KRAS p.G12D (exact)\n",
      "(174, 1080): PIK3CA p.H1047R (positional)\n",
      "(178, 1080): PIK3CA p.H1047R (focal)\n",
      "(205, 998): KRAS p.G12C (positional)\n",
      "(308, 1425): KRAS p.G12V (positional)\n",
      "(308, 1720): KRAS p.G12D (positional)\n",
      "(343, 998): KRAS p.G12C (focal)\n",
      "(457, 1425): KRAS p.G12V (focal)\n",
      "(457, 1720): KRAS p.G12D (focal)\n",
      "(565, 1439): BRAF p.V600E (exact)\n",
      "(584, 1439): BRAF p.V600E (positional)\n",
      "(655, 1439): BRAF p.V600E (focal)\n"
     ]
    }
   ],
   "source": [
    "coord_q = dict()\n",
    "for notable in notables.most_common(len(notables)):\n",
    "    if notable[1] > 950:\n",
    "        feature = notable[0][0]\n",
    "        t = notable[0][1]\n",
    "        queries = notable[1]\n",
    "        HGVSp = feature.name.split(':')[1]\n",
    "        coord_q[(result_size[feature][t], queries)] = (feature, t)\n",
    "    else:\n",
    "        break\n",
    "for coord in sorted(coord_q):\n",
    "    feature, t = coord_q[coord]\n",
    "    HGVSp = feature.name.split(':')[1]\n",
    "    queries = coord[1]\n",
    "    print(f'({result_size[feature][t]}, {queries}): {feature.gene_symbol} {HGVSp} ({t})')"
   ]
  },
  {
   "cell_type": "markdown",
   "metadata": {},
   "source": [
    "## Disease"
   ]
  },
  {
   "cell_type": "code",
   "execution_count": 74,
   "metadata": {
    "collapsed": false
   },
   "outputs": [
    {
     "name": "stdout",
     "output_type": "stream",
     "text": [
      "There are 667 diseases in oncotree.\n",
      "Of these, 166 have no xrefs.\n",
      "299 of 539 oncotree diseases from GENIE do not automatically map to doid.\n",
      "Of these, 123 have no xrefs.\n"
     ]
    },
    {
     "data": {
      "text/plain": [
       "(2.1092209748083244, 6.8296910365229976e-07)"
      ]
     },
     "execution_count": 74,
     "metadata": {},
     "output_type": "execute_result"
    }
   ],
   "source": [
    "oncotree_codes = {x['code'] for x in oncotree_types}\n",
    "print(f'There are {len(oncotree_codes)} diseases in oncotree.')\n",
    "no_xrefs = {x for x, v in oncotree_to_aliases.items() if not v}\n",
    "print(f'Of these, {len(no_xrefs)} have no xrefs.')\n",
    "print(f'{len(required_patches)} of {len(required_patches | no_patch)} oncotree diseases from GENIE do not automatically map to doid.')\n",
    "print(f'Of these, {len(required_patches & no_xrefs)} have no xrefs.')\n",
    "a = np.array([\n",
    "        [len(required_patches & no_xrefs), len(required_patches - no_xrefs)],\n",
    "        [len(oncotree_codes & no_xrefs), len(oncotree_codes - no_xrefs)]\n",
    "         ])\n",
    "stats.fisher_exact(a)"
   ]
  },
  {
   "cell_type": "code",
   "execution_count": 75,
   "metadata": {
    "collapsed": false
   },
   "outputs": [
    {
     "data": {
      "text/plain": [
       "Counter({'http://purl.obolibrary.org/obo/doid': 12681,\n",
       "         'MEDDRA': 69,\n",
       "         'SNOMEDCT': 29,\n",
       "         None: 1,\n",
       "         'OMIM': 4,\n",
       "         'DOID': 4,\n",
       "         'EVS': 26,\n",
       "         'ICD10CM': 3,\n",
       "         'RID': 1,\n",
       "         'LNC': 17,\n",
       "         'ORDO': 1,\n",
       "         'CL': 2,\n",
       "         'PATO': 6,\n",
       "         'CSP': 4,\n",
       "         'menelastop.ics.upmc.fr': 1,\n",
       "         'www.owl-ontologies.com': 1,\n",
       "         'scai.fraunhofer.de': 1,\n",
       "         'CHEBI': 1,\n",
       "         'MESH': 4})"
      ]
     },
     "execution_count": 75,
     "metadata": {},
     "output_type": "execute_result"
    }
   ],
   "source": [
    "c = Counter()\n",
    "for x in core_vdb:\n",
    "    try:\n",
    "        c[x.disease.source] += 1\n",
    "    except AttributeError:\n",
    "        c[None] += 1\n",
    "c"
   ]
  },
  {
   "cell_type": "code",
   "execution_count": 76,
   "metadata": {
    "collapsed": true
   },
   "outputs": [],
   "source": [
    "doid = core_vdb.select(lambda x: x.disease is not None and x.disease.id.startswith('DOID:'))"
   ]
  },
  {
   "cell_type": "code",
   "execution_count": 77,
   "metadata": {
    "collapsed": false
   },
   "outputs": [
    {
     "name": "stdout",
     "output_type": "stream",
     "text": [
      "cgi: 106 (9.9% of superset)\n",
      "civic: 81 (2.4% of superset)\n",
      "jax: 1352 (23.5% of superset)\n",
      "oncokb: 15 (6.1% of superset)\n",
      "Total: 1554 (12.1% of superset)\n"
     ]
    }
   ],
   "source": [
    "# Problem with number of entries from jax reporting \"cancer\" as doid type\n",
    "doid.select(lambda x: x.disease.id == 'DOID:162').report_groups(core_vdb)"
   ]
  },
  {
   "cell_type": "code",
   "execution_count": 78,
   "metadata": {
    "collapsed": false
   },
   "outputs": [],
   "source": [
    "id_to_name = {id_: data['name'] for id_, data in graph.nodes(data=True)}"
   ]
  },
  {
   "cell_type": "code",
   "execution_count": 79,
   "metadata": {
    "collapsed": false
   },
   "outputs": [
    {
     "name": "stdout",
     "output_type": "stream",
     "text": [
      "cancer: 1554\n",
      "lung adenocarcinoma: 1415\n",
      "breast cancer: 1089\n",
      "non-small cell lung carcinoma: 1011\n",
      "colorectal cancer: 976\n",
      "melanoma: 659\n",
      "von Hippel-Lindau disease: 566\n",
      "acute myeloid leukemia: 419\n",
      "rectal neoplasm: 366\n",
      "chronic myeloid leukemia: 251\n",
      "lung cancer: 210\n",
      "gastrointestinal stromal tumor: 194\n",
      "skin melanoma: 162\n",
      "ovarian cancer: 156\n",
      "Her2-receptor positive breast cancer: 132\n",
      "stomach cancer: 122\n",
      "colon cancer: 120\n",
      "glioblastoma multiforme: 116\n",
      "head and neck squamous cell carcinoma: 99\n",
      "colorectal adenocarcinoma: 95\n"
     ]
    }
   ],
   "source": [
    "c = Counter()\n",
    "for x in doid:\n",
    "    try:\n",
    "        c[x.disease.id] += 1\n",
    "    except AttributeError:\n",
    "        c[None] += 1\n",
    "for k, v in c.most_common(20):\n",
    "    print(f'{id_to_name[k]}: {v}')"
   ]
  },
  {
   "cell_type": "code",
   "execution_count": 80,
   "metadata": {
    "collapsed": false
   },
   "outputs": [],
   "source": [
    "organ_system_ids = graph.predecessors('DOID:0050686')\n",
    "benign_and_premalignant_ids = ['DOID:0060072', 'DOID:0060071']\n",
    "cell_type_cancer_id = 'DOID:0050687'\n",
    "cancer_id = 'DOID:162'"
   ]
  },
  {
   "cell_type": "code",
   "execution_count": 81,
   "metadata": {
    "collapsed": false
   },
   "outputs": [],
   "source": [
    "organ_system = dict()\n",
    "benign_and_premalignant = dict()\n",
    "\n",
    "def assign_to_id(ids, id_, d):\n",
    "    if len(ids) == 0:\n",
    "        return\n",
    "    for i in ids:\n",
    "        d[i] = id_\n",
    "        assign_to_id(graph.predecessors(i), id_, d)\n",
    "    return \n",
    "\n",
    "for organ_id in (organ_system_ids + [cell_type_cancer_id]):\n",
    "    assign_to_id(graph.predecessors(organ_id), organ_id, organ_system)\n",
    "    organ_system[organ_id] = organ_id\n",
    "\n",
    "for id_ in benign_and_premalignant_ids:\n",
    "    assign_to_id(graph.predecessors(id_), id_, benign_and_premalignant)\n",
    "    benign_and_premalignant[id_] = id_\n",
    "    \n"
   ]
  },
  {
   "cell_type": "code",
   "execution_count": 82,
   "metadata": {
    "collapsed": false
   },
   "outputs": [
    {
     "data": {
      "text/plain": [
       "{'def': '\"An organ system cancer located_in the respiratory system that is characterized by uncontrolled cellular proliferation in the respiratory tract.\" [url:http\\\\://en.wikipedia.org/wiki/Respiratory_tract_neoplasm]',\n",
       " 'is_a': ['DOID:0050686'],\n",
       " 'name': 'respiratory system cancer'}"
      ]
     },
     "execution_count": 82,
     "metadata": {},
     "output_type": "execute_result"
    }
   ],
   "source": [
    "return_id = organ_system['DOID:0050615']\n",
    "graph.node[return_id]"
   ]
  },
  {
   "cell_type": "code",
   "execution_count": 83,
   "metadata": {
    "collapsed": false
   },
   "outputs": [
    {
     "name": "stdout",
     "output_type": "stream",
     "text": [
      "cgi: 1072 (100.0% of superset)\n",
      "civic: 3339 (100.0% of superset)\n",
      "jax: 5746 (100.0% of superset)\n",
      "molecularmatch: 2080 (100.0% of superset)\n",
      "oncokb: 247 (100.0% of superset)\n",
      "pmkb: 371 (100.0% of superset)\n",
      "Total: 12855 (100.0% of superset)\n"
     ]
    }
   ],
   "source": [
    "normalized_disease = core_vdb.select(lambda x: x.disease is not None)\n",
    "normalized_disease.report_groups(core_vdb)"
   ]
  },
  {
   "cell_type": "code",
   "execution_count": 84,
   "metadata": {
    "collapsed": false
   },
   "outputs": [],
   "source": [
    "do_sourced = normalized_disease.select(lambda x: x.disease.source in ['DOID', 'http://purl.obolibrary.org/obo/doid'])"
   ]
  },
  {
   "cell_type": "code",
   "execution_count": 85,
   "metadata": {
    "collapsed": false
   },
   "outputs": [
    {
     "name": "stdout",
     "output_type": "stream",
     "text": [
      "cgi: 971 (90.6% of superset)\n",
      "civic: 3304 (98.9% of superset)\n",
      "jax: 5745 (100.0% of superset)\n",
      "molecularmatch: 2080 (100.0% of superset)\n",
      "oncokb: 239 (96.8% of superset)\n",
      "pmkb: 346 (93.3% of superset)\n",
      "Total: 12685 (98.7% of superset)\n"
     ]
    }
   ],
   "source": [
    "do_sourced.report_groups(core_vdb)"
   ]
  },
  {
   "cell_type": "code",
   "execution_count": 86,
   "metadata": {
    "collapsed": true
   },
   "outputs": [],
   "source": [
    "cancer_organ_interpretations = do_sourced.select(lambda x: organ_system.get(x.disease.id, False))\n",
    "benign_premalignant_interpretations = do_sourced.select(lambda x: benign_and_premalignant.get(x.disease.id, False))\n",
    "cancer_interpretations = do_sourced.select(lambda x: x.disease.id == cancer_id)\n",
    "other_interpretations = do_sourced - cancer_organ_interpretations - benign_premalignant_interpretations - cancer_interpretations"
   ]
  },
  {
   "cell_type": "code",
   "execution_count": 87,
   "metadata": {
    "collapsed": false
   },
   "outputs": [
    {
     "name": "stdout",
     "output_type": "stream",
     "text": [
      "cgi: 720 (74.2% of superset)\n",
      "civic: 2602 (78.8% of superset)\n",
      "jax: 4388 (76.4% of superset)\n",
      "molecularmatch: 1714 (82.4% of superset)\n",
      "oncokb: 213 (89.1% of superset)\n",
      "pmkb: 334 (96.5% of superset)\n",
      "Total: 9971 (78.6% of superset)\n"
     ]
    }
   ],
   "source": [
    "cancer_organ_interpretations.report_groups(do_sourced)"
   ]
  },
  {
   "cell_type": "code",
   "execution_count": 88,
   "metadata": {
    "collapsed": false
   },
   "outputs": [
    {
     "name": "stdout",
     "output_type": "stream",
     "text": [
      "cgi: 34 (3.5% of superset)\n",
      "civic: 570 (17.3% of superset)\n",
      "jax: 5 (0.1% of superset)\n",
      "molecularmatch: 366 (17.6% of superset)\n",
      "pmkb: 2 (0.6% of superset)\n",
      "Total: 977 (7.7% of superset)\n"
     ]
    }
   ],
   "source": [
    "benign_premalignant_interpretations.report_groups(do_sourced)"
   ]
  },
  {
   "cell_type": "code",
   "execution_count": 89,
   "metadata": {
    "collapsed": false
   },
   "outputs": [
    {
     "name": "stdout",
     "output_type": "stream",
     "text": [
      "cgi: 106 (10.9% of superset)\n",
      "civic: 81 (2.5% of superset)\n",
      "jax: 1352 (23.5% of superset)\n",
      "oncokb: 15 (6.3% of superset)\n",
      "Total: 1554 (12.3% of superset)\n"
     ]
    }
   ],
   "source": [
    "cancer_interpretations.report_groups(do_sourced)"
   ]
  },
  {
   "cell_type": "code",
   "execution_count": 90,
   "metadata": {
    "collapsed": false
   },
   "outputs": [
    {
     "name": "stdout",
     "output_type": "stream",
     "text": [
      "cgi: 111 (11.4% of superset)\n",
      "civic: 51 (1.5% of superset)\n",
      "oncokb: 11 (4.6% of superset)\n",
      "pmkb: 10 (2.9% of superset)\n",
      "Total: 183 (1.4% of superset)\n"
     ]
    }
   ],
   "source": [
    "other_interpretations.report_groups(do_sourced)"
   ]
  },
  {
   "cell_type": "code",
   "execution_count": 91,
   "metadata": {
    "collapsed": false
   },
   "outputs": [
    {
     "name": "stdout",
     "output_type": "stream",
     "text": [
      "cgi: 108 (11.1% of superset)\n",
      "civic: 2 (0.1% of superset)\n",
      "oncokb: 2 (0.8% of superset)\n",
      "pmkb: 8 (2.3% of superset)\n",
      "Total: 120 (0.9% of superset)\n"
     ]
    }
   ],
   "source": [
    "x = other_interpretations.select(lambda x: x.disease.id.split(':')[0] != 'DOID')\n",
    "x.report_groups(do_sourced)"
   ]
  },
  {
   "cell_type": "markdown",
   "metadata": {},
   "source": [
    "**concerning that 10%** of CGI associations have mismatched source / terms"
   ]
  },
  {
   "cell_type": "code",
   "execution_count": 92,
   "metadata": {
    "collapsed": false
   },
   "outputs": [
    {
     "data": {
      "text/plain": [
       "Counter({'HP': 56, 'UBERON': 64})"
      ]
     },
     "execution_count": 92,
     "metadata": {},
     "output_type": "execute_result"
    }
   ],
   "source": [
    "c = Counter()\n",
    "for i in x:\n",
    "    c[i.disease.id.split(':')[0]] += 1\n",
    "c"
   ]
  },
  {
   "cell_type": "code",
   "execution_count": 93,
   "metadata": {
    "collapsed": false
   },
   "outputs": [
    {
     "name": "stdout",
     "output_type": "stream",
     "text": [
      "http://purl.obolibrary.org/obo/doid\n",
      "HP:0011779\n",
      "Anaplastic thyroid carcinoma\n",
      "EID3744\n"
     ]
    }
   ],
   "source": [
    "entry = x.by_source('civic')[0]\n",
    "print(entry.disease.source)\n",
    "print(entry.disease.id)\n",
    "print(entry.disease.term)\n",
    "print(entry['feature_names'])"
   ]
  },
  {
   "cell_type": "code",
   "execution_count": 94,
   "metadata": {
    "collapsed": false
   },
   "outputs": [],
   "source": [
    "c = Counter()\n",
    "for association in cancer_organ_interpretations:\n",
    "    disease_id = association.disease.id\n",
    "    organ_id = organ_system[disease_id]\n",
    "    c[organ_id] += 1"
   ]
  },
  {
   "cell_type": "code",
   "execution_count": 95,
   "metadata": {
    "collapsed": false
   },
   "outputs": [
    {
     "name": "stdout",
     "output_type": "stream",
     "text": [
      "respiratory system cancer: 2749\n",
      "gastrointestinal system cancer: 1737\n",
      "thoracic cancer: 1452\n",
      "immune system cancer: 1338\n",
      "cell type cancer: 1017\n",
      "reproductive organ cancer: 487\n",
      "endocrine gland cancer: 342\n",
      "urinary system cancer: 231\n",
      "nervous system cancer: 204\n",
      "integumentary system cancer: 196\n",
      "head and neck cancer: 117\n",
      "musculoskeletal system cancer: 100\n",
      "peritoneum cancer: 1\n"
     ]
    }
   ],
   "source": [
    "for k, v in c.most_common(13):\n",
    "    print(f'{id_to_name[k]}: {v}')"
   ]
  },
  {
   "cell_type": "code",
   "execution_count": 96,
   "metadata": {
    "collapsed": false
   },
   "outputs": [
    {
     "name": "stdout",
     "output_type": "stream",
     "text": [
      "http://purl.obolibrary.org/obo/doid: DOID:1725\n",
      "jax\n",
      "In a preclinical study, the combination of APR-246 and Platinol (cisplatin) resulted in strong synergism, thereby reducing cell viability in patient derived peritoneum cancer cells harboring TP53 C135Y in culture (PMID: 27179933). \n"
     ]
    }
   ],
   "source": [
    "p_cancer = cancer_organ_interpretations.select(lambda x: id_to_name[organ_system[x.disease.id]] == 'peritoneum cancer')[0]\n",
    "print(p_cancer.disease)\n",
    "print(p_cancer.source)\n",
    "print(p_cancer.description)"
   ]
  },
  {
   "cell_type": "code",
   "execution_count": 97,
   "metadata": {
    "collapsed": false
   },
   "outputs": [
    {
     "data": {
      "text/plain": [
       "15"
      ]
     },
     "execution_count": 97,
     "metadata": {},
     "output_type": "execute_result"
    }
   ],
   "source": [
    "len(set(organ_system.values()))"
   ]
  },
  {
   "cell_type": "code",
   "execution_count": 98,
   "metadata": {
    "collapsed": false
   },
   "outputs": [],
   "source": [
    "with open(DATA_ROOT / 'TopNodes_DOcancerslim_3_18.json', 'r') as f:\n",
    "    result = json.load(f)\n",
    "    nodes = result['graphs'][0]['nodes']"
   ]
  },
  {
   "cell_type": "code",
   "execution_count": 99,
   "metadata": {
    "collapsed": false
   },
   "outputs": [
    {
     "data": {
      "text/plain": [
       "'DOID:1324'"
      ]
     },
     "execution_count": 99,
     "metadata": {},
     "output_type": "execute_result"
    }
   ],
   "source": [
    "nodes[0]['id'].split('/')[-1].replace('_', ':')"
   ]
  },
  {
   "cell_type": "code",
   "execution_count": 100,
   "metadata": {
    "collapsed": false
   },
   "outputs": [],
   "source": [
    "topnodes_docancerslim = list()\n",
    "doid_re = re.compile(r'DOID:\\d+')\n",
    "\n",
    "for node in nodes:\n",
    "    doid = node['id'].split('/')[-1].replace('_', ':')\n",
    "    if doid_re.match(doid):\n",
    "        topnodes_docancerslim.append(doid)"
   ]
  },
  {
   "cell_type": "code",
   "execution_count": 101,
   "metadata": {
    "collapsed": false
   },
   "outputs": [
    {
     "data": {
      "text/plain": [
       "58"
      ]
     },
     "execution_count": 101,
     "metadata": {},
     "output_type": "execute_result"
    }
   ],
   "source": [
    "len(topnodes_docancerslim)"
   ]
  },
  {
   "cell_type": "code",
   "execution_count": 102,
   "metadata": {
    "collapsed": true
   },
   "outputs": [],
   "source": [
    "def assign_to_nearest_id(ids, id_, d, terminals):\n",
    "    if len(ids) == 0:\n",
    "        return\n",
    "    for i in ids:\n",
    "        if i in terminals:\n",
    "            assignment = i\n",
    "        else:\n",
    "            assignment = id_\n",
    "        d[i] = assignment\n",
    "        assign_to_nearest_id(graph.predecessors(i), assignment, d, terminals)\n",
    "    return\n",
    "\n",
    "topnode_map = dict()\n",
    "assign_to_nearest_id(['DOID:162'], 'DOID:162', topnode_map, topnodes_docancerslim)"
   ]
  },
  {
   "cell_type": "code",
   "execution_count": 103,
   "metadata": {
    "collapsed": false
   },
   "outputs": [
    {
     "name": "stdout",
     "output_type": "stream",
     "text": [
      "cgi: 826 (85.1% of superset)\n",
      "civic: 2683 (81.2% of superset)\n",
      "jax: 5740 (99.9% of superset)\n",
      "molecularmatch: 1714 (82.4% of superset)\n",
      "oncokb: 228 (95.4% of superset)\n",
      "pmkb: 334 (96.5% of superset)\n",
      "Total: 11525 (90.9% of superset)\n"
     ]
    }
   ],
   "source": [
    "cancer_counts = Counter()\n",
    "\n",
    "cancer_associations = do_sourced.select(\n",
    "    lambda x: topnode_map.get(x.disease.id, False))\n",
    "\n",
    "for association in cancer_associations:\n",
    "    disease_id = association.disease.id\n",
    "    topnode_id = topnode_map[disease_id]\n",
    "    cancer_counts[topnode_id] += 1\n",
    "\n",
    "cancer_associations.report_groups(do_sourced)"
   ]
  },
  {
   "cell_type": "code",
   "execution_count": 104,
   "metadata": {
    "collapsed": false
   },
   "outputs": [
    {
     "name": "stdout",
     "output_type": "stream",
     "text": [
      "cgi: 145 (14.9% of superset)\n",
      "civic: 621 (18.8% of superset)\n",
      "jax: 5 (0.1% of superset)\n",
      "molecularmatch: 366 (17.6% of superset)\n",
      "oncokb: 11 (4.6% of superset)\n",
      "pmkb: 12 (3.5% of superset)\n",
      "Total: 1160 (9.1% of superset)\n"
     ]
    }
   ],
   "source": [
    "other_associations = do_sourced - cancer_associations\n",
    "other_associations.report_groups(do_sourced)"
   ]
  },
  {
   "cell_type": "code",
   "execution_count": 105,
   "metadata": {
    "collapsed": false
   },
   "outputs": [
    {
     "data": {
      "text/plain": [
       "48"
      ]
     },
     "execution_count": 105,
     "metadata": {},
     "output_type": "execute_result"
    }
   ],
   "source": [
    "len(cancer_counts)"
   ]
  },
  {
   "cell_type": "code",
   "execution_count": 106,
   "metadata": {
    "collapsed": false
   },
   "outputs": [
    {
     "name": "stdout",
     "output_type": "stream",
     "text": [
      "lung cancer: 2748\n",
      "cancer: 1717\n",
      "breast cancer: 1452\n",
      "hematologic cancer: 1324\n",
      "large intestine cancer: 1073\n",
      "melanoma: 661\n",
      "gastrointestinal system cancer: 214\n",
      "ovarian cancer: 205\n",
      "skin cancer: 196\n",
      "stomach cancer: 192\n",
      "malignant glioma: 174\n",
      "thyroid cancer: 173\n",
      "pancreatic cancer: 153\n",
      "colon cancer: 136\n",
      "uterine cancer: 135\n",
      "urinary bladder cancer: 122\n",
      "prostate cancer: 121\n",
      "head and neck cancer: 117\n",
      "kidney cancer: 101\n",
      "peripheral nervous system neoplasm: 88\n",
      "ocular cancer: 56\n",
      "connective tissue cancer: 52\n",
      "brain cancer: 46\n",
      "bone cancer: 44\n",
      "bile duct cancer: 38\n",
      "sarcoma: 36\n",
      "esophageal cancer: 36\n",
      "liver cancer: 24\n",
      "cervical cancer: 16\n",
      "thymus cancer: 12\n",
      "meningioma: 11\n",
      "adrenal gland cancer: 10\n",
      "pharynx cancer: 8\n",
      "salivary gland cancer: 6\n",
      "endocrine gland cancer: 6\n",
      "oral cavity cancer: 4\n",
      "muscle cancer: 4\n",
      "appendix cancer: 2\n",
      "rectum cancer: 2\n",
      "vulva cancer: 2\n",
      "larynx cancer: 1\n",
      "ureter cancer: 1\n",
      "duodenum cancer: 1\n",
      "penile cancer: 1\n",
      "intestinal cancer: 1\n",
      "peritoneum cancer: 1\n",
      "vaginal cancer: 1\n",
      "fallopian tube cancer: 1\n"
     ]
    }
   ],
   "source": [
    "for k, v in cancer_counts.most_common(48):\n",
    "    print(f'{id_to_name[k]}: {v}')\n",
    "    "
   ]
  },
  {
   "cell_type": "code",
   "execution_count": 107,
   "metadata": {
    "collapsed": false
   },
   "outputs": [],
   "source": [
    "def write_disease_counts(file_handle, disease_counter):\n",
    "    writer = csv.writer(file_handle)\n",
    "    s = sum(disease_counter.values())\n",
    "    writer.writerow(['DOID', 'Disease Name', 'Interpretations', 'Percentage'])\n",
    "    for k, v in disease_counter.most_common(len(disease_counter)):\n",
    "        writer.writerow([k, id_to_name[k], v, '{:.2%}'.format(v/s)])"
   ]
  },
  {
   "cell_type": "code",
   "execution_count": 108,
   "metadata": {
    "collapsed": false
   },
   "outputs": [],
   "source": [
    "with open('out/interpretation_disease_topnode_counts.csv', 'w') as f:\n",
    "    write_disease_counts(f, cancer_counts)"
   ]
  },
  {
   "cell_type": "code",
   "execution_count": 109,
   "metadata": {
    "collapsed": false
   },
   "outputs": [
    {
     "name": "stdout",
     "output_type": "stream",
     "text": [
      "cgi: 34 (3.5% of superset)\n",
      "civic: 570 (17.3% of superset)\n",
      "jax: 4 (0.1% of superset)\n",
      "molecularmatch: 366 (17.6% of superset)\n",
      "pmkb: 2 (0.6% of superset)\n",
      "Total: 976 (7.7% of superset)\n"
     ]
    }
   ],
   "source": [
    "# Benign\n",
    "\n",
    "benign_id = 'DOID:0060072'\n",
    "benign = dict()\n",
    "\n",
    "assign_to_id(graph.predecessors(benign_id), benign_id, benign)\n",
    "benign[benign_id] = benign_id\n",
    "\n",
    "benign_associations = other_associations.select(\n",
    "    lambda x: benign.get(x.disease.id, False))\n",
    "\n",
    "other_associations = other_associations - benign_associations\n",
    "benign_associations.report_groups(do_sourced)"
   ]
  },
  {
   "cell_type": "code",
   "execution_count": 110,
   "metadata": {
    "collapsed": false
   },
   "outputs": [
    {
     "name": "stdout",
     "output_type": "stream",
     "text": [
      "jax: 1 (0.0% of superset)\n",
      "Total: 1 (0.0% of superset)\n"
     ]
    }
   ],
   "source": [
    "# pre-malignant\n",
    "\n",
    "premalignant_id = 'DOID:0060071'\n",
    "premalignant = dict()\n",
    "\n",
    "assign_to_id(graph.predecessors(premalignant_id), premalignant_id, premalignant)\n",
    "premalignant[premalignant_id] = premalignant_id\n",
    "\n",
    "premalignant_associations = other_associations.select(\n",
    "    lambda x: premalignant.get(x.disease.id, False))\n",
    "\n",
    "premalignant_associations.report_groups(do_sourced)"
   ]
  },
  {
   "cell_type": "code",
   "execution_count": 111,
   "metadata": {
    "collapsed": true
   },
   "outputs": [],
   "source": [
    "# Make data\n",
    "\n",
    "common_cancers = list(filter(lambda x: x[0] != \"DOID:162\", cancer_counts.most_common(6)))\n",
    "\n",
    "interpretation_group_names=[id_to_name[x[0]] for x in common_cancers] + ['other cancers'] + ['benign', 'other disease']\n",
    "common_cancer_values = [x[1] for x in common_cancers]\n",
    "interpretation_group_sizes=common_cancer_values + [sum(cancer_counts.values()) - sum(common_cancer_values),\n",
    "                                      len(benign_associations),\n",
    "                                      len(other_associations)]\n"
   ]
  },
  {
   "cell_type": "code",
   "execution_count": 112,
   "metadata": {
    "collapsed": false
   },
   "outputs": [],
   "source": [
    "incidence_by_topnode = Counter()\n",
    "mortality_by_topnode = Counter()\n",
    "p = (len(benign_associations) + len(other_associations)) / len(do_sourced)\n",
    "with open(DATA_ROOT / 'Cancer Incidence and Mortality 2018.csv', 'r') as f:\n",
    "    reader = csv.DictReader(f)\n",
    "    for row in reader:\n",
    "        incidence_by_topnode[topnode_map[row['DOID']]] += int(row['New Cases'])\n",
    "        mortality_by_topnode[topnode_map[row['DOID']]] += int(row['Estimated Deaths'])"
   ]
  },
  {
   "cell_type": "code",
   "execution_count": 113,
   "metadata": {
    "collapsed": false
   },
   "outputs": [],
   "source": [
    "def select_by_percent(counter, percent=5):\n",
    "    assert percent <= 100\n",
    "    s = sum(counter.values())\n",
    "    out = Counter()\n",
    "    for k, v in counter.most_common(len(counter)):\n",
    "        if k == \"DOID:162\":\n",
    "            continue\n",
    "        p = v/s\n",
    "        if p*100 < percent:\n",
    "            break\n",
    "        out[k] = v\n",
    "        print(f'{id_to_name[k]}: {p}')\n",
    "    return out"
   ]
  },
  {
   "cell_type": "code",
   "execution_count": 114,
   "metadata": {
    "collapsed": false
   },
   "outputs": [],
   "source": [
    "with open('out/NCI_disease_topnode_counts.csv', 'w') as f:\n",
    "    writer = csv.writer(f)\n",
    "    s1 = sum(incidence_by_topnode.values())\n",
    "    s2 = sum(mortality_by_topnode.values())\n",
    "    writer.writerow(\n",
    "        ['DOID', 'Disease Name', \n",
    "         'Estimated New Cases, 2018, US', 'Percentage',\n",
    "         'Estimated Deaths, 2018, US', 'Percentage'\n",
    "        ])\n",
    "    for k, v in incidence_by_topnode.most_common(len(incidence_by_topnode)):\n",
    "        v2 = mortality_by_topnode[k]\n",
    "        writer.writerow(\n",
    "            [k, id_to_name[k], \n",
    "             v, '{:.2%}'.format(v/s1),\n",
    "             v2, '{:.2%}'.format(v2/s2)\n",
    "            ])"
   ]
  },
  {
   "cell_type": "code",
   "execution_count": 115,
   "metadata": {
    "collapsed": false
   },
   "outputs": [
    {
     "name": "stdout",
     "output_type": "stream",
     "text": [
      "breast cancer: 0.15482179387443457\n",
      "lung cancer: 0.13486040280058778\n",
      "hematologic cancer: 0.10041202062984413\n",
      "prostate cancer: 0.09490304549514507\n",
      "skin cancer: 0.05736594923214337\n",
      "colon cancer: 0.056023280606217765\n"
     ]
    }
   ],
   "source": [
    "prevalent_incidence = select_by_percent(incidence_by_topnode)"
   ]
  },
  {
   "cell_type": "code",
   "execution_count": 116,
   "metadata": {
    "collapsed": false
   },
   "outputs": [
    {
     "name": "stdout",
     "output_type": "stream",
     "text": [
      "lung cancer: 0.25269011219736237\n",
      "hematologic cancer: 0.09530214552850863\n",
      "colon cancer: 0.08304901253198609\n",
      "pancreatic cancer: 0.07271504494455744\n",
      "breast cancer: 0.0679089298602454\n"
     ]
    }
   ],
   "source": [
    "prevalent_mortality = select_by_percent(mortality_by_topnode)"
   ]
  },
  {
   "cell_type": "code",
   "execution_count": 117,
   "metadata": {
    "collapsed": false
   },
   "outputs": [
    {
     "data": {
      "text/plain": [
       "30"
      ]
     },
     "execution_count": 117,
     "metadata": {},
     "output_type": "execute_result"
    }
   ],
   "source": [
    "len(incidence_by_topnode)"
   ]
  },
  {
   "cell_type": "code",
   "execution_count": 118,
   "metadata": {
    "collapsed": false
   },
   "outputs": [],
   "source": [
    "incidence_group_names = [id_to_name[x] for x in prevalent_incidence] + ['other cancers']\n",
    "incidence_group_sizes = list(prevalent_incidence.values()) + [\n",
    "                            sum(incidence_by_topnode.values()) - sum(prevalent_incidence.values())\n",
    "                        ]"
   ]
  },
  {
   "cell_type": "code",
   "execution_count": 119,
   "metadata": {
    "collapsed": false
   },
   "outputs": [],
   "source": [
    "mortality_group_names = [id_to_name[x] for x in prevalent_mortality] + ['other cancers']\n",
    "mortality_group_sizes = list(prevalent_mortality.values()) + [\n",
    "                            sum(mortality_by_topnode.values()) - sum(prevalent_mortality.values())\n",
    "                        ]"
   ]
  },
  {
   "cell_type": "code",
   "execution_count": 120,
   "metadata": {
    "collapsed": false
   },
   "outputs": [
    {
     "data": {
      "image/png": "[encoded data removed]",
      "text/plain": [
       "<matplotlib.figure.Figure at 0x15c606908>"
      ]
     },
     "metadata": {},
     "output_type": "display_data"
    }
   ],
   "source": [
    "RADIUS=1\n",
    "\n",
    "greens = plt.cm.Greens\n",
    "grays = plt.cm.Greys\n",
    "blues = plt.cm.Blues\n",
    "reds = plt.cm.Reds\n",
    "\n",
    "colors = [\n",
    "    greens(.85),\n",
    "    greens(.7),\n",
    "    greens(.55),\n",
    "    greens(.4),\n",
    "    greens(.25),\n",
    "    greens(.1),\n",
    "    grays(.5),\n",
    "    grays(.25)\n",
    "]\n",
    "fig1, ax1 = plt.subplots()\n",
    "pie, _ = ax1.pie(interpretation_group_sizes, colors=colors, radius=RADIUS,\n",
    "        labels=interpretation_group_names)\n",
    "ax1.axis('equal')\n",
    "plt.setp(pie, edgecolor='white')\n",
    "\n",
    "# plt.savefig(str(FIGPATH / 'disease_interpretations.pdf'))\n",
    "plt.show()"
   ]
  },
  {
   "cell_type": "code",
   "execution_count": 121,
   "metadata": {
    "collapsed": false
   },
   "outputs": [
    {
     "data": {
      "image/png": "[encoded data removed]",
      "text/plain": [
       "<matplotlib.figure.Figure at 0x1c6f2ae10>"
      ]
     },
     "metadata": {},
     "output_type": "display_data"
    }
   ],
   "source": [
    "colors = [\n",
    "    blues(.85),\n",
    "    blues(.75 * 5/6 + .1),\n",
    "    blues(.75 * 4/6 + .1),\n",
    "    blues(.75 * 3/6 + .1),\n",
    "    blues(.75 * 2/6 + .1),\n",
    "    blues(.75 * 1/6 + .1),\n",
    "    blues(.1)\n",
    "]\n",
    "\n",
    "fig1, ax1 = plt.subplots()\n",
    "pie, _ = ax1.pie(incidence_group_sizes, colors=colors, radius=RADIUS,\n",
    "        labels=incidence_group_names)\n",
    "\n",
    "ax1.axis('equal')\n",
    "plt.setp(pie, edgecolor='white')\n",
    "\n",
    "# plt.savefig(str(FIGPATH / 'disease_incidence.pdf'))\n",
    "plt.show()"
   ]
  },
  {
   "cell_type": "code",
   "execution_count": 122,
   "metadata": {
    "collapsed": false
   },
   "outputs": [
    {
     "data": {
      "image/png": "[encoded data removed]",
      "text/plain": [
       "<matplotlib.figure.Figure at 0x13ba21cc0>"
      ]
     },
     "metadata": {},
     "output_type": "display_data"
    }
   ],
   "source": [
    "colors = [\n",
    "    reds(.85),\n",
    "    reds(.7),\n",
    "    reds(.55),\n",
    "    reds(.4),\n",
    "    reds(.25),\n",
    "    reds(.1)\n",
    "]\n",
    "\n",
    "fig1, ax1 = plt.subplots()\n",
    "pie, _ = ax1.pie(mortality_group_sizes, colors=colors, radius=RADIUS,\n",
    "        labels=mortality_group_names)\n",
    "\n",
    "ax1.axis('equal')\n",
    "plt.setp(pie, edgecolor='white')\n",
    "\n",
    "# plt.savefig(str(FIGPATH / 'disease_mortality.pdf'))\n",
    "plt.show()"
   ]
  },
  {
   "cell_type": "code",
   "execution_count": 123,
   "metadata": {
    "collapsed": false
   },
   "outputs": [
    {
     "name": "stdout",
     "output_type": "stream",
     "text": [
      "KRAS Q61L confers resistance to Cetuximab in patients with Neoplasm of colorectum\n",
      "http://purl.obolibrary.org/obo/doid: DOID:1984\n",
      "DOID:1984\n",
      "molecularmatch\n"
     ]
    }
   ],
   "source": [
    "b = benign_associations[0]\n",
    "print(b.description)\n",
    "print(b.disease)\n",
    "print(b.disease.id)\n",
    "print(b.source)"
   ]
  },
  {
   "cell_type": "code",
   "execution_count": null,
   "metadata": {
    "collapsed": true
   },
   "outputs": [],
   "source": [
    "# MAKE A DISEASE/GENE PLOT: heatmap of ubiquitous gene x disease, heat = tier 1 evidence"
   ]
  },
  {
   "cell_type": "markdown",
   "metadata": {},
   "source": [
    "### Export disease counts for supplementary table"
   ]
  },
  {
   "cell_type": "code",
   "execution_count": 124,
   "metadata": {
    "collapsed": false
   },
   "outputs": [
    {
     "data": {
      "text/plain": [
       "['cgi', 'civic', 'jax', 'molecularmatch', 'oncokb', 'pmkb']"
      ]
     },
     "execution_count": 124,
     "metadata": {},
     "output_type": "execute_result"
    }
   ],
   "source": [
    "# d = cancer_associations.get_element_by_source('disease')\n",
    "# d2 = benign_associations.get_element_by_source('disease')\n",
    "d = defaultdict(Counter)\n",
    "d2 = defaultdict(Counter)\n",
    "for association in cancer_associations:\n",
    "    disease = association.disease\n",
    "    source = association.source\n",
    "    d[source][disease] += 1\n",
    "for association in benign_associations:\n",
    "    disease = association.disease\n",
    "    source = association.source\n",
    "    d2[source][disease] += 1\n",
    "sorted(d.keys())"
   ]
  },
  {
   "cell_type": "code",
   "execution_count": 125,
   "metadata": {
    "collapsed": false
   },
   "outputs": [],
   "source": [
    "diseases = set()\n",
    "cancer_diseases = set()\n",
    "benign_diseases = set()\n",
    "for x in d.values():\n",
    "    cancer_diseases.update(x)\n",
    "    diseases.update(x)\n",
    "for x in d2.values():\n",
    "    benign_diseases.update(x)\n",
    "    diseases.update(x)"
   ]
  },
  {
   "cell_type": "code",
   "execution_count": 126,
   "metadata": {
    "collapsed": false
   },
   "outputs": [],
   "source": [
    "with open('out/disease_counts.csv', 'w') as f:\n",
    "    header = ['disease', 'doid', 'TopNode_disease', 'TopNode_doid'] + sorted(d.keys())\n",
    "    writer = csv.DictWriter(f, fieldnames=header)\n",
    "    writer.writeheader()\n",
    "    counts = dict()\n",
    "    for s, v in d.items():\n",
    "        counts[s] = Counter(v)\n",
    "    for s, v in d2.items():\n",
    "        counts[s].update(Counter(v))\n",
    "    for disease in diseases:\n",
    "        if disease in cancer_diseases:\n",
    "            tn_id = topnode_map[disease.id]\n",
    "            tn_name = id_to_name[tn_id]\n",
    "        elif disease in benign_diseases:\n",
    "            tn_id = benign[disease.id]\n",
    "            tn_name = id_to_name[tn_id]\n",
    "        else:\n",
    "            raise ValueError\n",
    "        row = {\n",
    "            'disease': id_to_name[disease.id],\n",
    "            'doid': disease.id,\n",
    "            'TopNode_disease': tn_name,\n",
    "            'TopNode_doid': tn_id\n",
    "        }\n",
    "        for s in d:\n",
    "            row[s] = counts[s][disease]\n",
    "        writer.writerow(row)"
   ]
  }
 ],
 "metadata": {
  "anaconda-cloud": {},
  "kernelspec": {
   "display_name": "Python [g2p-analysis]",
   "language": "python",
   "name": "Python [g2p-analysis]"
  },
  "language_info": {
   "codemirror_mode": {
    "name": "ipython",
    "version": 3
   },
   "file_extension": ".py",
   "mimetype": "text/x-python",
   "name": "python",
   "nbconvert_exporter": "python",
   "pygments_lexer": "ipython3",
   "version": "3.6.1"
  }
 },
 "nbformat": 4,
 "nbformat_minor": 2
}
