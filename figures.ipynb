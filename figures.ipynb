{
 "cells": [
  {
   "cell_type": "markdown",
   "metadata": {},
   "source": [
    "# Data Structuring and Pruning"
   ]
  },
  {
   "cell_type": "code",
   "execution_count": 574,
   "metadata": {
    "collapsed": false
   },
   "outputs": [],
   "source": [
    "# Load datasets\n",
    "\n",
    "import json\n",
    "import pathlib\n",
    "import importlib\n",
    "from collections import defaultdict, Counter\n",
    "import pyupset as pyu\n",
    "import pandas as pd\n",
    "import matplotlib.pyplot as plt\n",
    "import numpy as np\n",
    "import re\n",
    "from matplotlib.gridspec import GridSpec\n",
    "\n",
    "from vicckb import model as viccdb\n",
    "from vicckb.definitions import DATA_ROOT\n",
    "%matplotlib inline\n",
    "\n",
    "FIGPATH = pathlib.Path('/Users/awagner/Google Drive/VICC/Manuscript/Figures')"
   ]
  },
  {
   "cell_type": "code",
   "execution_count": 575,
   "metadata": {
    "collapsed": false
   },
   "outputs": [
    {
     "ename": "KeyboardInterrupt",
     "evalue": "",
     "output_type": "error",
     "traceback": [
      "\u001b[0;31m---------------------------------------------------------------------------\u001b[0m",
      "\u001b[0;31mKeyboardInterrupt\u001b[0m                         Traceback (most recent call last)",
      "\u001b[0;32m<ipython-input-575-c8d9369c97e4>\u001b[0m in \u001b[0;36m<module>\u001b[0;34m()\u001b[0m\n\u001b[1;32m      1\u001b[0m \u001b[0;31m# reload module and load data\u001b[0m\u001b[0;34m\u001b[0m\u001b[0;34m\u001b[0m\u001b[0m\n\u001b[0;32m----> 2\u001b[0;31m \u001b[0mimportlib\u001b[0m\u001b[0;34m.\u001b[0m\u001b[0mreload\u001b[0m\u001b[0;34m(\u001b[0m\u001b[0mviccdb\u001b[0m\u001b[0;34m)\u001b[0m\u001b[0;34m\u001b[0m\u001b[0m\n\u001b[0m\u001b[1;32m      3\u001b[0m \u001b[0mvdb\u001b[0m \u001b[0;34m=\u001b[0m \u001b[0mviccdb\u001b[0m\u001b[0;34m.\u001b[0m\u001b[0mViccDb\u001b[0m\u001b[0;34m(\u001b[0m\u001b[0;34m)\u001b[0m\u001b[0;34m\u001b[0m\u001b[0m\n\u001b[1;32m      4\u001b[0m \u001b[0mvdb\u001b[0m\u001b[0;34m.\u001b[0m\u001b[0mreport_groups\u001b[0m\u001b[0;34m(\u001b[0m\u001b[0;34m)\u001b[0m\u001b[0;34m\u001b[0m\u001b[0m\n",
      "\u001b[0;32m/Users/awagner/anaconda/envs/g2p-analysis/lib/python3.6/importlib/__init__.py\u001b[0m in \u001b[0;36mreload\u001b[0;34m(module)\u001b[0m\n\u001b[1;32m    164\u001b[0m         \u001b[0mtarget\u001b[0m \u001b[0;34m=\u001b[0m \u001b[0mmodule\u001b[0m\u001b[0;34m\u001b[0m\u001b[0m\n\u001b[1;32m    165\u001b[0m         \u001b[0mspec\u001b[0m \u001b[0;34m=\u001b[0m \u001b[0mmodule\u001b[0m\u001b[0;34m.\u001b[0m\u001b[0m__spec__\u001b[0m \u001b[0;34m=\u001b[0m \u001b[0m_bootstrap\u001b[0m\u001b[0;34m.\u001b[0m\u001b[0m_find_spec\u001b[0m\u001b[0;34m(\u001b[0m\u001b[0mname\u001b[0m\u001b[0;34m,\u001b[0m \u001b[0mpkgpath\u001b[0m\u001b[0;34m,\u001b[0m \u001b[0mtarget\u001b[0m\u001b[0;34m)\u001b[0m\u001b[0;34m\u001b[0m\u001b[0m\n\u001b[0;32m--> 166\u001b[0;31m         \u001b[0m_bootstrap\u001b[0m\u001b[0;34m.\u001b[0m\u001b[0m_exec\u001b[0m\u001b[0;34m(\u001b[0m\u001b[0mspec\u001b[0m\u001b[0;34m,\u001b[0m \u001b[0mmodule\u001b[0m\u001b[0;34m)\u001b[0m\u001b[0;34m\u001b[0m\u001b[0m\n\u001b[0m\u001b[1;32m    167\u001b[0m         \u001b[0;31m# The module may have replaced itself in sys.modules!\u001b[0m\u001b[0;34m\u001b[0m\u001b[0;34m\u001b[0m\u001b[0m\n\u001b[1;32m    168\u001b[0m         \u001b[0;32mreturn\u001b[0m \u001b[0msys\u001b[0m\u001b[0;34m.\u001b[0m\u001b[0mmodules\u001b[0m\u001b[0;34m[\u001b[0m\u001b[0mname\u001b[0m\u001b[0;34m]\u001b[0m\u001b[0;34m\u001b[0m\u001b[0m\n",
      "\u001b[0;32m/Users/awagner/anaconda/envs/g2p-analysis/lib/python3.6/importlib/_bootstrap.py\u001b[0m in \u001b[0;36m_exec\u001b[0;34m(spec, module)\u001b[0m\n",
      "\u001b[0;32m/Users/awagner/anaconda/envs/g2p-analysis/lib/python3.6/importlib/_bootstrap_external.py\u001b[0m in \u001b[0;36mexec_module\u001b[0;34m(self, module)\u001b[0m\n",
      "\u001b[0;32m/Users/awagner/anaconda/envs/g2p-analysis/lib/python3.6/importlib/_bootstrap.py\u001b[0m in \u001b[0;36m_call_with_frames_removed\u001b[0;34m(f, *args, **kwds)\u001b[0m\n",
      "\u001b[0;32m/Users/awagner/Workspace/git/vicckb/vicckb/model.py\u001b[0m in \u001b[0;36m<module>\u001b[0;34m()\u001b[0m\n\u001b[1;32m     35\u001b[0m \u001b[0;32mclass\u001b[0m \u001b[0mDisease\u001b[0m\u001b[0;34m(\u001b[0m\u001b[0mElement\u001b[0m\u001b[0;34m)\u001b[0m\u001b[0;34m:\u001b[0m\u001b[0;34m\u001b[0m\u001b[0m\n\u001b[1;32m     36\u001b[0m \u001b[0;34m\u001b[0m\u001b[0m\n\u001b[0;32m---> 37\u001b[0;31m     \u001b[0;32mdef\u001b[0m \u001b[0m__init__\u001b[0m\u001b[0;34m(\u001b[0m\u001b[0mself\u001b[0m\u001b[0;34m,\u001b[0m \u001b[0mid\u001b[0m\u001b[0;34m,\u001b[0m \u001b[0msource\u001b[0m\u001b[0;34m,\u001b[0m \u001b[0mterm\u001b[0m\u001b[0;34m)\u001b[0m\u001b[0;34m:\u001b[0m\u001b[0;34m\u001b[0m\u001b[0m\n\u001b[0m\u001b[1;32m     38\u001b[0m         \u001b[0mself\u001b[0m\u001b[0;34m.\u001b[0m\u001b[0mid\u001b[0m \u001b[0;34m=\u001b[0m \u001b[0mid\u001b[0m\u001b[0;34m\u001b[0m\u001b[0m\n\u001b[1;32m     39\u001b[0m         \u001b[0mself\u001b[0m\u001b[0;34m.\u001b[0m\u001b[0msource\u001b[0m \u001b[0;34m=\u001b[0m \u001b[0msource\u001b[0m\u001b[0;34m\u001b[0m\u001b[0m\n",
      "\u001b[0;32m/Users/awagner/Workspace/git/vicckb/vicckb/model.py\u001b[0m in \u001b[0;36mDisease\u001b[0;34m()\u001b[0m\n\u001b[1;32m     53\u001b[0m     \u001b[0mDISEASE_ONTOLOGY\u001b[0m \u001b[0;34m=\u001b[0m \u001b[0mobonet\u001b[0m\u001b[0;34m.\u001b[0m\u001b[0mread_obo\u001b[0m\u001b[0;34m(\u001b[0m\u001b[0m_DISEASE_ONTOLOGY_URL\u001b[0m\u001b[0;34m)\u001b[0m\u001b[0;34m\u001b[0m\u001b[0m\n\u001b[1;32m     54\u001b[0m \u001b[0;34m\u001b[0m\u001b[0m\n\u001b[0;32m---> 55\u001b[0;31m \u001b[0;34m\u001b[0m\u001b[0m\n\u001b[0m\u001b[1;32m     56\u001b[0m \u001b[0;32mclass\u001b[0m \u001b[0mDrug\u001b[0m\u001b[0;34m(\u001b[0m\u001b[0mElement\u001b[0m\u001b[0;34m)\u001b[0m\u001b[0;34m:\u001b[0m\u001b[0;34m\u001b[0m\u001b[0m\n\u001b[1;32m     57\u001b[0m \u001b[0;34m\u001b[0m\u001b[0m\n",
      "\u001b[0;32m/Users/awagner/anaconda/envs/g2p-analysis/lib/python3.6/site-packages/obonet/read.py\u001b[0m in \u001b[0;36mread_obo\u001b[0;34m(path_or_file)\u001b[0m\n\u001b[1;32m     21\u001b[0m         \u001b[0minferred\u001b[0m \u001b[0;32mfrom\u001b[0m \u001b[0mthe\u001b[0m \u001b[0mfile\u001b[0m \u001b[0mextension\u001b[0m\u001b[0;34m.\u001b[0m\u001b[0;34m\u001b[0m\u001b[0m\n\u001b[1;32m     22\u001b[0m     \"\"\"\n\u001b[0;32m---> 23\u001b[0;31m     \u001b[0mobo_file\u001b[0m \u001b[0;34m=\u001b[0m \u001b[0mopen_read_file\u001b[0m\u001b[0;34m(\u001b[0m\u001b[0mpath_or_file\u001b[0m\u001b[0;34m)\u001b[0m\u001b[0;34m\u001b[0m\u001b[0m\n\u001b[0m\u001b[1;32m     24\u001b[0m     \u001b[0mtypedefs\u001b[0m\u001b[0;34m,\u001b[0m \u001b[0mterms\u001b[0m\u001b[0;34m,\u001b[0m \u001b[0minstances\u001b[0m\u001b[0;34m,\u001b[0m \u001b[0mheader\u001b[0m \u001b[0;34m=\u001b[0m \u001b[0mget_sections\u001b[0m\u001b[0;34m(\u001b[0m\u001b[0mobo_file\u001b[0m\u001b[0;34m)\u001b[0m\u001b[0;34m\u001b[0m\u001b[0m\n\u001b[1;32m     25\u001b[0m     \u001b[0mobo_file\u001b[0m\u001b[0;34m.\u001b[0m\u001b[0mclose\u001b[0m\u001b[0;34m(\u001b[0m\u001b[0;34m)\u001b[0m\u001b[0;34m\u001b[0m\u001b[0m\n",
      "\u001b[0;32m/Users/awagner/anaconda/envs/g2p-analysis/lib/python3.6/site-packages/obonet/io.py\u001b[0m in \u001b[0;36mopen_read_file\u001b[0;34m(path)\u001b[0m\n\u001b[1;32m     22\u001b[0m     \u001b[0;32mif\u001b[0m \u001b[0mre\u001b[0m\u001b[0;34m.\u001b[0m\u001b[0mmatch\u001b[0m\u001b[0;34m(\u001b[0m\u001b[0;34m'^(http|ftp)s?://'\u001b[0m\u001b[0;34m,\u001b[0m \u001b[0mpath\u001b[0m\u001b[0;34m)\u001b[0m\u001b[0;34m:\u001b[0m\u001b[0;34m\u001b[0m\u001b[0m\n\u001b[1;32m     23\u001b[0m         \u001b[0;32mwith\u001b[0m \u001b[0murlopen\u001b[0m\u001b[0;34m(\u001b[0m\u001b[0mpath\u001b[0m\u001b[0;34m)\u001b[0m \u001b[0;32mas\u001b[0m \u001b[0mresponse\u001b[0m\u001b[0;34m:\u001b[0m\u001b[0;34m\u001b[0m\u001b[0m\n\u001b[0;32m---> 24\u001b[0;31m             \u001b[0mcontent\u001b[0m \u001b[0;34m=\u001b[0m \u001b[0mresponse\u001b[0m\u001b[0;34m.\u001b[0m\u001b[0mread\u001b[0m\u001b[0;34m(\u001b[0m\u001b[0;34m)\u001b[0m\u001b[0;34m\u001b[0m\u001b[0m\n\u001b[0m\u001b[1;32m     25\u001b[0m         \u001b[0;32mif\u001b[0m \u001b[0mopener\u001b[0m \u001b[0;34m==\u001b[0m \u001b[0mio\u001b[0m\u001b[0;34m.\u001b[0m\u001b[0mopen\u001b[0m\u001b[0;34m:\u001b[0m\u001b[0;34m\u001b[0m\u001b[0m\n\u001b[1;32m     26\u001b[0m             \u001b[0mencoding\u001b[0m \u001b[0;34m=\u001b[0m \u001b[0mresponse\u001b[0m\u001b[0;34m.\u001b[0m\u001b[0mheaders\u001b[0m\u001b[0;34m.\u001b[0m\u001b[0mget_content_charset\u001b[0m\u001b[0;34m(\u001b[0m\u001b[0mfailobj\u001b[0m\u001b[0;34m=\u001b[0m\u001b[0;34m\"utf-8\"\u001b[0m\u001b[0;34m)\u001b[0m\u001b[0;34m\u001b[0m\u001b[0m\n",
      "\u001b[0;32m/Users/awagner/anaconda/envs/g2p-analysis/lib/python3.6/http/client.py\u001b[0m in \u001b[0;36mread\u001b[0;34m(self, amt)\u001b[0m\n\u001b[1;32m    460\u001b[0m             \u001b[0;32melse\u001b[0m\u001b[0;34m:\u001b[0m\u001b[0;34m\u001b[0m\u001b[0m\n\u001b[1;32m    461\u001b[0m                 \u001b[0;32mtry\u001b[0m\u001b[0;34m:\u001b[0m\u001b[0;34m\u001b[0m\u001b[0m\n\u001b[0;32m--> 462\u001b[0;31m                     \u001b[0ms\u001b[0m \u001b[0;34m=\u001b[0m \u001b[0mself\u001b[0m\u001b[0;34m.\u001b[0m\u001b[0m_safe_read\u001b[0m\u001b[0;34m(\u001b[0m\u001b[0mself\u001b[0m\u001b[0;34m.\u001b[0m\u001b[0mlength\u001b[0m\u001b[0;34m)\u001b[0m\u001b[0;34m\u001b[0m\u001b[0m\n\u001b[0m\u001b[1;32m    463\u001b[0m                 \u001b[0;32mexcept\u001b[0m \u001b[0mIncompleteRead\u001b[0m\u001b[0;34m:\u001b[0m\u001b[0;34m\u001b[0m\u001b[0m\n\u001b[1;32m    464\u001b[0m                     \u001b[0mself\u001b[0m\u001b[0;34m.\u001b[0m\u001b[0m_close_conn\u001b[0m\u001b[0;34m(\u001b[0m\u001b[0;34m)\u001b[0m\u001b[0;34m\u001b[0m\u001b[0m\n",
      "\u001b[0;32m/Users/awagner/anaconda/envs/g2p-analysis/lib/python3.6/http/client.py\u001b[0m in \u001b[0;36m_safe_read\u001b[0;34m(self, amt)\u001b[0m\n\u001b[1;32m    610\u001b[0m         \u001b[0ms\u001b[0m \u001b[0;34m=\u001b[0m \u001b[0;34m[\u001b[0m\u001b[0;34m]\u001b[0m\u001b[0;34m\u001b[0m\u001b[0m\n\u001b[1;32m    611\u001b[0m         \u001b[0;32mwhile\u001b[0m \u001b[0mamt\u001b[0m \u001b[0;34m>\u001b[0m \u001b[0;36m0\u001b[0m\u001b[0;34m:\u001b[0m\u001b[0;34m\u001b[0m\u001b[0m\n\u001b[0;32m--> 612\u001b[0;31m             \u001b[0mchunk\u001b[0m \u001b[0;34m=\u001b[0m \u001b[0mself\u001b[0m\u001b[0;34m.\u001b[0m\u001b[0mfp\u001b[0m\u001b[0;34m.\u001b[0m\u001b[0mread\u001b[0m\u001b[0;34m(\u001b[0m\u001b[0mmin\u001b[0m\u001b[0;34m(\u001b[0m\u001b[0mamt\u001b[0m\u001b[0;34m,\u001b[0m \u001b[0mMAXAMOUNT\u001b[0m\u001b[0;34m)\u001b[0m\u001b[0;34m)\u001b[0m\u001b[0;34m\u001b[0m\u001b[0m\n\u001b[0m\u001b[1;32m    613\u001b[0m             \u001b[0;32mif\u001b[0m \u001b[0;32mnot\u001b[0m \u001b[0mchunk\u001b[0m\u001b[0;34m:\u001b[0m\u001b[0;34m\u001b[0m\u001b[0m\n\u001b[1;32m    614\u001b[0m                 \u001b[0;32mraise\u001b[0m \u001b[0mIncompleteRead\u001b[0m\u001b[0;34m(\u001b[0m\u001b[0;34mb''\u001b[0m\u001b[0;34m.\u001b[0m\u001b[0mjoin\u001b[0m\u001b[0;34m(\u001b[0m\u001b[0ms\u001b[0m\u001b[0;34m)\u001b[0m\u001b[0;34m,\u001b[0m \u001b[0mamt\u001b[0m\u001b[0;34m)\u001b[0m\u001b[0;34m\u001b[0m\u001b[0m\n",
      "\u001b[0;32m/Users/awagner/anaconda/envs/g2p-analysis/lib/python3.6/socket.py\u001b[0m in \u001b[0;36mreadinto\u001b[0;34m(self, b)\u001b[0m\n\u001b[1;32m    584\u001b[0m         \u001b[0;32mwhile\u001b[0m \u001b[0;32mTrue\u001b[0m\u001b[0;34m:\u001b[0m\u001b[0;34m\u001b[0m\u001b[0m\n\u001b[1;32m    585\u001b[0m             \u001b[0;32mtry\u001b[0m\u001b[0;34m:\u001b[0m\u001b[0;34m\u001b[0m\u001b[0m\n\u001b[0;32m--> 586\u001b[0;31m                 \u001b[0;32mreturn\u001b[0m \u001b[0mself\u001b[0m\u001b[0;34m.\u001b[0m\u001b[0m_sock\u001b[0m\u001b[0;34m.\u001b[0m\u001b[0mrecv_into\u001b[0m\u001b[0;34m(\u001b[0m\u001b[0mb\u001b[0m\u001b[0;34m)\u001b[0m\u001b[0;34m\u001b[0m\u001b[0m\n\u001b[0m\u001b[1;32m    587\u001b[0m             \u001b[0;32mexcept\u001b[0m \u001b[0mtimeout\u001b[0m\u001b[0;34m:\u001b[0m\u001b[0;34m\u001b[0m\u001b[0m\n\u001b[1;32m    588\u001b[0m                 \u001b[0mself\u001b[0m\u001b[0;34m.\u001b[0m\u001b[0m_timeout_occurred\u001b[0m \u001b[0;34m=\u001b[0m \u001b[0;32mTrue\u001b[0m\u001b[0;34m\u001b[0m\u001b[0m\n",
      "\u001b[0;32m/Users/awagner/anaconda/envs/g2p-analysis/lib/python3.6/ssl.py\u001b[0m in \u001b[0;36mrecv_into\u001b[0;34m(self, buffer, nbytes, flags)\u001b[0m\n\u001b[1;32m   1000\u001b[0m                   \u001b[0;34m\"non-zero flags not allowed in calls to recv_into() on %s\"\u001b[0m \u001b[0;34m%\u001b[0m\u001b[0;34m\u001b[0m\u001b[0m\n\u001b[1;32m   1001\u001b[0m                   self.__class__)\n\u001b[0;32m-> 1002\u001b[0;31m             \u001b[0;32mreturn\u001b[0m \u001b[0mself\u001b[0m\u001b[0;34m.\u001b[0m\u001b[0mread\u001b[0m\u001b[0;34m(\u001b[0m\u001b[0mnbytes\u001b[0m\u001b[0;34m,\u001b[0m \u001b[0mbuffer\u001b[0m\u001b[0;34m)\u001b[0m\u001b[0;34m\u001b[0m\u001b[0m\n\u001b[0m\u001b[1;32m   1003\u001b[0m         \u001b[0;32melse\u001b[0m\u001b[0;34m:\u001b[0m\u001b[0;34m\u001b[0m\u001b[0m\n\u001b[1;32m   1004\u001b[0m             \u001b[0;32mreturn\u001b[0m \u001b[0msocket\u001b[0m\u001b[0;34m.\u001b[0m\u001b[0mrecv_into\u001b[0m\u001b[0;34m(\u001b[0m\u001b[0mself\u001b[0m\u001b[0;34m,\u001b[0m \u001b[0mbuffer\u001b[0m\u001b[0;34m,\u001b[0m \u001b[0mnbytes\u001b[0m\u001b[0;34m,\u001b[0m \u001b[0mflags\u001b[0m\u001b[0;34m)\u001b[0m\u001b[0;34m\u001b[0m\u001b[0m\n",
      "\u001b[0;32m/Users/awagner/anaconda/envs/g2p-analysis/lib/python3.6/ssl.py\u001b[0m in \u001b[0;36mread\u001b[0;34m(self, len, buffer)\u001b[0m\n\u001b[1;32m    863\u001b[0m             \u001b[0;32mraise\u001b[0m \u001b[0mValueError\u001b[0m\u001b[0;34m(\u001b[0m\u001b[0;34m\"Read on closed or unwrapped SSL socket.\"\u001b[0m\u001b[0;34m)\u001b[0m\u001b[0;34m\u001b[0m\u001b[0m\n\u001b[1;32m    864\u001b[0m         \u001b[0;32mtry\u001b[0m\u001b[0;34m:\u001b[0m\u001b[0;34m\u001b[0m\u001b[0m\n\u001b[0;32m--> 865\u001b[0;31m             \u001b[0;32mreturn\u001b[0m \u001b[0mself\u001b[0m\u001b[0;34m.\u001b[0m\u001b[0m_sslobj\u001b[0m\u001b[0;34m.\u001b[0m\u001b[0mread\u001b[0m\u001b[0;34m(\u001b[0m\u001b[0mlen\u001b[0m\u001b[0;34m,\u001b[0m \u001b[0mbuffer\u001b[0m\u001b[0;34m)\u001b[0m\u001b[0;34m\u001b[0m\u001b[0m\n\u001b[0m\u001b[1;32m    866\u001b[0m         \u001b[0;32mexcept\u001b[0m \u001b[0mSSLError\u001b[0m \u001b[0;32mas\u001b[0m \u001b[0mx\u001b[0m\u001b[0;34m:\u001b[0m\u001b[0;34m\u001b[0m\u001b[0m\n\u001b[1;32m    867\u001b[0m             \u001b[0;32mif\u001b[0m \u001b[0mx\u001b[0m\u001b[0;34m.\u001b[0m\u001b[0margs\u001b[0m\u001b[0;34m[\u001b[0m\u001b[0;36m0\u001b[0m\u001b[0;34m]\u001b[0m \u001b[0;34m==\u001b[0m \u001b[0mSSL_ERROR_EOF\u001b[0m \u001b[0;32mand\u001b[0m \u001b[0mself\u001b[0m\u001b[0;34m.\u001b[0m\u001b[0msuppress_ragged_eofs\u001b[0m\u001b[0;34m:\u001b[0m\u001b[0;34m\u001b[0m\u001b[0m\n",
      "\u001b[0;32m/Users/awagner/anaconda/envs/g2p-analysis/lib/python3.6/ssl.py\u001b[0m in \u001b[0;36mread\u001b[0;34m(self, len, buffer)\u001b[0m\n\u001b[1;32m    623\u001b[0m         \"\"\"\n\u001b[1;32m    624\u001b[0m         \u001b[0;32mif\u001b[0m \u001b[0mbuffer\u001b[0m \u001b[0;32mis\u001b[0m \u001b[0;32mnot\u001b[0m \u001b[0;32mNone\u001b[0m\u001b[0;34m:\u001b[0m\u001b[0;34m\u001b[0m\u001b[0m\n\u001b[0;32m--> 625\u001b[0;31m             \u001b[0mv\u001b[0m \u001b[0;34m=\u001b[0m \u001b[0mself\u001b[0m\u001b[0;34m.\u001b[0m\u001b[0m_sslobj\u001b[0m\u001b[0;34m.\u001b[0m\u001b[0mread\u001b[0m\u001b[0;34m(\u001b[0m\u001b[0mlen\u001b[0m\u001b[0;34m,\u001b[0m \u001b[0mbuffer\u001b[0m\u001b[0;34m)\u001b[0m\u001b[0;34m\u001b[0m\u001b[0m\n\u001b[0m\u001b[1;32m    626\u001b[0m         \u001b[0;32melse\u001b[0m\u001b[0;34m:\u001b[0m\u001b[0;34m\u001b[0m\u001b[0m\n\u001b[1;32m    627\u001b[0m             \u001b[0mv\u001b[0m \u001b[0;34m=\u001b[0m \u001b[0mself\u001b[0m\u001b[0;34m.\u001b[0m\u001b[0m_sslobj\u001b[0m\u001b[0;34m.\u001b[0m\u001b[0mread\u001b[0m\u001b[0;34m(\u001b[0m\u001b[0mlen\u001b[0m\u001b[0;34m)\u001b[0m\u001b[0;34m\u001b[0m\u001b[0m\n",
      "\u001b[0;31mKeyboardInterrupt\u001b[0m: "
     ]
    }
   ],
   "source": [
    "# reload module and load data\n",
    "importlib.reload(viccdb)\n",
    "vdb = viccdb.ViccDb()\n",
    "vdb.report_groups()"
   ]
  },
  {
   "cell_type": "code",
   "execution_count": null,
   "metadata": {
    "collapsed": false
   },
   "outputs": [],
   "source": [
    "# for now, omit brca from analysis\n",
    "brca = vdb.select(lambda x: x['source'] == 'brca')\n",
    "core_vdb = vdb - brca\n",
    "core_vdb.report_groups()"
   ]
  },
  {
   "cell_type": "code",
   "execution_count": null,
   "metadata": {
    "collapsed": false
   },
   "outputs": [],
   "source": [
    "# remove biological associations\n",
    "oncokb_biological = core_vdb.select(lambda x: x['source'] == 'oncokb' and 'biological' in x['raw'])\n",
    "oncokb_biological.report_groups(core_vdb)\n",
    "core_vdb = core_vdb - oncokb_biological"
   ]
  },
  {
   "cell_type": "markdown",
   "metadata": {},
   "source": [
    "## Evidence Uniqueness\n",
    "\n",
    "This section deals with non-unique entries from the database. This is a temporary measure until the importers are fixed. As such, it uses private variables and non-standard methods to hack around the built-in uniqueness assumptions that are violated by these data. Remove this entire section once the source hash checks pass."
   ]
  },
  {
   "cell_type": "code",
   "execution_count": null,
   "metadata": {
    "collapsed": false
   },
   "outputs": [],
   "source": [
    "core_vdb.report_groups()"
   ]
  },
  {
   "cell_type": "code",
   "execution_count": null,
   "metadata": {
    "collapsed": false
   },
   "outputs": [],
   "source": [
    "# Non-unique raw entries\n",
    "raw_duplicates = core_vdb.select(lambda x: len(core_vdb._hashed[hash(x)]) > 1)\n",
    "raw_duplicates.report_groups(core_vdb)"
   ]
  },
  {
   "cell_type": "code",
   "execution_count": null,
   "metadata": {
    "collapsed": false
   },
   "outputs": [],
   "source": [
    "cgi_dups = raw_duplicates.by_source('cgi')\n",
    "cgi_clean = [x for x in cgi_dups if x['raw']['Drug status']]\n",
    "test = viccdb.ViccDb([x for x in core_vdb if x not in cgi_dups] + list(cgi_clean))\n",
    "test.report_groups(core_vdb)"
   ]
  },
  {
   "cell_type": "code",
   "execution_count": null,
   "metadata": {
    "collapsed": true
   },
   "outputs": [],
   "source": [
    "# Test matches expectation, moving to core\n",
    "core_vdb = test"
   ]
  },
  {
   "cell_type": "code",
   "execution_count": null,
   "metadata": {
    "collapsed": true
   },
   "outputs": [],
   "source": [
    "pmkb_dups = raw_duplicates.by_source('pmkb')"
   ]
  },
  {
   "cell_type": "code",
   "execution_count": null,
   "metadata": {
    "collapsed": false
   },
   "outputs": [],
   "source": [
    "len(pmkb_dups._hashed)"
   ]
  },
  {
   "cell_type": "code",
   "execution_count": null,
   "metadata": {
    "collapsed": false
   },
   "outputs": [],
   "source": [
    "len(pmkb_dups)"
   ]
  },
  {
   "cell_type": "code",
   "execution_count": null,
   "metadata": {
    "collapsed": true
   },
   "outputs": [],
   "source": [
    "merged_associations = list()\n",
    "for hash_key, equivalent_associations in pmkb_dups._hashed.items():\n",
    "    root_association = equivalent_associations.pop()\n",
    "    for other_association in equivalent_associations:\n",
    "        root_association['features'].append(other_association['features'][0])\n",
    "    merged_associations.append(root_association)"
   ]
  },
  {
   "cell_type": "code",
   "execution_count": null,
   "metadata": {
    "collapsed": false
   },
   "outputs": [],
   "source": [
    "test = viccdb.ViccDb([x for x in core_vdb if x not in merged_associations] + list(merged_associations))\n",
    "test.report_groups(core_vdb)"
   ]
  },
  {
   "cell_type": "code",
   "execution_count": null,
   "metadata": {
    "collapsed": false
   },
   "outputs": [],
   "source": [
    "x = len(core_vdb.by_source('pmkb')) - len(pmkb_dups) + len(pmkb_dups._hashed)\n",
    "print(\"Expecting {} associations for PMKB\".format(x))"
   ]
  },
  {
   "cell_type": "code",
   "execution_count": null,
   "metadata": {
    "collapsed": true
   },
   "outputs": [],
   "source": [
    "# Test matches expectation, moving to core\n",
    "core_vdb = test"
   ]
  },
  {
   "cell_type": "markdown",
   "metadata": {},
   "source": [
    "## Evidence filtering\n",
    "\n",
    "Removal of all evidence without associated publications, followed by removal of all associations without evidence."
   ]
  },
  {
   "cell_type": "code",
   "execution_count": null,
   "metadata": {
    "collapsed": false
   },
   "outputs": [],
   "source": [
    "def clean_refs(association):\n",
    "    evidences = association['association']['evidence']\n",
    "    evidence_indices_to_delete = list()\n",
    "    for i, evidence in enumerate(evidences):\n",
    "        assert isinstance(publications, list)\n",
    "        publications = [x for x in evidence['info']['publications'] if x]\n",
    "        evidence['info']['publications'] = publications\n",
    "        if not publications:\n",
    "            evidence_indices_to_delete.append(i)\n",
    "    for index in sorted(evidence_indices_to_delete, reverse=True):\n",
    "        del association['association']['evidence'][index]\n",
    "\n",
    "map(clean_refs, core_vdb)\n",
    "core_missing_ref = core_vdb.select(lambda x: not any(x.publications))\n",
    "core_missing_ref.report_groups(core_vdb)\n",
    "core_vdb = core_vdb - core_missing_ref"
   ]
  },
  {
   "cell_type": "code",
   "execution_count": null,
   "metadata": {
    "collapsed": false
   },
   "outputs": [],
   "source": [
    "core_vdb.report_groups()"
   ]
  },
  {
   "cell_type": "code",
   "execution_count": null,
   "metadata": {
    "collapsed": false
   },
   "outputs": [],
   "source": [
    "# All associations should have an evidence level\n",
    "\n",
    "core_vdb.select(lambda x: not x.evidence_level).report_groups(core_vdb)"
   ]
  },
  {
   "cell_type": "markdown",
   "metadata": {},
   "source": [
    "## Feature coordinates\n",
    "\n",
    "What follows is a detailed look at associations without start and end coordinates after normalization, and a set of regular expression filters to separate out these associations into chunks that can be annotated with gene- or exon-level coordinates, as appropriate."
   ]
  },
  {
   "cell_type": "code",
   "execution_count": null,
   "metadata": {
    "collapsed": false
   },
   "outputs": [],
   "source": [
    "# Associations with more than 1 feature\n",
    "x = core_vdb.select(lambda x: len(x.features) > 1)\n",
    "x.report_groups(vdb)"
   ]
  },
  {
   "cell_type": "code",
   "execution_count": null,
   "metadata": {
    "collapsed": false
   },
   "outputs": [],
   "source": [
    "# Associations without at least 1 complete and valid feature\n",
    "no_features = core_vdb.select(lambda x: len(x.features) == 0)\n",
    "no_features.report_groups(vdb)"
   ]
  },
  {
   "cell_type": "code",
   "execution_count": null,
   "metadata": {
    "collapsed": false
   },
   "outputs": [],
   "source": [
    "vdb[0]['association']['phenotype']"
   ]
  },
  {
   "cell_type": "code",
   "execution_count": null,
   "metadata": {
    "collapsed": false
   },
   "outputs": [],
   "source": [
    "# Associations with coordinate features\n",
    "coord_featured = core_vdb - no_features\n",
    "coord_featured.report_groups(core_vdb)"
   ]
  },
  {
   "cell_type": "markdown",
   "metadata": {},
   "source": [
    "### Remainder of section is inactivated code for identifying associations without coordinates\n",
    "\n",
    "import re\n",
    "\n",
    "def feature_filter(re_obj, associations):\n",
    "    # report matches and return non-matches\n",
    "    found = list(filter(lambda x: re_obj.search(x['feature_names']) is not None, associations))\n",
    "    not_found = list(filter(lambda x: re_obj.search(x['feature_names']) is None, associations))\n",
    "    report_groups(found)\n",
    "    return(not_found)\n",
    "\n",
    "amp_re = re.compile(r'(amplification)|(loss)|(amp)', re.IGNORECASE)\n",
    "remainder = feature_filter(amp_re, no_partial_coord_featured_with_feature_names)"
   ]
  },
  {
   "cell_type": "markdown",
   "metadata": {},
   "source": [
    "fusion_re = re.compile(r'(\\w{2,}-\\w{2,})|(fusion)', re.IGNORECASE)\n",
    "r2 = feature_filter(fusion_re, remainder)"
   ]
  },
  {
   "cell_type": "markdown",
   "metadata": {},
   "source": [
    "ppm_re = re.compile(r'\\w+(:| )[a-z]\\d+[a-z]?(fs\\*?)?$', re.IGNORECASE)\n",
    "r3 = feature_filter(ppm_re, r2)"
   ]
  },
  {
   "cell_type": "markdown",
   "metadata": {},
   "source": [
    "indel_re = re.compile(r'\\w+(:| )\\w+(ins\\w+)|(del($|ins\\w+))|(dup$)')\n",
    "r4 = feature_filter(indel_re, r3)"
   ]
  },
  {
   "cell_type": "markdown",
   "metadata": {},
   "source": [
    "bucket_re = re.compile(r'[A-Z0-9]+( (in)?act)?( oncogenic)? mut((ant)|(ation))?$')\n",
    "r5 = feature_filter(bucket_re, r4)"
   ]
  },
  {
   "cell_type": "markdown",
   "metadata": {},
   "source": [
    "exon_re = re.compile(r'exon', re.IGNORECASE)\n",
    "r6 = feature_filter(exon_re, r5)"
   ]
  },
  {
   "cell_type": "markdown",
   "metadata": {},
   "source": [
    "expression_re = re.compile(r'(exp)|(^\\w+ (pos(itive)?)|(neg(ative)?)|(biallelic inactivation)$)|(truncating)|(deletion)', re.IGNORECASE)\n",
    "r7 = feature_filter(expression_re, r6)"
   ]
  },
  {
   "cell_type": "markdown",
   "metadata": {},
   "source": [
    "report_groups(r7)"
   ]
  },
  {
   "cell_type": "markdown",
   "metadata": {},
   "source": [
    "get_feature_names([x for x in r7 if x['source'] == 'cgi'])"
   ]
  },
  {
   "cell_type": "markdown",
   "metadata": {},
   "source": [
    "## Diseases"
   ]
  },
  {
   "cell_type": "code",
   "execution_count": null,
   "metadata": {
    "collapsed": false
   },
   "outputs": [],
   "source": [
    "disease_missing = core_vdb.select(lambda x: x.disease is None)\n",
    "disease_missing.report_groups(core_vdb)"
   ]
  },
  {
   "cell_type": "code",
   "execution_count": null,
   "metadata": {
    "collapsed": false
   },
   "outputs": [],
   "source": [
    "disease_missing[0]['association']"
   ]
  },
  {
   "cell_type": "markdown",
   "metadata": {},
   "source": [
    "## Drugs"
   ]
  },
  {
   "cell_type": "code",
   "execution_count": null,
   "metadata": {
    "collapsed": false
   },
   "outputs": [],
   "source": [
    "drugs_missing = core_vdb.select(lambda x: len(x.drugs) == 0)\n",
    "drugs_missing.report_groups(core_vdb)"
   ]
  },
  {
   "cell_type": "markdown",
   "metadata": {},
   "source": [
    "## Genes"
   ]
  },
  {
   "cell_type": "code",
   "execution_count": null,
   "metadata": {
    "collapsed": false
   },
   "outputs": [],
   "source": [
    "ambiguous = list()\n",
    "for a in core_vdb:\n",
    "    a.genes\n",
    "\n",
    "# assert len(ambiguous) == 0  # Ensure there are no ambiguous genes from knowledgebases"
   ]
  },
  {
   "cell_type": "markdown",
   "metadata": {},
   "source": [
    "## Cache\n",
    "\n",
    "Saving core_vdb to cache for testing."
   ]
  },
  {
   "cell_type": "code",
   "execution_count": null,
   "metadata": {
    "collapsed": true
   },
   "outputs": [],
   "source": [
    "core_vdb.cache_data()"
   ]
  },
  {
   "cell_type": "markdown",
   "metadata": {},
   "source": [
    "# Knowledgebase Comparison"
   ]
  },
  {
   "cell_type": "markdown",
   "metadata": {},
   "source": [
    "## Publications\n",
    "\n",
    "### All publications"
   ]
  },
  {
   "cell_type": "code",
   "execution_count": null,
   "metadata": {
    "collapsed": false
   },
   "outputs": [],
   "source": [
    "x = core_vdb.plot_element_by_source('publications', min_bound=4)\n",
    "# f = x['figure']\n",
    "# f.savefig('out/publications.pdf')"
   ]
  },
  {
   "cell_type": "code",
   "execution_count": null,
   "metadata": {
    "collapsed": false
   },
   "outputs": [],
   "source": [
    "# Publications uniquely cited\n",
    "data = x['input_data']\n",
    "total = 0\n",
    "for source in data:\n",
    "    publications_from_elsewhere = set()\n",
    "    for source2 in data:\n",
    "        if source == source2:\n",
    "            continue\n",
    "        publications_from_elsewhere.update(data[source2])\n",
    "    unique = data[source] - publications_from_elsewhere\n",
    "    print(\"{}: {} resource-specific publications\".format(source, len(unique)))\n",
    "    total += len(unique)\n",
    "print(\"{} ({:.2%}) total resource-specific publications\".format(total, total / len(set.union(*(data.values())))))"
   ]
  },
  {
   "cell_type": "code",
   "execution_count": null,
   "metadata": {
    "collapsed": false
   },
   "outputs": [],
   "source": [
    "x = core_vdb.element_by_source_stats('publications')\n",
    "x['ubiquitous'] # Bose et al. Cancer Discovery 2013"
   ]
  },
  {
   "cell_type": "markdown",
   "metadata": {},
   "source": [
    "### PMIDs"
   ]
  },
  {
   "cell_type": "code",
   "execution_count": null,
   "metadata": {
    "collapsed": false
   },
   "outputs": [],
   "source": [
    "x = core_vdb.plot_element_by_source('publications', lambda x: x.pmid, min_bound=3)\n",
    "# f = x['figure']\n",
    "# f.savefig('out/pmids.pdf')"
   ]
  },
  {
   "cell_type": "code",
   "execution_count": null,
   "metadata": {
    "collapsed": false
   },
   "outputs": [],
   "source": [
    "x = core_vdb.element_by_source_stats('publications', lambda x: x.pmid)\n",
    "x['ubiquitous'] # Bose et al. Cancer Discovery 2013"
   ]
  },
  {
   "cell_type": "markdown",
   "metadata": {},
   "source": [
    "## Genes"
   ]
  },
  {
   "cell_type": "code",
   "execution_count": null,
   "metadata": {
    "collapsed": false
   },
   "outputs": [],
   "source": [
    "no_genes = core_vdb.select(lambda x: not x.genes)\n",
    "no_genes.report_groups(core_vdb)"
   ]
  },
  {
   "cell_type": "code",
   "execution_count": null,
   "metadata": {
    "collapsed": false
   },
   "outputs": [],
   "source": [
    "with_genes = core_vdb - no_genes\n",
    "x = with_genes.plot_element_by_source('genes')\n",
    "# f = x['figure']\n",
    "# f.savefig('out/genes.pdf')"
   ]
  },
  {
   "cell_type": "code",
   "execution_count": null,
   "metadata": {
    "collapsed": false
   },
   "outputs": [],
   "source": [
    "x = with_genes.element_by_source_stats('genes')\n",
    "x['ubiquitous']"
   ]
  },
  {
   "cell_type": "markdown",
   "metadata": {
    "collapsed": true
   },
   "source": [
    "## Features"
   ]
  },
  {
   "cell_type": "code",
   "execution_count": null,
   "metadata": {
    "collapsed": false
   },
   "outputs": [],
   "source": [
    "x = core_vdb.plot_element_by_source('features', min_bound=5)\n",
    "# f = x['figure']\n",
    "# f.savefig('out/features.pdf')"
   ]
  },
  {
   "cell_type": "code",
   "execution_count": null,
   "metadata": {
    "collapsed": false
   },
   "outputs": [],
   "source": [
    "x = core_vdb.element_by_source_stats('features')"
   ]
  },
  {
   "cell_type": "markdown",
   "metadata": {},
   "source": [
    "### Tier 1 variants\n"
   ]
  },
  {
   "cell_type": "code",
   "execution_count": null,
   "metadata": {
    "collapsed": false
   },
   "outputs": [],
   "source": [
    "tier1 = core_vdb.select(lambda x: x.evidence_level in ['A', 'B'])\n",
    "genes = set()\n",
    "features = set()\n",
    "for a in tier1:\n",
    "    genes.update(a.genes)\n",
    "    features.update(a.features)\n",
    "print(len(genes))\n",
    "print(len(features))"
   ]
  },
  {
   "cell_type": "markdown",
   "metadata": {},
   "source": [
    "### Hierarchical search\n",
    "Existing method is to find an exact match of any features for an association. Below we demonstrate gains through hierarchical search of GenomicFeatures, a core result of this effort."
   ]
  },
  {
   "cell_type": "code",
   "execution_count": null,
   "metadata": {
    "collapsed": false
   },
   "outputs": [],
   "source": [
    "hits = core_vdb.search_by_feature(chromosome=7, start=140453136, end=140453136, reference_name='GRCh37')\n",
    "\n",
    "v600k = [x['best_match']['p'] for x in hits if x['best_match']['feature'].name.endswith('V600K')]\n",
    "len(v600k)"
   ]
  },
  {
   "cell_type": "code",
   "execution_count": null,
   "metadata": {
    "collapsed": false
   },
   "outputs": [],
   "source": [
    "unique_features = set()\n",
    "x = [x.features for x in core_vdb]\n",
    "for fset in x:\n",
    "    unique_features.update(fset)\n",
    "unique_features = list(unique_features)\n",
    "len(unique_features)"
   ]
  },
  {
   "cell_type": "code",
   "execution_count": 44,
   "metadata": {
    "collapsed": true
   },
   "outputs": [],
   "source": [
    "# This is a computationally expensive operation (~1 minute for the 2800 searches). Could be sped up through indexed searching.\n",
    "\n",
    "# feature_hits = dict()\n",
    "# for feature in unique_features:\n",
    "#     feature_hits[feature] = core_vdb.search_by_feature(genomic_feature=feature)\n",
    "\n",
    "# New method\n",
    "\n",
    "feature_hits = core_vdb.search_by_features(genomic_features=unique_features)\n"
   ]
  },
  {
   "cell_type": "code",
   "execution_count": 45,
   "metadata": {
    "collapsed": false
   },
   "outputs": [
    {
     "data": {
      "text/plain": [
       "Counter({'exact': 21499,\n",
       "         'focal': 62477,\n",
       "         'positional': 34836,\n",
       "         'regional': 285490})"
      ]
     },
     "execution_count": 45,
     "metadata": {},
     "output_type": "execute_result"
    }
   ],
   "source": [
    "ranking = viccdb.ViccDb.MATCH_RANKING\n",
    "hits_by_type = Counter()\n",
    "sources_by_type = defaultdict(Counter)\n",
    "for f in unique_features:\n",
    "    for match_type in ranking:\n",
    "        typed_hits = [x for x in feature_hits[f] if ranking.index(x['best_match']['type']) <= ranking.index(match_type)]\n",
    "        if match_type != 'exact' or f.alt:\n",
    "            assert len(typed_hits) >= 1, \"Expected at least a self-match for feature {}\".format(f)\n",
    "        hits_by_type[match_type] += len(typed_hits)\n",
    "        sources = set([hit['association'].source for hit in typed_hits])\n",
    "        if sources:\n",
    "            sources_by_type[len(sources)][match_type] += 1\n",
    "hits_by_type"
   ]
  },
  {
   "cell_type": "code",
   "execution_count": 46,
   "metadata": {
    "collapsed": false
   },
   "outputs": [
    {
     "data": {
      "text/plain": [
       "defaultdict(collections.Counter,\n",
       "            {1: Counter({'exact': 2387,\n",
       "                      'focal': 2126,\n",
       "                      'positional': 2391,\n",
       "                      'regional': 493}),\n",
       "             2: Counter({'exact': 461,\n",
       "                      'focal': 654,\n",
       "                      'positional': 610,\n",
       "                      'regional': 439}),\n",
       "             3: Counter({'exact': 153,\n",
       "                      'focal': 305,\n",
       "                      'positional': 274,\n",
       "                      'regional': 751}),\n",
       "             4: Counter({'exact': 55,\n",
       "                      'focal': 173,\n",
       "                      'positional': 110,\n",
       "                      'regional': 372}),\n",
       "             5: Counter({'exact': 20,\n",
       "                      'focal': 114,\n",
       "                      'positional': 49,\n",
       "                      'regional': 915}),\n",
       "             6: Counter({'exact': 7,\n",
       "                      'focal': 77,\n",
       "                      'positional': 15,\n",
       "                      'regional': 479})})"
      ]
     },
     "execution_count": 46,
     "metadata": {},
     "output_type": "execute_result"
    }
   ],
   "source": [
    "sources_by_type"
   ]
  },
  {
   "cell_type": "code",
   "execution_count": 47,
   "metadata": {
    "collapsed": false
   },
   "outputs": [
    {
     "data": {
      "image/png": "[encoded data removed]",
      "text/plain": [
       "<matplotlib.figure.Figure at 0x13a698128>"
      ]
     },
     "metadata": {},
     "output_type": "display_data"
    }
   ],
   "source": [
    "fig, ax = plt.subplots()\n",
    "\n",
    "source_counts = sorted(sources_by_type)\n",
    "groups = viccdb.ViccDb.MATCH_RANKING\n",
    "width = 0.15\n",
    "plot_elements = list()\n",
    "ind = np.arange(len(groups))\n",
    "for i, source_count in enumerate(source_counts):\n",
    "    type_counts = sources_by_type[source_count]\n",
    "    x = [type_counts[k] for k in groups]\n",
    "    p = ax.bar(ind + width*(i-2.5), x, width, label=source_count)\n",
    "    plot_elements.append(p)\n",
    "ax.set_xticks(ind)\n",
    "ax.set_xticklabels(groups)\n",
    "handles, labels = ax.get_legend_handles_labels()\n",
    "ax.legend(handles, labels, title='Sources')\n",
    "plt.ylabel('Matched Interpretations')\n",
    "plt.show()\n",
    "fig.savefig('out/search_performance.pdf', format='pdf')"
   ]
  },
  {
   "cell_type": "code",
   "execution_count": 48,
   "metadata": {
    "collapsed": false
   },
   "outputs": [
    {
     "data": {
      "text/plain": [
       "Counter({1: 2520,\n",
       "         '100+': 507,\n",
       "         3: 100,\n",
       "         2: 190,\n",
       "         '10-99': 108,\n",
       "         8: 5,\n",
       "         6: 3,\n",
       "         9: 1,\n",
       "         5: 6,\n",
       "         7: 2,\n",
       "         4: 7})"
      ]
     },
     "execution_count": 48,
     "metadata": {},
     "output_type": "execute_result"
    }
   ],
   "source": [
    "c = Counter()\n",
    "for f in unique_features:\n",
    "    if len(f) > 9 and len(f) < 100:\n",
    "        l = '10-99'\n",
    "    elif len(f) >= 100:\n",
    "        l = '100+'\n",
    "    else:\n",
    "        l = len(f)\n",
    "    c[l] += 1\n",
    "c"
   ]
  },
  {
   "cell_type": "markdown",
   "metadata": {},
   "source": [
    "### Sequence Ontology"
   ]
  },
  {
   "cell_type": "code",
   "execution_count": 49,
   "metadata": {
    "collapsed": true
   },
   "outputs": [],
   "source": [
    "count = Counter()\n",
    "for association in core_vdb:\n",
    "    for feature in association.features:\n",
    "        count[feature.so.get('name', 'Uncategorized')] += 1"
   ]
  },
  {
   "cell_type": "code",
   "execution_count": 50,
   "metadata": {
    "collapsed": false
   },
   "outputs": [
    {
     "data": {
      "text/plain": [
       "[('substitution', 10176),\n",
       " ('Uncategorized', 7070),\n",
       " ('missense_variant', 2983),\n",
       " ('fusion', 2071),\n",
       " ('stop_gained', 1214),\n",
       " ('feature_amplification', 555),\n",
       " ('wild_type', 391),\n",
       " ('deletion', 264),\n",
       " ('loss_of_function_variant', 242),\n",
       " ('copy_number_loss', 207)]"
      ]
     },
     "execution_count": 50,
     "metadata": {},
     "output_type": "execute_result"
    }
   ],
   "source": [
    "count.most_common(10)"
   ]
  },
  {
   "cell_type": "code",
   "execution_count": 51,
   "metadata": {
    "collapsed": false
   },
   "outputs": [
    {
     "data": {
      "text/plain": [
       "0.307155258394592"
      ]
     },
     "execution_count": 51,
     "metadata": {},
     "output_type": "execute_result"
    }
   ],
   "source": [
    "(5052 + 3263) / sum(count.values())"
   ]
  },
  {
   "cell_type": "code",
   "execution_count": 52,
   "metadata": {
    "collapsed": false
   },
   "outputs": [
    {
     "name": "stdout",
     "output_type": "stream",
     "text": [
      "cgi: 31 (2.9% of superset)\n",
      "civic: 384 (11.5% of superset)\n",
      "jax: 2432 (42.3% of superset)\n",
      "molecularmatch: 496 (23.8% of superset)\n",
      "oncokb: 78 (31.6% of superset)\n",
      "pmkb: 110 (29.8% of superset)\n",
      "Total: 3531 (27.5% of superset)\n"
     ]
    }
   ],
   "source": [
    "# Associations lacking any sequence ontology ID\n",
    "\n",
    "def no_soid(association):\n",
    "    x = [feature.so.get('name', 'Uncategorized') == 'Uncategorized' for feature in association.features]\n",
    "    return all(x)\n",
    "\n",
    "no_soid_group = core_vdb.select(no_soid)\n",
    "no_soid_group.report_groups(core_vdb)"
   ]
  },
  {
   "cell_type": "code",
   "execution_count": 53,
   "metadata": {
    "collapsed": false
   },
   "outputs": [
    {
     "name": "stdout",
     "output_type": "stream",
     "text": [
      "cgi: 16 (1.5% of superset)\n",
      "civic: 369 (11.1% of superset)\n",
      "jax: 3197 (55.6% of superset)\n",
      "molecularmatch: 480 (23.1% of superset)\n",
      "oncokb: 76 (30.8% of superset)\n",
      "pmkb: 108 (29.3% of superset)\n",
      "Total: 4246 (33.0% of superset)\n"
     ]
    }
   ],
   "source": [
    "# Associations lacking at least one sequence ontology ID\n",
    "\n",
    "def missing_soid(association):\n",
    "    x = [feature.so.get('name', 'Uncategorized') == 'Uncategorized' for feature in association.features]\n",
    "    return any(x)\n",
    "\n",
    "missing_soid_group = core_vdb.select(missing_soid)\n",
    "missing_soid_group.report_groups(core_vdb)"
   ]
  },
  {
   "cell_type": "code",
   "execution_count": 54,
   "metadata": {
    "collapsed": false
   },
   "outputs": [
    {
     "name": "stdout",
     "output_type": "stream",
     "text": [
      "jax: 777 (13.5% of superset)\n",
      "molecularmatch: 1 (0.0% of superset)\n",
      "Total: 778 (6.1% of superset)\n"
     ]
    }
   ],
   "source": [
    "partial_soid_group = missing_soid_group - no_soid_group\n",
    "partial_soid_group.report_groups(core_vdb)"
   ]
  },
  {
   "cell_type": "code",
   "execution_count": 55,
   "metadata": {
    "collapsed": false
   },
   "outputs": [
    {
     "data": {
      "text/plain": [
       "{'hierarchy': ['SO:0000400', 'SO:0001761', 'SO:0001814'],\n",
       " 'name': 'synonymous',\n",
       " 'parent_name': 'sequence_attribute',\n",
       " 'parent_soid': 'SO:0000400',\n",
       " 'soid': 'SO:0001815'}"
      ]
     },
     "execution_count": 55,
     "metadata": {},
     "output_type": "execute_result"
    }
   ],
   "source": [
    "partial_soid_group[0].features[2].so"
   ]
  },
  {
   "cell_type": "markdown",
   "metadata": {},
   "source": [
    "### Project GENIE feature match"
   ]
  },
  {
   "cell_type": "code",
   "execution_count": 56,
   "metadata": {
    "collapsed": true
   },
   "outputs": [],
   "source": [
    "# Load genie variants\n"
   ]
  },
  {
   "cell_type": "code",
   "execution_count": 57,
   "metadata": {
    "collapsed": true
   },
   "outputs": [],
   "source": [
    "# Do a feature search across knowledgebase"
   ]
  },
  {
   "cell_type": "markdown",
   "metadata": {},
   "source": [
    "## Disease"
   ]
  },
  {
   "cell_type": "code",
   "execution_count": 281,
   "metadata": {
    "collapsed": false
   },
   "outputs": [
    {
     "data": {
      "text/plain": [
       "Counter({'http://purl.obolibrary.org/obo/doid': 12677,\n",
       "         'MEDDRA': 69,\n",
       "         'SNOMEDCT': 29,\n",
       "         None: 1,\n",
       "         'OMIM': 4,\n",
       "         'DOID': 4,\n",
       "         'EVS': 26,\n",
       "         'ICD10CM': 3,\n",
       "         'RID': 1,\n",
       "         'LNC': 17,\n",
       "         'ORDO': 1,\n",
       "         'CL': 2,\n",
       "         'PATO': 6,\n",
       "         'CSP': 4,\n",
       "         'menelastop.ics.upmc.fr': 1,\n",
       "         'www.owl-ontologies.com': 1,\n",
       "         'scai.fraunhofer.de': 1,\n",
       "         'CHEBI': 1,\n",
       "         'MESH': 4})"
      ]
     },
     "execution_count": 281,
     "metadata": {},
     "output_type": "execute_result"
    }
   ],
   "source": [
    "c = Counter()\n",
    "for x in core_vdb:\n",
    "    try:\n",
    "        c[x.disease.source] += 1\n",
    "    except AttributeError:\n",
    "        c[None] += 1\n",
    "c"
   ]
  },
  {
   "cell_type": "code",
   "execution_count": 282,
   "metadata": {
    "collapsed": true
   },
   "outputs": [],
   "source": [
    "doid = core_vdb.select(lambda x: x.disease is not None and x.disease.id.startswith('DOID:'))"
   ]
  },
  {
   "cell_type": "code",
   "execution_count": 283,
   "metadata": {
    "collapsed": false
   },
   "outputs": [
    {
     "name": "stdout",
     "output_type": "stream",
     "text": [
      "cgi: 106 (9.9% of superset)\n",
      "civic: 81 (2.4% of superset)\n",
      "jax: 1352 (23.5% of superset)\n",
      "oncokb: 15 (6.1% of superset)\n",
      "Total: 1554 (12.1% of superset)\n"
     ]
    }
   ],
   "source": [
    "# Problem with number of entries from jax reporting \"cancer\" as doid type\n",
    "doid.select(lambda x: x.disease.id == 'DOID:162').report_groups(core_vdb)"
   ]
  },
  {
   "cell_type": "code",
   "execution_count": 284,
   "metadata": {
    "collapsed": true
   },
   "outputs": [],
   "source": [
    "import obonet\n",
    "import networkx"
   ]
  },
  {
   "cell_type": "code",
   "execution_count": 305,
   "metadata": {
    "collapsed": true
   },
   "outputs": [],
   "source": [
    "url = 'https://raw.githubusercontent.com/DiseaseOntology/HumanDiseaseOntology/v2018-05-11/src/ontology/HumanDO.obo'\n",
    "graph = obonet.read_obo(url)"
   ]
  },
  {
   "cell_type": "code",
   "execution_count": 306,
   "metadata": {
    "collapsed": false
   },
   "outputs": [],
   "source": [
    "assert networkx.is_directed_acyclic_graph(graph)"
   ]
  },
  {
   "cell_type": "code",
   "execution_count": 307,
   "metadata": {
    "collapsed": false
   },
   "outputs": [],
   "source": [
    "id_to_name = {id_: data['name'] for id_, data in graph.nodes(data=True)}"
   ]
  },
  {
   "cell_type": "code",
   "execution_count": 308,
   "metadata": {
    "collapsed": false
   },
   "outputs": [
    {
     "name": "stdout",
     "output_type": "stream",
     "text": [
      "cancer: 1554\n",
      "lung adenocarcinoma: 1415\n",
      "breast cancer: 1089\n",
      "non-small cell lung carcinoma: 1010\n",
      "colorectal cancer: 976\n",
      "melanoma: 659\n",
      "von Hippel-Lindau disease: 566\n",
      "acute myeloid leukemia: 419\n",
      "rectal neoplasm: 366\n",
      "chronic myeloid leukemia: 251\n",
      "lung cancer: 210\n",
      "gastrointestinal stromal tumor: 194\n",
      "skin melanoma: 162\n",
      "ovarian cancer: 156\n",
      "Her2-receptor positive breast cancer: 132\n",
      "stomach cancer: 122\n",
      "colon cancer: 120\n",
      "glioblastoma multiforme: 116\n",
      "head and neck squamous cell carcinoma: 99\n",
      "colorectal adenocarcinoma: 95\n"
     ]
    }
   ],
   "source": [
    "c = Counter()\n",
    "for x in doid:\n",
    "    try:\n",
    "        c[x.disease.id] += 1\n",
    "    except AttributeError:\n",
    "        c[None] += 1\n",
    "for k, v in c.most_common(20):\n",
    "    print(f'{id_to_name[k]}: {v}')"
   ]
  },
  {
   "cell_type": "code",
   "execution_count": 309,
   "metadata": {
    "collapsed": false
   },
   "outputs": [],
   "source": [
    "organ_system_ids = graph.predecessors('DOID:0050686')\n",
    "benign_and_premalignant_ids = ['DOID:0060072', 'DOID:0060071']\n",
    "cell_type_cancer_id = 'DOID:0050687'\n",
    "cancer_id = 'DOID:162'"
   ]
  },
  {
   "cell_type": "code",
   "execution_count": 310,
   "metadata": {
    "collapsed": false
   },
   "outputs": [],
   "source": [
    "organ_system = dict()\n",
    "benign_and_premalignant = dict()\n",
    "\n",
    "def assign_to_id(ids, id_, d):\n",
    "    if len(ids) == 0:\n",
    "        return\n",
    "    for i in ids:\n",
    "        d[i] = id_\n",
    "        assign_to_id(graph.predecessors(i), id_, d)\n",
    "    return \n",
    "\n",
    "for organ_id in (organ_system_ids + [cell_type_cancer_id]):\n",
    "    assign_to_id(graph.predecessors(organ_id), organ_id, organ_system)\n",
    "    organ_system[organ_id] = organ_id\n",
    "\n",
    "for id_ in benign_and_premalignant_ids:\n",
    "    assign_to_id(graph.predecessors(id_), id_, benign_and_premalignant)\n",
    "    benign_and_premalignant[id_] = id_\n",
    "    \n"
   ]
  },
  {
   "cell_type": "code",
   "execution_count": 312,
   "metadata": {
    "collapsed": false
   },
   "outputs": [
    {
     "data": {
      "text/plain": [
       "{'def': '\"An organ system cancer located_in the respiratory system that is characterized by uncontrolled cellular proliferation in the respiratory tract.\" [url:http\\\\://en.wikipedia.org/wiki/Respiratory_tract_neoplasm]',\n",
       " 'is_a': ['DOID:0050686'],\n",
       " 'name': 'respiratory system cancer'}"
      ]
     },
     "execution_count": 312,
     "metadata": {},
     "output_type": "execute_result"
    }
   ],
   "source": [
    "return_id = organ_system['DOID:0050615']\n",
    "graph.node[return_id]"
   ]
  },
  {
   "cell_type": "code",
   "execution_count": 313,
   "metadata": {
    "collapsed": false
   },
   "outputs": [
    {
     "name": "stdout",
     "output_type": "stream",
     "text": [
      "cgi: 1072 (100.0% of superset)\n",
      "civic: 3337 (100.0% of superset)\n",
      "jax: 5746 (100.0% of superset)\n",
      "molecularmatch: 2080 (100.0% of superset)\n",
      "oncokb: 247 (100.0% of superset)\n",
      "pmkb: 369 (100.0% of superset)\n",
      "Total: 12851 (100.0% of superset)\n"
     ]
    }
   ],
   "source": [
    "normalized_disease = core_vdb.select(lambda x: x.disease is not None)\n",
    "normalized_disease.report_groups(core_vdb)"
   ]
  },
  {
   "cell_type": "code",
   "execution_count": 314,
   "metadata": {
    "collapsed": false
   },
   "outputs": [],
   "source": [
    "do_sourced = normalized_disease.select(lambda x: x.disease.source in ['DOID', 'http://purl.obolibrary.org/obo/doid'])"
   ]
  },
  {
   "cell_type": "code",
   "execution_count": 315,
   "metadata": {
    "collapsed": false
   },
   "outputs": [
    {
     "name": "stdout",
     "output_type": "stream",
     "text": [
      "cgi: 971 (90.6% of superset)\n",
      "civic: 3302 (98.9% of superset)\n",
      "jax: 5745 (100.0% of superset)\n",
      "molecularmatch: 2080 (100.0% of superset)\n",
      "oncokb: 239 (96.8% of superset)\n",
      "pmkb: 344 (93.2% of superset)\n",
      "Total: 12681 (98.7% of superset)\n"
     ]
    }
   ],
   "source": [
    "do_sourced.report_groups(core_vdb)"
   ]
  },
  {
   "cell_type": "code",
   "execution_count": 316,
   "metadata": {
    "collapsed": true
   },
   "outputs": [],
   "source": [
    "cancer_organ_interpretations = do_sourced.select(lambda x: organ_system.get(x.disease.id, False))\n",
    "benign_premalignant_interpretations = do_sourced.select(lambda x: benign_and_premalignant.get(x.disease.id, False))\n",
    "cancer_interpretations = do_sourced.select(lambda x: x.disease.id == cancer_id)\n",
    "other_interpretations = do_sourced - cancer_organ_interpretations - benign_premalignant_interpretations - cancer_interpretations"
   ]
  },
  {
   "cell_type": "code",
   "execution_count": 317,
   "metadata": {
    "collapsed": false
   },
   "outputs": [
    {
     "name": "stdout",
     "output_type": "stream",
     "text": [
      "cgi: 720 (74.2% of superset)\n",
      "civic: 2600 (78.7% of superset)\n",
      "jax: 4388 (76.4% of superset)\n",
      "molecularmatch: 1714 (82.4% of superset)\n",
      "oncokb: 213 (89.1% of superset)\n",
      "pmkb: 332 (96.5% of superset)\n",
      "Total: 9967 (78.6% of superset)\n"
     ]
    }
   ],
   "source": [
    "cancer_organ_interpretations.report_groups(do_sourced)"
   ]
  },
  {
   "cell_type": "code",
   "execution_count": 318,
   "metadata": {
    "collapsed": false
   },
   "outputs": [
    {
     "name": "stdout",
     "output_type": "stream",
     "text": [
      "cgi: 34 (3.5% of superset)\n",
      "civic: 570 (17.3% of superset)\n",
      "jax: 5 (0.1% of superset)\n",
      "molecularmatch: 366 (17.6% of superset)\n",
      "pmkb: 2 (0.6% of superset)\n",
      "Total: 977 (7.7% of superset)\n"
     ]
    }
   ],
   "source": [
    "benign_premalignant_interpretations.report_groups(do_sourced)"
   ]
  },
  {
   "cell_type": "code",
   "execution_count": 319,
   "metadata": {
    "collapsed": false
   },
   "outputs": [
    {
     "name": "stdout",
     "output_type": "stream",
     "text": [
      "cgi: 106 (10.9% of superset)\n",
      "civic: 81 (2.5% of superset)\n",
      "jax: 1352 (23.5% of superset)\n",
      "oncokb: 15 (6.3% of superset)\n",
      "Total: 1554 (12.3% of superset)\n"
     ]
    }
   ],
   "source": [
    "cancer_interpretations.report_groups(do_sourced)"
   ]
  },
  {
   "cell_type": "code",
   "execution_count": 320,
   "metadata": {
    "collapsed": false
   },
   "outputs": [
    {
     "name": "stdout",
     "output_type": "stream",
     "text": [
      "cgi: 111 (11.4% of superset)\n",
      "civic: 51 (1.5% of superset)\n",
      "oncokb: 11 (4.6% of superset)\n",
      "pmkb: 10 (2.9% of superset)\n",
      "Total: 183 (1.4% of superset)\n"
     ]
    }
   ],
   "source": [
    "other_interpretations.report_groups(do_sourced)"
   ]
  },
  {
   "cell_type": "code",
   "execution_count": 321,
   "metadata": {
    "collapsed": false
   },
   "outputs": [
    {
     "name": "stdout",
     "output_type": "stream",
     "text": [
      "cgi: 108 (11.1% of superset)\n",
      "civic: 2 (0.1% of superset)\n",
      "oncokb: 2 (0.8% of superset)\n",
      "pmkb: 8 (2.3% of superset)\n",
      "Total: 120 (0.9% of superset)\n"
     ]
    }
   ],
   "source": [
    "x = other_interpretations.select(lambda x: x.disease.id.split(':')[0] != 'DOID')\n",
    "x.report_groups(do_sourced)"
   ]
  },
  {
   "cell_type": "markdown",
   "metadata": {},
   "source": [
    "**concerning that 10%** of CGI associations have mismatched source / terms"
   ]
  },
  {
   "cell_type": "code",
   "execution_count": 322,
   "metadata": {
    "collapsed": false
   },
   "outputs": [
    {
     "data": {
      "text/plain": [
       "Counter({'HP': 56, 'UBERON': 64})"
      ]
     },
     "execution_count": 322,
     "metadata": {},
     "output_type": "execute_result"
    }
   ],
   "source": [
    "c = Counter()\n",
    "for i in x:\n",
    "    c[i.disease.id.split(':')[0]] += 1\n",
    "c"
   ]
  },
  {
   "cell_type": "code",
   "execution_count": 323,
   "metadata": {
    "collapsed": false
   },
   "outputs": [
    {
     "name": "stdout",
     "output_type": "stream",
     "text": [
      "http://purl.obolibrary.org/obo/doid\n",
      "HP:0011779\n",
      "Anaplastic thyroid carcinoma\n",
      "EID3744\n"
     ]
    }
   ],
   "source": [
    "entry = x.by_source('civic')[0]\n",
    "print(entry.disease.source)\n",
    "print(entry.disease.id)\n",
    "print(entry.disease.term)\n",
    "print(entry['feature_names'])"
   ]
  },
  {
   "cell_type": "code",
   "execution_count": 324,
   "metadata": {
    "collapsed": false
   },
   "outputs": [],
   "source": [
    "c = Counter()\n",
    "for association in cancer_organ_interpretations:\n",
    "    disease_id = association.disease.id\n",
    "    organ_id = organ_system[disease_id]\n",
    "    c[organ_id] += 1"
   ]
  },
  {
   "cell_type": "code",
   "execution_count": 325,
   "metadata": {
    "collapsed": false
   },
   "outputs": [
    {
     "name": "stdout",
     "output_type": "stream",
     "text": [
      "respiratory system cancer: 2748\n",
      "gastrointestinal system cancer: 1736\n",
      "thoracic cancer: 1452\n",
      "immune system cancer: 1338\n",
      "cell type cancer: 1016\n",
      "reproductive organ cancer: 487\n",
      "endocrine gland cancer: 341\n",
      "urinary system cancer: 231\n",
      "nervous system cancer: 204\n",
      "integumentary system cancer: 196\n",
      "head and neck cancer: 117\n",
      "musculoskeletal system cancer: 100\n",
      "peritoneum cancer: 1\n"
     ]
    }
   ],
   "source": [
    "for k, v in c.most_common(13):\n",
    "    print(f'{id_to_name[k]}: {v}')"
   ]
  },
  {
   "cell_type": "code",
   "execution_count": 326,
   "metadata": {
    "collapsed": false
   },
   "outputs": [
    {
     "name": "stdout",
     "output_type": "stream",
     "text": [
      "http://purl.obolibrary.org/obo/doid: DOID:1725\n",
      "jax\n",
      "In a preclinical study, the combination of APR-246 and Platinol (cisplatin) resulted in strong synergism, thereby reducing cell viability in patient derived peritoneum cancer cells harboring TP53 C135Y in culture (PMID: 27179933). \n"
     ]
    }
   ],
   "source": [
    "p_cancer = cancer_organ_interpretations.select(lambda x: id_to_name[organ_system[x.disease.id]] == 'peritoneum cancer')[0]\n",
    "print(p_cancer.disease)\n",
    "print(p_cancer.source)\n",
    "print(p_cancer.description)"
   ]
  },
  {
   "cell_type": "code",
   "execution_count": 327,
   "metadata": {
    "collapsed": false
   },
   "outputs": [
    {
     "data": {
      "text/plain": [
       "15"
      ]
     },
     "execution_count": 327,
     "metadata": {},
     "output_type": "execute_result"
    }
   ],
   "source": [
    "len(set(organ_system.values()))"
   ]
  },
  {
   "cell_type": "code",
   "execution_count": 328,
   "metadata": {
    "collapsed": false
   },
   "outputs": [],
   "source": [
    "with open(DATA_ROOT / 'TopNodes_DOcancerslim_3_18.json', 'r') as f:\n",
    "    result = json.load(f)\n",
    "    nodes = result['graphs'][0]['nodes']"
   ]
  },
  {
   "cell_type": "code",
   "execution_count": 329,
   "metadata": {
    "collapsed": false
   },
   "outputs": [
    {
     "data": {
      "text/plain": [
       "'DOID:1324'"
      ]
     },
     "execution_count": 329,
     "metadata": {},
     "output_type": "execute_result"
    }
   ],
   "source": [
    "nodes[0]['id'].split('/')[-1].replace('_', ':')"
   ]
  },
  {
   "cell_type": "code",
   "execution_count": 330,
   "metadata": {
    "collapsed": false
   },
   "outputs": [],
   "source": [
    "topnodes_docancerslim = list()\n",
    "doid_re = re.compile(r'DOID:\\d+')\n",
    "\n",
    "for node in nodes:\n",
    "    doid = node['id'].split('/')[-1].replace('_', ':')\n",
    "    if doid_re.match(doid):\n",
    "        topnodes_docancerslim.append(doid)"
   ]
  },
  {
   "cell_type": "code",
   "execution_count": 331,
   "metadata": {
    "collapsed": false
   },
   "outputs": [
    {
     "data": {
      "text/plain": [
       "58"
      ]
     },
     "execution_count": 331,
     "metadata": {},
     "output_type": "execute_result"
    }
   ],
   "source": [
    "len(topnodes_docancerslim)"
   ]
  },
  {
   "cell_type": "code",
   "execution_count": 332,
   "metadata": {
    "collapsed": true
   },
   "outputs": [],
   "source": [
    "def assign_to_nearest_id(ids, id_, d, terminals):\n",
    "    if len(ids) == 0:\n",
    "        return\n",
    "    for i in ids:\n",
    "        if i in terminals:\n",
    "            assignment = i\n",
    "        else:\n",
    "            assignment = id_\n",
    "        d[i] = assignment\n",
    "        assign_to_nearest_id(graph.predecessors(i), assignment, d, terminals)\n",
    "    return\n",
    "\n",
    "topnode_map = dict()\n",
    "assign_to_nearest_id(['DOID:162'], 'DOID:162', topnode_map, topnodes_docancerslim)"
   ]
  },
  {
   "cell_type": "code",
   "execution_count": 333,
   "metadata": {
    "collapsed": false
   },
   "outputs": [
    {
     "name": "stdout",
     "output_type": "stream",
     "text": [
      "cgi: 826 (85.1% of superset)\n",
      "civic: 2681 (81.2% of superset)\n",
      "jax: 5740 (99.9% of superset)\n",
      "molecularmatch: 1714 (82.4% of superset)\n",
      "oncokb: 228 (95.4% of superset)\n",
      "pmkb: 332 (96.5% of superset)\n",
      "Total: 11521 (90.9% of superset)\n"
     ]
    }
   ],
   "source": [
    "cancer_counts = Counter()\n",
    "\n",
    "cancer_associations = do_sourced.select(\n",
    "    lambda x: topnode_map.get(x.disease.id, False))\n",
    "\n",
    "for association in cancer_associations:\n",
    "    disease_id = association.disease.id\n",
    "    topnode_id = topnode_map[disease_id]\n",
    "    cancer_counts[topnode_id] += 1\n",
    "\n",
    "cancer_associations.report_groups(do_sourced)"
   ]
  },
  {
   "cell_type": "code",
   "execution_count": 334,
   "metadata": {
    "collapsed": false
   },
   "outputs": [
    {
     "name": "stdout",
     "output_type": "stream",
     "text": [
      "cgi: 145 (14.9% of superset)\n",
      "civic: 621 (18.8% of superset)\n",
      "jax: 5 (0.1% of superset)\n",
      "molecularmatch: 366 (17.6% of superset)\n",
      "oncokb: 11 (4.6% of superset)\n",
      "pmkb: 12 (3.5% of superset)\n",
      "Total: 1160 (9.1% of superset)\n"
     ]
    }
   ],
   "source": [
    "other_associations = do_sourced - cancer_associations\n",
    "other_associations.report_groups(do_sourced)"
   ]
  },
  {
   "cell_type": "code",
   "execution_count": 335,
   "metadata": {
    "collapsed": false
   },
   "outputs": [
    {
     "data": {
      "text/plain": [
       "48"
      ]
     },
     "execution_count": 335,
     "metadata": {},
     "output_type": "execute_result"
    }
   ],
   "source": [
    "len(cancer_counts)"
   ]
  },
  {
   "cell_type": "code",
   "execution_count": null,
   "metadata": {
    "collapsed": true
   },
   "outputs": [],
   "source": [
    "for k, v in cancer_counts.most_common(48):\n",
    "    print(f'{id_to_name[k]}: {v}')\n",
    "    "
   ]
  },
  {
   "cell_type": "code",
   "execution_count": 360,
   "metadata": {
    "collapsed": false
   },
   "outputs": [],
   "source": [
    "def write_disease_counts(file_handle, disease_counter):\n",
    "    writer = csv.writer(file_handle)\n",
    "    s = sum(disease_counter.values())\n",
    "    writer.writerow(['DOID', 'Disease Name', 'Interpretations', 'Percentage'])\n",
    "    for k, v in disease_counter.most_common(len(disease_counter)):\n",
    "        writer.writerow([k, id_to_name[k], v, '{:.2%}'.format(v/s)])"
   ]
  },
  {
   "cell_type": "code",
   "execution_count": 361,
   "metadata": {
    "collapsed": true
   },
   "outputs": [],
   "source": [
    "with open('out/interpretation_disease_topnode_counts.csv', 'w') as f:\n",
    "    write_disease_counts(f, cancer_counts)"
   ]
  },
  {
   "cell_type": "code",
   "execution_count": 337,
   "metadata": {
    "collapsed": false
   },
   "outputs": [
    {
     "name": "stdout",
     "output_type": "stream",
     "text": [
      "cgi: 34 (3.5% of superset)\n",
      "civic: 570 (17.3% of superset)\n",
      "jax: 4 (0.1% of superset)\n",
      "molecularmatch: 366 (17.6% of superset)\n",
      "pmkb: 2 (0.6% of superset)\n",
      "Total: 976 (7.7% of superset)\n"
     ]
    }
   ],
   "source": [
    "# Benign\n",
    "\n",
    "benign_id = 'DOID:0060072'\n",
    "benign = dict()\n",
    "\n",
    "assign_to_id(graph.predecessors(benign_id), benign_id, benign)\n",
    "benign[benign_id] = benign_id\n",
    "\n",
    "benign_associations = other_associations.select(\n",
    "    lambda x: benign.get(x.disease.id, False))\n",
    "\n",
    "other_associations = other_associations - benign_associations\n",
    "benign_associations.report_groups(do_sourced)"
   ]
  },
  {
   "cell_type": "code",
   "execution_count": 338,
   "metadata": {
    "collapsed": false
   },
   "outputs": [
    {
     "name": "stdout",
     "output_type": "stream",
     "text": [
      "jax: 1 (0.0% of superset)\n",
      "Total: 1 (0.0% of superset)\n"
     ]
    }
   ],
   "source": [
    "# pre-malignant\n",
    "\n",
    "premalignant_id = 'DOID:0060071'\n",
    "premalignant = dict()\n",
    "\n",
    "assign_to_id(graph.predecessors(premalignant_id), premalignant_id, premalignant)\n",
    "premalignant[premalignant_id] = premalignant_id\n",
    "\n",
    "premalignant_associations = other_associations.select(\n",
    "    lambda x: premalignant.get(x.disease.id, False))\n",
    "\n",
    "premalignant_associations.report_groups(do_sourced)"
   ]
  },
  {
   "cell_type": "code",
   "execution_count": 383,
   "metadata": {
    "collapsed": true
   },
   "outputs": [],
   "source": [
    "# Make data\n",
    "\n",
    "common_cancers = list(filter(lambda x: x[0] != \"DOID:162\", cancer_counts.most_common(6)))\n",
    "\n",
    "interpretation_group_names=[id_to_name[x[0]] for x in common_cancers] + ['other cancers'] + ['benign', 'other disease']\n",
    "common_cancer_values = [x[1] for x in common_cancers]\n",
    "interpretation_group_sizes=common_cancer_values + [sum(cancer_counts.values()) - sum(common_cancer_values),\n",
    "                                      len(benign_associations),\n",
    "                                      len(other_associations)]\n"
   ]
  },
  {
   "cell_type": "code",
   "execution_count": 425,
   "metadata": {
    "collapsed": false
   },
   "outputs": [],
   "source": [
    "incidence_by_topnode = Counter()\n",
    "mortality_by_topnode = Counter()\n",
    "p = (len(benign_associations) + len(other_associations)) / len(do_sourced)\n",
    "with open('data/Cancer Incidence and Mortality 2018.csv', 'r') as f:\n",
    "    reader = csv.DictReader(f)\n",
    "    for row in reader:\n",
    "        incidence_by_topnode[topnode_map[row['DOID']]] += int(row['New Cases'])\n",
    "        mortality_by_topnode[topnode_map[row['DOID']]] += int(row['Estimated Deaths'])"
   ]
  },
  {
   "cell_type": "code",
   "execution_count": 426,
   "metadata": {
    "collapsed": false
   },
   "outputs": [],
   "source": [
    "def select_by_percent(counter, percent=5):\n",
    "    assert percent <= 100\n",
    "    s = sum(counter.values())\n",
    "    out = Counter()\n",
    "    for k, v in counter.most_common(len(counter)):\n",
    "        if k == \"DOID:162\":\n",
    "            continue\n",
    "        p = v/s\n",
    "        if p*100 < percent:\n",
    "            break\n",
    "        out[k] = v\n",
    "        print(f'{id_to_name[k]}: {p}')\n",
    "    return out"
   ]
  },
  {
   "cell_type": "code",
   "execution_count": 427,
   "metadata": {
    "collapsed": false
   },
   "outputs": [],
   "source": [
    "with open('out/NCI_disease_topnode_counts.csv', 'w') as f:\n",
    "    writer = csv.writer(f)\n",
    "    s1 = sum(incidence_by_topnode.values())\n",
    "    s2 = sum(mortality_by_topnode.values())\n",
    "    writer.writerow(\n",
    "        ['DOID', 'Disease Name', \n",
    "         'Estimated New Cases, 2018, US', 'Percentage',\n",
    "         'Estimated Deaths, 2018, US', 'Percentage'\n",
    "        ])\n",
    "    for k, v in incidence_by_topnode.most_common(len(incidence_by_topnode)):\n",
    "        v2 = mortality_by_topnode[k]\n",
    "        writer.writerow(\n",
    "            [k, id_to_name[k], \n",
    "             v, '{:.2%}'.format(v/s1),\n",
    "             v2, '{:.2%}'.format(v2/s2)\n",
    "            ])"
   ]
  },
  {
   "cell_type": "code",
   "execution_count": 428,
   "metadata": {
    "collapsed": false
   },
   "outputs": [
    {
     "name": "stdout",
     "output_type": "stream",
     "text": [
      "breast cancer: 0.15482179387443457\n",
      "lung cancer: 0.13486040280058778\n",
      "hematologic cancer: 0.10041202062984413\n",
      "prostate cancer: 0.09490304549514507\n",
      "skin cancer: 0.05736594923214337\n",
      "colon cancer: 0.056023280606217765\n"
     ]
    }
   ],
   "source": [
    "prevalent_incidence = select_by_percent(incidence_by_topnode)"
   ]
  },
  {
   "cell_type": "code",
   "execution_count": 429,
   "metadata": {
    "collapsed": false
   },
   "outputs": [
    {
     "name": "stdout",
     "output_type": "stream",
     "text": [
      "lung cancer: 0.25269011219736237\n",
      "hematologic cancer: 0.09530214552850863\n",
      "colon cancer: 0.08304901253198609\n",
      "pancreatic cancer: 0.07271504494455744\n",
      "breast cancer: 0.0679089298602454\n"
     ]
    }
   ],
   "source": [
    "prevalent_mortality = select_by_percent(mortality_by_topnode)"
   ]
  },
  {
   "cell_type": "code",
   "execution_count": 430,
   "metadata": {
    "collapsed": false
   },
   "outputs": [
    {
     "data": {
      "text/plain": [
       "30"
      ]
     },
     "execution_count": 430,
     "metadata": {},
     "output_type": "execute_result"
    }
   ],
   "source": [
    "len(incidence_by_topnode)"
   ]
  },
  {
   "cell_type": "code",
   "execution_count": 431,
   "metadata": {
    "collapsed": false
   },
   "outputs": [],
   "source": [
    "incidence_group_names = [id_to_name[x] for x in prevalent_incidence] + ['other cancers']\n",
    "incidence_group_sizes = list(prevalent_incidence.values()) + [\n",
    "                            sum(incidence_by_topnode.values()) - sum(prevalent_incidence.values())\n",
    "                        ]"
   ]
  },
  {
   "cell_type": "code",
   "execution_count": 432,
   "metadata": {
    "collapsed": false
   },
   "outputs": [],
   "source": [
    "mortality_group_names = [id_to_name[x] for x in prevalent_mortality] + ['other cancers']\n",
    "mortality_group_sizes = list(prevalent_mortality.values()) + [\n",
    "                            sum(mortality_by_topnode.values()) - sum(prevalent_mortality.values())\n",
    "                        ]"
   ]
  },
  {
   "cell_type": "code",
   "execution_count": 498,
   "metadata": {
    "collapsed": false
   },
   "outputs": [
    {
     "data": {
      "image/png": "[encoded data removed]",
      "text/plain": [
       "<matplotlib.figure.Figure at 0x1534a2eb8>"
      ]
     },
     "metadata": {},
     "output_type": "display_data"
    }
   ],
   "source": [
    "RADIUS=1\n",
    "\n",
    "greens = plt.cm.Greens\n",
    "grays = plt.cm.Greys\n",
    "blues = plt.cm.Blues\n",
    "reds = plt.cm.Reds\n",
    "\n",
    "colors = [\n",
    "    greens(.85),\n",
    "    greens(.7),\n",
    "    greens(.55),\n",
    "    greens(.4),\n",
    "    greens(.25),\n",
    "    greens(.1),\n",
    "    grays(.5),\n",
    "    grays(.25)\n",
    "]\n",
    "fig1, ax1 = plt.subplots()\n",
    "pie, _ = ax1.pie(interpretation_group_sizes, colors=colors, radius=RADIUS,\n",
    "        labels=interpretation_group_names)\n",
    "ax1.axis('equal')\n",
    "plt.setp(pie, edgecolor='white')\n",
    "\n",
    "plt.savefig(str(FIGPATH / 'disease_interpretations.pdf'))\n",
    "plt.show()"
   ]
  },
  {
   "cell_type": "code",
   "execution_count": 499,
   "metadata": {
    "collapsed": false
   },
   "outputs": [
    {
     "data": {
      "image/png": "[encoded data removed]",
      "text/plain": [
       "<matplotlib.figure.Figure at 0x13def6668>"
      ]
     },
     "metadata": {},
     "output_type": "display_data"
    }
   ],
   "source": [
    "colors = [\n",
    "    blues(.85),\n",
    "    blues(.75 * 5/6 + .1),\n",
    "    blues(.75 * 4/6 + .1),\n",
    "    blues(.75 * 3/6 + .1),\n",
    "    blues(.75 * 2/6 + .1),\n",
    "    blues(.75 * 1/6 + .1),\n",
    "    blues(.1)\n",
    "]\n",
    "\n",
    "fig1, ax1 = plt.subplots()\n",
    "pie, _ = ax1.pie(incidence_group_sizes, colors=colors, radius=RADIUS,\n",
    "        labels=incidence_group_names)\n",
    "\n",
    "ax1.axis('equal')\n",
    "plt.setp(pie, edgecolor='white')\n",
    "\n",
    "plt.savefig(str(FIGPATH / 'disease_incidence.pdf'))\n",
    "plt.show()"
   ]
  },
  {
   "cell_type": "code",
   "execution_count": 500,
   "metadata": {
    "collapsed": false
   },
   "outputs": [
    {
     "data": {
      "image/png": "[encoded data removed]",
      "text/plain": [
       "<matplotlib.figure.Figure at 0x13f72ab38>"
      ]
     },
     "metadata": {},
     "output_type": "display_data"
    }
   ],
   "source": [
    "colors = [\n",
    "    reds(.85),\n",
    "    reds(.7),\n",
    "    reds(.55),\n",
    "    reds(.4),\n",
    "    reds(.25),\n",
    "    reds(.1)\n",
    "]\n",
    "\n",
    "fig1, ax1 = plt.subplots()\n",
    "pie, _ = ax1.pie(mortality_group_sizes, colors=colors, radius=RADIUS,\n",
    "        labels=mortality_group_names)\n",
    "\n",
    "ax1.axis('equal')\n",
    "plt.setp(pie, edgecolor='white')\n",
    "\n",
    "plt.savefig(str(FIGPATH / 'disease_mortality.pdf'))\n",
    "plt.show()"
   ]
  },
  {
   "cell_type": "code",
   "execution_count": 344,
   "metadata": {
    "collapsed": false
   },
   "outputs": [
    {
     "name": "stdout",
     "output_type": "stream",
     "text": [
      "KRAS Q61L confers resistance to Cetuximab in patients with Neoplasm of colorectum\n",
      "http://purl.obolibrary.org/obo/doid: DOID:1984\n",
      "DOID:1984\n",
      "molecularmatch\n"
     ]
    }
   ],
   "source": [
    "b = benign_associations[0]\n",
    "print(b.description)\n",
    "print(b.disease)\n",
    "print(b.disease.id)\n",
    "print(b.source)"
   ]
  },
  {
   "cell_type": "markdown",
   "metadata": {},
   "source": [
    "### Export disease counts for resource / disease enrichment analysis"
   ]
  },
  {
   "cell_type": "code",
   "execution_count": 345,
   "metadata": {
    "collapsed": false
   },
   "outputs": [
    {
     "data": {
      "text/plain": [
       "['cgi', 'civic', 'jax', 'molecularmatch', 'oncokb', 'pmkb']"
      ]
     },
     "execution_count": 345,
     "metadata": {},
     "output_type": "execute_result"
    }
   ],
   "source": [
    "# d = cancer_associations.get_element_by_source('disease')\n",
    "# d2 = benign_associations.get_element_by_source('disease')\n",
    "d = defaultdict(Counter)\n",
    "d2 = defaultdict(Counter)\n",
    "for association in cancer_associations:\n",
    "    disease = association.disease\n",
    "    source = association.source\n",
    "    d[source][disease] += 1\n",
    "for association in benign_associations:\n",
    "    disease = association.disease\n",
    "    source = association.source\n",
    "    d2[source][disease] += 1\n",
    "sorted(d.keys())"
   ]
  },
  {
   "cell_type": "code",
   "execution_count": 346,
   "metadata": {
    "collapsed": false
   },
   "outputs": [],
   "source": [
    "diseases = set()\n",
    "cancer_diseases = set()\n",
    "benign_diseases = set()\n",
    "for x in d.values():\n",
    "    cancer_diseases.update(x)\n",
    "    diseases.update(x)\n",
    "for x in d2.values():\n",
    "    benign_diseases.update(x)\n",
    "    diseases.update(x)"
   ]
  },
  {
   "cell_type": "code",
   "execution_count": 347,
   "metadata": {
    "collapsed": false
   },
   "outputs": [],
   "source": [
    "import csv\n",
    "with open('out/disease_counts.csv', 'w') as f:\n",
    "    header = ['disease', 'doid', 'TopNode_disease', 'TopNode_doid'] + sorted(d.keys())\n",
    "    writer = csv.DictWriter(f, fieldnames=header)\n",
    "    writer.writeheader()\n",
    "    counts = dict()\n",
    "    for s, v in d.items():\n",
    "        counts[s] = Counter(v)\n",
    "    for s, v in d2.items():\n",
    "        counts[s].update(Counter(v))\n",
    "    for disease in diseases:\n",
    "        if disease in cancer_diseases:\n",
    "            tn_id = topnode_map[disease.id]\n",
    "            tn_name = id_to_name[tn_id]\n",
    "        elif disease in benign_diseases:\n",
    "            tn_id = benign[disease.id]\n",
    "            tn_name = id_to_name[tn_id]\n",
    "        else:\n",
    "            raise ValueError\n",
    "        row = {\n",
    "            'disease': id_to_name[disease.id],\n",
    "            'doid': disease.id,\n",
    "            'TopNode_disease': tn_name,\n",
    "            'TopNode_doid': tn_id\n",
    "        }\n",
    "        for s in d:\n",
    "            row[s] = counts[s][disease]\n",
    "        writer.writerow(row)"
   ]
  }
 ],
 "metadata": {
  "anaconda-cloud": {},
  "kernelspec": {
   "display_name": "Python [g2p-analysis]",
   "language": "python",
   "name": "Python [g2p-analysis]"
  },
  "language_info": {
   "codemirror_mode": {
    "name": "ipython",
    "version": 3
   },
   "file_extension": ".py",
   "mimetype": "text/x-python",
   "name": "python",
   "nbconvert_exporter": "python",
   "pygments_lexer": "ipython3",
   "version": "3.6.1"
  }
 },
 "nbformat": 4,
 "nbformat_minor": 2
}
