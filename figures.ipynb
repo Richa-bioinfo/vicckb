{
 "cells": [
  {
   "cell_type": "markdown",
   "metadata": {},
   "source": [
    "# Data Structuring and Pruning"
   ]
  },
  {
   "cell_type": "code",
   "execution_count": 1,
   "metadata": {
    "collapsed": false
   },
   "outputs": [],
   "source": [
    "# Load datasets\n",
    "\n",
    "import json\n",
    "import pathlib\n",
    "import importlib\n",
    "from collections import defaultdict, Counter\n",
    "import pyupset as pyu\n",
    "import pandas as pd\n",
    "import matplotlib.pyplot as plt\n",
    "import numpy as np\n",
    "import re\n",
    "\n",
    "from vicckb import model as viccdb\n",
    "from vicckb.definitions import DATA_ROOT\n",
    "%matplotlib inline"
   ]
  },
  {
   "cell_type": "code",
   "execution_count": 2,
   "metadata": {
    "collapsed": false
   },
   "outputs": [
    {
     "name": "stdout",
     "output_type": "stream",
     "text": [
      "cgi: 1073 (6.3% of total)\n",
      "civic: 3340 (19.8% of total)\n",
      "jax: 5754 (34.0% of total)\n",
      "molecularmatch: 2085 (12.3% of total)\n",
      "oncokb: 4048 (24.0% of total)\n",
      "pmkb: 600 (3.6% of total)\n",
      "16900 total associations\n"
     ]
    }
   ],
   "source": [
    "# reload module and load data\n",
    "importlib.reload(viccdb)\n",
    "vdb = viccdb.ViccDb()\n",
    "vdb.report_groups()"
   ]
  },
  {
   "cell_type": "code",
   "execution_count": 3,
   "metadata": {
    "collapsed": false
   },
   "outputs": [
    {
     "name": "stdout",
     "output_type": "stream",
     "text": [
      "cgi: 1073 (6.3% of total)\n",
      "civic: 3340 (19.8% of total)\n",
      "jax: 5754 (34.0% of total)\n",
      "molecularmatch: 2085 (12.3% of total)\n",
      "oncokb: 4048 (24.0% of total)\n",
      "pmkb: 600 (3.6% of total)\n",
      "16900 total associations\n"
     ]
    }
   ],
   "source": [
    "# for now, omit brca from analysis\n",
    "brca = vdb.select(lambda x: x['source'] == 'brca')\n",
    "core_vdb = vdb - brca\n",
    "core_vdb.report_groups()"
   ]
  },
  {
   "cell_type": "code",
   "execution_count": 4,
   "metadata": {
    "collapsed": false
   },
   "outputs": [
    {
     "name": "stdout",
     "output_type": "stream",
     "text": [
      "oncokb: 3801 (93.9% of superset)\n",
      "Total: 3801 (22.5% of superset)\n"
     ]
    }
   ],
   "source": [
    "# remove biological associations\n",
    "oncokb_biological = core_vdb.select(lambda x: x['source'] == 'oncokb' and 'biological' in x['raw'])\n",
    "oncokb_biological.report_groups(core_vdb)\n",
    "core_vdb = core_vdb - oncokb_biological"
   ]
  },
  {
   "cell_type": "markdown",
   "metadata": {},
   "source": [
    "## Evidence Uniqueness\n",
    "\n",
    "This section deals with non-unique entries from the database. This is a temporary measure until the importers are fixed. As such, it uses private variables and non-standard methods to hack around the built-in uniqueness assumptions that are violated by these data. Remove this entire section once the source hash checks pass."
   ]
  },
  {
   "cell_type": "code",
   "execution_count": 5,
   "metadata": {
    "collapsed": false
   },
   "outputs": [
    {
     "name": "stdout",
     "output_type": "stream",
     "text": [
      "cgi: 1073 (8.2% of total)\n",
      "civic: 3340 (25.5% of total)\n",
      "jax: 5754 (43.9% of total)\n",
      "molecularmatch: 2085 (15.9% of total)\n",
      "oncokb: 247 (1.9% of total)\n",
      "pmkb: 600 (4.6% of total)\n",
      "13099 total associations\n"
     ]
    }
   ],
   "source": [
    "core_vdb.report_groups()"
   ]
  },
  {
   "cell_type": "code",
   "execution_count": 6,
   "metadata": {
    "collapsed": false
   },
   "outputs": [
    {
     "name": "stdout",
     "output_type": "stream",
     "text": [
      "cgi: 2 (0.2% of superset)\n",
      "pmkb: 311 (51.8% of superset)\n",
      "Total: 313 (2.4% of superset)\n"
     ]
    }
   ],
   "source": [
    "# Non-unique raw entries\n",
    "raw_duplicates = core_vdb.select(lambda x: len(core_vdb._hashed[hash(x)]) > 1)\n",
    "raw_duplicates.report_groups(core_vdb)"
   ]
  },
  {
   "cell_type": "code",
   "execution_count": 7,
   "metadata": {
    "collapsed": false
   },
   "outputs": [
    {
     "name": "stdout",
     "output_type": "stream",
     "text": [
      "cgi: 1072 (99.9% of superset)\n",
      "civic: 3340 (100.0% of superset)\n",
      "jax: 5754 (100.0% of superset)\n",
      "molecularmatch: 2085 (100.0% of superset)\n",
      "oncokb: 247 (100.0% of superset)\n",
      "pmkb: 600 (100.0% of superset)\n",
      "Total: 13098 (100.0% of superset)\n"
     ]
    }
   ],
   "source": [
    "cgi_dups = raw_duplicates.by_source('cgi')\n",
    "cgi_clean = [x for x in cgi_dups if x['raw']['Drug status']]\n",
    "test = viccdb.ViccDb([x for x in core_vdb if x not in cgi_dups] + list(cgi_clean))\n",
    "test.report_groups(core_vdb)"
   ]
  },
  {
   "cell_type": "code",
   "execution_count": 8,
   "metadata": {
    "collapsed": true
   },
   "outputs": [],
   "source": [
    "# Test matches expectation, moving to core\n",
    "core_vdb = test"
   ]
  },
  {
   "cell_type": "code",
   "execution_count": 9,
   "metadata": {
    "collapsed": true
   },
   "outputs": [],
   "source": [
    "pmkb_dups = raw_duplicates.by_source('pmkb')"
   ]
  },
  {
   "cell_type": "code",
   "execution_count": 10,
   "metadata": {
    "collapsed": false
   },
   "outputs": [
    {
     "data": {
      "text/plain": [
       "82"
      ]
     },
     "execution_count": 10,
     "metadata": {},
     "output_type": "execute_result"
    }
   ],
   "source": [
    "len(pmkb_dups._hashed)"
   ]
  },
  {
   "cell_type": "code",
   "execution_count": 11,
   "metadata": {
    "collapsed": false
   },
   "outputs": [
    {
     "data": {
      "text/plain": [
       "311"
      ]
     },
     "execution_count": 11,
     "metadata": {},
     "output_type": "execute_result"
    }
   ],
   "source": [
    "len(pmkb_dups)"
   ]
  },
  {
   "cell_type": "code",
   "execution_count": 12,
   "metadata": {
    "collapsed": true
   },
   "outputs": [],
   "source": [
    "merged_associations = list()\n",
    "for hash_key, equivalent_associations in pmkb_dups._hashed.items():\n",
    "    root_association = equivalent_associations.pop()\n",
    "    for other_association in equivalent_associations:\n",
    "        root_association['features'].append(other_association['features'][0])\n",
    "    merged_associations.append(root_association)"
   ]
  },
  {
   "cell_type": "code",
   "execution_count": 13,
   "metadata": {
    "collapsed": false
   },
   "outputs": [
    {
     "name": "stdout",
     "output_type": "stream",
     "text": [
      "cgi: 1072 (100.0% of superset)\n",
      "civic: 3340 (100.0% of superset)\n",
      "jax: 5754 (100.0% of superset)\n",
      "molecularmatch: 2085 (100.0% of superset)\n",
      "oncokb: 247 (100.0% of superset)\n",
      "pmkb: 371 (61.8% of superset)\n",
      "Total: 12869 (98.3% of superset)\n"
     ]
    }
   ],
   "source": [
    "test = viccdb.ViccDb([x for x in core_vdb if x not in merged_associations] + list(merged_associations))\n",
    "test.report_groups(core_vdb)"
   ]
  },
  {
   "cell_type": "code",
   "execution_count": 14,
   "metadata": {
    "collapsed": false
   },
   "outputs": [
    {
     "name": "stdout",
     "output_type": "stream",
     "text": [
      "Expecting 371 associations for PMKB\n"
     ]
    }
   ],
   "source": [
    "x = len(core_vdb.by_source('pmkb')) - len(pmkb_dups) + len(pmkb_dups._hashed)\n",
    "print(\"Expecting {} associations for PMKB\".format(x))"
   ]
  },
  {
   "cell_type": "code",
   "execution_count": 15,
   "metadata": {
    "collapsed": true
   },
   "outputs": [],
   "source": [
    "# Test matches expectation, moving to core\n",
    "core_vdb = test"
   ]
  },
  {
   "cell_type": "markdown",
   "metadata": {},
   "source": [
    "## Evidence filtering\n",
    "\n",
    "Removal of all evidence without associated publications, followed by removal of all associations without evidence."
   ]
  },
  {
   "cell_type": "code",
   "execution_count": 16,
   "metadata": {
    "collapsed": false
   },
   "outputs": [
    {
     "name": "stdout",
     "output_type": "stream",
     "text": [
      "jax: 8 (0.1% of superset)\n",
      "molecularmatch: 5 (0.2% of superset)\n",
      "Total: 13 (0.1% of superset)\n"
     ]
    }
   ],
   "source": [
    "def clean_refs(association):\n",
    "    evidences = association['association']['evidence']\n",
    "    evidence_indices_to_delete = list()\n",
    "    for i, evidence in enumerate(evidences):\n",
    "        assert isinstance(publications, list)\n",
    "        publications = [x for x in evidence['info']['publications'] if x]\n",
    "        evidence['info']['publications'] = publications\n",
    "        if not publications:\n",
    "            evidence_indices_to_delete.append(i)\n",
    "    for index in sorted(evidence_indices_to_delete, reverse=True):\n",
    "        del association['association']['evidence'][index]\n",
    "\n",
    "map(clean_refs, core_vdb)\n",
    "core_missing_ref = core_vdb.select(lambda x: not any(x.publications))\n",
    "core_missing_ref.report_groups(core_vdb)\n",
    "core_vdb = core_vdb - core_missing_ref"
   ]
  },
  {
   "cell_type": "code",
   "execution_count": 17,
   "metadata": {
    "collapsed": false
   },
   "outputs": [
    {
     "name": "stdout",
     "output_type": "stream",
     "text": [
      "cgi: 1072 (8.3% of total)\n",
      "civic: 3340 (26.0% of total)\n",
      "jax: 5746 (44.7% of total)\n",
      "molecularmatch: 2080 (16.2% of total)\n",
      "oncokb: 247 (1.9% of total)\n",
      "pmkb: 371 (2.9% of total)\n",
      "12856 total associations\n"
     ]
    }
   ],
   "source": [
    "core_vdb.report_groups()"
   ]
  },
  {
   "cell_type": "code",
   "execution_count": 18,
   "metadata": {
    "collapsed": false
   },
   "outputs": [
    {
     "name": "stdout",
     "output_type": "stream",
     "text": [
      "Total: 0 (0.0% of superset)\n"
     ]
    }
   ],
   "source": [
    "# All associations should have an evidence level\n",
    "\n",
    "core_vdb.select(lambda x: not x.evidence_level).report_groups(core_vdb)"
   ]
  },
  {
   "cell_type": "markdown",
   "metadata": {},
   "source": [
    "## Feature coordinates\n",
    "\n",
    "What follows is a detailed look at associations without start and end coordinates after normalization, and a set of regular expression filters to separate out these associations into chunks that can be annotated with gene- or exon-level coordinates, as appropriate."
   ]
  },
  {
   "cell_type": "code",
   "execution_count": 19,
   "metadata": {
    "collapsed": false
   },
   "outputs": [
    {
     "name": "stdout",
     "output_type": "stream",
     "text": [
      "cgi: 372 (34.7% of superset)\n",
      "jax: 1789 (31.1% of superset)\n",
      "molecularmatch: 17 (0.8% of superset)\n",
      "oncokb: 35 (0.9% of superset)\n",
      "pmkb: 82 (13.7% of superset)\n",
      "Total: 2295 (13.6% of superset)\n"
     ]
    }
   ],
   "source": [
    "# Associations with more than 1 feature\n",
    "x = core_vdb.select(lambda x: len(x.features) > 1)\n",
    "x.report_groups(vdb)"
   ]
  },
  {
   "cell_type": "code",
   "execution_count": 20,
   "metadata": {
    "collapsed": false
   },
   "outputs": [
    {
     "name": "stdout",
     "output_type": "stream",
     "text": [
      "cgi: 15 (1.4% of superset)\n",
      "civic: 15 (0.4% of superset)\n",
      "jax: 12 (0.2% of superset)\n",
      "molecularmatch: 17 (0.8% of superset)\n",
      "oncokb: 2 (0.0% of superset)\n",
      "pmkb: 2 (0.3% of superset)\n",
      "Total: 63 (0.4% of superset)\n"
     ]
    }
   ],
   "source": [
    "# Associations without at least 1 complete feature\n",
    "no_features = core_vdb.select(lambda x: len(x.features) == 0)\n",
    "no_features.report_groups(vdb)"
   ]
  },
  {
   "cell_type": "code",
   "execution_count": 21,
   "metadata": {
    "collapsed": false
   },
   "outputs": [
    {
     "data": {
      "text/plain": [
       "{'description': 'lung adenocarcinoma',\n",
       " 'family': 'lung cancer',\n",
       " 'type': {'id': 'DOID:3910',\n",
       "  'source': 'http://purl.obolibrary.org/obo/doid',\n",
       "  'term': 'lung adenocarcinoma'}}"
      ]
     },
     "execution_count": 21,
     "metadata": {},
     "output_type": "execute_result"
    }
   ],
   "source": [
    "vdb[0]['association']['phenotype']"
   ]
  },
  {
   "cell_type": "code",
   "execution_count": 22,
   "metadata": {
    "collapsed": false
   },
   "outputs": [
    {
     "name": "stdout",
     "output_type": "stream",
     "text": [
      "cgi: 1057 (98.6% of superset)\n",
      "civic: 3325 (99.6% of superset)\n",
      "jax: 5734 (99.8% of superset)\n",
      "molecularmatch: 2063 (99.2% of superset)\n",
      "oncokb: 245 (99.2% of superset)\n",
      "pmkb: 369 (99.5% of superset)\n",
      "Total: 12793 (99.5% of superset)\n"
     ]
    }
   ],
   "source": [
    "# Associations with coordinate features\n",
    "coord_featured = core_vdb - no_features\n",
    "coord_featured.report_groups(core_vdb)"
   ]
  },
  {
   "cell_type": "code",
   "execution_count": 23,
   "metadata": {
    "collapsed": false
   },
   "outputs": [
    {
     "name": "stdout",
     "output_type": "stream",
     "text": [
      "civic: 2 (0.1% of superset)\n",
      "pmkb: 2 (0.5% of superset)\n",
      "Total: 4 (0.0% of superset)\n"
     ]
    }
   ],
   "source": [
    "# Associations with invalid coordinates\n",
    "invalid_features = core_vdb.select(lambda x: any([f.start > f.end for f in x.features]))\n",
    "invalid_features.report_groups(core_vdb)"
   ]
  },
  {
   "cell_type": "code",
   "execution_count": 24,
   "metadata": {
    "collapsed": true
   },
   "outputs": [],
   "source": [
    "core_vdb = core_vdb - invalid_features"
   ]
  },
  {
   "cell_type": "code",
   "execution_count": 25,
   "metadata": {
    "collapsed": false
   },
   "outputs": [
    {
     "data": {
      "text/plain": [
       "[[<class 'vicckb.model.GenomicFeature'>: GRCh37:19:1207090:1206915:STK11 codon(s) 60-1 deletion],\n",
       " [<class 'vicckb.model.GenomicFeature'>: GRCh37:19:1207090:1206915:STK11 codon(s) 60-1 deletion]]"
      ]
     },
     "execution_count": 25,
     "metadata": {},
     "output_type": "execute_result"
    }
   ],
   "source": [
    "[x.features for x in invalid_features.by_source('pmkb')]"
   ]
  },
  {
   "cell_type": "markdown",
   "metadata": {},
   "source": [
    "### Remainder of section is inactivated code for identifying associations without coordinates\n",
    "\n",
    "import re\n",
    "\n",
    "def feature_filter(re_obj, associations):\n",
    "    # report matches and return non-matches\n",
    "    found = list(filter(lambda x: re_obj.search(x['feature_names']) is not None, associations))\n",
    "    not_found = list(filter(lambda x: re_obj.search(x['feature_names']) is None, associations))\n",
    "    report_groups(found)\n",
    "    return(not_found)\n",
    "\n",
    "amp_re = re.compile(r'(amplification)|(loss)|(amp)', re.IGNORECASE)\n",
    "remainder = feature_filter(amp_re, no_partial_coord_featured_with_feature_names)"
   ]
  },
  {
   "cell_type": "markdown",
   "metadata": {},
   "source": [
    "fusion_re = re.compile(r'(\\w{2,}-\\w{2,})|(fusion)', re.IGNORECASE)\n",
    "r2 = feature_filter(fusion_re, remainder)"
   ]
  },
  {
   "cell_type": "markdown",
   "metadata": {},
   "source": [
    "ppm_re = re.compile(r'\\w+(:| )[a-z]\\d+[a-z]?(fs\\*?)?$', re.IGNORECASE)\n",
    "r3 = feature_filter(ppm_re, r2)"
   ]
  },
  {
   "cell_type": "markdown",
   "metadata": {},
   "source": [
    "indel_re = re.compile(r'\\w+(:| )\\w+(ins\\w+)|(del($|ins\\w+))|(dup$)')\n",
    "r4 = feature_filter(indel_re, r3)"
   ]
  },
  {
   "cell_type": "markdown",
   "metadata": {},
   "source": [
    "bucket_re = re.compile(r'[A-Z0-9]+( (in)?act)?( oncogenic)? mut((ant)|(ation))?$')\n",
    "r5 = feature_filter(bucket_re, r4)"
   ]
  },
  {
   "cell_type": "markdown",
   "metadata": {},
   "source": [
    "exon_re = re.compile(r'exon', re.IGNORECASE)\n",
    "r6 = feature_filter(exon_re, r5)"
   ]
  },
  {
   "cell_type": "markdown",
   "metadata": {},
   "source": [
    "expression_re = re.compile(r'(exp)|(^\\w+ (pos(itive)?)|(neg(ative)?)|(biallelic inactivation)$)|(truncating)|(deletion)', re.IGNORECASE)\n",
    "r7 = feature_filter(expression_re, r6)"
   ]
  },
  {
   "cell_type": "markdown",
   "metadata": {},
   "source": [
    "report_groups(r7)"
   ]
  },
  {
   "cell_type": "markdown",
   "metadata": {},
   "source": [
    "get_feature_names([x for x in r7 if x['source'] == 'cgi'])"
   ]
  },
  {
   "cell_type": "markdown",
   "metadata": {},
   "source": [
    "## Diseases"
   ]
  },
  {
   "cell_type": "code",
   "execution_count": 26,
   "metadata": {
    "collapsed": false
   },
   "outputs": [
    {
     "name": "stdout",
     "output_type": "stream",
     "text": [
      "civic: 1 (0.0% of superset)\n",
      "Total: 1 (0.0% of superset)\n"
     ]
    }
   ],
   "source": [
    "disease_missing = core_vdb.select(lambda x: x.disease is None)\n",
    "disease_missing.report_groups(core_vdb)"
   ]
  },
  {
   "cell_type": "code",
   "execution_count": 27,
   "metadata": {
    "collapsed": false
   },
   "outputs": [
    {
     "data": {
      "text/plain": [
       "{'description': 'Pericytoma with t(7;12) is a soft tissue tumor characterized by fusion of the ACTB and GLI genes through the translocation t(7;12)(p22;q13). In this study the genomic breakpoints of 5 cases were characterized.',\n",
       " 'environmentalContexts': [],\n",
       " 'evidence': [{'description': 'Positive',\n",
       "   'evidenceType': {'id': '1844', 'sourceName': 'CIVIC'},\n",
       "   'info': {'publications': ['http://www.ncbi.nlm.nih.gov/pubmed/15555571']}}],\n",
       " 'evidence_label': 'B',\n",
       " 'evidence_level': 2,\n",
       " 'phenotype': {'description': 'Pericytoma',\n",
       "  'family': 'Uncategorized-PHN',\n",
       "  'id': 'http://www.disease-ontology.org/'},\n",
       " 'publication_url': ['http://www.ncbi.nlm.nih.gov/pubmed/15555571'],\n",
       " 'response_type': 'Positive',\n",
       " 'source_link': 'https://civic.genome.wustl.edu/events/genes/2279/summary/variants/780/summary'}"
      ]
     },
     "execution_count": 27,
     "metadata": {},
     "output_type": "execute_result"
    }
   ],
   "source": [
    "disease_missing[0]['association']"
   ]
  },
  {
   "cell_type": "markdown",
   "metadata": {},
   "source": [
    "## Drugs"
   ]
  },
  {
   "cell_type": "code",
   "execution_count": 28,
   "metadata": {
    "collapsed": false
   },
   "outputs": [
    {
     "name": "stdout",
     "output_type": "stream",
     "text": [
      "cgi: 112 (10.4% of superset)\n",
      "civic: 1259 (37.7% of superset)\n",
      "jax: 457 (8.0% of superset)\n",
      "molecularmatch: 120 (5.8% of superset)\n",
      "oncokb: 8 (3.2% of superset)\n",
      "pmkb: 369 (100.0% of superset)\n",
      "Total: 2325 (18.1% of superset)\n"
     ]
    }
   ],
   "source": [
    "drugs_missing = core_vdb.select(lambda x: len(x.drugs) == 0)\n",
    "drugs_missing.report_groups(core_vdb)"
   ]
  },
  {
   "cell_type": "markdown",
   "metadata": {},
   "source": [
    "## Genes"
   ]
  },
  {
   "cell_type": "code",
   "execution_count": 29,
   "metadata": {
    "collapsed": false
   },
   "outputs": [
    {
     "name": "stderr",
     "output_type": "stream",
     "text": [
      "/Users/awagner/Workspace/git/vicckb/vicckb/model.py:246: UserWarning: Ambiguous gene symbol MLL2 in assertion 235677252030682\n",
      "  warn('Ambiguous gene symbol {} in assertion {}'.format(g, self))\n"
     ]
    }
   ],
   "source": [
    "ambiguous = list()\n",
    "for a in core_vdb:\n",
    "    a.genes\n",
    "\n",
    "# assert len(ambiguous) == 0  # Ensure there are no ambiguous genes from knowledgebases"
   ]
  },
  {
   "cell_type": "markdown",
   "metadata": {},
   "source": [
    "## Cache\n",
    "\n",
    "Saving core_vdb to cache for testing."
   ]
  },
  {
   "cell_type": "code",
   "execution_count": 30,
   "metadata": {
    "collapsed": true
   },
   "outputs": [],
   "source": [
    "core_vdb.cache_data()"
   ]
  },
  {
   "cell_type": "markdown",
   "metadata": {},
   "source": [
    "# Knowledgebase Comparison"
   ]
  },
  {
   "cell_type": "markdown",
   "metadata": {},
   "source": [
    "## Publications\n",
    "\n",
    "### All publications"
   ]
  },
  {
   "cell_type": "code",
   "execution_count": 31,
   "metadata": {
    "collapsed": false
   },
   "outputs": [
    {
     "data": {
      "image/png": "[encoded data removed]",
      "text/plain": [
       "<matplotlib.figure.Figure at 0x139d01208>"
      ]
     },
     "metadata": {},
     "output_type": "display_data"
    }
   ],
   "source": [
    "x = core_vdb.plot_element_by_source('publications', min_bound=4)\n",
    "# f = x['figure']\n",
    "# f.savefig('out/publications.pdf')"
   ]
  },
  {
   "cell_type": "code",
   "execution_count": 32,
   "metadata": {
    "collapsed": false
   },
   "outputs": [
    {
     "name": "stdout",
     "output_type": "stream",
     "text": [
      "molecularmatch: 312 resource-specific publications\n",
      "civic: 1105 resource-specific publications\n",
      "pmkb: 268 resource-specific publications\n",
      "oncokb: 211 resource-specific publications\n",
      "jax: 1311 resource-specific publications\n",
      "cgi: 484 resource-specific publications\n",
      "3691 (84.87%) total resource-specific publications\n"
     ]
    }
   ],
   "source": [
    "# Publications uniquely cited\n",
    "data = x['input_data']\n",
    "total = 0\n",
    "for source in data:\n",
    "    publications_from_elsewhere = set()\n",
    "    for source2 in data:\n",
    "        if source == source2:\n",
    "            continue\n",
    "        publications_from_elsewhere.update(data[source2])\n",
    "    unique = data[source] - publications_from_elsewhere\n",
    "    print(\"{}: {} resource-specific publications\".format(source, len(unique)))\n",
    "    total += len(unique)\n",
    "print(\"{} ({:.2%}) total resource-specific publications\".format(total, total / len(set.union(*(data.values())))))"
   ]
  },
  {
   "cell_type": "code",
   "execution_count": 33,
   "metadata": {
    "collapsed": false
   },
   "outputs": [
    {
     "name": "stdout",
     "output_type": "stream",
     "text": [
      "3691 / 4349 (84.87%) of publications are represented in only 1 resource.\n",
      "203 / 4349 (4.67%) of publications are represented in the majority of (3) resources.\n",
      "1 / 4349 (0.02%) of publications are represented across all resources.\n"
     ]
    },
    {
     "data": {
      "text/plain": [
       "{<class 'vicckb.model.Publication'>: 23220880}"
      ]
     },
     "execution_count": 33,
     "metadata": {},
     "output_type": "execute_result"
    }
   ],
   "source": [
    "x = core_vdb.element_by_source_stats('publications')\n",
    "x['ubiquitous'] # Bose et al. Cancer Discovery 2013"
   ]
  },
  {
   "cell_type": "markdown",
   "metadata": {},
   "source": [
    "### PMIDs"
   ]
  },
  {
   "cell_type": "code",
   "execution_count": 34,
   "metadata": {
    "collapsed": false
   },
   "outputs": [
    {
     "data": {
      "image/png": "[encoded data removed]",
      "text/plain": [
       "<matplotlib.figure.Figure at 0x13927c0b8>"
      ]
     },
     "metadata": {},
     "output_type": "display_data"
    }
   ],
   "source": [
    "x = core_vdb.plot_element_by_source('publications', lambda x: x.pmid, min_bound=3)\n",
    "# f = x['figure']\n",
    "# f.savefig('out/pmids.pdf')"
   ]
  },
  {
   "cell_type": "code",
   "execution_count": 35,
   "metadata": {
    "collapsed": false
   },
   "outputs": [
    {
     "name": "stdout",
     "output_type": "stream",
     "text": [
      "3141 / 3795 (82.77%) of publications are represented in only 1 resource.\n",
      "203 / 3795 (5.35%) of publications are represented in the majority of (3) resources.\n",
      "1 / 3795 (0.03%) of publications are represented across all resources.\n"
     ]
    },
    {
     "data": {
      "text/plain": [
       "{<class 'vicckb.model.Publication'>: 23220880}"
      ]
     },
     "execution_count": 35,
     "metadata": {},
     "output_type": "execute_result"
    }
   ],
   "source": [
    "x = core_vdb.element_by_source_stats('publications', lambda x: x.pmid)\n",
    "x['ubiquitous'] # Bose et al. Cancer Discovery 2013"
   ]
  },
  {
   "cell_type": "markdown",
   "metadata": {},
   "source": [
    "## Genes"
   ]
  },
  {
   "cell_type": "code",
   "execution_count": 36,
   "metadata": {
    "collapsed": false
   },
   "outputs": [
    {
     "name": "stdout",
     "output_type": "stream",
     "text": [
      "cgi: 1 (0.1% of superset)\n",
      "molecularmatch: 5 (0.2% of superset)\n",
      "oncokb: 2 (0.8% of superset)\n",
      "Total: 8 (0.1% of superset)\n"
     ]
    },
    {
     "name": "stderr",
     "output_type": "stream",
     "text": [
      "/Users/awagner/Workspace/git/vicckb/vicckb/model.py:246: UserWarning: Ambiguous gene symbol MLL2 in assertion 235677252030682\n",
      "  warn('Ambiguous gene symbol {} in assertion {}'.format(g, self))\n"
     ]
    }
   ],
   "source": [
    "no_genes = core_vdb.select(lambda x: not x.genes)\n",
    "no_genes.report_groups(core_vdb)"
   ]
  },
  {
   "cell_type": "code",
   "execution_count": 37,
   "metadata": {
    "collapsed": false
   },
   "outputs": [
    {
     "data": {
      "image/png": "[encoded data removed]",
      "text/plain": [
       "<matplotlib.figure.Figure at 0x13cfe2f28>"
      ]
     },
     "metadata": {},
     "output_type": "display_data"
    }
   ],
   "source": [
    "with_genes = core_vdb - no_genes\n",
    "x = with_genes.plot_element_by_source('genes')\n",
    "# f = x['figure']\n",
    "# f.savefig('out/genes.pdf')"
   ]
  },
  {
   "cell_type": "code",
   "execution_count": 38,
   "metadata": {
    "collapsed": false
   },
   "outputs": [
    {
     "name": "stdout",
     "output_type": "stream",
     "text": [
      "252 / 414 (60.87%) of genes are represented in only 1 resource.\n",
      "97 / 414 (23.43%) of genes are represented in the majority of (3) resources.\n",
      "16 / 414 (3.86%) of genes are represented across all resources.\n"
     ]
    },
    {
     "data": {
      "text/plain": [
       "{<class 'vicckb.model.Gene'>: EGFR,\n",
       " <class 'vicckb.model.Gene'>: ERBB2,\n",
       " <class 'vicckb.model.Gene'>: FGFR3,\n",
       " <class 'vicckb.model.Gene'>: FGFR2,\n",
       " <class 'vicckb.model.Gene'>: FLT3,\n",
       " <class 'vicckb.model.Gene'>: ALK,\n",
       " <class 'vicckb.model.Gene'>: ABL1,\n",
       " <class 'vicckb.model.Gene'>: KIT,\n",
       " <class 'vicckb.model.Gene'>: KRAS,\n",
       " <class 'vicckb.model.Gene'>: MET,\n",
       " <class 'vicckb.model.Gene'>: NOTCH1,\n",
       " <class 'vicckb.model.Gene'>: NRAS,\n",
       " <class 'vicckb.model.Gene'>: PDGFRA,\n",
       " <class 'vicckb.model.Gene'>: PIK3CA,\n",
       " <class 'vicckb.model.Gene'>: PTEN,\n",
       " <class 'vicckb.model.Gene'>: BRAF}"
      ]
     },
     "execution_count": 38,
     "metadata": {},
     "output_type": "execute_result"
    }
   ],
   "source": [
    "x = with_genes.element_by_source_stats('genes')\n",
    "x['ubiquitous']"
   ]
  },
  {
   "cell_type": "markdown",
   "metadata": {
    "collapsed": true
   },
   "source": [
    "## Features"
   ]
  },
  {
   "cell_type": "code",
   "execution_count": 39,
   "metadata": {
    "collapsed": false
   },
   "outputs": [
    {
     "data": {
      "image/png": "[encoded data removed]",
      "text/plain": [
       "<matplotlib.figure.Figure at 0x139c79908>"
      ]
     },
     "metadata": {},
     "output_type": "display_data"
    }
   ],
   "source": [
    "x = core_vdb.plot_element_by_source('features', min_bound=5)\n",
    "# f = x['figure']\n",
    "# f.savefig('out/features.pdf')"
   ]
  },
  {
   "cell_type": "code",
   "execution_count": 40,
   "metadata": {
    "collapsed": false
   },
   "outputs": [
    {
     "name": "stdout",
     "output_type": "stream",
     "text": [
      "2656 / 3449 (77.01%) of features are represented in only 1 resource.\n",
      "279 / 3449 (8.09%) of features are represented in the majority of (3) resources.\n",
      "7 / 3449 (0.20%) of features are represented across all resources.\n"
     ]
    }
   ],
   "source": [
    "x = core_vdb.element_by_source_stats('features')"
   ]
  },
  {
   "cell_type": "markdown",
   "metadata": {},
   "source": [
    "### Tier 1 variants\n"
   ]
  },
  {
   "cell_type": "code",
   "execution_count": 41,
   "metadata": {
    "collapsed": false
   },
   "outputs": [
    {
     "name": "stdout",
     "output_type": "stream",
     "text": [
      "236\n",
      "1511\n"
     ]
    }
   ],
   "source": [
    "tier1 = core_vdb.select(lambda x: x.evidence_level in ['A', 'B'])\n",
    "genes = set()\n",
    "features = set()\n",
    "for a in tier1:\n",
    "    genes.update(a.genes)\n",
    "    features.update(a.features)\n",
    "print(len(genes))\n",
    "print(len(features))"
   ]
  },
  {
   "cell_type": "markdown",
   "metadata": {},
   "source": [
    "### Hierarchical search\n",
    "Existing method is to find an exact match of any features for an association. Below we demonstrate gains through hierarchical search of GenomicFeatures, a core result of this effort."
   ]
  },
  {
   "cell_type": "code",
   "execution_count": 42,
   "metadata": {
    "collapsed": false
   },
   "outputs": [
    {
     "data": {
      "text/plain": [
       "26"
      ]
     },
     "execution_count": 42,
     "metadata": {},
     "output_type": "execute_result"
    }
   ],
   "source": [
    "hits = core_vdb.search_features(chromosome=7, start=140453136, end=140453136, reference_name='GRCh37')\n",
    "\n",
    "v600k = [x['best_match']['p'] for x in hits if x['best_match']['feature'].name.endswith('V600K')]\n",
    "len(v600k)"
   ]
  },
  {
   "cell_type": "code",
   "execution_count": 43,
   "metadata": {
    "collapsed": false
   },
   "outputs": [
    {
     "data": {
      "text/plain": [
       "3449"
      ]
     },
     "execution_count": 43,
     "metadata": {},
     "output_type": "execute_result"
    }
   ],
   "source": [
    "unique_features = set()\n",
    "x = [x.features for x in core_vdb]\n",
    "for fset in x:\n",
    "    unique_features.update(fset)\n",
    "unique_features = list(unique_features)\n",
    "len(unique_features)"
   ]
  },
  {
   "cell_type": "code",
   "execution_count": 44,
   "metadata": {
    "collapsed": true
   },
   "outputs": [],
   "source": [
    "# This is a computationally expensive operation (~1 minute for the 2800 searches). Could be sped up through indexed searching.\n",
    "\n",
    "feature_hits = dict()\n",
    "for feature in unique_features:\n",
    "    feature_hits[feature] = core_vdb.search_features(genomic_feature=feature)\n"
   ]
  },
  {
   "cell_type": "code",
   "execution_count": 45,
   "metadata": {
    "collapsed": false
   },
   "outputs": [
    {
     "data": {
      "text/plain": [
       "Counter({'exact': 21499,\n",
       "         'focal': 62477,\n",
       "         'positional': 34836,\n",
       "         'regional': 285490})"
      ]
     },
     "execution_count": 45,
     "metadata": {},
     "output_type": "execute_result"
    }
   ],
   "source": [
    "ranking = viccdb.ViccDb.MATCH_RANKING\n",
    "hits_by_type = Counter()\n",
    "sources_by_type = defaultdict(Counter)\n",
    "for f in unique_features:\n",
    "    for match_type in ranking:\n",
    "        typed_hits = [x for x in feature_hits[f] if ranking.index(x['best_match']['type']) <= ranking.index(match_type)]\n",
    "        if match_type != 'exact' or f.alt:\n",
    "            assert len(typed_hits) >= 1, \"Expected at least a self-match for feature {}\".format(f)\n",
    "        hits_by_type[match_type] += len(typed_hits)\n",
    "        sources = set([hit['association'].source for hit in typed_hits])\n",
    "        if sources:\n",
    "            sources_by_type[len(sources)][match_type] += 1\n",
    "hits_by_type"
   ]
  },
  {
   "cell_type": "code",
   "execution_count": 46,
   "metadata": {
    "collapsed": false
   },
   "outputs": [
    {
     "data": {
      "text/plain": [
       "defaultdict(collections.Counter,\n",
       "            {1: Counter({'exact': 2387,\n",
       "                      'focal': 2126,\n",
       "                      'positional': 2391,\n",
       "                      'regional': 493}),\n",
       "             2: Counter({'exact': 461,\n",
       "                      'focal': 654,\n",
       "                      'positional': 610,\n",
       "                      'regional': 439}),\n",
       "             3: Counter({'exact': 153,\n",
       "                      'focal': 305,\n",
       "                      'positional': 274,\n",
       "                      'regional': 751}),\n",
       "             4: Counter({'exact': 55,\n",
       "                      'focal': 173,\n",
       "                      'positional': 110,\n",
       "                      'regional': 372}),\n",
       "             5: Counter({'exact': 20,\n",
       "                      'focal': 114,\n",
       "                      'positional': 49,\n",
       "                      'regional': 915}),\n",
       "             6: Counter({'exact': 7,\n",
       "                      'focal': 77,\n",
       "                      'positional': 15,\n",
       "                      'regional': 479})})"
      ]
     },
     "execution_count": 46,
     "metadata": {},
     "output_type": "execute_result"
    }
   ],
   "source": [
    "sources_by_type"
   ]
  },
  {
   "cell_type": "code",
   "execution_count": 47,
   "metadata": {
    "collapsed": false
   },
   "outputs": [
    {
     "data": {
      "image/png": "[encoded data removed]",
      "text/plain": [
       "<matplotlib.figure.Figure at 0x13a698128>"
      ]
     },
     "metadata": {},
     "output_type": "display_data"
    }
   ],
   "source": [
    "fig, ax = plt.subplots()\n",
    "\n",
    "source_counts = sorted(sources_by_type)\n",
    "groups = viccdb.ViccDb.MATCH_RANKING\n",
    "width = 0.15\n",
    "plot_elements = list()\n",
    "ind = np.arange(len(groups))\n",
    "for i, source_count in enumerate(source_counts):\n",
    "    type_counts = sources_by_type[source_count]\n",
    "    x = [type_counts[k] for k in groups]\n",
    "    p = ax.bar(ind + width*(i-2.5), x, width, label=source_count)\n",
    "    plot_elements.append(p)\n",
    "ax.set_xticks(ind)\n",
    "ax.set_xticklabels(groups)\n",
    "handles, labels = ax.get_legend_handles_labels()\n",
    "ax.legend(handles, labels, title='Sources')\n",
    "plt.ylabel('Matched Interpretations')\n",
    "plt.show()\n",
    "fig.savefig('out/search_performance.pdf', format='pdf')"
   ]
  },
  {
   "cell_type": "code",
   "execution_count": 48,
   "metadata": {
    "collapsed": false
   },
   "outputs": [
    {
     "data": {
      "text/plain": [
       "Counter({1: 2520,\n",
       "         '100+': 507,\n",
       "         3: 100,\n",
       "         2: 190,\n",
       "         '10-99': 108,\n",
       "         8: 5,\n",
       "         6: 3,\n",
       "         9: 1,\n",
       "         5: 6,\n",
       "         7: 2,\n",
       "         4: 7})"
      ]
     },
     "execution_count": 48,
     "metadata": {},
     "output_type": "execute_result"
    }
   ],
   "source": [
    "c = Counter()\n",
    "for f in unique_features:\n",
    "    if len(f) > 9 and len(f) < 100:\n",
    "        l = '10-99'\n",
    "    elif len(f) >= 100:\n",
    "        l = '100+'\n",
    "    else:\n",
    "        l = len(f)\n",
    "    c[l] += 1\n",
    "c"
   ]
  },
  {
   "cell_type": "markdown",
   "metadata": {},
   "source": [
    "### Sequence Ontology"
   ]
  },
  {
   "cell_type": "code",
   "execution_count": 49,
   "metadata": {
    "collapsed": true
   },
   "outputs": [],
   "source": [
    "count = Counter()\n",
    "for association in core_vdb:\n",
    "    for feature in association.features:\n",
    "        count[feature.so.get('name', 'Uncategorized')] += 1"
   ]
  },
  {
   "cell_type": "code",
   "execution_count": 50,
   "metadata": {
    "collapsed": false
   },
   "outputs": [
    {
     "data": {
      "text/plain": [
       "[('substitution', 10176),\n",
       " ('Uncategorized', 7070),\n",
       " ('missense_variant', 2983),\n",
       " ('fusion', 2071),\n",
       " ('stop_gained', 1214),\n",
       " ('feature_amplification', 555),\n",
       " ('wild_type', 391),\n",
       " ('deletion', 264),\n",
       " ('loss_of_function_variant', 242),\n",
       " ('copy_number_loss', 207)]"
      ]
     },
     "execution_count": 50,
     "metadata": {},
     "output_type": "execute_result"
    }
   ],
   "source": [
    "count.most_common(10)"
   ]
  },
  {
   "cell_type": "code",
   "execution_count": 51,
   "metadata": {
    "collapsed": false
   },
   "outputs": [
    {
     "data": {
      "text/plain": [
       "0.307155258394592"
      ]
     },
     "execution_count": 51,
     "metadata": {},
     "output_type": "execute_result"
    }
   ],
   "source": [
    "(5052 + 3263) / sum(count.values())"
   ]
  },
  {
   "cell_type": "code",
   "execution_count": 52,
   "metadata": {
    "collapsed": false
   },
   "outputs": [
    {
     "name": "stdout",
     "output_type": "stream",
     "text": [
      "cgi: 31 (2.9% of superset)\n",
      "civic: 384 (11.5% of superset)\n",
      "jax: 2432 (42.3% of superset)\n",
      "molecularmatch: 496 (23.8% of superset)\n",
      "oncokb: 78 (31.6% of superset)\n",
      "pmkb: 110 (29.8% of superset)\n",
      "Total: 3531 (27.5% of superset)\n"
     ]
    }
   ],
   "source": [
    "# Associations lacking any sequence ontology ID\n",
    "\n",
    "def no_soid(association):\n",
    "    x = [feature.so.get('name', 'Uncategorized') == 'Uncategorized' for feature in association.features]\n",
    "    return all(x)\n",
    "\n",
    "no_soid_group = core_vdb.select(no_soid)\n",
    "no_soid_group.report_groups(core_vdb)"
   ]
  },
  {
   "cell_type": "code",
   "execution_count": 53,
   "metadata": {
    "collapsed": false
   },
   "outputs": [
    {
     "name": "stdout",
     "output_type": "stream",
     "text": [
      "cgi: 16 (1.5% of superset)\n",
      "civic: 369 (11.1% of superset)\n",
      "jax: 3197 (55.6% of superset)\n",
      "molecularmatch: 480 (23.1% of superset)\n",
      "oncokb: 76 (30.8% of superset)\n",
      "pmkb: 108 (29.3% of superset)\n",
      "Total: 4246 (33.0% of superset)\n"
     ]
    }
   ],
   "source": [
    "# Associations lacking at least one sequence ontology ID\n",
    "\n",
    "def missing_soid(association):\n",
    "    x = [feature.so.get('name', 'Uncategorized') == 'Uncategorized' for feature in association.features]\n",
    "    return any(x)\n",
    "\n",
    "missing_soid_group = core_vdb.select(missing_soid)\n",
    "missing_soid_group.report_groups(core_vdb)"
   ]
  },
  {
   "cell_type": "code",
   "execution_count": 54,
   "metadata": {
    "collapsed": false
   },
   "outputs": [
    {
     "name": "stdout",
     "output_type": "stream",
     "text": [
      "jax: 777 (13.5% of superset)\n",
      "molecularmatch: 1 (0.0% of superset)\n",
      "Total: 778 (6.1% of superset)\n"
     ]
    }
   ],
   "source": [
    "partial_soid_group = missing_soid_group - no_soid_group\n",
    "partial_soid_group.report_groups(core_vdb)"
   ]
  },
  {
   "cell_type": "code",
   "execution_count": 55,
   "metadata": {
    "collapsed": false
   },
   "outputs": [
    {
     "data": {
      "text/plain": [
       "{'hierarchy': ['SO:0000400', 'SO:0001761', 'SO:0001814'],\n",
       " 'name': 'synonymous',\n",
       " 'parent_name': 'sequence_attribute',\n",
       " 'parent_soid': 'SO:0000400',\n",
       " 'soid': 'SO:0001815'}"
      ]
     },
     "execution_count": 55,
     "metadata": {},
     "output_type": "execute_result"
    }
   ],
   "source": [
    "partial_soid_group[0].features[2].so"
   ]
  },
  {
   "cell_type": "markdown",
   "metadata": {},
   "source": [
    "### Project GENIE feature match"
   ]
  },
  {
   "cell_type": "code",
   "execution_count": 56,
   "metadata": {
    "collapsed": true
   },
   "outputs": [],
   "source": [
    "# Load genie variants\n"
   ]
  },
  {
   "cell_type": "code",
   "execution_count": 57,
   "metadata": {
    "collapsed": true
   },
   "outputs": [],
   "source": [
    "# Do a feature search across knowledgebase"
   ]
  },
  {
   "cell_type": "markdown",
   "metadata": {},
   "source": [
    "## Disease"
   ]
  },
  {
   "cell_type": "code",
   "execution_count": 281,
   "metadata": {
    "collapsed": false
   },
   "outputs": [
    {
     "data": {
      "text/plain": [
       "Counter({'http://purl.obolibrary.org/obo/doid': 12677,\n",
       "         'MEDDRA': 69,\n",
       "         'SNOMEDCT': 29,\n",
       "         None: 1,\n",
       "         'OMIM': 4,\n",
       "         'DOID': 4,\n",
       "         'EVS': 26,\n",
       "         'ICD10CM': 3,\n",
       "         'RID': 1,\n",
       "         'LNC': 17,\n",
       "         'ORDO': 1,\n",
       "         'CL': 2,\n",
       "         'PATO': 6,\n",
       "         'CSP': 4,\n",
       "         'menelastop.ics.upmc.fr': 1,\n",
       "         'www.owl-ontologies.com': 1,\n",
       "         'scai.fraunhofer.de': 1,\n",
       "         'CHEBI': 1,\n",
       "         'MESH': 4})"
      ]
     },
     "execution_count": 281,
     "metadata": {},
     "output_type": "execute_result"
    }
   ],
   "source": [
    "c = Counter()\n",
    "for x in core_vdb:\n",
    "    try:\n",
    "        c[x.disease.source] += 1\n",
    "    except AttributeError:\n",
    "        c[None] += 1\n",
    "c"
   ]
  },
  {
   "cell_type": "code",
   "execution_count": 282,
   "metadata": {
    "collapsed": true
   },
   "outputs": [],
   "source": [
    "doid = core_vdb.select(lambda x: x.disease is not None and x.disease.id.startswith('DOID:'))"
   ]
  },
  {
   "cell_type": "code",
   "execution_count": 283,
   "metadata": {
    "collapsed": false
   },
   "outputs": [
    {
     "name": "stdout",
     "output_type": "stream",
     "text": [
      "cgi: 106 (9.9% of superset)\n",
      "civic: 81 (2.4% of superset)\n",
      "jax: 1352 (23.5% of superset)\n",
      "oncokb: 15 (6.1% of superset)\n",
      "Total: 1554 (12.1% of superset)\n"
     ]
    }
   ],
   "source": [
    "# Problem with number of entries from jax reporting \"cancer\" as doid type\n",
    "doid.select(lambda x: x.disease.id == 'DOID:162').report_groups(core_vdb)"
   ]
  },
  {
   "cell_type": "code",
   "execution_count": 284,
   "metadata": {
    "collapsed": true
   },
   "outputs": [],
   "source": [
    "import obonet\n",
    "import networkx"
   ]
  },
  {
   "cell_type": "code",
   "execution_count": 305,
   "metadata": {
    "collapsed": true
   },
   "outputs": [],
   "source": [
    "url = 'https://raw.githubusercontent.com/DiseaseOntology/HumanDiseaseOntology/v2018-05-11/src/ontology/HumanDO.obo'\n",
    "graph = obonet.read_obo(url)"
   ]
  },
  {
   "cell_type": "code",
   "execution_count": 306,
   "metadata": {
    "collapsed": false
   },
   "outputs": [],
   "source": [
    "assert networkx.is_directed_acyclic_graph(graph)"
   ]
  },
  {
   "cell_type": "code",
   "execution_count": 307,
   "metadata": {
    "collapsed": false
   },
   "outputs": [],
   "source": [
    "id_to_name = {id_: data['name'] for id_, data in graph.nodes(data=True)}"
   ]
  },
  {
   "cell_type": "code",
   "execution_count": 308,
   "metadata": {
    "collapsed": false
   },
   "outputs": [
    {
     "name": "stdout",
     "output_type": "stream",
     "text": [
      "cancer: 1554\n",
      "lung adenocarcinoma: 1415\n",
      "breast cancer: 1089\n",
      "non-small cell lung carcinoma: 1010\n",
      "colorectal cancer: 976\n",
      "melanoma: 659\n",
      "von Hippel-Lindau disease: 566\n",
      "acute myeloid leukemia: 419\n",
      "rectal neoplasm: 366\n",
      "chronic myeloid leukemia: 251\n",
      "lung cancer: 210\n",
      "gastrointestinal stromal tumor: 194\n",
      "skin melanoma: 162\n",
      "ovarian cancer: 156\n",
      "Her2-receptor positive breast cancer: 132\n",
      "stomach cancer: 122\n",
      "colon cancer: 120\n",
      "glioblastoma multiforme: 116\n",
      "head and neck squamous cell carcinoma: 99\n",
      "colorectal adenocarcinoma: 95\n"
     ]
    }
   ],
   "source": [
    "c = Counter()\n",
    "for x in doid:\n",
    "    try:\n",
    "        c[x.disease.id] += 1\n",
    "    except AttributeError:\n",
    "        c[None] += 1\n",
    "for k, v in c.most_common(20):\n",
    "    print(f'{id_to_name[k]}: {v}')"
   ]
  },
  {
   "cell_type": "code",
   "execution_count": 309,
   "metadata": {
    "collapsed": false
   },
   "outputs": [],
   "source": [
    "organ_system_ids = graph.predecessors('DOID:0050686')\n",
    "benign_and_premalignant_ids = ['DOID:0060072', 'DOID:0060071']\n",
    "cell_type_cancer_id = 'DOID:0050687'\n",
    "cancer_id = 'DOID:162'"
   ]
  },
  {
   "cell_type": "code",
   "execution_count": 310,
   "metadata": {
    "collapsed": false
   },
   "outputs": [],
   "source": [
    "organ_system = dict()\n",
    "benign_and_premalignant = dict()\n",
    "\n",
    "def assign_to_id(ids, id_, d):\n",
    "    if len(ids) == 0:\n",
    "        return\n",
    "    for i in ids:\n",
    "        d[i] = id_\n",
    "        assign_to_id(graph.predecessors(i), id_, d)\n",
    "    return \n",
    "\n",
    "for organ_id in (organ_system_ids + [cell_type_cancer_id]):\n",
    "    assign_to_id(graph.predecessors(organ_id), organ_id, organ_system)\n",
    "    organ_system[organ_id] = organ_id\n",
    "\n",
    "for id_ in benign_and_premalignant_ids:\n",
    "    assign_to_id(graph.predecessors(id_), id_, benign_and_premalignant)\n",
    "    benign_and_premalignant[id_] = id_\n",
    "    \n"
   ]
  },
  {
   "cell_type": "code",
   "execution_count": 312,
   "metadata": {
    "collapsed": false
   },
   "outputs": [
    {
     "data": {
      "text/plain": [
       "{'def': '\"An organ system cancer located_in the respiratory system that is characterized by uncontrolled cellular proliferation in the respiratory tract.\" [url:http\\\\://en.wikipedia.org/wiki/Respiratory_tract_neoplasm]',\n",
       " 'is_a': ['DOID:0050686'],\n",
       " 'name': 'respiratory system cancer'}"
      ]
     },
     "execution_count": 312,
     "metadata": {},
     "output_type": "execute_result"
    }
   ],
   "source": [
    "return_id = organ_system['DOID:0050615']\n",
    "graph.node[return_id]"
   ]
  },
  {
   "cell_type": "code",
   "execution_count": 313,
   "metadata": {
    "collapsed": false
   },
   "outputs": [
    {
     "name": "stdout",
     "output_type": "stream",
     "text": [
      "cgi: 1072 (100.0% of superset)\n",
      "civic: 3337 (100.0% of superset)\n",
      "jax: 5746 (100.0% of superset)\n",
      "molecularmatch: 2080 (100.0% of superset)\n",
      "oncokb: 247 (100.0% of superset)\n",
      "pmkb: 369 (100.0% of superset)\n",
      "Total: 12851 (100.0% of superset)\n"
     ]
    }
   ],
   "source": [
    "normalized_disease = core_vdb.select(lambda x: x.disease is not None)\n",
    "normalized_disease.report_groups(core_vdb)"
   ]
  },
  {
   "cell_type": "code",
   "execution_count": 314,
   "metadata": {
    "collapsed": false
   },
   "outputs": [],
   "source": [
    "do_sourced = normalized_disease.select(lambda x: x.disease.source in ['DOID', 'http://purl.obolibrary.org/obo/doid'])"
   ]
  },
  {
   "cell_type": "code",
   "execution_count": 315,
   "metadata": {
    "collapsed": false
   },
   "outputs": [
    {
     "name": "stdout",
     "output_type": "stream",
     "text": [
      "cgi: 971 (90.6% of superset)\n",
      "civic: 3302 (98.9% of superset)\n",
      "jax: 5745 (100.0% of superset)\n",
      "molecularmatch: 2080 (100.0% of superset)\n",
      "oncokb: 239 (96.8% of superset)\n",
      "pmkb: 344 (93.2% of superset)\n",
      "Total: 12681 (98.7% of superset)\n"
     ]
    }
   ],
   "source": [
    "do_sourced.report_groups(core_vdb)"
   ]
  },
  {
   "cell_type": "code",
   "execution_count": 316,
   "metadata": {
    "collapsed": true
   },
   "outputs": [],
   "source": [
    "cancer_organ_interpretations = do_sourced.select(lambda x: organ_system.get(x.disease.id, False))\n",
    "benign_premalignant_interpretations = do_sourced.select(lambda x: benign_and_premalignant.get(x.disease.id, False))\n",
    "cancer_interpretations = do_sourced.select(lambda x: x.disease.id == cancer_id)\n",
    "other_interpretations = do_sourced - cancer_organ_interpretations - benign_premalignant_interpretations - cancer_interpretations"
   ]
  },
  {
   "cell_type": "code",
   "execution_count": 317,
   "metadata": {
    "collapsed": false
   },
   "outputs": [
    {
     "name": "stdout",
     "output_type": "stream",
     "text": [
      "cgi: 720 (74.2% of superset)\n",
      "civic: 2600 (78.7% of superset)\n",
      "jax: 4388 (76.4% of superset)\n",
      "molecularmatch: 1714 (82.4% of superset)\n",
      "oncokb: 213 (89.1% of superset)\n",
      "pmkb: 332 (96.5% of superset)\n",
      "Total: 9967 (78.6% of superset)\n"
     ]
    }
   ],
   "source": [
    "cancer_organ_interpretations.report_groups(do_sourced)"
   ]
  },
  {
   "cell_type": "code",
   "execution_count": 318,
   "metadata": {
    "collapsed": false
   },
   "outputs": [
    {
     "name": "stdout",
     "output_type": "stream",
     "text": [
      "cgi: 34 (3.5% of superset)\n",
      "civic: 570 (17.3% of superset)\n",
      "jax: 5 (0.1% of superset)\n",
      "molecularmatch: 366 (17.6% of superset)\n",
      "pmkb: 2 (0.6% of superset)\n",
      "Total: 977 (7.7% of superset)\n"
     ]
    }
   ],
   "source": [
    "benign_premalignant_interpretations.report_groups(do_sourced)"
   ]
  },
  {
   "cell_type": "code",
   "execution_count": 319,
   "metadata": {
    "collapsed": false
   },
   "outputs": [
    {
     "name": "stdout",
     "output_type": "stream",
     "text": [
      "cgi: 106 (10.9% of superset)\n",
      "civic: 81 (2.5% of superset)\n",
      "jax: 1352 (23.5% of superset)\n",
      "oncokb: 15 (6.3% of superset)\n",
      "Total: 1554 (12.3% of superset)\n"
     ]
    }
   ],
   "source": [
    "cancer_interpretations.report_groups(do_sourced)"
   ]
  },
  {
   "cell_type": "code",
   "execution_count": 320,
   "metadata": {
    "collapsed": false
   },
   "outputs": [
    {
     "name": "stdout",
     "output_type": "stream",
     "text": [
      "cgi: 111 (11.4% of superset)\n",
      "civic: 51 (1.5% of superset)\n",
      "oncokb: 11 (4.6% of superset)\n",
      "pmkb: 10 (2.9% of superset)\n",
      "Total: 183 (1.4% of superset)\n"
     ]
    }
   ],
   "source": [
    "other_interpretations.report_groups(do_sourced)"
   ]
  },
  {
   "cell_type": "code",
   "execution_count": 321,
   "metadata": {
    "collapsed": false
   },
   "outputs": [
    {
     "name": "stdout",
     "output_type": "stream",
     "text": [
      "cgi: 108 (11.1% of superset)\n",
      "civic: 2 (0.1% of superset)\n",
      "oncokb: 2 (0.8% of superset)\n",
      "pmkb: 8 (2.3% of superset)\n",
      "Total: 120 (0.9% of superset)\n"
     ]
    }
   ],
   "source": [
    "x = other_interpretations.select(lambda x: x.disease.id.split(':')[0] != 'DOID')\n",
    "x.report_groups(do_sourced)"
   ]
  },
  {
   "cell_type": "markdown",
   "metadata": {},
   "source": [
    "**concerning that 10%** of CGI associations have mismatched source / terms"
   ]
  },
  {
   "cell_type": "code",
   "execution_count": 322,
   "metadata": {
    "collapsed": false
   },
   "outputs": [
    {
     "data": {
      "text/plain": [
       "Counter({'HP': 56, 'UBERON': 64})"
      ]
     },
     "execution_count": 322,
     "metadata": {},
     "output_type": "execute_result"
    }
   ],
   "source": [
    "c = Counter()\n",
    "for i in x:\n",
    "    c[i.disease.id.split(':')[0]] += 1\n",
    "c"
   ]
  },
  {
   "cell_type": "code",
   "execution_count": 323,
   "metadata": {
    "collapsed": false
   },
   "outputs": [
    {
     "name": "stdout",
     "output_type": "stream",
     "text": [
      "http://purl.obolibrary.org/obo/doid\n",
      "HP:0011779\n",
      "Anaplastic thyroid carcinoma\n",
      "EID3744\n"
     ]
    }
   ],
   "source": [
    "entry = x.by_source('civic')[0]\n",
    "print(entry.disease.source)\n",
    "print(entry.disease.id)\n",
    "print(entry.disease.term)\n",
    "print(entry['feature_names'])"
   ]
  },
  {
   "cell_type": "code",
   "execution_count": 324,
   "metadata": {
    "collapsed": false
   },
   "outputs": [],
   "source": [
    "c = Counter()\n",
    "for association in cancer_organ_interpretations:\n",
    "    disease_id = association.disease.id\n",
    "    organ_id = organ_system[disease_id]\n",
    "    c[organ_id] += 1"
   ]
  },
  {
   "cell_type": "code",
   "execution_count": 325,
   "metadata": {
    "collapsed": false
   },
   "outputs": [
    {
     "name": "stdout",
     "output_type": "stream",
     "text": [
      "respiratory system cancer: 2748\n",
      "gastrointestinal system cancer: 1736\n",
      "thoracic cancer: 1452\n",
      "immune system cancer: 1338\n",
      "cell type cancer: 1016\n",
      "reproductive organ cancer: 487\n",
      "endocrine gland cancer: 341\n",
      "urinary system cancer: 231\n",
      "nervous system cancer: 204\n",
      "integumentary system cancer: 196\n",
      "head and neck cancer: 117\n",
      "musculoskeletal system cancer: 100\n",
      "peritoneum cancer: 1\n"
     ]
    }
   ],
   "source": [
    "for k, v in c.most_common(13):\n",
    "    print(f'{id_to_name[k]}: {v}')"
   ]
  },
  {
   "cell_type": "code",
   "execution_count": 326,
   "metadata": {
    "collapsed": false
   },
   "outputs": [
    {
     "name": "stdout",
     "output_type": "stream",
     "text": [
      "http://purl.obolibrary.org/obo/doid: DOID:1725\n",
      "jax\n",
      "In a preclinical study, the combination of APR-246 and Platinol (cisplatin) resulted in strong synergism, thereby reducing cell viability in patient derived peritoneum cancer cells harboring TP53 C135Y in culture (PMID: 27179933). \n"
     ]
    }
   ],
   "source": [
    "p_cancer = cancer_organ_interpretations.select(lambda x: id_to_name[organ_system[x.disease.id]] == 'peritoneum cancer')[0]\n",
    "print(p_cancer.disease)\n",
    "print(p_cancer.source)\n",
    "print(p_cancer.description)"
   ]
  },
  {
   "cell_type": "code",
   "execution_count": 327,
   "metadata": {
    "collapsed": false
   },
   "outputs": [
    {
     "data": {
      "text/plain": [
       "15"
      ]
     },
     "execution_count": 327,
     "metadata": {},
     "output_type": "execute_result"
    }
   ],
   "source": [
    "len(set(organ_system.values()))"
   ]
  },
  {
   "cell_type": "code",
   "execution_count": 328,
   "metadata": {
    "collapsed": false
   },
   "outputs": [],
   "source": [
    "with open(DATA_ROOT / 'TopNodes_DOcancerslim_3_18.json', 'r') as f:\n",
    "    result = json.load(f)\n",
    "    nodes = result['graphs'][0]['nodes']"
   ]
  },
  {
   "cell_type": "code",
   "execution_count": 329,
   "metadata": {
    "collapsed": false
   },
   "outputs": [
    {
     "data": {
      "text/plain": [
       "'DOID:1324'"
      ]
     },
     "execution_count": 329,
     "metadata": {},
     "output_type": "execute_result"
    }
   ],
   "source": [
    "nodes[0]['id'].split('/')[-1].replace('_', ':')"
   ]
  },
  {
   "cell_type": "code",
   "execution_count": 330,
   "metadata": {
    "collapsed": false
   },
   "outputs": [],
   "source": [
    "topnodes_docancerslim = list()\n",
    "doid_re = re.compile(r'DOID:\\d+')\n",
    "\n",
    "for node in nodes:\n",
    "    doid = node['id'].split('/')[-1].replace('_', ':')\n",
    "    if doid_re.match(doid):\n",
    "        topnodes_docancerslim.append(doid)"
   ]
  },
  {
   "cell_type": "code",
   "execution_count": 331,
   "metadata": {
    "collapsed": false
   },
   "outputs": [
    {
     "data": {
      "text/plain": [
       "58"
      ]
     },
     "execution_count": 331,
     "metadata": {},
     "output_type": "execute_result"
    }
   ],
   "source": [
    "len(topnodes_docancerslim)"
   ]
  },
  {
   "cell_type": "code",
   "execution_count": 332,
   "metadata": {
    "collapsed": true
   },
   "outputs": [],
   "source": [
    "def assign_to_nearest_id(ids, id_, d, terminals):\n",
    "    if len(ids) == 0:\n",
    "        return\n",
    "    for i in ids:\n",
    "        if i in terminals:\n",
    "            assignment = i\n",
    "        else:\n",
    "            assignment = id_\n",
    "        d[i] = assignment\n",
    "        assign_to_nearest_id(graph.predecessors(i), assignment, d, terminals)\n",
    "    return\n",
    "\n",
    "topnode_map = dict()\n",
    "assign_to_nearest_id(['DOID:162'], 'DOID:162', topnode_map, topnodes_docancerslim)"
   ]
  },
  {
   "cell_type": "code",
   "execution_count": 333,
   "metadata": {
    "collapsed": false
   },
   "outputs": [
    {
     "name": "stdout",
     "output_type": "stream",
     "text": [
      "cgi: 826 (85.1% of superset)\n",
      "civic: 2681 (81.2% of superset)\n",
      "jax: 5740 (99.9% of superset)\n",
      "molecularmatch: 1714 (82.4% of superset)\n",
      "oncokb: 228 (95.4% of superset)\n",
      "pmkb: 332 (96.5% of superset)\n",
      "Total: 11521 (90.9% of superset)\n"
     ]
    }
   ],
   "source": [
    "cancer_counts = Counter()\n",
    "\n",
    "cancer_associations = do_sourced.select(\n",
    "    lambda x: topnode_map.get(x.disease.id, False))\n",
    "\n",
    "for association in cancer_associations:\n",
    "    disease_id = association.disease.id\n",
    "    topnode_id = topnode_map[disease_id]\n",
    "    cancer_counts[topnode_id] += 1\n",
    "\n",
    "cancer_associations.report_groups(do_sourced)"
   ]
  },
  {
   "cell_type": "code",
   "execution_count": 334,
   "metadata": {
    "collapsed": false
   },
   "outputs": [
    {
     "name": "stdout",
     "output_type": "stream",
     "text": [
      "cgi: 145 (14.9% of superset)\n",
      "civic: 621 (18.8% of superset)\n",
      "jax: 5 (0.1% of superset)\n",
      "molecularmatch: 366 (17.6% of superset)\n",
      "oncokb: 11 (4.6% of superset)\n",
      "pmkb: 12 (3.5% of superset)\n",
      "Total: 1160 (9.1% of superset)\n"
     ]
    }
   ],
   "source": [
    "other_associations = do_sourced - cancer_associations\n",
    "other_associations.report_groups(do_sourced)"
   ]
  },
  {
   "cell_type": "code",
   "execution_count": 335,
   "metadata": {
    "collapsed": false
   },
   "outputs": [
    {
     "data": {
      "text/plain": [
       "48"
      ]
     },
     "execution_count": 335,
     "metadata": {},
     "output_type": "execute_result"
    }
   ],
   "source": [
    "len(cancer_counts)"
   ]
  },
  {
   "cell_type": "code",
   "execution_count": null,
   "metadata": {
    "collapsed": true
   },
   "outputs": [],
   "source": [
    "for k, v in cancer_counts.most_common(48):\n",
    "    print(f'{id_to_name[k]}: {v}')\n",
    "    "
   ]
  },
  {
   "cell_type": "code",
   "execution_count": 360,
   "metadata": {
    "collapsed": false
   },
   "outputs": [],
   "source": [
    "def write_disease_counts(file_handle, disease_counter):\n",
    "    writer = csv.writer(file_handle)\n",
    "    s = sum(disease_counter.values())\n",
    "    writer.writerow(['DOID', 'Disease Name', 'Interpretations', 'Percentage'])\n",
    "    for k, v in disease_counter.most_common(len(disease_counter)):\n",
    "        writer.writerow([k, id_to_name[k], v, '{:.2%}'.format(v/s)])"
   ]
  },
  {
   "cell_type": "code",
   "execution_count": 361,
   "metadata": {
    "collapsed": true
   },
   "outputs": [],
   "source": [
    "with open('out/interpretation_disease_topnode_counts.csv', 'w') as f:\n",
    "    write_disease_counts(f, cancer_counts)"
   ]
  },
  {
   "cell_type": "code",
   "execution_count": 337,
   "metadata": {
    "collapsed": false
   },
   "outputs": [
    {
     "name": "stdout",
     "output_type": "stream",
     "text": [
      "cgi: 34 (3.5% of superset)\n",
      "civic: 570 (17.3% of superset)\n",
      "jax: 4 (0.1% of superset)\n",
      "molecularmatch: 366 (17.6% of superset)\n",
      "pmkb: 2 (0.6% of superset)\n",
      "Total: 976 (7.7% of superset)\n"
     ]
    }
   ],
   "source": [
    "# Benign\n",
    "\n",
    "benign_id = 'DOID:0060072'\n",
    "benign = dict()\n",
    "\n",
    "assign_to_id(graph.predecessors(benign_id), benign_id, benign)\n",
    "benign[benign_id] = benign_id\n",
    "\n",
    "benign_associations = other_associations.select(\n",
    "    lambda x: benign.get(x.disease.id, False))\n",
    "\n",
    "other_associations = other_associations - benign_associations\n",
    "benign_associations.report_groups(do_sourced)"
   ]
  },
  {
   "cell_type": "code",
   "execution_count": 338,
   "metadata": {
    "collapsed": false
   },
   "outputs": [
    {
     "name": "stdout",
     "output_type": "stream",
     "text": [
      "jax: 1 (0.0% of superset)\n",
      "Total: 1 (0.0% of superset)\n"
     ]
    }
   ],
   "source": [
    "# pre-malignant\n",
    "\n",
    "premalignant_id = 'DOID:0060071'\n",
    "premalignant = dict()\n",
    "\n",
    "assign_to_id(graph.predecessors(premalignant_id), premalignant_id, premalignant)\n",
    "premalignant[premalignant_id] = premalignant_id\n",
    "\n",
    "premalignant_associations = other_associations.select(\n",
    "    lambda x: premalignant.get(x.disease.id, False))\n",
    "\n",
    "premalignant_associations.report_groups(do_sourced)"
   ]
  },
  {
   "cell_type": "code",
   "execution_count": 339,
   "metadata": {
    "collapsed": true
   },
   "outputs": [],
   "source": [
    "# Make data\n",
    "\n",
    "common_cancers = list(filter(lambda x: x[0] != \"DOID:162\", cancer_counts.most_common(6)))\n",
    "\n",
    "interpretation_group_names=[id_to_name[x[0]] for x in common_cancers] + ['other cancers'] + ['benign', 'other']\n",
    "common_cancer_values = [x[1] for x in common_cancers]\n",
    "interpretation_group_sizes=common_cancer_values + [sum(cancer_counts.values()) - sum(common_cancer_values),\n",
    "                                      len(benign_associations),\n",
    "                                      len(other_associations)]\n",
    "\n",
    "PRECISION=1000\n",
    "\n",
    "def spaced_counts(counts, reserved_percentage):\n",
    "    n = sum(counts)\n",
    "    p = reserved_percentage\n",
    "    x = n/(1/p - 1)\n",
    "    if x % 1:\n",
    "        out = [c * PRECISION for c in counts] + [x * PRECISION]\n",
    "    else:\n",
    "        out = counts + [x]\n",
    "    return out"
   ]
  },
  {
   "cell_type": "code",
   "execution_count": 340,
   "metadata": {
    "collapsed": false
   },
   "outputs": [],
   "source": [
    "incidence_by_topnode = Counter()\n",
    "mortality_by_topnode = Counter()\n",
    "p = (len(benign_associations) + len(other_associations)) / len(do_sourced)\n",
    "with open('data/Cancer Incidence and Mortality 2018.csv', 'r') as f:\n",
    "    reader = csv.DictReader(f)\n",
    "    for row in reader:\n",
    "        incidence_by_topnode[topnode_map[row['DOID']]] += int(row['New Cases'])\n",
    "        mortality_by_topnode[topnode_map[row['DOID']]] += int(row['Estimated Deaths'])"
   ]
  },
  {
   "cell_type": "code",
   "execution_count": 357,
   "metadata": {
    "collapsed": false
   },
   "outputs": [],
   "source": [
    "def select_by_percent(counter, percent=5):\n",
    "    assert percent <= 100\n",
    "    s = sum(counter.values())\n",
    "    out = Counter()\n",
    "    for k, v in counter.most_common(len(counter)):\n",
    "        p = v/s\n",
    "        if p*100 < percent:\n",
    "            break\n",
    "        out[k] = v\n",
    "        print(f'{id_to_name[k]}: {p}')\n",
    "    return out"
   ]
  },
  {
   "cell_type": "code",
   "execution_count": 367,
   "metadata": {
    "collapsed": false
   },
   "outputs": [],
   "source": [
    "with open('out/NCI_disease_topnode_counts.csv', 'w') as f:\n",
    "    writer = csv.writer(f)\n",
    "    s1 = sum(incidence_by_topnode.values())\n",
    "    s2 = sum(mortality_by_topnode.values())\n",
    "    writer.writerow(\n",
    "        ['DOID', 'Disease Name', \n",
    "         'Estimated New Cases, 2018, US', 'Percentage',\n",
    "         'Estimated Deaths, 2018, US', 'Percentage'\n",
    "        ])\n",
    "    for k, v in incidence_by_topnode.most_common(len(incidence_by_topnode)):\n",
    "        v2 = mortality_by_topnode[k]\n",
    "        writer.writerow(\n",
    "            [k, id_to_name[k], \n",
    "             v, '{:.2%}'.format(v/s1),\n",
    "             v2, '{:.2%}'.format(v2/s2)\n",
    "            ])"
   ]
  },
  {
   "cell_type": "code",
   "execution_count": 358,
   "metadata": {
    "collapsed": false
   },
   "outputs": [
    {
     "name": "stdout",
     "output_type": "stream",
     "text": [
      "skin cancer: 0.21218774310657793\n",
      "lung cancer: 0.13486040280058778\n",
      "hematologic cancer: 0.10041202062984413\n",
      "prostate cancer: 0.09490304549514507\n",
      "colon cancer: 0.056023280606217765\n"
     ]
    }
   ],
   "source": [
    "prevalent_incidence = select_by_percent(incidence_by_topnode)"
   ]
  },
  {
   "cell_type": "code",
   "execution_count": 359,
   "metadata": {
    "collapsed": false
   },
   "outputs": [
    {
     "name": "stdout",
     "output_type": "stream",
     "text": [
      "lung cancer: 0.25269011219736237\n",
      "cancer: 0.10673512236729873\n",
      "hematologic cancer: 0.09530214552850863\n",
      "skin cancer: 0.08998753362640247\n",
      "colon cancer: 0.08304901253198609\n",
      "pancreatic cancer: 0.07271504494455744\n"
     ]
    }
   ],
   "source": [
    "prevalent_mortality = select_by_percent(mortality_by_topnode)"
   ]
  },
  {
   "cell_type": "code",
   "execution_count": 364,
   "metadata": {
    "collapsed": false
   },
   "outputs": [
    {
     "data": {
      "text/plain": [
       "29"
      ]
     },
     "execution_count": 364,
     "metadata": {},
     "output_type": "execute_result"
    }
   ],
   "source": [
    "len(incidence_by_topnode)"
   ]
  },
  {
   "cell_type": "code",
   "execution_count": null,
   "metadata": {
    "collapsed": true
   },
   "outputs": [],
   "source": [
    "incidence_group_names = ['hi there'] + ['other']\n",
    "incidence_group_sizes = spaced_counts([3], p)"
   ]
  },
  {
   "cell_type": "code",
   "execution_count": 342,
   "metadata": {
    "collapsed": false
   },
   "outputs": [],
   "source": [
    "mortality_group_names = ['hi there'] + ['other']\n",
    "mortality_group_sizes = spaced_counts([3], p)"
   ]
  },
  {
   "cell_type": "code",
   "execution_count": 343,
   "metadata": {
    "collapsed": false
   },
   "outputs": [
    {
     "data": {
      "image/png": "[encoded data removed]",
      "text/plain": [
       "<matplotlib.figure.Figure at 0x13cf8dd30>"
      ]
     },
     "metadata": {},
     "output_type": "display_data"
    }
   ],
   "source": [
    "# Create colors\n",
    "a, b, c, d=[plt.cm.Greens, plt.cm.Greys, plt.cm.Blues, plt.cm.Reds]\n",
    "\n",
    "colors = {\n",
    "    'lung cancer': a(0.85),\n",
    "    'breast cancer': a(0.70),\n",
    "    'hematologic cancer': a(0.55),\n",
    "    'large intestine cancer': a(0.40),\n",
    "    'melanoma': a(0.25),\n",
    "    'benign': b(0.50),\n",
    "    'other': b(0.25)\n",
    "}\n",
    "\n",
    "incidence_colors = {\n",
    "    'lung cancer': c(0.85),\n",
    "    'breast cancer': c(0.70),\n",
    "    'hematologic cancer': c(0.55),\n",
    "    'large intestine cancer': c(0.40),\n",
    "    'melanoma': c(0.25),\n",
    "    'benign': 'white',\n",
    "    'other': 'white'\n",
    "}\n",
    "\n",
    "mortality_colors = {\n",
    "    'lung cancer': d(0.85),\n",
    "    'breast cancer': d(0.70),\n",
    "    'hematologic cancer': d(0.55),\n",
    "    'large intestine cancer': d(0.40),\n",
    "    'melanoma': d(0.25),\n",
    "    'benign': 'white',\n",
    "    'other': 'white'\n",
    "}\n",
    "\n",
    "# First Ring (incidence)\n",
    "fig, ax = plt.subplots()\n",
    "ax.axis('equal')\n",
    "\n",
    "mypie, _ = ax.pie(incidence_group_sizes, radius=1.6, \n",
    "                   labeldistance=0.7, colors=[incidence_colors.get(x, c(0.10)) for x in incidence_group_names])\n",
    "plt.setp( mypie, width=0.3, edgecolor='white')\n",
    "\n",
    "# Second Ring (mortality)\n",
    "\n",
    "mypie2, _ = ax.pie(mortality_group_sizes, radius=1.3, \n",
    "                   labeldistance=0.7, colors=[mortality_colors.get(x, d(0.10)) for x in mortality_group_names])\n",
    "plt.setp( mypie2, width=0.3, edgecolor='white')\n",
    "\n",
    " \n",
    "# Third Ring (Interpretations)\n",
    "mypie3, _ = ax.pie(interpretation_group_sizes, radius=1.0, \n",
    "                   labeldistance=0.7, colors=[colors.get(x, a(0.10)) for x in interpretation_group_names])\n",
    "plt.setp( mypie3, width=0.4, edgecolor='white')\n",
    "plt.margins(0,0)\n",
    " \n",
    "# show it\n",
    "plt.show()"
   ]
  },
  {
   "cell_type": "code",
   "execution_count": 344,
   "metadata": {
    "collapsed": false
   },
   "outputs": [
    {
     "name": "stdout",
     "output_type": "stream",
     "text": [
      "KRAS Q61L confers resistance to Cetuximab in patients with Neoplasm of colorectum\n",
      "http://purl.obolibrary.org/obo/doid: DOID:1984\n",
      "DOID:1984\n",
      "molecularmatch\n"
     ]
    }
   ],
   "source": [
    "b = benign_associations[0]\n",
    "print(b.description)\n",
    "print(b.disease)\n",
    "print(b.disease.id)\n",
    "print(b.source)"
   ]
  },
  {
   "cell_type": "markdown",
   "metadata": {},
   "source": [
    "### Export disease counts for resource / disease enrichment analysis"
   ]
  },
  {
   "cell_type": "code",
   "execution_count": 345,
   "metadata": {
    "collapsed": false
   },
   "outputs": [
    {
     "data": {
      "text/plain": [
       "['cgi', 'civic', 'jax', 'molecularmatch', 'oncokb', 'pmkb']"
      ]
     },
     "execution_count": 345,
     "metadata": {},
     "output_type": "execute_result"
    }
   ],
   "source": [
    "# d = cancer_associations.get_element_by_source('disease')\n",
    "# d2 = benign_associations.get_element_by_source('disease')\n",
    "d = defaultdict(Counter)\n",
    "d2 = defaultdict(Counter)\n",
    "for association in cancer_associations:\n",
    "    disease = association.disease\n",
    "    source = association.source\n",
    "    d[source][disease] += 1\n",
    "for association in benign_associations:\n",
    "    disease = association.disease\n",
    "    source = association.source\n",
    "    d2[source][disease] += 1\n",
    "sorted(d.keys())"
   ]
  },
  {
   "cell_type": "code",
   "execution_count": 346,
   "metadata": {
    "collapsed": false
   },
   "outputs": [],
   "source": [
    "diseases = set()\n",
    "cancer_diseases = set()\n",
    "benign_diseases = set()\n",
    "for x in d.values():\n",
    "    cancer_diseases.update(x)\n",
    "    diseases.update(x)\n",
    "for x in d2.values():\n",
    "    benign_diseases.update(x)\n",
    "    diseases.update(x)"
   ]
  },
  {
   "cell_type": "code",
   "execution_count": 347,
   "metadata": {
    "collapsed": false
   },
   "outputs": [],
   "source": [
    "import csv\n",
    "with open('out/disease_counts.csv', 'w') as f:\n",
    "    header = ['disease', 'doid', 'TopNode_disease', 'TopNode_doid'] + sorted(d.keys())\n",
    "    writer = csv.DictWriter(f, fieldnames=header)\n",
    "    writer.writeheader()\n",
    "    counts = dict()\n",
    "    for s, v in d.items():\n",
    "        counts[s] = Counter(v)\n",
    "    for s, v in d2.items():\n",
    "        counts[s].update(Counter(v))\n",
    "    for disease in diseases:\n",
    "        if disease in cancer_diseases:\n",
    "            tn_id = topnode_map[disease.id]\n",
    "            tn_name = id_to_name[tn_id]\n",
    "        elif disease in benign_diseases:\n",
    "            tn_id = benign[disease.id]\n",
    "            tn_name = id_to_name[tn_id]\n",
    "        else:\n",
    "            raise ValueError\n",
    "        row = {\n",
    "            'disease': id_to_name[disease.id],\n",
    "            'doid': disease.id,\n",
    "            'TopNode_disease': tn_name,\n",
    "            'TopNode_doid': tn_id\n",
    "        }\n",
    "        for s in d:\n",
    "            row[s] = counts[s][disease]\n",
    "        writer.writerow(row)"
   ]
  }
 ],
 "metadata": {
  "anaconda-cloud": {},
  "kernelspec": {
   "display_name": "Python [g2p-analysis]",
   "language": "python",
   "name": "Python [g2p-analysis]"
  },
  "language_info": {
   "codemirror_mode": {
    "name": "ipython",
    "version": 3
   },
   "file_extension": ".py",
   "mimetype": "text/x-python",
   "name": "python",
   "nbconvert_exporter": "python",
   "pygments_lexer": "ipython3",
   "version": "3.6.1"
  }
 },
 "nbformat": 4,
 "nbformat_minor": 2
}
